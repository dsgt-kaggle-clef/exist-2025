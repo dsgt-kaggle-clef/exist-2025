{
 "cells": [
  {
   "cell_type": "code",
   "execution_count": 67,
   "id": "437ffc1d",
   "metadata": {},
   "outputs": [],
   "source": [
    "import torch\n",
    "torch.cuda.empty_cache()\n",
    "device = torch.device(\"cuda\" if torch.cuda.is_available() else \"cpu\")\n",
    "torch.cuda.memory_summary(device=None, abbreviated=False)\n",
    "from torch.utils.data import Dataset, DataLoader\n",
    "from transformers import RobertaTokenizer, RobertaForSequenceClassification\n",
    "from torch.optim import AdamW\n",
    "from sklearn.model_selection import train_test_split\n",
    "from sklearn.metrics import accuracy_score, f1_score\n",
    "import matplotlib.pyplot as plt\n",
    "from tqdm import tqdm\n",
    "import pandas as pd\n",
    "import numpy as np\n",
    "import torch\n"
   ]
  },
  {
   "cell_type": "code",
   "execution_count": 68,
   "id": "86fa2867",
   "metadata": {},
   "outputs": [],
   "source": [
    "test_path = \"/storage/coda1/p-dsgt_clef2025/0/shared/exist/latest/EXIST_2025_Videos_Dataset/train_test/test_df.csv\"\n",
    "val_path = \"/storage/coda1/p-dsgt_clef2025/0/shared/exist/latest/EXIST_2025_Videos_Dataset/train_test/valid_df.csv\"\n",
    "train_path = \"/storage/coda1/p-dsgt_clef2025/0/shared/exist/latest/EXIST_2025_Videos_Dataset/train_test/train_df.csv\"\n",
    "\n",
    "import pandas as pd\n",
    "import numpy as np\n",
    "\n",
    "train_data_source = pd.read_csv(train_path)\n",
    "train_data = train_data_source[['video','text', 'target']]\n",
    "\n",
    "val_data_source = pd.read_csv(val_path)\n",
    "val_data = val_data_source[['video','text', 'target']]\n",
    "\n",
    "test_data_source = pd.read_csv(test_path)\n",
    "test_data = test_data_source[['video','text', 'target']]\n"
   ]
  },
  {
   "cell_type": "code",
   "execution_count": 69,
   "id": "b6c691fc",
   "metadata": {},
   "outputs": [],
   "source": [
    "\n",
    "train_texts = train_data['text'].tolist()\n",
    "train_labels =  train_data['target'].tolist()\n",
    "train_video_ids =  train_data['video'].tolist()\n",
    "\n",
    "test_texts = test_data['text'].tolist()\n",
    "test_labels =  test_data['target'].tolist()\n",
    "test_video_ids =  test_data['video'].tolist()\n",
    "\n",
    "val_texts = val_data['text'].tolist()\n",
    "val_labels =  val_data['target'].tolist()\n",
    "val_video_ids =  val_data['video'].tolist()\n",
    "\n"
   ]
  },
  {
   "cell_type": "code",
   "execution_count": 70,
   "id": "d69f242b",
   "metadata": {},
   "outputs": [],
   "source": [
    "tokenizer = RobertaTokenizer.from_pretrained('roberta-large')\n",
    "\n",
    "def tokenize(texts):\n",
    "    return tokenizer(\n",
    "        texts,\n",
    "        padding=True,\n",
    "        truncation=True,\n",
    "        return_tensors='pt',\n",
    "        max_length=512\n",
    "    )\n",
    "\n",
    "train_encodings = tokenize(train_texts)\n",
    "test_encodings = tokenize(test_texts)\n",
    "val_encodings = tokenize(val_texts)\n"
   ]
  },
  {
   "cell_type": "code",
   "execution_count": 71,
   "id": "7cb1fb8e",
   "metadata": {},
   "outputs": [],
   "source": [
    "class TextDataset(Dataset):\n",
    "    def __init__(self, encodings, labels, video_ids):\n",
    "        self.encodings = encodings\n",
    "        self.labels = labels\n",
    "        self.video_ids = video_ids\n",
    "\n",
    "    def __len__(self):\n",
    "        return len(self.labels)\n",
    "\n",
    "    def __getitem__(self, idx):\n",
    "        item = {key: val[idx] for key, val in self.encodings.items()}\n",
    "        item['labels'] = torch.tensor(self.labels[idx])\n",
    "        item['video_ids'] = self.video_ids[idx]\n",
    "        return item\n",
    "\n",
    "train_dataset = TextDataset(train_encodings, train_labels, train_video_ids)\n",
    "test_dataset = TextDataset(test_encodings, test_labels, test_video_ids)\n",
    "val_dataset = TextDataset(val_encodings, val_labels, val_video_ids)"
   ]
  },
  {
   "cell_type": "code",
   "execution_count": 72,
   "id": "3afb7cfb",
   "metadata": {},
   "outputs": [],
   "source": [
    "train_loader = DataLoader(train_dataset, batch_size=16, shuffle=True)\n",
    "test_loader = DataLoader(test_dataset, batch_size=16, shuffle=False)\n",
    "val_loader = DataLoader(val_dataset, batch_size=16, shuffle=False)"
   ]
  },
  {
   "cell_type": "code",
   "execution_count": 73,
   "id": "72838b95",
   "metadata": {},
   "outputs": [
    {
     "name": "stderr",
     "output_type": "stream",
     "text": [
      "Some weights of RobertaForSequenceClassification were not initialized from the model checkpoint at roberta-large and are newly initialized: ['classifier.dense.bias', 'classifier.dense.weight', 'classifier.out_proj.bias', 'classifier.out_proj.weight']\n",
      "You should probably TRAIN this model on a down-stream task to be able to use it for predictions and inference.\n"
     ]
    },
    {
     "name": "stdout",
     "output_type": "stream",
     "text": [
      "Trainable parameters:\n",
      "roberta.encoder.layer.21.attention.self.query.weight\n",
      "roberta.encoder.layer.21.attention.self.query.bias\n",
      "roberta.encoder.layer.21.attention.self.key.weight\n",
      "roberta.encoder.layer.21.attention.self.key.bias\n",
      "roberta.encoder.layer.21.attention.self.value.weight\n",
      "roberta.encoder.layer.21.attention.self.value.bias\n",
      "roberta.encoder.layer.21.attention.output.dense.weight\n",
      "roberta.encoder.layer.21.attention.output.dense.bias\n",
      "roberta.encoder.layer.21.attention.output.LayerNorm.weight\n",
      "roberta.encoder.layer.21.attention.output.LayerNorm.bias\n",
      "roberta.encoder.layer.21.intermediate.dense.weight\n",
      "roberta.encoder.layer.21.intermediate.dense.bias\n",
      "roberta.encoder.layer.21.output.dense.weight\n",
      "roberta.encoder.layer.21.output.dense.bias\n",
      "roberta.encoder.layer.21.output.LayerNorm.weight\n",
      "roberta.encoder.layer.21.output.LayerNorm.bias\n",
      "roberta.encoder.layer.22.attention.self.query.weight\n",
      "roberta.encoder.layer.22.attention.self.query.bias\n",
      "roberta.encoder.layer.22.attention.self.key.weight\n",
      "roberta.encoder.layer.22.attention.self.key.bias\n",
      "roberta.encoder.layer.22.attention.self.value.weight\n",
      "roberta.encoder.layer.22.attention.self.value.bias\n",
      "roberta.encoder.layer.22.attention.output.dense.weight\n",
      "roberta.encoder.layer.22.attention.output.dense.bias\n",
      "roberta.encoder.layer.22.attention.output.LayerNorm.weight\n",
      "roberta.encoder.layer.22.attention.output.LayerNorm.bias\n",
      "roberta.encoder.layer.22.intermediate.dense.weight\n",
      "roberta.encoder.layer.22.intermediate.dense.bias\n",
      "roberta.encoder.layer.22.output.dense.weight\n",
      "roberta.encoder.layer.22.output.dense.bias\n",
      "roberta.encoder.layer.22.output.LayerNorm.weight\n",
      "roberta.encoder.layer.22.output.LayerNorm.bias\n",
      "roberta.encoder.layer.23.attention.self.query.weight\n",
      "roberta.encoder.layer.23.attention.self.query.bias\n",
      "roberta.encoder.layer.23.attention.self.key.weight\n",
      "roberta.encoder.layer.23.attention.self.key.bias\n",
      "roberta.encoder.layer.23.attention.self.value.weight\n",
      "roberta.encoder.layer.23.attention.self.value.bias\n",
      "roberta.encoder.layer.23.attention.output.dense.weight\n",
      "roberta.encoder.layer.23.attention.output.dense.bias\n",
      "roberta.encoder.layer.23.attention.output.LayerNorm.weight\n",
      "roberta.encoder.layer.23.attention.output.LayerNorm.bias\n",
      "roberta.encoder.layer.23.intermediate.dense.weight\n",
      "roberta.encoder.layer.23.intermediate.dense.bias\n",
      "roberta.encoder.layer.23.output.dense.weight\n",
      "roberta.encoder.layer.23.output.dense.bias\n",
      "roberta.encoder.layer.23.output.LayerNorm.weight\n",
      "roberta.encoder.layer.23.output.LayerNorm.bias\n",
      "classifier.dense.weight\n",
      "classifier.dense.bias\n",
      "classifier.out_proj.weight\n",
      "classifier.out_proj.bias\n"
     ]
    }
   ],
   "source": [
    "model = RobertaForSequenceClassification.from_pretrained(\"roberta-large\", num_labels=2)\n",
    "\n",
    "# Freeze embeddings and encoder layers 0–20 (i.e., first 21 layers)\n",
    "for name, param in model.named_parameters():\n",
    "    if name.startswith(\"roberta.embeddings\"):\n",
    "        param.requires_grad = False\n",
    "    elif \"roberta.encoder.layer\" in name:\n",
    "        layer_num = int(name.split(\"layer.\")[1].split(\".\")[0])\n",
    "        if layer_num < 21:\n",
    "            param.requires_grad = False\n",
    "\n",
    "# Optional: confirm what's still trainable\n",
    "print(\"Trainable parameters:\")\n",
    "for name, param in model.named_parameters():\n",
    "    if param.requires_grad:\n",
    "        print(name)\n",
    "        \n",
    "model.to(device)\n",
    "\n",
    "optimizer = AdamW(model.parameters(), lr=2e-5)"
   ]
  },
  {
   "cell_type": "code",
   "execution_count": 74,
   "id": "a332fef5",
   "metadata": {},
   "outputs": [
    {
     "name": "stderr",
     "output_type": "stream",
     "text": [
      "Epoch 1 - Training: 100%|██████████| 37/37 [00:22<00:00,  1.63it/s, loss=0.704]\n",
      "Epoch 1 - Validation: 100%|██████████| 13/13 [00:05<00:00,  2.27it/s]\n"
     ]
    },
    {
     "name": "stdout",
     "output_type": "stream",
     "text": [
      "[Epoch 1] Train Loss: 0.7031, Train Acc: 0.5386 | Val Loss: 0.6909, Val Acc: 0.5487\n"
     ]
    },
    {
     "name": "stderr",
     "output_type": "stream",
     "text": [
      "Epoch 2 - Training: 100%|██████████| 37/37 [00:22<00:00,  1.61it/s, loss=0.68] \n",
      "Epoch 2 - Validation: 100%|██████████| 13/13 [00:05<00:00,  2.26it/s]\n"
     ]
    },
    {
     "name": "stdout",
     "output_type": "stream",
     "text": [
      "[Epoch 2] Train Loss: 0.6639, Train Acc: 0.5901 | Val Loss: 0.6547, Val Acc: 0.6462\n"
     ]
    },
    {
     "name": "stderr",
     "output_type": "stream",
     "text": [
      "Epoch 3 - Training: 100%|██████████| 37/37 [00:22<00:00,  1.61it/s, loss=0.464]\n",
      "Epoch 3 - Validation: 100%|██████████| 13/13 [00:05<00:00,  2.26it/s]\n"
     ]
    },
    {
     "name": "stdout",
     "output_type": "stream",
     "text": [
      "[Epoch 3] Train Loss: 0.5735, Train Acc: 0.7118 | Val Loss: 0.6136, Val Acc: 0.6872\n"
     ]
    },
    {
     "name": "stderr",
     "output_type": "stream",
     "text": [
      "Epoch 4 - Training: 100%|██████████| 37/37 [00:22<00:00,  1.61it/s, loss=0.715]\n",
      "Epoch 4 - Validation: 100%|██████████| 13/13 [00:05<00:00,  2.26it/s]\n"
     ]
    },
    {
     "name": "stdout",
     "output_type": "stream",
     "text": [
      "[Epoch 4] Train Loss: 0.5382, Train Acc: 0.7633 | Val Loss: 0.6043, Val Acc: 0.6872\n"
     ]
    },
    {
     "name": "stderr",
     "output_type": "stream",
     "text": [
      "Epoch 5 - Training: 100%|██████████| 37/37 [00:22<00:00,  1.61it/s, loss=0.424]\n",
      "Epoch 5 - Validation: 100%|██████████| 13/13 [00:05<00:00,  2.26it/s]\n"
     ]
    },
    {
     "name": "stdout",
     "output_type": "stream",
     "text": [
      "[Epoch 5] Train Loss: 0.4413, Train Acc: 0.7959 | Val Loss: 0.6538, Val Acc: 0.6462\n"
     ]
    },
    {
     "name": "stderr",
     "output_type": "stream",
     "text": [
      "Epoch 6 - Training: 100%|██████████| 37/37 [00:22<00:00,  1.61it/s, loss=0.445]\n",
      "Epoch 6 - Validation: 100%|██████████| 13/13 [00:05<00:00,  2.26it/s]\n"
     ]
    },
    {
     "name": "stdout",
     "output_type": "stream",
     "text": [
      "[Epoch 6] Train Loss: 0.3901, Train Acc: 0.8370 | Val Loss: 0.6613, Val Acc: 0.6667\n"
     ]
    },
    {
     "name": "stderr",
     "output_type": "stream",
     "text": [
      "Epoch 7 - Training: 100%|██████████| 37/37 [00:22<00:00,  1.61it/s, loss=0.0866]\n",
      "Epoch 7 - Validation: 100%|██████████| 13/13 [00:05<00:00,  2.26it/s]\n"
     ]
    },
    {
     "name": "stdout",
     "output_type": "stream",
     "text": [
      "[Epoch 7] Train Loss: 0.2923, Train Acc: 0.8679 | Val Loss: 0.6719, Val Acc: 0.7282\n"
     ]
    },
    {
     "name": "stderr",
     "output_type": "stream",
     "text": [
      "Epoch 8 - Training: 100%|██████████| 37/37 [00:22<00:00,  1.61it/s, loss=0.323] \n",
      "Epoch 8 - Validation: 100%|██████████| 13/13 [00:05<00:00,  2.26it/s]\n"
     ]
    },
    {
     "name": "stdout",
     "output_type": "stream",
     "text": [
      "[Epoch 8] Train Loss: 0.2163, Train Acc: 0.9091 | Val Loss: 0.7386, Val Acc: 0.6974\n"
     ]
    },
    {
     "name": "stderr",
     "output_type": "stream",
     "text": [
      "Epoch 9 - Training: 100%|██████████| 37/37 [00:22<00:00,  1.61it/s, loss=0.0267]\n",
      "Epoch 9 - Validation: 100%|██████████| 13/13 [00:05<00:00,  2.26it/s]\n"
     ]
    },
    {
     "name": "stdout",
     "output_type": "stream",
     "text": [
      "[Epoch 9] Train Loss: 0.1142, Train Acc: 0.9571 | Val Loss: 0.9308, Val Acc: 0.7231\n"
     ]
    },
    {
     "name": "stderr",
     "output_type": "stream",
     "text": [
      "Epoch 10 - Training: 100%|██████████| 37/37 [00:22<00:00,  1.61it/s, loss=0.0074]\n",
      "Epoch 10 - Validation: 100%|██████████| 13/13 [00:05<00:00,  2.26it/s]\n"
     ]
    },
    {
     "name": "stdout",
     "output_type": "stream",
     "text": [
      "[Epoch 10] Train Loss: 0.0910, Train Acc: 0.9640 | Val Loss: 0.9698, Val Acc: 0.7231\n"
     ]
    },
    {
     "name": "stderr",
     "output_type": "stream",
     "text": [
      "Final Test Evaluation: 100%|██████████| 13/13 [00:05<00:00,  2.26it/s]"
     ]
    },
    {
     "name": "stdout",
     "output_type": "stream",
     "text": [
      "Final Test Accuracy: 0.7590\n"
     ]
    },
    {
     "name": "stderr",
     "output_type": "stream",
     "text": [
      "\n"
     ]
    }
   ],
   "source": [
    "epochs = 10\n",
    "\n",
    "train_losses = []\n",
    "train_accuracies = []\n",
    "val_losses = []\n",
    "val_accuracies = []\n",
    "\n",
    "for epoch in range(epochs):\n",
    "    # --- Training ---\n",
    "    model.train()\n",
    "    total_loss = 0\n",
    "    correct = 0\n",
    "    total = 0\n",
    "\n",
    "    loop = tqdm(train_loader, desc=f\"Epoch {epoch+1} - Training\")\n",
    "    for batch in loop:\n",
    "        batch = {k: (v.to(device) if isinstance(v, torch.Tensor) else v) for k, v in batch.items()}\n",
    "        \n",
    "        inputs = {k: v for k, v in batch.items() if k != \"video_ids\"}\n",
    "\n",
    "        outputs = model(**inputs)\n",
    "        loss = outputs.loss\n",
    "        logits = outputs.logits\n",
    "\n",
    "        optimizer.zero_grad()\n",
    "        loss.backward()\n",
    "        optimizer.step()\n",
    "\n",
    "        total_loss += loss.item()\n",
    "        preds = torch.argmax(logits, dim=1)\n",
    "        correct += (preds == batch['labels']).sum().item()\n",
    "        total += batch['labels'].size(0)\n",
    "\n",
    "        loop.set_postfix(loss=loss.item())\n",
    "\n",
    "    train_loss = total_loss / len(train_loader)\n",
    "    train_acc = correct / total\n",
    "    train_losses.append(train_loss)\n",
    "    train_accuracies.append(train_acc)\n",
    "\n",
    "    # --- Validation ---\n",
    "    model.eval()\n",
    "    val_loss = 0\n",
    "    correct = 0\n",
    "    total = 0\n",
    "\n",
    "    with torch.no_grad():\n",
    "        for batch in tqdm(val_loader, desc=f\"Epoch {epoch+1} - Validation\"):\n",
    "            batch = {k: (v.to(device) if isinstance(v, torch.Tensor) else v) for k, v in batch.items()}\n",
    "            inputs = {k: v for k, v in batch.items() if k != \"video_ids\"}\n",
    "            outputs = model(**inputs)\n",
    "            loss = outputs.loss\n",
    "            logits = outputs.logits\n",
    "\n",
    "            val_loss += loss.item()\n",
    "            preds = torch.argmax(logits, dim=1)\n",
    "            correct += (preds == batch['labels']).sum().item()\n",
    "            total += batch['labels'].size(0)\n",
    "\n",
    "    val_loss /= len(val_loader)\n",
    "    val_acc = correct / total\n",
    "    val_losses.append(val_loss)\n",
    "    val_accuracies.append(val_acc)\n",
    "\n",
    "    print(f\"[Epoch {epoch+1}] Train Loss: {train_loss:.4f}, Train Acc: {train_acc:.4f} | Val Loss: {val_loss:.4f}, Val Acc: {val_acc:.4f}\")\n",
    "\n",
    "# --- Final Test Evaluation ---\n",
    "model.eval()\n",
    "test_preds, test_targets = [], []\n",
    "\n",
    "with torch.no_grad():\n",
    "    for batch in tqdm(test_loader, desc=\"Final Test Evaluation\"):\n",
    "        batch = {k: (v.to(device) if isinstance(v, torch.Tensor) else v) for k, v in batch.items()}\n",
    "        inputs = {k: v for k, v in batch.items() if k != \"video_ids\"}\n",
    "        outputs = model(**inputs)\n",
    "        logits = outputs.logits\n",
    "\n",
    "        preds = torch.argmax(logits, dim=1)\n",
    "        test_preds.extend(preds.cpu().numpy())\n",
    "        test_targets.extend(batch['labels'].cpu().numpy())\n",
    "\n",
    "test_accuracy = accuracy_score(test_targets, test_preds)\n",
    "print(f\"Final Test Accuracy: {test_accuracy:.4f}\")"
   ]
  },
  {
   "cell_type": "code",
   "execution_count": 75,
   "id": "c4375448",
   "metadata": {},
   "outputs": [
    {
     "data": {
      "image/png": "[encoded data removed]",
      "text/plain": [
       "<Figure size 1200x500 with 2 Axes>"
      ]
     },
     "metadata": {},
     "output_type": "display_data"
    }
   ],
   "source": [
    "plt.figure(figsize=(12, 5))\n",
    "\n",
    "# Loss\n",
    "plt.subplot(1, 2, 1)\n",
    "plt.plot(train_losses, label='Train Loss', marker='o')\n",
    "plt.plot(val_losses, label='Validation Loss', marker='o')\n",
    "plt.title(\"Loss per Epoch\")\n",
    "plt.xlabel(\"Epoch\")\n",
    "plt.ylabel(\"Loss\")\n",
    "plt.legend()\n",
    "\n",
    "# Accuracy\n",
    "plt.subplot(1, 2, 2)\n",
    "plt.plot(train_accuracies, label='Train Accuracy', marker='o')\n",
    "plt.plot(val_accuracies, label='Validation Accuracy', marker='o')\n",
    "plt.title(\"Accuracy per Epoch\")\n",
    "plt.xlabel(\"Epoch\")\n",
    "plt.ylabel(\"Accuracy\")\n",
    "plt.legend()\n",
    "\n",
    "plt.tight_layout()\n",
    "plt.show()\n"
   ]
  },
  {
   "cell_type": "code",
   "execution_count": 76,
   "id": "01019e58",
   "metadata": {},
   "outputs": [],
   "source": [
    "import torch\n",
    "import torch.nn.functional as F\n",
    "\n",
    "def generate_predictions(model, dataloader):\n",
    "    model.eval()\n",
    "    all_video_ids = []\n",
    "    all_probs = []\n",
    "    all_preds = []\n",
    "    all_labels = []\n",
    "\n",
    "    with torch.no_grad():\n",
    "        for batch in tqdm(dataloader, desc=\"Generating Predictions\"):\n",
    "            batch = {k: (v.to(device) if isinstance(v, torch.Tensor) else v) for k, v in batch.items()}\n",
    "            inputs = {k: v for k, v in batch.items() if k != \"video_ids\"}\n",
    "            outputs = model(**inputs)\n",
    "            logits = outputs.logits\n",
    "            probs = F.softmax(logits, dim=1)  # Get probabilities from logits\n",
    "            preds = torch.argmax(probs, dim=1)  # Get predicted class\n",
    "            \n",
    "            all_video_ids.extend(batch['video_ids'])\n",
    "            all_probs.extend(probs.cpu().numpy())\n",
    "            all_preds.extend(preds.cpu().numpy())\n",
    "            all_labels.extend(batch['labels'].cpu().numpy())\n",
    "\n",
    "    return np.array(all_video_ids), np.array(all_probs), np.array(all_preds), np.array(all_labels)\n"
   ]
  },
  {
   "cell_type": "code",
   "execution_count": 77,
   "id": "aefd8827",
   "metadata": {},
   "outputs": [
    {
     "name": "stderr",
     "output_type": "stream",
     "text": [
      "Generating Predictions: 100%|██████████| 37/37 [00:17<00:00,  2.16it/s]"
     ]
    },
    {
     "name": "stdout",
     "output_type": "stream",
     "text": [
      "Test Accuracy: 0.9949\n",
      "Test Macro F1 Score: 0.9948\n",
      "Saved predictions to text_train_predictions.csv\n"
     ]
    },
    {
     "name": "stderr",
     "output_type": "stream",
     "text": [
      "\n"
     ]
    }
   ],
   "source": [
    "video_ids, probs, preds, labels = generate_predictions(model, train_loader)\n",
    "\n",
    "test_acc = accuracy_score(labels, preds)\n",
    "test_f1 = f1_score(labels, preds, average=\"macro\")\n",
    "\n",
    "print(f\"Test Accuracy: {test_acc:.4f}\")\n",
    "print(f\"Test Macro F1 Score: {test_f1:.4f}\")\n",
    "\n",
    "df = pd.DataFrame({\n",
    "    \"video\": video_ids,\n",
    "    \"true_label\": labels,\n",
    "    \"pred_label\": preds,\n",
    "    \"prob_class_0\": probs[:, 0],\n",
    "    \"prob_class_1\": probs[:, 1]\n",
    "})\n",
    "\n",
    "df.to_csv(\"text_train_predictions.csv\", index=False)\n",
    "print(\"Saved predictions to text_train_predictions.csv\")\n",
    "\n"
   ]
  },
  {
   "cell_type": "code",
   "execution_count": 78,
   "id": "a9c18533",
   "metadata": {},
   "outputs": [
    {
     "name": "stderr",
     "output_type": "stream",
     "text": [
      "Generating Predictions: 100%|██████████| 13/13 [00:05<00:00,  2.27it/s]"
     ]
    },
    {
     "name": "stdout",
     "output_type": "stream",
     "text": [
      "Test Accuracy: 0.7590\n",
      "Test Macro F1 Score: 0.7569\n",
      "Saved predictions to text_test_predictions.csv\n"
     ]
    },
    {
     "name": "stderr",
     "output_type": "stream",
     "text": [
      "\n"
     ]
    }
   ],
   "source": [
    "video_ids, probs, preds, labels = generate_predictions(model, test_loader)\n",
    "\n",
    "test_acc = accuracy_score(labels, preds)\n",
    "test_f1 = f1_score(labels, preds, average=\"macro\")\n",
    "\n",
    "print(f\"Test Accuracy: {test_acc:.4f}\")\n",
    "print(f\"Test Macro F1 Score: {test_f1:.4f}\")\n",
    "\n",
    "df = pd.DataFrame({\n",
    "    \"video\": video_ids,\n",
    "    \"true_label\": labels,\n",
    "    \"pred_label\": preds,\n",
    "    \"prob_class_0\": probs[:, 0],\n",
    "    \"prob_class_1\": probs[:, 1]\n",
    "})\n",
    "\n",
    "df.to_csv(\"text_test_predictions.csv\", index=False)\n",
    "print(\"Saved predictions to text_test_predictions.csv\")"
   ]
  },
  {
   "cell_type": "code",
   "execution_count": 79,
   "id": "5e71e051",
   "metadata": {},
   "outputs": [
    {
     "name": "stderr",
     "output_type": "stream",
     "text": [
      "Generating Predictions: 100%|██████████| 13/13 [00:05<00:00,  2.26it/s]"
     ]
    },
    {
     "name": "stdout",
     "output_type": "stream",
     "text": [
      "Test Accuracy: 0.7231\n",
      "Test Macro F1 Score: 0.7060\n",
      "Saved predictions to text_val_predictions.csv\n"
     ]
    },
    {
     "name": "stderr",
     "output_type": "stream",
     "text": [
      "\n"
     ]
    }
   ],
   "source": [
    "video_ids, probs, preds, labels = generate_predictions(model, val_loader)\n",
    "\n",
    "test_acc = accuracy_score(labels, preds)\n",
    "test_f1 = f1_score(labels, preds, average=\"macro\")\n",
    "\n",
    "print(f\"Test Accuracy: {test_acc:.4f}\")\n",
    "print(f\"Test Macro F1 Score: {test_f1:.4f}\")\n",
    "\n",
    "df = pd.DataFrame({\n",
    "    \"video\": video_ids,\n",
    "    \"true_label\": labels,\n",
    "    \"pred_label\": preds,\n",
    "    \"prob_class_0\": probs[:, 0],\n",
    "    \"prob_class_1\": probs[:, 1]\n",
    "})\n",
    "\n",
    "df.to_csv(\"text_val_predictions.csv\", index=True)\n",
    "print(\"Saved predictions to text_val_predictions.csv\")"
   ]
  },
  {
   "cell_type": "code",
   "execution_count": 80,
   "id": "bdcabc2c",
   "metadata": {},
   "outputs": [],
   "source": [
    "# Save just the model's state dict (weights)\n",
    "torch.save(model.state_dict(), \"model_weights.pt\")\n"
   ]
  },
  {
   "cell_type": "code",
   "execution_count": 8,
   "id": "f2c77b34",
   "metadata": {},
   "outputs": [
    {
     "name": "stderr",
     "output_type": "stream",
     "text": [
      "Some weights of RobertaForSequenceClassification were not initialized from the model checkpoint at roberta-large and are newly initialized: ['classifier.dense.bias', 'classifier.dense.weight', 'classifier.out_proj.bias', 'classifier.out_proj.weight']\n",
      "You should probably TRAIN this model on a down-stream task to be able to use it for predictions and inference.\n",
      "/tmp/ipykernel_3761075/2181143520.py:7: FutureWarning: You are using `torch.load` with `weights_only=False` (the current default value), which uses the default pickle module implicitly. It is possible to construct malicious pickle data which will execute arbitrary code during unpickling (See https://github.com/pytorch/pytorch/blob/main/SECURITY.md#untrusted-models for more details). In a future release, the default value for `weights_only` will be flipped to `True`. This limits the functions that could be executed during unpickling. Arbitrary objects will no longer be allowed to be loaded via this mode unless they are explicitly allowlisted by the user via `torch.serialization.add_safe_globals`. We recommend you start setting `weights_only=True` for any use case where you don't have full control of the loaded file. Please open an issue on GitHub for any issues related to this experimental feature.\n",
      "  model.load_state_dict(torch.load(\"model_weights.pt\", map_location=device))\n"
     ]
    },
    {
     "data": {
      "text/plain": [
       "RobertaForSequenceClassification(\n",
       "  (roberta): RobertaModel(\n",
       "    (embeddings): RobertaEmbeddings(\n",
       "      (word_embeddings): Embedding(50265, 1024, padding_idx=1)\n",
       "      (position_embeddings): Embedding(514, 1024, padding_idx=1)\n",
       "      (token_type_embeddings): Embedding(1, 1024)\n",
       "      (LayerNorm): LayerNorm((1024,), eps=1e-05, elementwise_affine=True)\n",
       "      (dropout): Dropout(p=0.1, inplace=False)\n",
       "    )\n",
       "    (encoder): RobertaEncoder(\n",
       "      (layer): ModuleList(\n",
       "        (0-23): 24 x RobertaLayer(\n",
       "          (attention): RobertaAttention(\n",
       "            (self): RobertaSdpaSelfAttention(\n",
       "              (query): Linear(in_features=1024, out_features=1024, bias=True)\n",
       "              (key): Linear(in_features=1024, out_features=1024, bias=True)\n",
       "              (value): Linear(in_features=1024, out_features=1024, bias=True)\n",
       "              (dropout): Dropout(p=0.1, inplace=False)\n",
       "            )\n",
       "            (output): RobertaSelfOutput(\n",
       "              (dense): Linear(in_features=1024, out_features=1024, bias=True)\n",
       "              (LayerNorm): LayerNorm((1024,), eps=1e-05, elementwise_affine=True)\n",
       "              (dropout): Dropout(p=0.1, inplace=False)\n",
       "            )\n",
       "          )\n",
       "          (intermediate): RobertaIntermediate(\n",
       "            (dense): Linear(in_features=1024, out_features=4096, bias=True)\n",
       "            (intermediate_act_fn): GELUActivation()\n",
       "          )\n",
       "          (output): RobertaOutput(\n",
       "            (dense): Linear(in_features=4096, out_features=1024, bias=True)\n",
       "            (LayerNorm): LayerNorm((1024,), eps=1e-05, elementwise_affine=True)\n",
       "            (dropout): Dropout(p=0.1, inplace=False)\n",
       "          )\n",
       "        )\n",
       "      )\n",
       "    )\n",
       "  )\n",
       "  (classifier): RobertaClassificationHead(\n",
       "    (dense): Linear(in_features=1024, out_features=1024, bias=True)\n",
       "    (dropout): Dropout(p=0.1, inplace=False)\n",
       "    (out_proj): Linear(in_features=1024, out_features=2, bias=True)\n",
       "  )\n",
       ")"
      ]
     },
     "execution_count": 8,
     "metadata": {},
     "output_type": "execute_result"
    }
   ],
   "source": [
    "# Recreate the model architecture first\n",
    "from transformers import RobertaForSequenceClassification\n",
    "\n",
    "model = RobertaForSequenceClassification.from_pretrained(\"roberta-large\", num_labels=2)\n",
    "\n",
    "# Load the saved weights\n",
    "model.load_state_dict(torch.load(\"model_weights.pt\", map_location=device))\n",
    "\n",
    "# Move to device\n",
    "model.to(device)\n"
   ]
  }
 ],
 "metadata": {
  "kernelspec": {
   "display_name": "Python [conda env:.conda-exist2025]",
   "language": "python",
   "name": "conda-env-.conda-exist2025-py"
  },
  "language_info": {
   "codemirror_mode": {
    "name": "ipython",
    "version": 3
   },
   "file_extension": ".py",
   "mimetype": "text/x-python",
   "name": "python",
   "nbconvert_exporter": "python",
   "pygments_lexer": "ipython3",
   "version": "3.12.10"
  }
 },
 "nbformat": 4,
 "nbformat_minor": 5
}
