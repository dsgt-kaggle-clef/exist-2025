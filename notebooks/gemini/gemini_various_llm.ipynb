{
 "cells": [
  {
   "cell_type": "code",
   "execution_count": 1,
   "id": "437ffc1d",
   "metadata": {},
   "outputs": [
    {
     "name": "stderr",
     "output_type": "stream",
     "text": [
      "/Users/moiz.ali/miniconda3/envs/exist2025/lib/python3.12/site-packages/tqdm/auto.py:21: TqdmWarning: IProgress not found. Please update jupyter and ipywidgets. See https://ipywidgets.readthedocs.io/en/stable/user_install.html\n",
      "  from .autonotebook import tqdm as notebook_tqdm\n"
     ]
    }
   ],
   "source": [
    "import torch\n",
    "#torch.cuda.empty_cache()\n",
    "# device = torch.device(\"cuda\" if torch.cuda.is_available() else \"cpu\")\n",
    "device = torch.device(\"mps\" if torch.backends.mps.is_available() else \"cpu\")\n",
    "#torch.cuda.memory_summary(device=None, abbreviated=False)\n",
    "from torch.utils.data import Dataset, DataLoader\n",
    "from transformers import RobertaTokenizer, RobertaForSequenceClassification\n",
    "from torch.optim import AdamW\n",
    "from sklearn.model_selection import train_test_split\n",
    "from sklearn.metrics import accuracy_score, f1_score\n",
    "import matplotlib.pyplot as plt\n",
    "from tqdm import tqdm\n",
    "import pandas as pd\n",
    "import numpy as np\n",
    "import torch\n"
   ]
  },
  {
   "cell_type": "code",
   "execution_count": null,
   "id": "7df0f57d",
   "metadata": {},
   "outputs": [],
   "source": []
  },
  {
   "cell_type": "code",
   "execution_count": 2,
   "id": "e69b46ff",
   "metadata": {},
   "outputs": [
    {
     "name": "stdout",
     "output_type": "stream",
     "text": [
      "mps\n"
     ]
    }
   ],
   "source": [
    "print(device)"
   ]
  },
  {
   "cell_type": "markdown",
   "id": "bfaf82a7",
   "metadata": {},
   "source": [
    "## Get the disagreement exist ids"
   ]
  },
  {
   "cell_type": "code",
   "execution_count": 3,
   "id": "b4e8d0e4",
   "metadata": {},
   "outputs": [
    {
     "name": "stdout",
     "output_type": "stream",
     "text": [
      "(809, 7)\n",
      "Shape of merged dataframe: (774, 10)\n"
     ]
    },
    {
     "data": {
      "text/html": [
       "<div>\n",
       "<style scoped>\n",
       "    .dataframe tbody tr th:only-of-type {\n",
       "        vertical-align: middle;\n",
       "    }\n",
       "\n",
       "    .dataframe tbody tr th {\n",
       "        vertical-align: top;\n",
       "    }\n",
       "\n",
       "    .dataframe thead th {\n",
       "        text-align: right;\n",
       "    }\n",
       "</style>\n",
       "<table border=\"1\" class=\"dataframe\">\n",
       "  <thead>\n",
       "    <tr style=\"text-align: right;\">\n",
       "      <th></th>\n",
       "      <th>id_EXIST</th>\n",
       "      <th>text</th>\n",
       "      <th>target</th>\n",
       "      <th>description_trial1</th>\n",
       "      <th>label_trial1</th>\n",
       "      <th>path_video</th>\n",
       "      <th>analysis_trial1</th>\n",
       "      <th>description_trial3</th>\n",
       "      <th>label_trial3</th>\n",
       "      <th>analysis_trial3</th>\n",
       "    </tr>\n",
       "  </thead>\n",
       "  <tbody>\n",
       "    <tr>\n",
       "      <th>0</th>\n",
       "      <td>220242</td>\n",
       "      <td>these men stay  sparkles pressed sparkles  che...</td>\n",
       "      <td>1.0</td>\n",
       "      <td>A woman in a TikTok video recounts an interact...</td>\n",
       "      <td>YES</td>\n",
       "      <td>videos/6920327322679692545.mp4</td>\n",
       "      <td>The video criticizes sexism by highlighting an...</td>\n",
       "      <td>The video features a woman recounting and sati...</td>\n",
       "      <td>NO</td>\n",
       "      <td>The video depicts sexist ideas attributed to a...</td>\n",
       "    </tr>\n",
       "    <tr>\n",
       "      <th>1</th>\n",
       "      <td>220296</td>\n",
       "      <td>beaming_face_with_smiling_eyes  ‘school’ pent...</td>\n",
       "      <td>1.0</td>\n",
       "      <td>The video contrasts Google image search result...</td>\n",
       "      <td>YES</td>\n",
       "      <td>videos/6935046770778967302.mp4</td>\n",
       "      <td>The video criticizes sexism by highlighting th...</td>\n",
       "      <td>The video contrasts Google Images search resul...</td>\n",
       "      <td>NO</td>\n",
       "      <td>The video itself does not promote or endorse s...</td>\n",
       "    </tr>\n",
       "    <tr>\n",
       "      <th>2</th>\n",
       "      <td>220920</td>\n",
       "      <td>don’t laugh at your girlfriends choice, you ar...</td>\n",
       "      <td>0.0</td>\n",
       "      <td>A woman tells a joke: 'You should never laugh ...</td>\n",
       "      <td>YES</td>\n",
       "      <td>videos/7123342389338443009.mp4</td>\n",
       "      <td>The joke implies that women make poor choices,...</td>\n",
       "      <td>The video features a woman telling a joke advi...</td>\n",
       "      <td>NO</td>\n",
       "      <td>The video presents a lighthearted joke about r...</td>\n",
       "    </tr>\n",
       "    <tr>\n",
       "      <th>3</th>\n",
       "      <td>220665</td>\n",
       "      <td>women, why do we do this?  woman_facepalming_m...</td>\n",
       "      <td>1.0</td>\n",
       "      <td>A woman on a bed intentionally shows she's ups...</td>\n",
       "      <td>YES</td>\n",
       "      <td>videos/7039365996053794053.mp4</td>\n",
       "      <td>The video embodies sexism by humorously reinfo...</td>\n",
       "      <td>The video humorously depicts a common relation...</td>\n",
       "      <td>NO</td>\n",
       "      <td>The video uses gender stereotypes for comedy b...</td>\n",
       "    </tr>\n",
       "    <tr>\n",
       "      <th>4</th>\n",
       "      <td>220746</td>\n",
       "      <td>the struggle is real is caffeinated.  most men...</td>\n",
       "      <td>0.0</td>\n",
       "      <td>A woman with purple hair and dark lipstick des...</td>\n",
       "      <td>YES</td>\n",
       "      <td>videos/7067715837255470383.mp4</td>\n",
       "      <td>The video embodies sexism by making a broad ge...</td>\n",
       "      <td>A woman humorously describes the difficulty of...</td>\n",
       "      <td>NO</td>\n",
       "      <td>The video makes a lighthearted observation abo...</td>\n",
       "    </tr>\n",
       "  </tbody>\n",
       "</table>\n",
       "</div>"
      ],
      "text/plain": [
       "   id_EXIST                                               text  target  \\\n",
       "0    220242  these men stay  sparkles pressed sparkles  che...     1.0   \n",
       "1    220296   beaming_face_with_smiling_eyes  ‘school’ pent...     1.0   \n",
       "2    220920  don’t laugh at your girlfriends choice, you ar...     0.0   \n",
       "3    220665  women, why do we do this?  woman_facepalming_m...     1.0   \n",
       "4    220746  the struggle is real is caffeinated.  most men...     0.0   \n",
       "\n",
       "                                  description_trial1 label_trial1  \\\n",
       "0  A woman in a TikTok video recounts an interact...          YES   \n",
       "1  The video contrasts Google image search result...          YES   \n",
       "2  A woman tells a joke: 'You should never laugh ...          YES   \n",
       "3  A woman on a bed intentionally shows she's ups...          YES   \n",
       "4  A woman with purple hair and dark lipstick des...          YES   \n",
       "\n",
       "                       path_video  \\\n",
       "0  videos/6920327322679692545.mp4   \n",
       "1  videos/6935046770778967302.mp4   \n",
       "2  videos/7123342389338443009.mp4   \n",
       "3  videos/7039365996053794053.mp4   \n",
       "4  videos/7067715837255470383.mp4   \n",
       "\n",
       "                                     analysis_trial1  \\\n",
       "0  The video criticizes sexism by highlighting an...   \n",
       "1  The video criticizes sexism by highlighting th...   \n",
       "2  The joke implies that women make poor choices,...   \n",
       "3  The video embodies sexism by humorously reinfo...   \n",
       "4  The video embodies sexism by making a broad ge...   \n",
       "\n",
       "                                  description_trial3 label_trial3  \\\n",
       "0  The video features a woman recounting and sati...           NO   \n",
       "1  The video contrasts Google Images search resul...           NO   \n",
       "2  The video features a woman telling a joke advi...           NO   \n",
       "3  The video humorously depicts a common relation...           NO   \n",
       "4  A woman humorously describes the difficulty of...           NO   \n",
       "\n",
       "                                     analysis_trial3  \n",
       "0  The video depicts sexist ideas attributed to a...  \n",
       "1  The video itself does not promote or endorse s...  \n",
       "2  The video presents a lighthearted joke about r...  \n",
       "3  The video uses gender stereotypes for comedy b...  \n",
       "4  The video makes a lighthearted observation abo...  "
      ]
     },
     "execution_count": 3,
     "metadata": {},
     "output_type": "execute_result"
    }
   ],
   "source": [
    "# loading the subset data\n",
    "\n",
    "import os\n",
    "import pandas as pd\n",
    "\n",
    "subset_folder = \"subsets_trial5\"\n",
    "csv_files = [f for f in os.listdir(subset_folder) if f.endswith('.csv')]\n",
    "\n",
    "dfs = []\n",
    "for file in csv_files:\n",
    "    file_path = os.path.join(subset_folder, file)\n",
    "    try:\n",
    "        df = pd.read_csv(file_path, encoding='utf-8')\n",
    "    except UnicodeDecodeError:\n",
    "        print(f\"⚠️ UTF-8 failed for {file}, trying ISO-8859-1...\")\n",
    "        df = pd.read_csv(file_path, encoding='ISO-8859-1')\n",
    "    dfs.append(df)\n",
    "\n",
    "df_all = pd.concat(dfs, ignore_index=True)\n",
    "df_all = df_all.loc[:, ~df_all.columns.str.startswith('Unnamed:')]\n",
    "df_all = df_all[df_all['description'] != 'ERROR']\n",
    "df_all['id_EXIST'] = df_all['id_EXIST'].astype('Int64')\n",
    "df_all = df_all[df_all['id_EXIST'].notna()]\n",
    "\n",
    "df_trial1 = df_all\n",
    "\n",
    "print(df_trial1.shape)\n",
    "df_trial1.head()\n",
    "\n",
    "subset_folder = \"subsets_trial3\"\n",
    "csv_files = [f for f in os.listdir(subset_folder) if f.endswith('.csv')]\n",
    "\n",
    "dfs = []\n",
    "for file in csv_files:\n",
    "    file_path = os.path.join(subset_folder, file)\n",
    "    try:\n",
    "        df = pd.read_csv(file_path, encoding='utf-8')\n",
    "    except UnicodeDecodeError:\n",
    "        print(f\"⚠️ UTF-8 failed for {file}, trying ISO-8859-1...\")\n",
    "        df = pd.read_csv(file_path, encoding='ISO-8859-1')\n",
    "    dfs.append(df)\n",
    "\n",
    "df_all = pd.concat(dfs, ignore_index=True)\n",
    "df_all = df_all.loc[:, ~df_all.columns.str.startswith('Unnamed:')]\n",
    "df_all = df_all[df_all['description'] != 'ERROR']\n",
    "df_all['id_EXIST'] = df_all['id_EXIST'].astype('Int64')\n",
    "df_all = df_all[df_all['id_EXIST'].notna()]\n",
    "\n",
    "df_trial3 = df_all\n",
    "df_trial3.head()\n",
    "# Merge the two dataframes on specified columns\n",
    "merged_df = pd.merge(\n",
    "    df_trial1[['id_EXIST', 'text', 'target', 'description','label','path_video','analysis']], \n",
    "    df_trial3[['id_EXIST', 'description','label','analysis']],\n",
    "    on='id_EXIST',\n",
    "    suffixes=('_trial1', '_trial3')\n",
    ")\n",
    "\n",
    "print(\"Shape of merged dataframe:\", merged_df.shape)\n",
    "merged_df.head()\n"
   ]
  },
  {
   "cell_type": "code",
   "execution_count": 4,
   "id": "76938fe5",
   "metadata": {},
   "outputs": [
    {
     "name": "stdout",
     "output_type": "stream",
     "text": [
      "Shape of disagreement cases: (338, 10)\n"
     ]
    },
    {
     "data": {
      "text/html": [
       "<div>\n",
       "<style scoped>\n",
       "    .dataframe tbody tr th:only-of-type {\n",
       "        vertical-align: middle;\n",
       "    }\n",
       "\n",
       "    .dataframe tbody tr th {\n",
       "        vertical-align: top;\n",
       "    }\n",
       "\n",
       "    .dataframe thead th {\n",
       "        text-align: right;\n",
       "    }\n",
       "</style>\n",
       "<table border=\"1\" class=\"dataframe\">\n",
       "  <thead>\n",
       "    <tr style=\"text-align: right;\">\n",
       "      <th></th>\n",
       "      <th>id_EXIST</th>\n",
       "      <th>text</th>\n",
       "      <th>target</th>\n",
       "      <th>description_trial1</th>\n",
       "      <th>label_trial1</th>\n",
       "      <th>path_video</th>\n",
       "      <th>analysis_trial1</th>\n",
       "      <th>description_trial3</th>\n",
       "      <th>label_trial3</th>\n",
       "      <th>analysis_trial3</th>\n",
       "    </tr>\n",
       "  </thead>\n",
       "  <tbody>\n",
       "    <tr>\n",
       "      <th>0</th>\n",
       "      <td>220242</td>\n",
       "      <td>these men stay  sparkles pressed sparkles  che...</td>\n",
       "      <td>1.0</td>\n",
       "      <td>A woman in a TikTok video recounts an interact...</td>\n",
       "      <td>YES</td>\n",
       "      <td>videos/6920327322679692545.mp4</td>\n",
       "      <td>The video criticizes sexism by highlighting an...</td>\n",
       "      <td>The video features a woman recounting and sati...</td>\n",
       "      <td>NO</td>\n",
       "      <td>The video depicts sexist ideas attributed to a...</td>\n",
       "    </tr>\n",
       "    <tr>\n",
       "      <th>1</th>\n",
       "      <td>220296</td>\n",
       "      <td>beaming_face_with_smiling_eyes  ‘school’ pent...</td>\n",
       "      <td>1.0</td>\n",
       "      <td>The video contrasts Google image search result...</td>\n",
       "      <td>YES</td>\n",
       "      <td>videos/6935046770778967302.mp4</td>\n",
       "      <td>The video criticizes sexism by highlighting th...</td>\n",
       "      <td>The video contrasts Google Images search resul...</td>\n",
       "      <td>NO</td>\n",
       "      <td>The video itself does not promote or endorse s...</td>\n",
       "    </tr>\n",
       "    <tr>\n",
       "      <th>2</th>\n",
       "      <td>220920</td>\n",
       "      <td>don’t laugh at your girlfriends choice, you ar...</td>\n",
       "      <td>0.0</td>\n",
       "      <td>A woman tells a joke: 'You should never laugh ...</td>\n",
       "      <td>YES</td>\n",
       "      <td>videos/7123342389338443009.mp4</td>\n",
       "      <td>The joke implies that women make poor choices,...</td>\n",
       "      <td>The video features a woman telling a joke advi...</td>\n",
       "      <td>NO</td>\n",
       "      <td>The video presents a lighthearted joke about r...</td>\n",
       "    </tr>\n",
       "    <tr>\n",
       "      <th>3</th>\n",
       "      <td>220665</td>\n",
       "      <td>women, why do we do this?  woman_facepalming_m...</td>\n",
       "      <td>1.0</td>\n",
       "      <td>A woman on a bed intentionally shows she's ups...</td>\n",
       "      <td>YES</td>\n",
       "      <td>videos/7039365996053794053.mp4</td>\n",
       "      <td>The video embodies sexism by humorously reinfo...</td>\n",
       "      <td>The video humorously depicts a common relation...</td>\n",
       "      <td>NO</td>\n",
       "      <td>The video uses gender stereotypes for comedy b...</td>\n",
       "    </tr>\n",
       "    <tr>\n",
       "      <th>4</th>\n",
       "      <td>220746</td>\n",
       "      <td>the struggle is real is caffeinated.  most men...</td>\n",
       "      <td>0.0</td>\n",
       "      <td>A woman with purple hair and dark lipstick des...</td>\n",
       "      <td>YES</td>\n",
       "      <td>videos/7067715837255470383.mp4</td>\n",
       "      <td>The video embodies sexism by making a broad ge...</td>\n",
       "      <td>A woman humorously describes the difficulty of...</td>\n",
       "      <td>NO</td>\n",
       "      <td>The video makes a lighthearted observation abo...</td>\n",
       "    </tr>\n",
       "  </tbody>\n",
       "</table>\n",
       "</div>"
      ],
      "text/plain": [
       "   id_EXIST                                               text  target  \\\n",
       "0    220242  these men stay  sparkles pressed sparkles  che...     1.0   \n",
       "1    220296   beaming_face_with_smiling_eyes  ‘school’ pent...     1.0   \n",
       "2    220920  don’t laugh at your girlfriends choice, you ar...     0.0   \n",
       "3    220665  women, why do we do this?  woman_facepalming_m...     1.0   \n",
       "4    220746  the struggle is real is caffeinated.  most men...     0.0   \n",
       "\n",
       "                                  description_trial1 label_trial1  \\\n",
       "0  A woman in a TikTok video recounts an interact...          YES   \n",
       "1  The video contrasts Google image search result...          YES   \n",
       "2  A woman tells a joke: 'You should never laugh ...          YES   \n",
       "3  A woman on a bed intentionally shows she's ups...          YES   \n",
       "4  A woman with purple hair and dark lipstick des...          YES   \n",
       "\n",
       "                       path_video  \\\n",
       "0  videos/6920327322679692545.mp4   \n",
       "1  videos/6935046770778967302.mp4   \n",
       "2  videos/7123342389338443009.mp4   \n",
       "3  videos/7039365996053794053.mp4   \n",
       "4  videos/7067715837255470383.mp4   \n",
       "\n",
       "                                     analysis_trial1  \\\n",
       "0  The video criticizes sexism by highlighting an...   \n",
       "1  The video criticizes sexism by highlighting th...   \n",
       "2  The joke implies that women make poor choices,...   \n",
       "3  The video embodies sexism by humorously reinfo...   \n",
       "4  The video embodies sexism by making a broad ge...   \n",
       "\n",
       "                                  description_trial3 label_trial3  \\\n",
       "0  The video features a woman recounting and sati...           NO   \n",
       "1  The video contrasts Google Images search resul...           NO   \n",
       "2  The video features a woman telling a joke advi...           NO   \n",
       "3  The video humorously depicts a common relation...           NO   \n",
       "4  A woman humorously describes the difficulty of...           NO   \n",
       "\n",
       "                                     analysis_trial3  \n",
       "0  The video depicts sexist ideas attributed to a...  \n",
       "1  The video itself does not promote or endorse s...  \n",
       "2  The video presents a lighthearted joke about r...  \n",
       "3  The video uses gender stereotypes for comedy b...  \n",
       "4  The video makes a lighthearted observation abo...  "
      ]
     },
     "execution_count": 4,
     "metadata": {},
     "output_type": "execute_result"
    }
   ],
   "source": [
    "# Filter for disagreements between trial1 and trial3\n",
    "disagreement_df = merged_df[merged_df['label_trial1'] != merged_df['label_trial3']]\n",
    "print(\"Shape of disagreement cases:\", disagreement_df.shape)\n",
    "disagreement_df.head()"
   ]
  },
  {
   "cell_type": "markdown",
   "id": "3ae42e63",
   "metadata": {},
   "source": [
    "## Train Test Split"
   ]
  },
  {
   "cell_type": "code",
   "execution_count": 5,
   "id": "22934811",
   "metadata": {},
   "outputs": [
    {
     "name": "stdout",
     "output_type": "stream",
     "text": [
      "(2524, 14)\n",
      "(1000, 14)\n"
     ]
    }
   ],
   "source": [
    "# import libraries pandas matplotlib and seaborn\n",
    "import pandas as pd\n",
    "import matplotlib.pyplot as plt\n",
    "import seaborn as sns\n",
    "from collections import Counter\n",
    "data_path = '/Users/moiz.ali/Downloads/EXIST 2025 Dataset V0.3/EXIST 2025 Videos Dataset/training/EXIST2025_training.json'\n",
    "# Normalize the nested JSON into a DataFrame\n",
    "df = pd.read_json(data_path).T\n",
    "\n",
    "print(df.shape)\n",
    "# Display the DataFrame\n",
    "df.head()\n",
    "# Select only the en \n",
    "df = df[df['lang'] == 'en']\n",
    "\n",
    "print(df.shape)\n",
    "# Display the DataFrame\n",
    "df.head()\n",
    "# Creating binary label based on majority vote of labels_task3_1\n",
    "\n",
    "def majority_vote(lst):\n",
    "    return pd.Series(lst).mode().iloc[0]\n",
    "\n",
    "df['target'] = df['labels_task3_1'].apply(majority_vote)\n",
    "df['target'] = df['target'].map({'YES': 1, 'NO': 0})\n",
    "\n",
    "df.head()\n",
    "# Train Test Split\n",
    "# remove the ones with bad videos\n",
    "bad_vids_df = pd.read_csv(\"/Volumes/T7/OMSCS/CLEF2025/EXIST2025/exist-2025/notebooks/bad_videos/bad_videos_log.csv\")\n",
    "bad_vids_df.head()\n",
    "clean_df = df[~df['video'].isin(bad_vids_df['filename'])]\n",
    "clean_df.shape\n",
    "df = clean_df"
   ]
  },
  {
   "cell_type": "code",
   "execution_count": 6,
   "id": "444325fc",
   "metadata": {},
   "outputs": [
    {
     "data": {
      "text/html": [
       "<div>\n",
       "<style scoped>\n",
       "    .dataframe tbody tr th:only-of-type {\n",
       "        vertical-align: middle;\n",
       "    }\n",
       "\n",
       "    .dataframe tbody tr th {\n",
       "        vertical-align: top;\n",
       "    }\n",
       "\n",
       "    .dataframe thead th {\n",
       "        text-align: right;\n",
       "    }\n",
       "</style>\n",
       "<table border=\"1\" class=\"dataframe\">\n",
       "  <thead>\n",
       "    <tr style=\"text-align: right;\">\n",
       "      <th></th>\n",
       "      <th>id_EXIST</th>\n",
       "      <th>text</th>\n",
       "      <th>target</th>\n",
       "      <th>description_trial1</th>\n",
       "      <th>label_trial1</th>\n",
       "      <th>path_video</th>\n",
       "      <th>analysis_trial1</th>\n",
       "      <th>description_trial3</th>\n",
       "      <th>label_trial3</th>\n",
       "      <th>analysis_trial3</th>\n",
       "    </tr>\n",
       "  </thead>\n",
       "  <tbody>\n",
       "    <tr>\n",
       "      <th>0</th>\n",
       "      <td>220242</td>\n",
       "      <td>these men stay  sparkles pressed sparkles  che...</td>\n",
       "      <td>1.0</td>\n",
       "      <td>A woman in a TikTok video recounts an interact...</td>\n",
       "      <td>YES</td>\n",
       "      <td>videos/6920327322679692545.mp4</td>\n",
       "      <td>The video criticizes sexism by highlighting an...</td>\n",
       "      <td>The video features a woman recounting and sati...</td>\n",
       "      <td>NO</td>\n",
       "      <td>The video depicts sexist ideas attributed to a...</td>\n",
       "    </tr>\n",
       "    <tr>\n",
       "      <th>1</th>\n",
       "      <td>220296</td>\n",
       "      <td>beaming_face_with_smiling_eyes  ‘school’ pent...</td>\n",
       "      <td>1.0</td>\n",
       "      <td>The video contrasts Google image search result...</td>\n",
       "      <td>YES</td>\n",
       "      <td>videos/6935046770778967302.mp4</td>\n",
       "      <td>The video criticizes sexism by highlighting th...</td>\n",
       "      <td>The video contrasts Google Images search resul...</td>\n",
       "      <td>NO</td>\n",
       "      <td>The video itself does not promote or endorse s...</td>\n",
       "    </tr>\n",
       "    <tr>\n",
       "      <th>2</th>\n",
       "      <td>220920</td>\n",
       "      <td>don’t laugh at your girlfriends choice, you ar...</td>\n",
       "      <td>0.0</td>\n",
       "      <td>A woman tells a joke: 'You should never laugh ...</td>\n",
       "      <td>YES</td>\n",
       "      <td>videos/7123342389338443009.mp4</td>\n",
       "      <td>The joke implies that women make poor choices,...</td>\n",
       "      <td>The video features a woman telling a joke advi...</td>\n",
       "      <td>NO</td>\n",
       "      <td>The video presents a lighthearted joke about r...</td>\n",
       "    </tr>\n",
       "    <tr>\n",
       "      <th>3</th>\n",
       "      <td>220665</td>\n",
       "      <td>women, why do we do this?  woman_facepalming_m...</td>\n",
       "      <td>1.0</td>\n",
       "      <td>A woman on a bed intentionally shows she's ups...</td>\n",
       "      <td>YES</td>\n",
       "      <td>videos/7039365996053794053.mp4</td>\n",
       "      <td>The video embodies sexism by humorously reinfo...</td>\n",
       "      <td>The video humorously depicts a common relation...</td>\n",
       "      <td>NO</td>\n",
       "      <td>The video uses gender stereotypes for comedy b...</td>\n",
       "    </tr>\n",
       "    <tr>\n",
       "      <th>4</th>\n",
       "      <td>220746</td>\n",
       "      <td>the struggle is real is caffeinated.  most men...</td>\n",
       "      <td>0.0</td>\n",
       "      <td>A woman with purple hair and dark lipstick des...</td>\n",
       "      <td>YES</td>\n",
       "      <td>videos/7067715837255470383.mp4</td>\n",
       "      <td>The video embodies sexism by making a broad ge...</td>\n",
       "      <td>A woman humorously describes the difficulty of...</td>\n",
       "      <td>NO</td>\n",
       "      <td>The video makes a lighthearted observation abo...</td>\n",
       "    </tr>\n",
       "  </tbody>\n",
       "</table>\n",
       "</div>"
      ],
      "text/plain": [
       "   id_EXIST                                               text  target  \\\n",
       "0    220242  these men stay  sparkles pressed sparkles  che...     1.0   \n",
       "1    220296   beaming_face_with_smiling_eyes  ‘school’ pent...     1.0   \n",
       "2    220920  don’t laugh at your girlfriends choice, you ar...     0.0   \n",
       "3    220665  women, why do we do this?  woman_facepalming_m...     1.0   \n",
       "4    220746  the struggle is real is caffeinated.  most men...     0.0   \n",
       "\n",
       "                                  description_trial1 label_trial1  \\\n",
       "0  A woman in a TikTok video recounts an interact...          YES   \n",
       "1  The video contrasts Google image search result...          YES   \n",
       "2  A woman tells a joke: 'You should never laugh ...          YES   \n",
       "3  A woman on a bed intentionally shows she's ups...          YES   \n",
       "4  A woman with purple hair and dark lipstick des...          YES   \n",
       "\n",
       "                       path_video  \\\n",
       "0  videos/6920327322679692545.mp4   \n",
       "1  videos/6935046770778967302.mp4   \n",
       "2  videos/7123342389338443009.mp4   \n",
       "3  videos/7039365996053794053.mp4   \n",
       "4  videos/7067715837255470383.mp4   \n",
       "\n",
       "                                     analysis_trial1  \\\n",
       "0  The video criticizes sexism by highlighting an...   \n",
       "1  The video criticizes sexism by highlighting th...   \n",
       "2  The joke implies that women make poor choices,...   \n",
       "3  The video embodies sexism by humorously reinfo...   \n",
       "4  The video embodies sexism by making a broad ge...   \n",
       "\n",
       "                                  description_trial3 label_trial3  \\\n",
       "0  The video features a woman recounting and sati...           NO   \n",
       "1  The video contrasts Google Images search resul...           NO   \n",
       "2  The video features a woman telling a joke advi...           NO   \n",
       "3  The video humorously depicts a common relation...           NO   \n",
       "4  A woman humorously describes the difficulty of...           NO   \n",
       "\n",
       "                                     analysis_trial3  \n",
       "0  The video depicts sexist ideas attributed to a...  \n",
       "1  The video itself does not promote or endorse s...  \n",
       "2  The video presents a lighthearted joke about r...  \n",
       "3  The video uses gender stereotypes for comedy b...  \n",
       "4  The video makes a lighthearted observation abo...  "
      ]
     },
     "execution_count": 6,
     "metadata": {},
     "output_type": "execute_result"
    }
   ],
   "source": [
    "merged_df.head()"
   ]
  },
  {
   "cell_type": "code",
   "execution_count": 7,
   "id": "ad4c9735",
   "metadata": {},
   "outputs": [
    {
     "data": {
      "text/html": [
       "<div>\n",
       "<style scoped>\n",
       "    .dataframe tbody tr th:only-of-type {\n",
       "        vertical-align: middle;\n",
       "    }\n",
       "\n",
       "    .dataframe tbody tr th {\n",
       "        vertical-align: top;\n",
       "    }\n",
       "\n",
       "    .dataframe thead th {\n",
       "        text-align: right;\n",
       "    }\n",
       "</style>\n",
       "<table border=\"1\" class=\"dataframe\">\n",
       "  <thead>\n",
       "    <tr style=\"text-align: right;\">\n",
       "      <th></th>\n",
       "      <th>id_Tiktok</th>\n",
       "      <th>id_EXIST</th>\n",
       "      <th>lang</th>\n",
       "      <th>video</th>\n",
       "      <th>path_video</th>\n",
       "      <th>url</th>\n",
       "      <th>annotators</th>\n",
       "      <th>number_annotators</th>\n",
       "      <th>gender_annotators</th>\n",
       "      <th>labels_task3_1</th>\n",
       "      <th>labels_task3_2</th>\n",
       "      <th>labels_task3_3</th>\n",
       "      <th>split</th>\n",
       "      <th>target</th>\n",
       "      <th>text</th>\n",
       "    </tr>\n",
       "  </thead>\n",
       "  <tbody>\n",
       "    <tr>\n",
       "      <th>0</th>\n",
       "      <td>6605282293726579974</td>\n",
       "      <td>220001</td>\n",
       "      <td>en</td>\n",
       "      <td>6605282293726579974.mp4</td>\n",
       "      <td>videos/6605282293726579974.mp4</td>\n",
       "      <td>https://www.tiktok.com/@sweetheartkittens/vide...</td>\n",
       "      <td>[Annotator_1, Annotator_5]</td>\n",
       "      <td>2</td>\n",
       "      <td>[F, M]</td>\n",
       "      <td>[NO, NO]</td>\n",
       "      <td>[-, -]</td>\n",
       "      <td>[[-], [-]]</td>\n",
       "      <td>TRAIN-VIDEO_EN</td>\n",
       "      <td>0</td>\n",
       "      <td>The video features a kitten being petted. Ther...</td>\n",
       "    </tr>\n",
       "    <tr>\n",
       "      <th>1</th>\n",
       "      <td>6630477888766348549</td>\n",
       "      <td>220002</td>\n",
       "      <td>en</td>\n",
       "      <td>6630477888766348549.mp4</td>\n",
       "      <td>videos/6630477888766348549.mp4</td>\n",
       "      <td>https://www.tiktok.com/@katjaglieson/video/663...</td>\n",
       "      <td>[Annotator_1, Annotator_5, Annotator_10]</td>\n",
       "      <td>3</td>\n",
       "      <td>[F, M, F]</td>\n",
       "      <td>[NO, YES, YES]</td>\n",
       "      <td>[-, DIRECT, JUDGEMENTAL]</td>\n",
       "      <td>[[-], [OBJECTIFICATION], [OBJECTIFICATION]]</td>\n",
       "      <td>TRAIN-VIDEO_EN</td>\n",
       "      <td>1</td>\n",
       "      <td>The video criticizes sexism by portraying catc...</td>\n",
       "    </tr>\n",
       "    <tr>\n",
       "      <th>2</th>\n",
       "      <td>6724072000509185286</td>\n",
       "      <td>220004</td>\n",
       "      <td>en</td>\n",
       "      <td>6724072000509185286.mp4</td>\n",
       "      <td>videos/6724072000509185286.mp4</td>\n",
       "      <td>https://www.tiktok.com/@spazzyy00/video/672407...</td>\n",
       "      <td>[Annotator_2, Annotator_6]</td>\n",
       "      <td>2</td>\n",
       "      <td>[F, F]</td>\n",
       "      <td>[NO, NO]</td>\n",
       "      <td>[-, -]</td>\n",
       "      <td>[[-], [-]]</td>\n",
       "      <td>TRAIN-VIDEO_EN</td>\n",
       "      <td>0</td>\n",
       "      <td>The video embodies sexism by perpetuating the ...</td>\n",
       "    </tr>\n",
       "    <tr>\n",
       "      <th>3</th>\n",
       "      <td>6739312750398409990</td>\n",
       "      <td>220005</td>\n",
       "      <td>en</td>\n",
       "      <td>6739312750398409990.mp4</td>\n",
       "      <td>videos/6739312750398409990.mp4</td>\n",
       "      <td>https://www.tiktok.com/@naliuh/video/673931275...</td>\n",
       "      <td>[Annotator_2, Annotator_6, Annotator_10]</td>\n",
       "      <td>3</td>\n",
       "      <td>[F, F, F]</td>\n",
       "      <td>[YES, NO, NO]</td>\n",
       "      <td>[DIRECT, -, -]</td>\n",
       "      <td>[[OBJECTIFICATION], [-], [-]]</td>\n",
       "      <td>TRAIN-VIDEO_EN</td>\n",
       "      <td>0</td>\n",
       "      <td>The video utilizes the \"Hot Mom\" stereotype, w...</td>\n",
       "    </tr>\n",
       "    <tr>\n",
       "      <th>4</th>\n",
       "      <td>6751959446093647110</td>\n",
       "      <td>220006</td>\n",
       "      <td>en</td>\n",
       "      <td>6751959446093647110.mp4</td>\n",
       "      <td>videos/6751959446093647110.mp4</td>\n",
       "      <td>https://www.tiktok.com/@cringecarter/video/675...</td>\n",
       "      <td>[Annotator_1, Annotator_5]</td>\n",
       "      <td>2</td>\n",
       "      <td>[F, M]</td>\n",
       "      <td>[NO, NO]</td>\n",
       "      <td>[-, -]</td>\n",
       "      <td>[[-], [-]]</td>\n",
       "      <td>TRAIN-VIDEO_EN</td>\n",
       "      <td>0</td>\n",
       "      <td>The video's humor stems from the driver's mist...</td>\n",
       "    </tr>\n",
       "  </tbody>\n",
       "</table>\n",
       "</div>"
      ],
      "text/plain": [
       "             id_Tiktok  id_EXIST lang                    video  \\\n",
       "0  6605282293726579974    220001   en  6605282293726579974.mp4   \n",
       "1  6630477888766348549    220002   en  6630477888766348549.mp4   \n",
       "2  6724072000509185286    220004   en  6724072000509185286.mp4   \n",
       "3  6739312750398409990    220005   en  6739312750398409990.mp4   \n",
       "4  6751959446093647110    220006   en  6751959446093647110.mp4   \n",
       "\n",
       "                       path_video  \\\n",
       "0  videos/6605282293726579974.mp4   \n",
       "1  videos/6630477888766348549.mp4   \n",
       "2  videos/6724072000509185286.mp4   \n",
       "3  videos/6739312750398409990.mp4   \n",
       "4  videos/6751959446093647110.mp4   \n",
       "\n",
       "                                                 url  \\\n",
       "0  https://www.tiktok.com/@sweetheartkittens/vide...   \n",
       "1  https://www.tiktok.com/@katjaglieson/video/663...   \n",
       "2  https://www.tiktok.com/@spazzyy00/video/672407...   \n",
       "3  https://www.tiktok.com/@naliuh/video/673931275...   \n",
       "4  https://www.tiktok.com/@cringecarter/video/675...   \n",
       "\n",
       "                                 annotators number_annotators  \\\n",
       "0                [Annotator_1, Annotator_5]                 2   \n",
       "1  [Annotator_1, Annotator_5, Annotator_10]                 3   \n",
       "2                [Annotator_2, Annotator_6]                 2   \n",
       "3  [Annotator_2, Annotator_6, Annotator_10]                 3   \n",
       "4                [Annotator_1, Annotator_5]                 2   \n",
       "\n",
       "  gender_annotators  labels_task3_1            labels_task3_2  \\\n",
       "0            [F, M]        [NO, NO]                    [-, -]   \n",
       "1         [F, M, F]  [NO, YES, YES]  [-, DIRECT, JUDGEMENTAL]   \n",
       "2            [F, F]        [NO, NO]                    [-, -]   \n",
       "3         [F, F, F]   [YES, NO, NO]            [DIRECT, -, -]   \n",
       "4            [F, M]        [NO, NO]                    [-, -]   \n",
       "\n",
       "                                labels_task3_3           split  target  \\\n",
       "0                                   [[-], [-]]  TRAIN-VIDEO_EN       0   \n",
       "1  [[-], [OBJECTIFICATION], [OBJECTIFICATION]]  TRAIN-VIDEO_EN       1   \n",
       "2                                   [[-], [-]]  TRAIN-VIDEO_EN       0   \n",
       "3                [[OBJECTIFICATION], [-], [-]]  TRAIN-VIDEO_EN       0   \n",
       "4                                   [[-], [-]]  TRAIN-VIDEO_EN       0   \n",
       "\n",
       "                                                text  \n",
       "0  The video features a kitten being petted. Ther...  \n",
       "1  The video criticizes sexism by portraying catc...  \n",
       "2  The video embodies sexism by perpetuating the ...  \n",
       "3  The video utilizes the \"Hot Mom\" stereotype, w...  \n",
       "4  The video's humor stems from the driver's mist...  "
      ]
     },
     "execution_count": 7,
     "metadata": {},
     "output_type": "execute_result"
    }
   ],
   "source": [
    "# Drop text column first, then rename description_trial1 to text\n",
    "\n",
    "# Merge df with merged_df on id_EXIST, keeping only description_trial1 from merged_df\n",
    "# First ensure both dataframes have the same type for id_EXIST\n",
    "df['id_EXIST'] = df['id_EXIST'].astype(int)\n",
    "merged_df['id_EXIST'] = merged_df['id_EXIST'].astype(int)\n",
    "\n",
    "# Then perform the merge\n",
    "merged_df = pd.merge(df, merged_df[['id_EXIST', 'description_trial1','description_trial3','analysis_trial1','analysis_trial3']], on='id_EXIST', how='inner')\n",
    "\n",
    "df = merged_df.copy()\n",
    "# Concatenate the columns with a separator\n",
    "# df['text2'] = df['analysis_trial1'] + df['analysis_trial3'] # Mean Test Accuracy: 0.7302 ± 0.0332\n",
    "df['text2'] = df['analysis_trial1'] + df['analysis_trial3'] + df['description_trial1'] + df['description_trial3']\n",
    "df = df.drop(columns=['text'])\n",
    "df = df.rename(columns={'text2': 'text'})\n",
    "\n",
    "\n",
    "# Drop the individual columns since we've combined them\n",
    "df = df.drop(columns=['description_trial1', 'description_trial3', 'analysis_trial1', 'analysis_trial3'])\n",
    "df.head()\n",
    "\n",
    "\n"
   ]
  },
  {
   "cell_type": "markdown",
   "id": "7812687c",
   "metadata": {},
   "source": [
    "# Stratified KFold"
   ]
  },
  {
   "cell_type": "code",
   "execution_count": 12,
   "id": "7a345de5",
   "metadata": {},
   "outputs": [],
   "source": [
    "from sklearn.model_selection import KFold\n",
    "from transformers import RobertaTokenizer, RobertaForSequenceClassification\n",
    "from torch.utils.data import Dataset, DataLoader\n",
    "import torch\n",
    "import numpy as np\n",
    "import pandas as pd\n",
    "from tqdm import tqdm\n",
    "from sklearn.metrics import accuracy_score\n",
    "\n",
    "tokenizer = RobertaTokenizer.from_pretrained('roberta-large')\n",
    "\n",
    "class TextDataset(Dataset):\n",
    "    def __init__(self, encodings, labels, video_ids, exist_ids):\n",
    "        self.encodings = encodings\n",
    "        self.labels = labels\n",
    "        self.video_ids = video_ids\n",
    "        self.exist_ids = exist_ids\n",
    "\n",
    "    def __len__(self):\n",
    "        return len(self.labels)\n",
    "\n",
    "    def __getitem__(self, idx):\n",
    "        item = {key: val[idx] for key, val in self.encodings.items()}\n",
    "        item['labels'] = torch.tensor(self.labels[idx])\n",
    "        item['video_ids'] = self.video_ids[idx]\n",
    "        item['exist_ids'] = self.exist_ids[idx]\n",
    "        return item\n",
    "\n",
    "def tokenize(texts):\n",
    "    return tokenizer(\n",
    "        texts,\n",
    "        padding=True,\n",
    "        truncation=True,\n",
    "        return_tensors='pt',\n",
    "        max_length=512\n",
    "    )\n",
    "\n",
    "def get_loader(df, batch_size=16, shuffle=False):\n",
    "    texts = df['text'].tolist()\n",
    "    labels = df['target'].tolist()\n",
    "    video_ids = df['video'].tolist()\n",
    "    exist_ids = df['id_EXIST'].tolist()\n",
    "    encodings = tokenize(texts)\n",
    "    dataset = TextDataset(encodings, labels, video_ids, exist_ids)\n",
    "    return DataLoader(dataset, batch_size=batch_size, shuffle=shuffle)\n"
   ]
  },
  {
   "cell_type": "code",
   "execution_count": 13,
   "id": "fe5c0c65",
   "metadata": {},
   "outputs": [],
   "source": [
    "def train_and_validate(train_loader, val_loader, device, num_labels=2, freeze_layers_up_to=20, epochs=6):\n",
    "    model = RobertaForSequenceClassification.from_pretrained(\"roberta-large\", num_labels=num_labels)\n",
    "    \n",
    "    # Freeze embeddings and encoder layers up to `freeze_layers_up_to`\n",
    "    for name, param in model.named_parameters():\n",
    "        if name.startswith(\"roberta.embeddings\"):\n",
    "            param.requires_grad = False\n",
    "        elif \"roberta.encoder.layer\" in name:\n",
    "            layer_num = int(name.split(\"layer.\")[1].split(\".\")[0])\n",
    "            if layer_num <= freeze_layers_up_to:\n",
    "                param.requires_grad = False\n",
    "    \n",
    "    model.to(device)\n",
    "    optimizer = torch.optim.AdamW(model.parameters(), lr=2e-5, weight_decay=0.0)\n",
    "\n",
    "    for epoch in range(epochs):\n",
    "        # --- Training ---\n",
    "        model.train()\n",
    "        total_loss, correct, total = 0, 0, 0\n",
    "\n",
    "        for batch in tqdm(train_loader, desc=f\"Epoch {epoch+1} - Train\"):\n",
    "            batch = {k: (v.to(device) if isinstance(v, torch.Tensor) else v) for k, v in batch.items()}\n",
    "            inputs = {k: v for k, v in batch.items() if k not in [\"video_ids\", \"exist_ids\"]}\n",
    "            outputs = model(**inputs)\n",
    "            loss, logits = outputs.loss, outputs.logits\n",
    "\n",
    "            optimizer.zero_grad()\n",
    "            loss.backward()\n",
    "            optimizer.step()\n",
    "\n",
    "            total_loss += loss.item()\n",
    "            correct += (torch.argmax(logits, dim=1) == batch['labels']).sum().item()\n",
    "            total += batch['labels'].size(0)\n",
    "\n",
    "        train_acc = correct / total\n",
    "\n",
    "        # --- Validation ---\n",
    "        model.eval()\n",
    "        val_loss, correct, total = 0, 0, 0\n",
    "        with torch.no_grad():\n",
    "            for batch in tqdm(val_loader, desc=f\"Epoch {epoch+1} - Val\"):\n",
    "                batch = {k: (v.to(device) if isinstance(v, torch.Tensor) else v) for k, v in batch.items()}\n",
    "                inputs = {k: v for k, v in batch.items() if k not in [\"video_ids\", \"exist_ids\"]}\n",
    "                outputs = model(**inputs)\n",
    "                val_loss += outputs.loss.item()\n",
    "                correct += (torch.argmax(outputs.logits, dim=1) == batch['labels']).sum().item()\n",
    "                total += batch['labels'].size(0)\n",
    "\n",
    "        val_acc = correct / total\n",
    "        print(f\"[Epoch {epoch+1}] Train Acc: {train_acc:.4f} | Val Acc: {val_acc:.4f}\")\n",
    "\n",
    "    return model\n"
   ]
  },
  {
   "cell_type": "code",
   "execution_count": 14,
   "id": "460d50a6",
   "metadata": {},
   "outputs": [],
   "source": [
    "def run_kfold(df, disagreement_df, k=5, device='cuda'):\n",
    "    df['id_EXIST'] = df['id_EXIST'].astype(int)\n",
    "    disagreement_df['id_EXIST'] = disagreement_df['id_EXIST'].astype(int)\n",
    "    \n",
    "    test_df = df[df['id_EXIST'].isin(disagreement_df['id_EXIST'])]\n",
    "    # Keep only 20% of test_df and add remaining 80% to df_train_valid\n",
    "    test_df, remaining_test = train_test_split(test_df, test_size=0.5, random_state=99)\n",
    "    print(\"Shape of test_df after keeping 20%:\", test_df.shape)\n",
    "\n",
    "    # Keep the rest as df_train_valid and add the remaining test samples\n",
    "    df_train_valid = df[~df['id_EXIST'].isin(disagreement_df['id_EXIST'])]\n",
    "    df_train_valid = pd.concat([df_train_valid, remaining_test])\n",
    "    df_train_valid = df_train_valid.reset_index(drop=True)\n",
    "    print(\"Shape of df_train_valid:\", df_train_valid.shape)\n",
    "\n",
    "    # Check that test_df and df_train_valid have no overlapping exist_ids\n",
    "    test_ids = set(test_df['id_EXIST'].unique())\n",
    "    train_valid_ids = set(df_train_valid['id_EXIST'].unique())\n",
    "    assert len(test_ids.intersection(train_valid_ids)) == 0, \"Test set and train/validation set have overlapping IDs\"\n",
    "\n",
    "    kf = KFold(n_splits=k, shuffle=True, random_state=42)\n",
    "    fold_results = []\n",
    "\n",
    "    for fold_idx, (train_idx, val_idx) in enumerate(kf.split(df_train_valid)):\n",
    "        print(f\"\\n===== Fold {fold_idx+1} =====\")\n",
    "        train_df = df_train_valid.iloc[train_idx]\n",
    "        val_df = df_train_valid.iloc[val_idx]\n",
    "\n",
    "        print(f\"Train set shape: {train_df.shape}\")\n",
    "        print(f\"Validation set shape: {val_df.shape}\")\n",
    "\n",
    "        train_loader = get_loader(train_df, shuffle=True)\n",
    "        val_loader = get_loader(val_df)\n",
    "        model = train_and_validate(train_loader, val_loader, device)\n",
    "\n",
    "        # Optional: Evaluate on the held-out test set\n",
    "        test_loader = get_loader(test_df)\n",
    "        model.eval()\n",
    "        preds, targets = [], []\n",
    "        with torch.no_grad():\n",
    "            for batch in tqdm(test_loader, desc=\"Testing\"):\n",
    "                batch = {k: (v.to(device) if isinstance(v, torch.Tensor) else v) for k, v in batch.items()}\n",
    "                inputs = {k: v for k, v in batch.items() if k not in [\"video_ids\", \"exist_ids\"]}\n",
    "                outputs = model(**inputs)\n",
    "                preds.extend(torch.argmax(outputs.logits, dim=1).cpu().numpy())\n",
    "                targets.extend(batch['labels'].cpu().numpy())\n",
    "        \n",
    "        test_acc = accuracy_score(targets, preds)\n",
    "        print(f\"Fold {fold_idx+1} Test Accuracy: {test_acc:.4f}\")\n",
    "        fold_results.append(test_acc)\n",
    "\n",
    "    print(\"\\n=== K-Fold Summary ===\")\n",
    "    print(f\"Mean Test Accuracy: {np.mean(fold_results):.4f} ± {np.std(fold_results):.4f}\")\n"
   ]
  },
  {
   "cell_type": "code",
   "execution_count": 15,
   "id": "98de755e",
   "metadata": {},
   "outputs": [],
   "source": [
    "from transformers import AutoTokenizer, AutoModelForSequenceClassification\n",
    "\n",
    "MODEL_CONFIGS = {\n",
    "    'deberta-v3': {\n",
    "        'model_name': 'microsoft/deberta-v3-base',\n",
    "        'tokenizer': AutoTokenizer,\n",
    "        'model': AutoModelForSequenceClassification\n",
    "    },\n",
    "    'bertweet': {\n",
    "        'model_name': 'vinai/bertweet-base',\n",
    "        'tokenizer': AutoTokenizer,\n",
    "        'model': AutoModelForSequenceClassification\n",
    "    },\n",
    "    'mdeberta-v3-base': {\n",
    "        'model_name': 'microsoft/mdeberta-v3-base',\n",
    "        'tokenizer': AutoTokenizer,\n",
    "        'model': AutoModelForSequenceClassification\n",
    "    },\n",
    "    'bert-base-uncased': {\n",
    "        'model_name': 'bert-base-uncased',\n",
    "        'tokenizer': AutoTokenizer,\n",
    "        'model': AutoModelForSequenceClassification\n",
    "    },\n",
    "    'beto-uncased': {\n",
    "        'model_name': 'dccuchile/bert-base-spanish-wwm-uncased',\n",
    "        'tokenizer': AutoTokenizer,\n",
    "        'model': AutoModelForSequenceClassification\n",
    "    }\n",
    "}\n"
   ]
  },
  {
   "cell_type": "code",
   "execution_count": 16,
   "id": "86ef7402",
   "metadata": {},
   "outputs": [],
   "source": [
    "def load_model_and_tokenizer(model_key, num_labels):\n",
    "    config = MODEL_CONFIGS[model_key]\n",
    "    tokenizer = config['tokenizer'].from_pretrained(config['model_name'])\n",
    "    model = config['model'].from_pretrained(config['model_name'], num_labels=num_labels)\n",
    "    return tokenizer, model\n"
   ]
  },
  {
   "cell_type": "code",
   "execution_count": 17,
   "id": "5b03615d",
   "metadata": {},
   "outputs": [
    {
     "name": "stderr",
     "output_type": "stream",
     "text": [
      "[I 2025-05-17 16:03:18,428] A new study created in memory with name: no-name-e88e704a-4f6d-475c-a9ec-b708de108be3\n",
      "/Users/moiz.ali/miniconda3/envs/exist2025/lib/python3.12/site-packages/transformers/convert_slow_tokenizer.py:559: UserWarning: The sentencepiece tokenizer that you are converting to a fast tokenizer uses the byte fallback option which is not implemented in the fast tokenizers. In practice this means that the fast version of the tokenizer can produce unknown tokens whereas the sentencepiece version would have converted these unknown tokens into a sequence of byte tokens matching the original piece of text.\n",
      "  warnings.warn(\n",
      "[W 2025-05-17 16:03:33,319] Trial 0 failed with parameters: {'learning_rate': 4.20250355772061e-05, 'batch_size': 16, 'epochs': 3, 'weight_decay': 0.057870601529274875} because of the following error: KeyboardInterrupt().\n",
      "Traceback (most recent call last):\n",
      "  File \"/Users/moiz.ali/miniconda3/envs/exist2025/lib/python3.12/site-packages/optuna/study/_optimize.py\", line 197, in _run_trial\n",
      "    value_or_values = func(trial)\n",
      "                      ^^^^^^^^^^^\n",
      "  File \"/var/folders/b3/39sggkjn14n1xr2hwd01qgpw0000gp/T/ipykernel_20925/1504064466.py\", line 12, in objective\n",
      "    tokenizer, model = load_model_and_tokenizer('deberta-v3', num_labels=2)\n",
      "                       ^^^^^^^^^^^^^^^^^^^^^^^^^^^^^^^^^^^^^^^^^^^^^^^^^^^^\n",
      "  File \"/var/folders/b3/39sggkjn14n1xr2hwd01qgpw0000gp/T/ipykernel_20925/363922235.py\", line 4, in load_model_and_tokenizer\n",
      "    model = config['model'].from_pretrained(config['model_name'], num_labels=num_labels)\n",
      "            ^^^^^^^^^^^^^^^^^^^^^^^^^^^^^^^^^^^^^^^^^^^^^^^^^^^^^^^^^^^^^^^^^^^^^^^^^^^^\n",
      "  File \"/Users/moiz.ali/miniconda3/envs/exist2025/lib/python3.12/site-packages/transformers/models/auto/auto_factory.py\", line 571, in from_pretrained\n",
      "    return model_class.from_pretrained(\n",
      "           ^^^^^^^^^^^^^^^^^^^^^^^^^^^^\n",
      "  File \"/Users/moiz.ali/miniconda3/envs/exist2025/lib/python3.12/site-packages/transformers/modeling_utils.py\", line 279, in _wrapper\n",
      "    return func(*args, **kwargs)\n",
      "           ^^^^^^^^^^^^^^^^^^^^^\n",
      "  File \"/Users/moiz.ali/miniconda3/envs/exist2025/lib/python3.12/site-packages/transformers/modeling_utils.py\", line 4260, in from_pretrained\n",
      "    checkpoint_files, sharded_metadata = _get_resolved_checkpoint_files(\n",
      "                                         ^^^^^^^^^^^^^^^^^^^^^^^^^^^^^^^\n",
      "  File \"/Users/moiz.ali/miniconda3/envs/exist2025/lib/python3.12/site-packages/transformers/modeling_utils.py\", line 1026, in _get_resolved_checkpoint_files\n",
      "    resolved_archive_file = cached_file(\n",
      "                            ^^^^^^^^^^^^\n",
      "  File \"/Users/moiz.ali/miniconda3/envs/exist2025/lib/python3.12/site-packages/transformers/utils/hub.py\", line 266, in cached_file\n",
      "    file = cached_files(path_or_repo_id=path_or_repo_id, filenames=[filename], **kwargs)\n",
      "           ^^^^^^^^^^^^^^^^^^^^^^^^^^^^^^^^^^^^^^^^^^^^^^^^^^^^^^^^^^^^^^^^^^^^^^^^^^^^^\n",
      "  File \"/Users/moiz.ali/miniconda3/envs/exist2025/lib/python3.12/site-packages/transformers/utils/hub.py\", line 424, in cached_files\n",
      "    hf_hub_download(\n",
      "  File \"/Users/moiz.ali/miniconda3/envs/exist2025/lib/python3.12/site-packages/huggingface_hub/utils/_validators.py\", line 114, in _inner_fn\n",
      "    return fn(*args, **kwargs)\n",
      "           ^^^^^^^^^^^^^^^^^^^\n",
      "  File \"/Users/moiz.ali/miniconda3/envs/exist2025/lib/python3.12/site-packages/huggingface_hub/file_download.py\", line 1008, in hf_hub_download\n",
      "    return _hf_hub_download_to_cache_dir(\n",
      "           ^^^^^^^^^^^^^^^^^^^^^^^^^^^^^^\n",
      "  File \"/Users/moiz.ali/miniconda3/envs/exist2025/lib/python3.12/site-packages/huggingface_hub/file_download.py\", line 1159, in _hf_hub_download_to_cache_dir\n",
      "    _download_to_tmp_and_move(\n",
      "  File \"/Users/moiz.ali/miniconda3/envs/exist2025/lib/python3.12/site-packages/huggingface_hub/file_download.py\", line 1723, in _download_to_tmp_and_move\n",
      "    http_get(\n",
      "  File \"/Users/moiz.ali/miniconda3/envs/exist2025/lib/python3.12/site-packages/huggingface_hub/file_download.py\", line 494, in http_get\n",
      "    for chunk in r.iter_content(chunk_size=constants.DOWNLOAD_CHUNK_SIZE):\n",
      "                 ^^^^^^^^^^^^^^^^^^^^^^^^^^^^^^^^^^^^^^^^^^^^^^^^^^^^^^^^\n",
      "  File \"/Users/moiz.ali/miniconda3/envs/exist2025/lib/python3.12/site-packages/requests/models.py\", line 820, in generate\n",
      "    yield from self.raw.stream(chunk_size, decode_content=True)\n",
      "  File \"/Users/moiz.ali/miniconda3/envs/exist2025/lib/python3.12/site-packages/urllib3/response.py\", line 1066, in stream\n",
      "    data = self.read(amt=amt, decode_content=decode_content)\n",
      "           ^^^^^^^^^^^^^^^^^^^^^^^^^^^^^^^^^^^^^^^^^^^^^^^^^\n",
      "  File \"/Users/moiz.ali/miniconda3/envs/exist2025/lib/python3.12/site-packages/urllib3/response.py\", line 955, in read\n",
      "    data = self._raw_read(amt)\n",
      "           ^^^^^^^^^^^^^^^^^^^\n",
      "  File \"/Users/moiz.ali/miniconda3/envs/exist2025/lib/python3.12/site-packages/urllib3/response.py\", line 879, in _raw_read\n",
      "    data = self._fp_read(amt, read1=read1) if not fp_closed else b\"\"\n",
      "           ^^^^^^^^^^^^^^^^^^^^^^^^^^^^^^^\n",
      "  File \"/Users/moiz.ali/miniconda3/envs/exist2025/lib/python3.12/site-packages/urllib3/response.py\", line 862, in _fp_read\n",
      "    return self._fp.read(amt) if amt is not None else self._fp.read()\n",
      "           ^^^^^^^^^^^^^^^^^^\n",
      "  File \"/Users/moiz.ali/miniconda3/envs/exist2025/lib/python3.12/http/client.py\", line 479, in read\n",
      "    s = self.fp.read(amt)\n",
      "        ^^^^^^^^^^^^^^^^^\n",
      "  File \"/Users/moiz.ali/miniconda3/envs/exist2025/lib/python3.12/socket.py\", line 720, in readinto\n",
      "    return self._sock.recv_into(b)\n",
      "           ^^^^^^^^^^^^^^^^^^^^^^^\n",
      "  File \"/Users/moiz.ali/miniconda3/envs/exist2025/lib/python3.12/ssl.py\", line 1251, in recv_into\n",
      "    return self.read(nbytes, buffer)\n",
      "           ^^^^^^^^^^^^^^^^^^^^^^^^^\n",
      "  File \"/Users/moiz.ali/miniconda3/envs/exist2025/lib/python3.12/ssl.py\", line 1103, in read\n",
      "    return self._sslobj.read(len, buffer)\n",
      "           ^^^^^^^^^^^^^^^^^^^^^^^^^^^^^^\n",
      "KeyboardInterrupt\n",
      "[W 2025-05-17 16:03:33,338] Trial 0 failed with value None.\n"
     ]
    },
    {
     "ename": "KeyboardInterrupt",
     "evalue": "",
     "output_type": "error",
     "traceback": [
      "\u001b[31m---------------------------------------------------------------------------\u001b[39m",
      "\u001b[31mKeyboardInterrupt\u001b[39m                         Traceback (most recent call last)",
      "\u001b[36mCell\u001b[39m\u001b[36m \u001b[39m\u001b[32mIn[17]\u001b[39m\u001b[32m, line 40\u001b[39m\n\u001b[32m     38\u001b[39m \u001b[38;5;66;03m# Create study and optimize\u001b[39;00m\n\u001b[32m     39\u001b[39m study = optuna.create_study(direction=\u001b[33m'\u001b[39m\u001b[33mmaximize\u001b[39m\u001b[33m'\u001b[39m)\n\u001b[32m---> \u001b[39m\u001b[32m40\u001b[39m \u001b[43mstudy\u001b[49m\u001b[43m.\u001b[49m\u001b[43moptimize\u001b[49m\u001b[43m(\u001b[49m\u001b[43mobjective\u001b[49m\u001b[43m,\u001b[49m\u001b[43m \u001b[49m\u001b[43mn_trials\u001b[49m\u001b[43m=\u001b[49m\u001b[32;43m10\u001b[39;49m\u001b[43m)\u001b[49m\n\u001b[32m     42\u001b[39m \u001b[38;5;28mprint\u001b[39m(\u001b[33m'\u001b[39m\u001b[33mBest trial:\u001b[39m\u001b[33m'\u001b[39m)\n\u001b[32m     43\u001b[39m trial = study.best_trial\n",
      "\u001b[36mFile \u001b[39m\u001b[32m~/miniconda3/envs/exist2025/lib/python3.12/site-packages/optuna/study/study.py:475\u001b[39m, in \u001b[36mStudy.optimize\u001b[39m\u001b[34m(self, func, n_trials, timeout, n_jobs, catch, callbacks, gc_after_trial, show_progress_bar)\u001b[39m\n\u001b[32m    373\u001b[39m \u001b[38;5;28;01mdef\u001b[39;00m\u001b[38;5;250m \u001b[39m\u001b[34moptimize\u001b[39m(\n\u001b[32m    374\u001b[39m     \u001b[38;5;28mself\u001b[39m,\n\u001b[32m    375\u001b[39m     func: ObjectiveFuncType,\n\u001b[32m   (...)\u001b[39m\u001b[32m    382\u001b[39m     show_progress_bar: \u001b[38;5;28mbool\u001b[39m = \u001b[38;5;28;01mFalse\u001b[39;00m,\n\u001b[32m    383\u001b[39m ) -> \u001b[38;5;28;01mNone\u001b[39;00m:\n\u001b[32m    384\u001b[39m \u001b[38;5;250m    \u001b[39m\u001b[33;03m\"\"\"Optimize an objective function.\u001b[39;00m\n\u001b[32m    385\u001b[39m \n\u001b[32m    386\u001b[39m \u001b[33;03m    Optimization is done by choosing a suitable set of hyperparameter values from a given\u001b[39;00m\n\u001b[32m   (...)\u001b[39m\u001b[32m    473\u001b[39m \u001b[33;03m            If nested invocation of this method occurs.\u001b[39;00m\n\u001b[32m    474\u001b[39m \u001b[33;03m    \"\"\"\u001b[39;00m\n\u001b[32m--> \u001b[39m\u001b[32m475\u001b[39m     \u001b[43m_optimize\u001b[49m\u001b[43m(\u001b[49m\n\u001b[32m    476\u001b[39m \u001b[43m        \u001b[49m\u001b[43mstudy\u001b[49m\u001b[43m=\u001b[49m\u001b[38;5;28;43mself\u001b[39;49m\u001b[43m,\u001b[49m\n\u001b[32m    477\u001b[39m \u001b[43m        \u001b[49m\u001b[43mfunc\u001b[49m\u001b[43m=\u001b[49m\u001b[43mfunc\u001b[49m\u001b[43m,\u001b[49m\n\u001b[32m    478\u001b[39m \u001b[43m        \u001b[49m\u001b[43mn_trials\u001b[49m\u001b[43m=\u001b[49m\u001b[43mn_trials\u001b[49m\u001b[43m,\u001b[49m\n\u001b[32m    479\u001b[39m \u001b[43m        \u001b[49m\u001b[43mtimeout\u001b[49m\u001b[43m=\u001b[49m\u001b[43mtimeout\u001b[49m\u001b[43m,\u001b[49m\n\u001b[32m    480\u001b[39m \u001b[43m        \u001b[49m\u001b[43mn_jobs\u001b[49m\u001b[43m=\u001b[49m\u001b[43mn_jobs\u001b[49m\u001b[43m,\u001b[49m\n\u001b[32m    481\u001b[39m \u001b[43m        \u001b[49m\u001b[43mcatch\u001b[49m\u001b[43m=\u001b[49m\u001b[38;5;28;43mtuple\u001b[39;49m\u001b[43m(\u001b[49m\u001b[43mcatch\u001b[49m\u001b[43m)\u001b[49m\u001b[43m \u001b[49m\u001b[38;5;28;43;01mif\u001b[39;49;00m\u001b[43m \u001b[49m\u001b[38;5;28;43misinstance\u001b[39;49m\u001b[43m(\u001b[49m\u001b[43mcatch\u001b[49m\u001b[43m,\u001b[49m\u001b[43m \u001b[49m\u001b[43mIterable\u001b[49m\u001b[43m)\u001b[49m\u001b[43m \u001b[49m\u001b[38;5;28;43;01melse\u001b[39;49;00m\u001b[43m \u001b[49m\u001b[43m(\u001b[49m\u001b[43mcatch\u001b[49m\u001b[43m,\u001b[49m\u001b[43m)\u001b[49m\u001b[43m,\u001b[49m\n\u001b[32m    482\u001b[39m \u001b[43m        \u001b[49m\u001b[43mcallbacks\u001b[49m\u001b[43m=\u001b[49m\u001b[43mcallbacks\u001b[49m\u001b[43m,\u001b[49m\n\u001b[32m    483\u001b[39m \u001b[43m        \u001b[49m\u001b[43mgc_after_trial\u001b[49m\u001b[43m=\u001b[49m\u001b[43mgc_after_trial\u001b[49m\u001b[43m,\u001b[49m\n\u001b[32m    484\u001b[39m \u001b[43m        \u001b[49m\u001b[43mshow_progress_bar\u001b[49m\u001b[43m=\u001b[49m\u001b[43mshow_progress_bar\u001b[49m\u001b[43m,\u001b[49m\n\u001b[32m    485\u001b[39m \u001b[43m    \u001b[49m\u001b[43m)\u001b[49m\n",
      "\u001b[36mFile \u001b[39m\u001b[32m~/miniconda3/envs/exist2025/lib/python3.12/site-packages/optuna/study/_optimize.py:63\u001b[39m, in \u001b[36m_optimize\u001b[39m\u001b[34m(study, func, n_trials, timeout, n_jobs, catch, callbacks, gc_after_trial, show_progress_bar)\u001b[39m\n\u001b[32m     61\u001b[39m \u001b[38;5;28;01mtry\u001b[39;00m:\n\u001b[32m     62\u001b[39m     \u001b[38;5;28;01mif\u001b[39;00m n_jobs == \u001b[32m1\u001b[39m:\n\u001b[32m---> \u001b[39m\u001b[32m63\u001b[39m         \u001b[43m_optimize_sequential\u001b[49m\u001b[43m(\u001b[49m\n\u001b[32m     64\u001b[39m \u001b[43m            \u001b[49m\u001b[43mstudy\u001b[49m\u001b[43m,\u001b[49m\n\u001b[32m     65\u001b[39m \u001b[43m            \u001b[49m\u001b[43mfunc\u001b[49m\u001b[43m,\u001b[49m\n\u001b[32m     66\u001b[39m \u001b[43m            \u001b[49m\u001b[43mn_trials\u001b[49m\u001b[43m,\u001b[49m\n\u001b[32m     67\u001b[39m \u001b[43m            \u001b[49m\u001b[43mtimeout\u001b[49m\u001b[43m,\u001b[49m\n\u001b[32m     68\u001b[39m \u001b[43m            \u001b[49m\u001b[43mcatch\u001b[49m\u001b[43m,\u001b[49m\n\u001b[32m     69\u001b[39m \u001b[43m            \u001b[49m\u001b[43mcallbacks\u001b[49m\u001b[43m,\u001b[49m\n\u001b[32m     70\u001b[39m \u001b[43m            \u001b[49m\u001b[43mgc_after_trial\u001b[49m\u001b[43m,\u001b[49m\n\u001b[32m     71\u001b[39m \u001b[43m            \u001b[49m\u001b[43mreseed_sampler_rng\u001b[49m\u001b[43m=\u001b[49m\u001b[38;5;28;43;01mFalse\u001b[39;49;00m\u001b[43m,\u001b[49m\n\u001b[32m     72\u001b[39m \u001b[43m            \u001b[49m\u001b[43mtime_start\u001b[49m\u001b[43m=\u001b[49m\u001b[38;5;28;43;01mNone\u001b[39;49;00m\u001b[43m,\u001b[49m\n\u001b[32m     73\u001b[39m \u001b[43m            \u001b[49m\u001b[43mprogress_bar\u001b[49m\u001b[43m=\u001b[49m\u001b[43mprogress_bar\u001b[49m\u001b[43m,\u001b[49m\n\u001b[32m     74\u001b[39m \u001b[43m        \u001b[49m\u001b[43m)\u001b[49m\n\u001b[32m     75\u001b[39m     \u001b[38;5;28;01melse\u001b[39;00m:\n\u001b[32m     76\u001b[39m         \u001b[38;5;28;01mif\u001b[39;00m n_jobs == -\u001b[32m1\u001b[39m:\n",
      "\u001b[36mFile \u001b[39m\u001b[32m~/miniconda3/envs/exist2025/lib/python3.12/site-packages/optuna/study/_optimize.py:160\u001b[39m, in \u001b[36m_optimize_sequential\u001b[39m\u001b[34m(study, func, n_trials, timeout, catch, callbacks, gc_after_trial, reseed_sampler_rng, time_start, progress_bar)\u001b[39m\n\u001b[32m    157\u001b[39m         \u001b[38;5;28;01mbreak\u001b[39;00m\n\u001b[32m    159\u001b[39m \u001b[38;5;28;01mtry\u001b[39;00m:\n\u001b[32m--> \u001b[39m\u001b[32m160\u001b[39m     frozen_trial = \u001b[43m_run_trial\u001b[49m\u001b[43m(\u001b[49m\u001b[43mstudy\u001b[49m\u001b[43m,\u001b[49m\u001b[43m \u001b[49m\u001b[43mfunc\u001b[49m\u001b[43m,\u001b[49m\u001b[43m \u001b[49m\u001b[43mcatch\u001b[49m\u001b[43m)\u001b[49m\n\u001b[32m    161\u001b[39m \u001b[38;5;28;01mfinally\u001b[39;00m:\n\u001b[32m    162\u001b[39m     \u001b[38;5;66;03m# The following line mitigates memory problems that can be occurred in some\u001b[39;00m\n\u001b[32m    163\u001b[39m     \u001b[38;5;66;03m# environments (e.g., services that use computing containers such as GitHub Actions).\u001b[39;00m\n\u001b[32m    164\u001b[39m     \u001b[38;5;66;03m# Please refer to the following PR for further details:\u001b[39;00m\n\u001b[32m    165\u001b[39m     \u001b[38;5;66;03m# https://github.com/optuna/optuna/pull/325.\u001b[39;00m\n\u001b[32m    166\u001b[39m     \u001b[38;5;28;01mif\u001b[39;00m gc_after_trial:\n",
      "\u001b[36mFile \u001b[39m\u001b[32m~/miniconda3/envs/exist2025/lib/python3.12/site-packages/optuna/study/_optimize.py:248\u001b[39m, in \u001b[36m_run_trial\u001b[39m\u001b[34m(study, func, catch)\u001b[39m\n\u001b[32m    241\u001b[39m         \u001b[38;5;28;01massert\u001b[39;00m \u001b[38;5;28;01mFalse\u001b[39;00m, \u001b[33m\"\u001b[39m\u001b[33mShould not reach.\u001b[39m\u001b[33m\"\u001b[39m\n\u001b[32m    243\u001b[39m \u001b[38;5;28;01mif\u001b[39;00m (\n\u001b[32m    244\u001b[39m     frozen_trial.state == TrialState.FAIL\n\u001b[32m    245\u001b[39m     \u001b[38;5;129;01mand\u001b[39;00m func_err \u001b[38;5;129;01mis\u001b[39;00m \u001b[38;5;129;01mnot\u001b[39;00m \u001b[38;5;28;01mNone\u001b[39;00m\n\u001b[32m    246\u001b[39m     \u001b[38;5;129;01mand\u001b[39;00m \u001b[38;5;129;01mnot\u001b[39;00m \u001b[38;5;28misinstance\u001b[39m(func_err, catch)\n\u001b[32m    247\u001b[39m ):\n\u001b[32m--> \u001b[39m\u001b[32m248\u001b[39m     \u001b[38;5;28;01mraise\u001b[39;00m func_err\n\u001b[32m    249\u001b[39m \u001b[38;5;28;01mreturn\u001b[39;00m frozen_trial\n",
      "\u001b[36mFile \u001b[39m\u001b[32m~/miniconda3/envs/exist2025/lib/python3.12/site-packages/optuna/study/_optimize.py:197\u001b[39m, in \u001b[36m_run_trial\u001b[39m\u001b[34m(study, func, catch)\u001b[39m\n\u001b[32m    195\u001b[39m \u001b[38;5;28;01mwith\u001b[39;00m get_heartbeat_thread(trial._trial_id, study._storage):\n\u001b[32m    196\u001b[39m     \u001b[38;5;28;01mtry\u001b[39;00m:\n\u001b[32m--> \u001b[39m\u001b[32m197\u001b[39m         value_or_values = \u001b[43mfunc\u001b[49m\u001b[43m(\u001b[49m\u001b[43mtrial\u001b[49m\u001b[43m)\u001b[49m\n\u001b[32m    198\u001b[39m     \u001b[38;5;28;01mexcept\u001b[39;00m exceptions.TrialPruned \u001b[38;5;28;01mas\u001b[39;00m e:\n\u001b[32m    199\u001b[39m         \u001b[38;5;66;03m# TODO(mamu): Handle multi-objective cases.\u001b[39;00m\n\u001b[32m    200\u001b[39m         state = TrialState.PRUNED\n",
      "\u001b[36mCell\u001b[39m\u001b[36m \u001b[39m\u001b[32mIn[17]\u001b[39m\u001b[32m, line 12\u001b[39m, in \u001b[36mobjective\u001b[39m\u001b[34m(trial)\u001b[39m\n\u001b[32m      9\u001b[39m weight_decay = trial.suggest_float(\u001b[33m'\u001b[39m\u001b[33mweight_decay\u001b[39m\u001b[33m'\u001b[39m, \u001b[32m0.0\u001b[39m, \u001b[32m0.3\u001b[39m)\n\u001b[32m     11\u001b[39m \u001b[38;5;66;03m# Load tokenizer and model\u001b[39;00m\n\u001b[32m---> \u001b[39m\u001b[32m12\u001b[39m tokenizer, model = \u001b[43mload_model_and_tokenizer\u001b[49m\u001b[43m(\u001b[49m\u001b[33;43m'\u001b[39;49m\u001b[33;43mdeberta-v3\u001b[39;49m\u001b[33;43m'\u001b[39;49m\u001b[43m,\u001b[49m\u001b[43m \u001b[49m\u001b[43mnum_labels\u001b[49m\u001b[43m=\u001b[49m\u001b[32;43m2\u001b[39;49m\u001b[43m)\u001b[49m\n\u001b[32m     13\u001b[39m model.to(device)\n\u001b[32m     15\u001b[39m \u001b[38;5;66;03m# Prepare data loaders\u001b[39;00m\n",
      "\u001b[36mCell\u001b[39m\u001b[36m \u001b[39m\u001b[32mIn[16]\u001b[39m\u001b[32m, line 4\u001b[39m, in \u001b[36mload_model_and_tokenizer\u001b[39m\u001b[34m(model_key, num_labels)\u001b[39m\n\u001b[32m      2\u001b[39m config = MODEL_CONFIGS[model_key]\n\u001b[32m      3\u001b[39m tokenizer = config[\u001b[33m'\u001b[39m\u001b[33mtokenizer\u001b[39m\u001b[33m'\u001b[39m].from_pretrained(config[\u001b[33m'\u001b[39m\u001b[33mmodel_name\u001b[39m\u001b[33m'\u001b[39m])\n\u001b[32m----> \u001b[39m\u001b[32m4\u001b[39m model = \u001b[43mconfig\u001b[49m\u001b[43m[\u001b[49m\u001b[33;43m'\u001b[39;49m\u001b[33;43mmodel\u001b[39;49m\u001b[33;43m'\u001b[39;49m\u001b[43m]\u001b[49m\u001b[43m.\u001b[49m\u001b[43mfrom_pretrained\u001b[49m\u001b[43m(\u001b[49m\u001b[43mconfig\u001b[49m\u001b[43m[\u001b[49m\u001b[33;43m'\u001b[39;49m\u001b[33;43mmodel_name\u001b[39;49m\u001b[33;43m'\u001b[39;49m\u001b[43m]\u001b[49m\u001b[43m,\u001b[49m\u001b[43m \u001b[49m\u001b[43mnum_labels\u001b[49m\u001b[43m=\u001b[49m\u001b[43mnum_labels\u001b[49m\u001b[43m)\u001b[49m\n\u001b[32m      5\u001b[39m \u001b[38;5;28;01mreturn\u001b[39;00m tokenizer, model\n",
      "\u001b[36mFile \u001b[39m\u001b[32m~/miniconda3/envs/exist2025/lib/python3.12/site-packages/transformers/models/auto/auto_factory.py:571\u001b[39m, in \u001b[36m_BaseAutoModelClass.from_pretrained\u001b[39m\u001b[34m(cls, pretrained_model_name_or_path, *model_args, **kwargs)\u001b[39m\n\u001b[32m    569\u001b[39m     \u001b[38;5;28;01mif\u001b[39;00m model_class.config_class == config.sub_configs.get(\u001b[33m\"\u001b[39m\u001b[33mtext_config\u001b[39m\u001b[33m\"\u001b[39m, \u001b[38;5;28;01mNone\u001b[39;00m):\n\u001b[32m    570\u001b[39m         config = config.get_text_config()\n\u001b[32m--> \u001b[39m\u001b[32m571\u001b[39m     \u001b[38;5;28;01mreturn\u001b[39;00m \u001b[43mmodel_class\u001b[49m\u001b[43m.\u001b[49m\u001b[43mfrom_pretrained\u001b[49m\u001b[43m(\u001b[49m\n\u001b[32m    572\u001b[39m \u001b[43m        \u001b[49m\u001b[43mpretrained_model_name_or_path\u001b[49m\u001b[43m,\u001b[49m\u001b[43m \u001b[49m\u001b[43m*\u001b[49m\u001b[43mmodel_args\u001b[49m\u001b[43m,\u001b[49m\u001b[43m \u001b[49m\u001b[43mconfig\u001b[49m\u001b[43m=\u001b[49m\u001b[43mconfig\u001b[49m\u001b[43m,\u001b[49m\u001b[43m \u001b[49m\u001b[43m*\u001b[49m\u001b[43m*\u001b[49m\u001b[43mhub_kwargs\u001b[49m\u001b[43m,\u001b[49m\u001b[43m \u001b[49m\u001b[43m*\u001b[49m\u001b[43m*\u001b[49m\u001b[43mkwargs\u001b[49m\n\u001b[32m    573\u001b[39m \u001b[43m    \u001b[49m\u001b[43m)\u001b[49m\n\u001b[32m    574\u001b[39m \u001b[38;5;28;01mraise\u001b[39;00m \u001b[38;5;167;01mValueError\u001b[39;00m(\n\u001b[32m    575\u001b[39m     \u001b[33mf\u001b[39m\u001b[33m\"\u001b[39m\u001b[33mUnrecognized configuration class \u001b[39m\u001b[38;5;132;01m{\u001b[39;00mconfig.\u001b[34m__class__\u001b[39m\u001b[38;5;132;01m}\u001b[39;00m\u001b[33m for this kind of AutoModel: \u001b[39m\u001b[38;5;132;01m{\u001b[39;00m\u001b[38;5;28mcls\u001b[39m.\u001b[34m__name__\u001b[39m\u001b[38;5;132;01m}\u001b[39;00m\u001b[33m.\u001b[39m\u001b[38;5;130;01m\\n\u001b[39;00m\u001b[33m\"\u001b[39m\n\u001b[32m    576\u001b[39m     \u001b[33mf\u001b[39m\u001b[33m\"\u001b[39m\u001b[33mModel type should be one of \u001b[39m\u001b[38;5;132;01m{\u001b[39;00m\u001b[33m'\u001b[39m\u001b[33m, \u001b[39m\u001b[33m'\u001b[39m.join(c.\u001b[34m__name__\u001b[39m\u001b[38;5;250m \u001b[39m\u001b[38;5;28;01mfor\u001b[39;00m\u001b[38;5;250m \u001b[39mc\u001b[38;5;250m \u001b[39m\u001b[38;5;129;01min\u001b[39;00m\u001b[38;5;250m \u001b[39m\u001b[38;5;28mcls\u001b[39m._model_mapping.keys())\u001b[38;5;132;01m}\u001b[39;00m\u001b[33m.\u001b[39m\u001b[33m\"\u001b[39m\n\u001b[32m    577\u001b[39m )\n",
      "\u001b[36mFile \u001b[39m\u001b[32m~/miniconda3/envs/exist2025/lib/python3.12/site-packages/transformers/modeling_utils.py:279\u001b[39m, in \u001b[36mrestore_default_torch_dtype.<locals>._wrapper\u001b[39m\u001b[34m(*args, **kwargs)\u001b[39m\n\u001b[32m    277\u001b[39m old_dtype = torch.get_default_dtype()\n\u001b[32m    278\u001b[39m \u001b[38;5;28;01mtry\u001b[39;00m:\n\u001b[32m--> \u001b[39m\u001b[32m279\u001b[39m     \u001b[38;5;28;01mreturn\u001b[39;00m \u001b[43mfunc\u001b[49m\u001b[43m(\u001b[49m\u001b[43m*\u001b[49m\u001b[43margs\u001b[49m\u001b[43m,\u001b[49m\u001b[43m \u001b[49m\u001b[43m*\u001b[49m\u001b[43m*\u001b[49m\u001b[43mkwargs\u001b[49m\u001b[43m)\u001b[49m\n\u001b[32m    280\u001b[39m \u001b[38;5;28;01mfinally\u001b[39;00m:\n\u001b[32m    281\u001b[39m     torch.set_default_dtype(old_dtype)\n",
      "\u001b[36mFile \u001b[39m\u001b[32m~/miniconda3/envs/exist2025/lib/python3.12/site-packages/transformers/modeling_utils.py:4260\u001b[39m, in \u001b[36mPreTrainedModel.from_pretrained\u001b[39m\u001b[34m(cls, pretrained_model_name_or_path, config, cache_dir, ignore_mismatched_sizes, force_download, local_files_only, token, revision, use_safetensors, weights_only, *model_args, **kwargs)\u001b[39m\n\u001b[32m   4250\u001b[39m \u001b[38;5;28;01mif\u001b[39;00m (\n\u001b[32m   4251\u001b[39m     gguf_file\n\u001b[32m   4252\u001b[39m     \u001b[38;5;129;01mand\u001b[39;00m device_map \u001b[38;5;129;01mis\u001b[39;00m \u001b[38;5;129;01mnot\u001b[39;00m \u001b[38;5;28;01mNone\u001b[39;00m\n\u001b[32m   4253\u001b[39m     \u001b[38;5;129;01mand\u001b[39;00m ((\u001b[38;5;28misinstance\u001b[39m(device_map, \u001b[38;5;28mdict\u001b[39m) \u001b[38;5;129;01mand\u001b[39;00m \u001b[33m\"\u001b[39m\u001b[33mdisk\u001b[39m\u001b[33m\"\u001b[39m \u001b[38;5;129;01min\u001b[39;00m device_map.values()) \u001b[38;5;129;01mor\u001b[39;00m \u001b[33m\"\u001b[39m\u001b[33mdisk\u001b[39m\u001b[33m\"\u001b[39m \u001b[38;5;129;01min\u001b[39;00m device_map)\n\u001b[32m   4254\u001b[39m ):\n\u001b[32m   4255\u001b[39m     \u001b[38;5;28;01mraise\u001b[39;00m \u001b[38;5;167;01mRuntimeError\u001b[39;00m(\n\u001b[32m   4256\u001b[39m         \u001b[33m\"\u001b[39m\u001b[33mOne or more modules is configured to be mapped to disk. Disk offload is not supported for models \u001b[39m\u001b[33m\"\u001b[39m\n\u001b[32m   4257\u001b[39m         \u001b[33m\"\u001b[39m\u001b[33mloaded from GGUF files.\u001b[39m\u001b[33m\"\u001b[39m\n\u001b[32m   4258\u001b[39m     )\n\u001b[32m-> \u001b[39m\u001b[32m4260\u001b[39m checkpoint_files, sharded_metadata = \u001b[43m_get_resolved_checkpoint_files\u001b[49m\u001b[43m(\u001b[49m\n\u001b[32m   4261\u001b[39m \u001b[43m    \u001b[49m\u001b[43mpretrained_model_name_or_path\u001b[49m\u001b[43m=\u001b[49m\u001b[43mpretrained_model_name_or_path\u001b[49m\u001b[43m,\u001b[49m\n\u001b[32m   4262\u001b[39m \u001b[43m    \u001b[49m\u001b[43msubfolder\u001b[49m\u001b[43m=\u001b[49m\u001b[43msubfolder\u001b[49m\u001b[43m,\u001b[49m\n\u001b[32m   4263\u001b[39m \u001b[43m    \u001b[49m\u001b[43mvariant\u001b[49m\u001b[43m=\u001b[49m\u001b[43mvariant\u001b[49m\u001b[43m,\u001b[49m\n\u001b[32m   4264\u001b[39m \u001b[43m    \u001b[49m\u001b[43mgguf_file\u001b[49m\u001b[43m=\u001b[49m\u001b[43mgguf_file\u001b[49m\u001b[43m,\u001b[49m\n\u001b[32m   4265\u001b[39m \u001b[43m    \u001b[49m\u001b[43mfrom_tf\u001b[49m\u001b[43m=\u001b[49m\u001b[43mfrom_tf\u001b[49m\u001b[43m,\u001b[49m\n\u001b[32m   4266\u001b[39m \u001b[43m    \u001b[49m\u001b[43mfrom_flax\u001b[49m\u001b[43m=\u001b[49m\u001b[43mfrom_flax\u001b[49m\u001b[43m,\u001b[49m\n\u001b[32m   4267\u001b[39m \u001b[43m    \u001b[49m\u001b[43muse_safetensors\u001b[49m\u001b[43m=\u001b[49m\u001b[43muse_safetensors\u001b[49m\u001b[43m,\u001b[49m\n\u001b[32m   4268\u001b[39m \u001b[43m    \u001b[49m\u001b[43mcache_dir\u001b[49m\u001b[43m=\u001b[49m\u001b[43mcache_dir\u001b[49m\u001b[43m,\u001b[49m\n\u001b[32m   4269\u001b[39m \u001b[43m    \u001b[49m\u001b[43mforce_download\u001b[49m\u001b[43m=\u001b[49m\u001b[43mforce_download\u001b[49m\u001b[43m,\u001b[49m\n\u001b[32m   4270\u001b[39m \u001b[43m    \u001b[49m\u001b[43mproxies\u001b[49m\u001b[43m=\u001b[49m\u001b[43mproxies\u001b[49m\u001b[43m,\u001b[49m\n\u001b[32m   4271\u001b[39m \u001b[43m    \u001b[49m\u001b[43mlocal_files_only\u001b[49m\u001b[43m=\u001b[49m\u001b[43mlocal_files_only\u001b[49m\u001b[43m,\u001b[49m\n\u001b[32m   4272\u001b[39m \u001b[43m    \u001b[49m\u001b[43mtoken\u001b[49m\u001b[43m=\u001b[49m\u001b[43mtoken\u001b[49m\u001b[43m,\u001b[49m\n\u001b[32m   4273\u001b[39m \u001b[43m    \u001b[49m\u001b[43muser_agent\u001b[49m\u001b[43m=\u001b[49m\u001b[43muser_agent\u001b[49m\u001b[43m,\u001b[49m\n\u001b[32m   4274\u001b[39m \u001b[43m    \u001b[49m\u001b[43mrevision\u001b[49m\u001b[43m=\u001b[49m\u001b[43mrevision\u001b[49m\u001b[43m,\u001b[49m\n\u001b[32m   4275\u001b[39m \u001b[43m    \u001b[49m\u001b[43mcommit_hash\u001b[49m\u001b[43m=\u001b[49m\u001b[43mcommit_hash\u001b[49m\u001b[43m,\u001b[49m\n\u001b[32m   4276\u001b[39m \u001b[43m\u001b[49m\u001b[43m)\u001b[49m\n\u001b[32m   4278\u001b[39m is_sharded = sharded_metadata \u001b[38;5;129;01mis\u001b[39;00m \u001b[38;5;129;01mnot\u001b[39;00m \u001b[38;5;28;01mNone\u001b[39;00m\n\u001b[32m   4279\u001b[39m is_quantized = hf_quantizer \u001b[38;5;129;01mis\u001b[39;00m \u001b[38;5;129;01mnot\u001b[39;00m \u001b[38;5;28;01mNone\u001b[39;00m\n",
      "\u001b[36mFile \u001b[39m\u001b[32m~/miniconda3/envs/exist2025/lib/python3.12/site-packages/transformers/modeling_utils.py:1026\u001b[39m, in \u001b[36m_get_resolved_checkpoint_files\u001b[39m\u001b[34m(pretrained_model_name_or_path, subfolder, variant, gguf_file, from_tf, from_flax, use_safetensors, cache_dir, force_download, proxies, local_files_only, token, user_agent, revision, commit_hash)\u001b[39m\n\u001b[32m   1023\u001b[39m     \u001b[38;5;28;01melse\u001b[39;00m:\n\u001b[32m   1024\u001b[39m         \u001b[38;5;66;03m# This repo has no safetensors file of any kind, we switch to PyTorch.\u001b[39;00m\n\u001b[32m   1025\u001b[39m         filename = _add_variant(WEIGHTS_NAME, variant)\n\u001b[32m-> \u001b[39m\u001b[32m1026\u001b[39m         resolved_archive_file = \u001b[43mcached_file\u001b[49m\u001b[43m(\u001b[49m\n\u001b[32m   1027\u001b[39m \u001b[43m            \u001b[49m\u001b[43mpretrained_model_name_or_path\u001b[49m\u001b[43m,\u001b[49m\u001b[43m \u001b[49m\u001b[43mfilename\u001b[49m\u001b[43m,\u001b[49m\u001b[43m \u001b[49m\u001b[43m*\u001b[49m\u001b[43m*\u001b[49m\u001b[43mcached_file_kwargs\u001b[49m\n\u001b[32m   1028\u001b[39m \u001b[43m        \u001b[49m\u001b[43m)\u001b[49m\n\u001b[32m   1029\u001b[39m \u001b[38;5;28;01mif\u001b[39;00m resolved_archive_file \u001b[38;5;129;01mis\u001b[39;00m \u001b[38;5;28;01mNone\u001b[39;00m \u001b[38;5;129;01mand\u001b[39;00m filename == _add_variant(WEIGHTS_NAME, variant):\n\u001b[32m   1030\u001b[39m     \u001b[38;5;66;03m# Maybe the checkpoint is sharded, we try to grab the index name in this case.\u001b[39;00m\n\u001b[32m   1031\u001b[39m     resolved_archive_file = cached_file(\n\u001b[32m   1032\u001b[39m         pretrained_model_name_or_path,\n\u001b[32m   1033\u001b[39m         _add_variant(WEIGHTS_INDEX_NAME, variant),\n\u001b[32m   1034\u001b[39m         **cached_file_kwargs,\n\u001b[32m   1035\u001b[39m     )\n",
      "\u001b[36mFile \u001b[39m\u001b[32m~/miniconda3/envs/exist2025/lib/python3.12/site-packages/transformers/utils/hub.py:266\u001b[39m, in \u001b[36mcached_file\u001b[39m\u001b[34m(path_or_repo_id, filename, **kwargs)\u001b[39m\n\u001b[32m    208\u001b[39m \u001b[38;5;28;01mdef\u001b[39;00m\u001b[38;5;250m \u001b[39m\u001b[34mcached_file\u001b[39m(\n\u001b[32m    209\u001b[39m     path_or_repo_id: Union[\u001b[38;5;28mstr\u001b[39m, os.PathLike],\n\u001b[32m    210\u001b[39m     filename: \u001b[38;5;28mstr\u001b[39m,\n\u001b[32m    211\u001b[39m     **kwargs,\n\u001b[32m    212\u001b[39m ) -> Optional[\u001b[38;5;28mstr\u001b[39m]:\n\u001b[32m    213\u001b[39m \u001b[38;5;250m    \u001b[39m\u001b[33;03m\"\"\"\u001b[39;00m\n\u001b[32m    214\u001b[39m \u001b[33;03m    Tries to locate a file in a local folder and repo, downloads and cache it if necessary.\u001b[39;00m\n\u001b[32m    215\u001b[39m \n\u001b[32m   (...)\u001b[39m\u001b[32m    264\u001b[39m \u001b[33;03m    ```\u001b[39;00m\n\u001b[32m    265\u001b[39m \u001b[33;03m    \"\"\"\u001b[39;00m\n\u001b[32m--> \u001b[39m\u001b[32m266\u001b[39m     file = \u001b[43mcached_files\u001b[49m\u001b[43m(\u001b[49m\u001b[43mpath_or_repo_id\u001b[49m\u001b[43m=\u001b[49m\u001b[43mpath_or_repo_id\u001b[49m\u001b[43m,\u001b[49m\u001b[43m \u001b[49m\u001b[43mfilenames\u001b[49m\u001b[43m=\u001b[49m\u001b[43m[\u001b[49m\u001b[43mfilename\u001b[49m\u001b[43m]\u001b[49m\u001b[43m,\u001b[49m\u001b[43m \u001b[49m\u001b[43m*\u001b[49m\u001b[43m*\u001b[49m\u001b[43mkwargs\u001b[49m\u001b[43m)\u001b[49m\n\u001b[32m    267\u001b[39m     file = file[\u001b[32m0\u001b[39m] \u001b[38;5;28;01mif\u001b[39;00m file \u001b[38;5;129;01mis\u001b[39;00m \u001b[38;5;129;01mnot\u001b[39;00m \u001b[38;5;28;01mNone\u001b[39;00m \u001b[38;5;28;01melse\u001b[39;00m file\n\u001b[32m    268\u001b[39m     \u001b[38;5;28;01mreturn\u001b[39;00m file\n",
      "\u001b[36mFile \u001b[39m\u001b[32m~/miniconda3/envs/exist2025/lib/python3.12/site-packages/transformers/utils/hub.py:424\u001b[39m, in \u001b[36mcached_files\u001b[39m\u001b[34m(path_or_repo_id, filenames, cache_dir, force_download, resume_download, proxies, token, revision, local_files_only, subfolder, repo_type, user_agent, _raise_exceptions_for_gated_repo, _raise_exceptions_for_missing_entries, _raise_exceptions_for_connection_errors, _commit_hash, **deprecated_kwargs)\u001b[39m\n\u001b[32m    421\u001b[39m \u001b[38;5;28;01mtry\u001b[39;00m:\n\u001b[32m    422\u001b[39m     \u001b[38;5;28;01mif\u001b[39;00m \u001b[38;5;28mlen\u001b[39m(full_filenames) == \u001b[32m1\u001b[39m:\n\u001b[32m    423\u001b[39m         \u001b[38;5;66;03m# This is slightly better for only 1 file\u001b[39;00m\n\u001b[32m--> \u001b[39m\u001b[32m424\u001b[39m         \u001b[43mhf_hub_download\u001b[49m\u001b[43m(\u001b[49m\n\u001b[32m    425\u001b[39m \u001b[43m            \u001b[49m\u001b[43mpath_or_repo_id\u001b[49m\u001b[43m,\u001b[49m\n\u001b[32m    426\u001b[39m \u001b[43m            \u001b[49m\u001b[43mfilenames\u001b[49m\u001b[43m[\u001b[49m\u001b[32;43m0\u001b[39;49m\u001b[43m]\u001b[49m\u001b[43m,\u001b[49m\n\u001b[32m    427\u001b[39m \u001b[43m            \u001b[49m\u001b[43msubfolder\u001b[49m\u001b[43m=\u001b[49m\u001b[38;5;28;43;01mNone\u001b[39;49;00m\u001b[43m \u001b[49m\u001b[38;5;28;43;01mif\u001b[39;49;00m\u001b[43m \u001b[49m\u001b[38;5;28;43mlen\u001b[39;49m\u001b[43m(\u001b[49m\u001b[43msubfolder\u001b[49m\u001b[43m)\u001b[49m\u001b[43m \u001b[49m\u001b[43m==\u001b[49m\u001b[43m \u001b[49m\u001b[32;43m0\u001b[39;49m\u001b[43m \u001b[49m\u001b[38;5;28;43;01melse\u001b[39;49;00m\u001b[43m \u001b[49m\u001b[43msubfolder\u001b[49m\u001b[43m,\u001b[49m\n\u001b[32m    428\u001b[39m \u001b[43m            \u001b[49m\u001b[43mrepo_type\u001b[49m\u001b[43m=\u001b[49m\u001b[43mrepo_type\u001b[49m\u001b[43m,\u001b[49m\n\u001b[32m    429\u001b[39m \u001b[43m            \u001b[49m\u001b[43mrevision\u001b[49m\u001b[43m=\u001b[49m\u001b[43mrevision\u001b[49m\u001b[43m,\u001b[49m\n\u001b[32m    430\u001b[39m \u001b[43m            \u001b[49m\u001b[43mcache_dir\u001b[49m\u001b[43m=\u001b[49m\u001b[43mcache_dir\u001b[49m\u001b[43m,\u001b[49m\n\u001b[32m    431\u001b[39m \u001b[43m            \u001b[49m\u001b[43muser_agent\u001b[49m\u001b[43m=\u001b[49m\u001b[43muser_agent\u001b[49m\u001b[43m,\u001b[49m\n\u001b[32m    432\u001b[39m \u001b[43m            \u001b[49m\u001b[43mforce_download\u001b[49m\u001b[43m=\u001b[49m\u001b[43mforce_download\u001b[49m\u001b[43m,\u001b[49m\n\u001b[32m    433\u001b[39m \u001b[43m            \u001b[49m\u001b[43mproxies\u001b[49m\u001b[43m=\u001b[49m\u001b[43mproxies\u001b[49m\u001b[43m,\u001b[49m\n\u001b[32m    434\u001b[39m \u001b[43m            \u001b[49m\u001b[43mresume_download\u001b[49m\u001b[43m=\u001b[49m\u001b[43mresume_download\u001b[49m\u001b[43m,\u001b[49m\n\u001b[32m    435\u001b[39m \u001b[43m            \u001b[49m\u001b[43mtoken\u001b[49m\u001b[43m=\u001b[49m\u001b[43mtoken\u001b[49m\u001b[43m,\u001b[49m\n\u001b[32m    436\u001b[39m \u001b[43m            \u001b[49m\u001b[43mlocal_files_only\u001b[49m\u001b[43m=\u001b[49m\u001b[43mlocal_files_only\u001b[49m\u001b[43m,\u001b[49m\n\u001b[32m    437\u001b[39m \u001b[43m        \u001b[49m\u001b[43m)\u001b[49m\n\u001b[32m    438\u001b[39m     \u001b[38;5;28;01melse\u001b[39;00m:\n\u001b[32m    439\u001b[39m         snapshot_download(\n\u001b[32m    440\u001b[39m             path_or_repo_id,\n\u001b[32m    441\u001b[39m             allow_patterns=full_filenames,\n\u001b[32m   (...)\u001b[39m\u001b[32m    450\u001b[39m             local_files_only=local_files_only,\n\u001b[32m    451\u001b[39m         )\n",
      "\u001b[36mFile \u001b[39m\u001b[32m~/miniconda3/envs/exist2025/lib/python3.12/site-packages/huggingface_hub/utils/_validators.py:114\u001b[39m, in \u001b[36mvalidate_hf_hub_args.<locals>._inner_fn\u001b[39m\u001b[34m(*args, **kwargs)\u001b[39m\n\u001b[32m    111\u001b[39m \u001b[38;5;28;01mif\u001b[39;00m check_use_auth_token:\n\u001b[32m    112\u001b[39m     kwargs = smoothly_deprecate_use_auth_token(fn_name=fn.\u001b[34m__name__\u001b[39m, has_token=has_token, kwargs=kwargs)\n\u001b[32m--> \u001b[39m\u001b[32m114\u001b[39m \u001b[38;5;28;01mreturn\u001b[39;00m \u001b[43mfn\u001b[49m\u001b[43m(\u001b[49m\u001b[43m*\u001b[49m\u001b[43margs\u001b[49m\u001b[43m,\u001b[49m\u001b[43m \u001b[49m\u001b[43m*\u001b[49m\u001b[43m*\u001b[49m\u001b[43mkwargs\u001b[49m\u001b[43m)\u001b[49m\n",
      "\u001b[36mFile \u001b[39m\u001b[32m~/miniconda3/envs/exist2025/lib/python3.12/site-packages/huggingface_hub/file_download.py:1008\u001b[39m, in \u001b[36mhf_hub_download\u001b[39m\u001b[34m(repo_id, filename, subfolder, repo_type, revision, library_name, library_version, cache_dir, local_dir, user_agent, force_download, proxies, etag_timeout, token, local_files_only, headers, endpoint, resume_download, force_filename, local_dir_use_symlinks)\u001b[39m\n\u001b[32m    988\u001b[39m     \u001b[38;5;28;01mreturn\u001b[39;00m _hf_hub_download_to_local_dir(\n\u001b[32m    989\u001b[39m         \u001b[38;5;66;03m# Destination\u001b[39;00m\n\u001b[32m    990\u001b[39m         local_dir=local_dir,\n\u001b[32m   (...)\u001b[39m\u001b[32m   1005\u001b[39m         local_files_only=local_files_only,\n\u001b[32m   1006\u001b[39m     )\n\u001b[32m   1007\u001b[39m \u001b[38;5;28;01melse\u001b[39;00m:\n\u001b[32m-> \u001b[39m\u001b[32m1008\u001b[39m     \u001b[38;5;28;01mreturn\u001b[39;00m \u001b[43m_hf_hub_download_to_cache_dir\u001b[49m\u001b[43m(\u001b[49m\n\u001b[32m   1009\u001b[39m \u001b[43m        \u001b[49m\u001b[38;5;66;43;03m# Destination\u001b[39;49;00m\n\u001b[32m   1010\u001b[39m \u001b[43m        \u001b[49m\u001b[43mcache_dir\u001b[49m\u001b[43m=\u001b[49m\u001b[43mcache_dir\u001b[49m\u001b[43m,\u001b[49m\n\u001b[32m   1011\u001b[39m \u001b[43m        \u001b[49m\u001b[38;5;66;43;03m# File info\u001b[39;49;00m\n\u001b[32m   1012\u001b[39m \u001b[43m        \u001b[49m\u001b[43mrepo_id\u001b[49m\u001b[43m=\u001b[49m\u001b[43mrepo_id\u001b[49m\u001b[43m,\u001b[49m\n\u001b[32m   1013\u001b[39m \u001b[43m        \u001b[49m\u001b[43mfilename\u001b[49m\u001b[43m=\u001b[49m\u001b[43mfilename\u001b[49m\u001b[43m,\u001b[49m\n\u001b[32m   1014\u001b[39m \u001b[43m        \u001b[49m\u001b[43mrepo_type\u001b[49m\u001b[43m=\u001b[49m\u001b[43mrepo_type\u001b[49m\u001b[43m,\u001b[49m\n\u001b[32m   1015\u001b[39m \u001b[43m        \u001b[49m\u001b[43mrevision\u001b[49m\u001b[43m=\u001b[49m\u001b[43mrevision\u001b[49m\u001b[43m,\u001b[49m\n\u001b[32m   1016\u001b[39m \u001b[43m        \u001b[49m\u001b[38;5;66;43;03m# HTTP info\u001b[39;49;00m\n\u001b[32m   1017\u001b[39m \u001b[43m        \u001b[49m\u001b[43mendpoint\u001b[49m\u001b[43m=\u001b[49m\u001b[43mendpoint\u001b[49m\u001b[43m,\u001b[49m\n\u001b[32m   1018\u001b[39m \u001b[43m        \u001b[49m\u001b[43metag_timeout\u001b[49m\u001b[43m=\u001b[49m\u001b[43metag_timeout\u001b[49m\u001b[43m,\u001b[49m\n\u001b[32m   1019\u001b[39m \u001b[43m        \u001b[49m\u001b[43mheaders\u001b[49m\u001b[43m=\u001b[49m\u001b[43mhf_headers\u001b[49m\u001b[43m,\u001b[49m\n\u001b[32m   1020\u001b[39m \u001b[43m        \u001b[49m\u001b[43mproxies\u001b[49m\u001b[43m=\u001b[49m\u001b[43mproxies\u001b[49m\u001b[43m,\u001b[49m\n\u001b[32m   1021\u001b[39m \u001b[43m        \u001b[49m\u001b[43mtoken\u001b[49m\u001b[43m=\u001b[49m\u001b[43mtoken\u001b[49m\u001b[43m,\u001b[49m\n\u001b[32m   1022\u001b[39m \u001b[43m        \u001b[49m\u001b[38;5;66;43;03m# Additional options\u001b[39;49;00m\n\u001b[32m   1023\u001b[39m \u001b[43m        \u001b[49m\u001b[43mlocal_files_only\u001b[49m\u001b[43m=\u001b[49m\u001b[43mlocal_files_only\u001b[49m\u001b[43m,\u001b[49m\n\u001b[32m   1024\u001b[39m \u001b[43m        \u001b[49m\u001b[43mforce_download\u001b[49m\u001b[43m=\u001b[49m\u001b[43mforce_download\u001b[49m\u001b[43m,\u001b[49m\n\u001b[32m   1025\u001b[39m \u001b[43m    \u001b[49m\u001b[43m)\u001b[49m\n",
      "\u001b[36mFile \u001b[39m\u001b[32m~/miniconda3/envs/exist2025/lib/python3.12/site-packages/huggingface_hub/file_download.py:1159\u001b[39m, in \u001b[36m_hf_hub_download_to_cache_dir\u001b[39m\u001b[34m(cache_dir, repo_id, filename, repo_type, revision, endpoint, etag_timeout, headers, proxies, token, local_files_only, force_download)\u001b[39m\n\u001b[32m   1157\u001b[39m Path(lock_path).parent.mkdir(parents=\u001b[38;5;28;01mTrue\u001b[39;00m, exist_ok=\u001b[38;5;28;01mTrue\u001b[39;00m)\n\u001b[32m   1158\u001b[39m \u001b[38;5;28;01mwith\u001b[39;00m WeakFileLock(lock_path):\n\u001b[32m-> \u001b[39m\u001b[32m1159\u001b[39m     \u001b[43m_download_to_tmp_and_move\u001b[49m\u001b[43m(\u001b[49m\n\u001b[32m   1160\u001b[39m \u001b[43m        \u001b[49m\u001b[43mincomplete_path\u001b[49m\u001b[43m=\u001b[49m\u001b[43mPath\u001b[49m\u001b[43m(\u001b[49m\u001b[43mblob_path\u001b[49m\u001b[43m \u001b[49m\u001b[43m+\u001b[49m\u001b[43m \u001b[49m\u001b[33;43m\"\u001b[39;49m\u001b[33;43m.incomplete\u001b[39;49m\u001b[33;43m\"\u001b[39;49m\u001b[43m)\u001b[49m\u001b[43m,\u001b[49m\n\u001b[32m   1161\u001b[39m \u001b[43m        \u001b[49m\u001b[43mdestination_path\u001b[49m\u001b[43m=\u001b[49m\u001b[43mPath\u001b[49m\u001b[43m(\u001b[49m\u001b[43mblob_path\u001b[49m\u001b[43m)\u001b[49m\u001b[43m,\u001b[49m\n\u001b[32m   1162\u001b[39m \u001b[43m        \u001b[49m\u001b[43murl_to_download\u001b[49m\u001b[43m=\u001b[49m\u001b[43murl_to_download\u001b[49m\u001b[43m,\u001b[49m\n\u001b[32m   1163\u001b[39m \u001b[43m        \u001b[49m\u001b[43mproxies\u001b[49m\u001b[43m=\u001b[49m\u001b[43mproxies\u001b[49m\u001b[43m,\u001b[49m\n\u001b[32m   1164\u001b[39m \u001b[43m        \u001b[49m\u001b[43mheaders\u001b[49m\u001b[43m=\u001b[49m\u001b[43mheaders\u001b[49m\u001b[43m,\u001b[49m\n\u001b[32m   1165\u001b[39m \u001b[43m        \u001b[49m\u001b[43mexpected_size\u001b[49m\u001b[43m=\u001b[49m\u001b[43mexpected_size\u001b[49m\u001b[43m,\u001b[49m\n\u001b[32m   1166\u001b[39m \u001b[43m        \u001b[49m\u001b[43mfilename\u001b[49m\u001b[43m=\u001b[49m\u001b[43mfilename\u001b[49m\u001b[43m,\u001b[49m\n\u001b[32m   1167\u001b[39m \u001b[43m        \u001b[49m\u001b[43mforce_download\u001b[49m\u001b[43m=\u001b[49m\u001b[43mforce_download\u001b[49m\u001b[43m,\u001b[49m\n\u001b[32m   1168\u001b[39m \u001b[43m        \u001b[49m\u001b[43metag\u001b[49m\u001b[43m=\u001b[49m\u001b[43metag\u001b[49m\u001b[43m,\u001b[49m\n\u001b[32m   1169\u001b[39m \u001b[43m        \u001b[49m\u001b[43mxet_file_data\u001b[49m\u001b[43m=\u001b[49m\u001b[43mxet_file_data\u001b[49m\u001b[43m,\u001b[49m\n\u001b[32m   1170\u001b[39m \u001b[43m    \u001b[49m\u001b[43m)\u001b[49m\n\u001b[32m   1171\u001b[39m     \u001b[38;5;28;01mif\u001b[39;00m \u001b[38;5;129;01mnot\u001b[39;00m os.path.exists(pointer_path):\n\u001b[32m   1172\u001b[39m         _create_symlink(blob_path, pointer_path, new_blob=\u001b[38;5;28;01mTrue\u001b[39;00m)\n",
      "\u001b[36mFile \u001b[39m\u001b[32m~/miniconda3/envs/exist2025/lib/python3.12/site-packages/huggingface_hub/file_download.py:1723\u001b[39m, in \u001b[36m_download_to_tmp_and_move\u001b[39m\u001b[34m(incomplete_path, destination_path, url_to_download, proxies, headers, expected_size, filename, force_download, etag, xet_file_data)\u001b[39m\n\u001b[32m   1716\u001b[39m         \u001b[38;5;28;01mif\u001b[39;00m xet_file_data \u001b[38;5;129;01mis\u001b[39;00m \u001b[38;5;129;01mnot\u001b[39;00m \u001b[38;5;28;01mNone\u001b[39;00m:\n\u001b[32m   1717\u001b[39m             logger.warning(\n\u001b[32m   1718\u001b[39m                 \u001b[33m\"\u001b[39m\u001b[33mXet Storage is enabled for this repo, but the \u001b[39m\u001b[33m'\u001b[39m\u001b[33mhf_xet\u001b[39m\u001b[33m'\u001b[39m\u001b[33m package is not installed. \u001b[39m\u001b[33m\"\u001b[39m\n\u001b[32m   1719\u001b[39m                 \u001b[33m\"\u001b[39m\u001b[33mFalling back to regular HTTP download. \u001b[39m\u001b[33m\"\u001b[39m\n\u001b[32m   1720\u001b[39m                 \u001b[33m\"\u001b[39m\u001b[33mFor better performance, install the package with: `pip install huggingface_hub[hf_xet]` or `pip install hf_xet`\u001b[39m\u001b[33m\"\u001b[39m\n\u001b[32m   1721\u001b[39m             )\n\u001b[32m-> \u001b[39m\u001b[32m1723\u001b[39m         \u001b[43mhttp_get\u001b[49m\u001b[43m(\u001b[49m\n\u001b[32m   1724\u001b[39m \u001b[43m            \u001b[49m\u001b[43murl_to_download\u001b[49m\u001b[43m,\u001b[49m\n\u001b[32m   1725\u001b[39m \u001b[43m            \u001b[49m\u001b[43mf\u001b[49m\u001b[43m,\u001b[49m\n\u001b[32m   1726\u001b[39m \u001b[43m            \u001b[49m\u001b[43mproxies\u001b[49m\u001b[43m=\u001b[49m\u001b[43mproxies\u001b[49m\u001b[43m,\u001b[49m\n\u001b[32m   1727\u001b[39m \u001b[43m            \u001b[49m\u001b[43mresume_size\u001b[49m\u001b[43m=\u001b[49m\u001b[43mresume_size\u001b[49m\u001b[43m,\u001b[49m\n\u001b[32m   1728\u001b[39m \u001b[43m            \u001b[49m\u001b[43mheaders\u001b[49m\u001b[43m=\u001b[49m\u001b[43mheaders\u001b[49m\u001b[43m,\u001b[49m\n\u001b[32m   1729\u001b[39m \u001b[43m            \u001b[49m\u001b[43mexpected_size\u001b[49m\u001b[43m=\u001b[49m\u001b[43mexpected_size\u001b[49m\u001b[43m,\u001b[49m\n\u001b[32m   1730\u001b[39m \u001b[43m        \u001b[49m\u001b[43m)\u001b[49m\n\u001b[32m   1732\u001b[39m logger.info(\u001b[33mf\u001b[39m\u001b[33m\"\u001b[39m\u001b[33mDownload complete. Moving file to \u001b[39m\u001b[38;5;132;01m{\u001b[39;00mdestination_path\u001b[38;5;132;01m}\u001b[39;00m\u001b[33m\"\u001b[39m)\n\u001b[32m   1733\u001b[39m _chmod_and_move(incomplete_path, destination_path)\n",
      "\u001b[36mFile \u001b[39m\u001b[32m~/miniconda3/envs/exist2025/lib/python3.12/site-packages/huggingface_hub/file_download.py:494\u001b[39m, in \u001b[36mhttp_get\u001b[39m\u001b[34m(url, temp_file, proxies, resume_size, headers, expected_size, displayed_filename, _nb_retries, _tqdm_bar)\u001b[39m\n\u001b[32m    492\u001b[39m new_resume_size = resume_size\n\u001b[32m    493\u001b[39m \u001b[38;5;28;01mtry\u001b[39;00m:\n\u001b[32m--> \u001b[39m\u001b[32m494\u001b[39m \u001b[43m    \u001b[49m\u001b[38;5;28;43;01mfor\u001b[39;49;00m\u001b[43m \u001b[49m\u001b[43mchunk\u001b[49m\u001b[43m \u001b[49m\u001b[38;5;129;43;01min\u001b[39;49;00m\u001b[43m \u001b[49m\u001b[43mr\u001b[49m\u001b[43m.\u001b[49m\u001b[43miter_content\u001b[49m\u001b[43m(\u001b[49m\u001b[43mchunk_size\u001b[49m\u001b[43m=\u001b[49m\u001b[43mconstants\u001b[49m\u001b[43m.\u001b[49m\u001b[43mDOWNLOAD_CHUNK_SIZE\u001b[49m\u001b[43m)\u001b[49m\u001b[43m:\u001b[49m\n\u001b[32m    495\u001b[39m \u001b[43m        \u001b[49m\u001b[38;5;28;43;01mif\u001b[39;49;00m\u001b[43m \u001b[49m\u001b[43mchunk\u001b[49m\u001b[43m:\u001b[49m\u001b[43m  \u001b[49m\u001b[38;5;66;43;03m# filter out keep-alive new chunks\u001b[39;49;00m\n\u001b[32m    496\u001b[39m \u001b[43m            \u001b[49m\u001b[43mprogress\u001b[49m\u001b[43m.\u001b[49m\u001b[43mupdate\u001b[49m\u001b[43m(\u001b[49m\u001b[38;5;28;43mlen\u001b[39;49m\u001b[43m(\u001b[49m\u001b[43mchunk\u001b[49m\u001b[43m)\u001b[49m\u001b[43m)\u001b[49m\n",
      "\u001b[36mFile \u001b[39m\u001b[32m~/miniconda3/envs/exist2025/lib/python3.12/site-packages/requests/models.py:820\u001b[39m, in \u001b[36mResponse.iter_content.<locals>.generate\u001b[39m\u001b[34m()\u001b[39m\n\u001b[32m    818\u001b[39m \u001b[38;5;28;01mif\u001b[39;00m \u001b[38;5;28mhasattr\u001b[39m(\u001b[38;5;28mself\u001b[39m.raw, \u001b[33m\"\u001b[39m\u001b[33mstream\u001b[39m\u001b[33m\"\u001b[39m):\n\u001b[32m    819\u001b[39m     \u001b[38;5;28;01mtry\u001b[39;00m:\n\u001b[32m--> \u001b[39m\u001b[32m820\u001b[39m         \u001b[38;5;28;01myield from\u001b[39;00m \u001b[38;5;28mself\u001b[39m.raw.stream(chunk_size, decode_content=\u001b[38;5;28;01mTrue\u001b[39;00m)\n\u001b[32m    821\u001b[39m     \u001b[38;5;28;01mexcept\u001b[39;00m ProtocolError \u001b[38;5;28;01mas\u001b[39;00m e:\n\u001b[32m    822\u001b[39m         \u001b[38;5;28;01mraise\u001b[39;00m ChunkedEncodingError(e)\n",
      "\u001b[36mFile \u001b[39m\u001b[32m~/miniconda3/envs/exist2025/lib/python3.12/site-packages/urllib3/response.py:1066\u001b[39m, in \u001b[36mHTTPResponse.stream\u001b[39m\u001b[34m(self, amt, decode_content)\u001b[39m\n\u001b[32m   1064\u001b[39m \u001b[38;5;28;01melse\u001b[39;00m:\n\u001b[32m   1065\u001b[39m     \u001b[38;5;28;01mwhile\u001b[39;00m \u001b[38;5;129;01mnot\u001b[39;00m is_fp_closed(\u001b[38;5;28mself\u001b[39m._fp) \u001b[38;5;129;01mor\u001b[39;00m \u001b[38;5;28mlen\u001b[39m(\u001b[38;5;28mself\u001b[39m._decoded_buffer) > \u001b[32m0\u001b[39m:\n\u001b[32m-> \u001b[39m\u001b[32m1066\u001b[39m         data = \u001b[38;5;28;43mself\u001b[39;49m\u001b[43m.\u001b[49m\u001b[43mread\u001b[49m\u001b[43m(\u001b[49m\u001b[43mamt\u001b[49m\u001b[43m=\u001b[49m\u001b[43mamt\u001b[49m\u001b[43m,\u001b[49m\u001b[43m \u001b[49m\u001b[43mdecode_content\u001b[49m\u001b[43m=\u001b[49m\u001b[43mdecode_content\u001b[49m\u001b[43m)\u001b[49m\n\u001b[32m   1068\u001b[39m         \u001b[38;5;28;01mif\u001b[39;00m data:\n\u001b[32m   1069\u001b[39m             \u001b[38;5;28;01myield\u001b[39;00m data\n",
      "\u001b[36mFile \u001b[39m\u001b[32m~/miniconda3/envs/exist2025/lib/python3.12/site-packages/urllib3/response.py:955\u001b[39m, in \u001b[36mHTTPResponse.read\u001b[39m\u001b[34m(self, amt, decode_content, cache_content)\u001b[39m\n\u001b[32m    952\u001b[39m     \u001b[38;5;28;01mif\u001b[39;00m \u001b[38;5;28mlen\u001b[39m(\u001b[38;5;28mself\u001b[39m._decoded_buffer) >= amt:\n\u001b[32m    953\u001b[39m         \u001b[38;5;28;01mreturn\u001b[39;00m \u001b[38;5;28mself\u001b[39m._decoded_buffer.get(amt)\n\u001b[32m--> \u001b[39m\u001b[32m955\u001b[39m data = \u001b[38;5;28;43mself\u001b[39;49m\u001b[43m.\u001b[49m\u001b[43m_raw_read\u001b[49m\u001b[43m(\u001b[49m\u001b[43mamt\u001b[49m\u001b[43m)\u001b[49m\n\u001b[32m    957\u001b[39m flush_decoder = amt \u001b[38;5;129;01mis\u001b[39;00m \u001b[38;5;28;01mNone\u001b[39;00m \u001b[38;5;129;01mor\u001b[39;00m (amt != \u001b[32m0\u001b[39m \u001b[38;5;129;01mand\u001b[39;00m \u001b[38;5;129;01mnot\u001b[39;00m data)\n\u001b[32m    959\u001b[39m \u001b[38;5;28;01mif\u001b[39;00m \u001b[38;5;129;01mnot\u001b[39;00m data \u001b[38;5;129;01mand\u001b[39;00m \u001b[38;5;28mlen\u001b[39m(\u001b[38;5;28mself\u001b[39m._decoded_buffer) == \u001b[32m0\u001b[39m:\n",
      "\u001b[36mFile \u001b[39m\u001b[32m~/miniconda3/envs/exist2025/lib/python3.12/site-packages/urllib3/response.py:879\u001b[39m, in \u001b[36mHTTPResponse._raw_read\u001b[39m\u001b[34m(self, amt, read1)\u001b[39m\n\u001b[32m    876\u001b[39m fp_closed = \u001b[38;5;28mgetattr\u001b[39m(\u001b[38;5;28mself\u001b[39m._fp, \u001b[33m\"\u001b[39m\u001b[33mclosed\u001b[39m\u001b[33m\"\u001b[39m, \u001b[38;5;28;01mFalse\u001b[39;00m)\n\u001b[32m    878\u001b[39m \u001b[38;5;28;01mwith\u001b[39;00m \u001b[38;5;28mself\u001b[39m._error_catcher():\n\u001b[32m--> \u001b[39m\u001b[32m879\u001b[39m     data = \u001b[38;5;28;43mself\u001b[39;49m\u001b[43m.\u001b[49m\u001b[43m_fp_read\u001b[49m\u001b[43m(\u001b[49m\u001b[43mamt\u001b[49m\u001b[43m,\u001b[49m\u001b[43m \u001b[49m\u001b[43mread1\u001b[49m\u001b[43m=\u001b[49m\u001b[43mread1\u001b[49m\u001b[43m)\u001b[49m \u001b[38;5;28;01mif\u001b[39;00m \u001b[38;5;129;01mnot\u001b[39;00m fp_closed \u001b[38;5;28;01melse\u001b[39;00m \u001b[33mb\u001b[39m\u001b[33m\"\u001b[39m\u001b[33m\"\u001b[39m\n\u001b[32m    880\u001b[39m     \u001b[38;5;28;01mif\u001b[39;00m amt \u001b[38;5;129;01mis\u001b[39;00m \u001b[38;5;129;01mnot\u001b[39;00m \u001b[38;5;28;01mNone\u001b[39;00m \u001b[38;5;129;01mand\u001b[39;00m amt != \u001b[32m0\u001b[39m \u001b[38;5;129;01mand\u001b[39;00m \u001b[38;5;129;01mnot\u001b[39;00m data:\n\u001b[32m    881\u001b[39m         \u001b[38;5;66;03m# Platform-specific: Buggy versions of Python.\u001b[39;00m\n\u001b[32m    882\u001b[39m         \u001b[38;5;66;03m# Close the connection when no data is returned\u001b[39;00m\n\u001b[32m   (...)\u001b[39m\u001b[32m    887\u001b[39m         \u001b[38;5;66;03m# not properly close the connection in all cases. There is\u001b[39;00m\n\u001b[32m    888\u001b[39m         \u001b[38;5;66;03m# no harm in redundantly calling close.\u001b[39;00m\n\u001b[32m    889\u001b[39m         \u001b[38;5;28mself\u001b[39m._fp.close()\n",
      "\u001b[36mFile \u001b[39m\u001b[32m~/miniconda3/envs/exist2025/lib/python3.12/site-packages/urllib3/response.py:862\u001b[39m, in \u001b[36mHTTPResponse._fp_read\u001b[39m\u001b[34m(self, amt, read1)\u001b[39m\n\u001b[32m    859\u001b[39m     \u001b[38;5;28;01mreturn\u001b[39;00m \u001b[38;5;28mself\u001b[39m._fp.read1(amt) \u001b[38;5;28;01mif\u001b[39;00m amt \u001b[38;5;129;01mis\u001b[39;00m \u001b[38;5;129;01mnot\u001b[39;00m \u001b[38;5;28;01mNone\u001b[39;00m \u001b[38;5;28;01melse\u001b[39;00m \u001b[38;5;28mself\u001b[39m._fp.read1()\n\u001b[32m    860\u001b[39m \u001b[38;5;28;01melse\u001b[39;00m:\n\u001b[32m    861\u001b[39m     \u001b[38;5;66;03m# StringIO doesn't like amt=None\u001b[39;00m\n\u001b[32m--> \u001b[39m\u001b[32m862\u001b[39m     \u001b[38;5;28;01mreturn\u001b[39;00m \u001b[38;5;28;43mself\u001b[39;49m\u001b[43m.\u001b[49m\u001b[43m_fp\u001b[49m\u001b[43m.\u001b[49m\u001b[43mread\u001b[49m\u001b[43m(\u001b[49m\u001b[43mamt\u001b[49m\u001b[43m)\u001b[49m \u001b[38;5;28;01mif\u001b[39;00m amt \u001b[38;5;129;01mis\u001b[39;00m \u001b[38;5;129;01mnot\u001b[39;00m \u001b[38;5;28;01mNone\u001b[39;00m \u001b[38;5;28;01melse\u001b[39;00m \u001b[38;5;28mself\u001b[39m._fp.read()\n",
      "\u001b[36mFile \u001b[39m\u001b[32m~/miniconda3/envs/exist2025/lib/python3.12/http/client.py:479\u001b[39m, in \u001b[36mHTTPResponse.read\u001b[39m\u001b[34m(self, amt)\u001b[39m\n\u001b[32m    476\u001b[39m \u001b[38;5;28;01mif\u001b[39;00m \u001b[38;5;28mself\u001b[39m.length \u001b[38;5;129;01mis\u001b[39;00m \u001b[38;5;129;01mnot\u001b[39;00m \u001b[38;5;28;01mNone\u001b[39;00m \u001b[38;5;129;01mand\u001b[39;00m amt > \u001b[38;5;28mself\u001b[39m.length:\n\u001b[32m    477\u001b[39m     \u001b[38;5;66;03m# clip the read to the \"end of response\"\u001b[39;00m\n\u001b[32m    478\u001b[39m     amt = \u001b[38;5;28mself\u001b[39m.length\n\u001b[32m--> \u001b[39m\u001b[32m479\u001b[39m s = \u001b[38;5;28;43mself\u001b[39;49m\u001b[43m.\u001b[49m\u001b[43mfp\u001b[49m\u001b[43m.\u001b[49m\u001b[43mread\u001b[49m\u001b[43m(\u001b[49m\u001b[43mamt\u001b[49m\u001b[43m)\u001b[49m\n\u001b[32m    480\u001b[39m \u001b[38;5;28;01mif\u001b[39;00m \u001b[38;5;129;01mnot\u001b[39;00m s \u001b[38;5;129;01mand\u001b[39;00m amt:\n\u001b[32m    481\u001b[39m     \u001b[38;5;66;03m# Ideally, we would raise IncompleteRead if the content-length\u001b[39;00m\n\u001b[32m    482\u001b[39m     \u001b[38;5;66;03m# wasn't satisfied, but it might break compatibility.\u001b[39;00m\n\u001b[32m    483\u001b[39m     \u001b[38;5;28mself\u001b[39m._close_conn()\n",
      "\u001b[36mFile \u001b[39m\u001b[32m~/miniconda3/envs/exist2025/lib/python3.12/socket.py:720\u001b[39m, in \u001b[36mSocketIO.readinto\u001b[39m\u001b[34m(self, b)\u001b[39m\n\u001b[32m    718\u001b[39m \u001b[38;5;28;01mwhile\u001b[39;00m \u001b[38;5;28;01mTrue\u001b[39;00m:\n\u001b[32m    719\u001b[39m     \u001b[38;5;28;01mtry\u001b[39;00m:\n\u001b[32m--> \u001b[39m\u001b[32m720\u001b[39m         \u001b[38;5;28;01mreturn\u001b[39;00m \u001b[38;5;28;43mself\u001b[39;49m\u001b[43m.\u001b[49m\u001b[43m_sock\u001b[49m\u001b[43m.\u001b[49m\u001b[43mrecv_into\u001b[49m\u001b[43m(\u001b[49m\u001b[43mb\u001b[49m\u001b[43m)\u001b[49m\n\u001b[32m    721\u001b[39m     \u001b[38;5;28;01mexcept\u001b[39;00m timeout:\n\u001b[32m    722\u001b[39m         \u001b[38;5;28mself\u001b[39m._timeout_occurred = \u001b[38;5;28;01mTrue\u001b[39;00m\n",
      "\u001b[36mFile \u001b[39m\u001b[32m~/miniconda3/envs/exist2025/lib/python3.12/ssl.py:1251\u001b[39m, in \u001b[36mSSLSocket.recv_into\u001b[39m\u001b[34m(self, buffer, nbytes, flags)\u001b[39m\n\u001b[32m   1247\u001b[39m     \u001b[38;5;28;01mif\u001b[39;00m flags != \u001b[32m0\u001b[39m:\n\u001b[32m   1248\u001b[39m         \u001b[38;5;28;01mraise\u001b[39;00m \u001b[38;5;167;01mValueError\u001b[39;00m(\n\u001b[32m   1249\u001b[39m           \u001b[33m\"\u001b[39m\u001b[33mnon-zero flags not allowed in calls to recv_into() on \u001b[39m\u001b[38;5;132;01m%s\u001b[39;00m\u001b[33m\"\u001b[39m %\n\u001b[32m   1250\u001b[39m           \u001b[38;5;28mself\u001b[39m.\u001b[34m__class__\u001b[39m)\n\u001b[32m-> \u001b[39m\u001b[32m1251\u001b[39m     \u001b[38;5;28;01mreturn\u001b[39;00m \u001b[38;5;28;43mself\u001b[39;49m\u001b[43m.\u001b[49m\u001b[43mread\u001b[49m\u001b[43m(\u001b[49m\u001b[43mnbytes\u001b[49m\u001b[43m,\u001b[49m\u001b[43m \u001b[49m\u001b[43mbuffer\u001b[49m\u001b[43m)\u001b[49m\n\u001b[32m   1252\u001b[39m \u001b[38;5;28;01melse\u001b[39;00m:\n\u001b[32m   1253\u001b[39m     \u001b[38;5;28;01mreturn\u001b[39;00m \u001b[38;5;28msuper\u001b[39m().recv_into(buffer, nbytes, flags)\n",
      "\u001b[36mFile \u001b[39m\u001b[32m~/miniconda3/envs/exist2025/lib/python3.12/ssl.py:1103\u001b[39m, in \u001b[36mSSLSocket.read\u001b[39m\u001b[34m(self, len, buffer)\u001b[39m\n\u001b[32m   1101\u001b[39m \u001b[38;5;28;01mtry\u001b[39;00m:\n\u001b[32m   1102\u001b[39m     \u001b[38;5;28;01mif\u001b[39;00m buffer \u001b[38;5;129;01mis\u001b[39;00m \u001b[38;5;129;01mnot\u001b[39;00m \u001b[38;5;28;01mNone\u001b[39;00m:\n\u001b[32m-> \u001b[39m\u001b[32m1103\u001b[39m         \u001b[38;5;28;01mreturn\u001b[39;00m \u001b[38;5;28;43mself\u001b[39;49m\u001b[43m.\u001b[49m\u001b[43m_sslobj\u001b[49m\u001b[43m.\u001b[49m\u001b[43mread\u001b[49m\u001b[43m(\u001b[49m\u001b[38;5;28;43mlen\u001b[39;49m\u001b[43m,\u001b[49m\u001b[43m \u001b[49m\u001b[43mbuffer\u001b[49m\u001b[43m)\u001b[49m\n\u001b[32m   1104\u001b[39m     \u001b[38;5;28;01melse\u001b[39;00m:\n\u001b[32m   1105\u001b[39m         \u001b[38;5;28;01mreturn\u001b[39;00m \u001b[38;5;28mself\u001b[39m._sslobj.read(\u001b[38;5;28mlen\u001b[39m)\n",
      "\u001b[31mKeyboardInterrupt\u001b[39m: "
     ]
    }
   ],
   "source": [
    "import optuna\n",
    "from optuna.trial import TrialState\n",
    "\n",
    "def objective(trial):\n",
    "    # Suggest hyperparameters\n",
    "    learning_rate = trial.suggest_float('learning_rate', 1e-5, 5e-5, log=True)\n",
    "    batch_size = trial.suggest_categorical('batch_size', [16, 32])\n",
    "    epochs = trial.suggest_int('epochs', 2, 5)\n",
    "    weight_decay = trial.suggest_float('weight_decay', 0.0, 0.3)\n",
    "\n",
    "    # Load tokenizer and model\n",
    "    tokenizer, model = load_model_and_tokenizer('deberta-v3', num_labels=2)\n",
    "    model.to(device)\n",
    "\n",
    "    # Prepare data loaders\n",
    "    train_loader = get_loader(train_df, tokenizer, batch_size=batch_size, shuffle=True)\n",
    "    val_loader = get_loader(val_df, tokenizer, batch_size=batch_size)\n",
    "\n",
    "    # Define optimizer\n",
    "    optimizer = torch.optim.AdamW(model.parameters(), lr=learning_rate, weight_decay=weight_decay)\n",
    "\n",
    "    # Training loop\n",
    "    for epoch in range(epochs):\n",
    "        model.train()\n",
    "        for batch in train_loader:\n",
    "            # Training steps\n",
    "            pass  # Implement training steps\n",
    "\n",
    "        # Validation loop\n",
    "        model.eval()\n",
    "        val_accuracy = 0\n",
    "        for batch in val_loader:\n",
    "            # Validation steps\n",
    "            pass  # Implement validation steps\n",
    "\n",
    "    return val_accuracy  # Return the validation accuracy for the current trial\n",
    "\n",
    "# Create study and optimize\n",
    "study = optuna.create_study(direction='maximize')\n",
    "study.optimize(objective, n_trials=10)\n",
    "\n",
    "print('Best trial:')\n",
    "trial = study.best_trial\n",
    "print(f'  Value: {trial.value}')\n",
    "print('  Params: ')\n",
    "for key, value in trial.params.items():\n",
    "    print(f'    {key}: {value}')\n"
   ]
  },
  {
   "cell_type": "code",
   "execution_count": 11,
   "id": "9bacd6da",
   "metadata": {},
   "outputs": [],
   "source": [
    "# run_kfold(df, disagreement_df, k=5, device='mps')"
   ]
  },
  {
   "cell_type": "markdown",
   "id": "290b9c9b",
   "metadata": {},
   "source": [
    "### Keep test as disagreement one ONLY"
   ]
  },
  {
   "cell_type": "code",
   "execution_count": 8,
   "id": "ab3e170b",
   "metadata": {},
   "outputs": [
    {
     "name": "stdout",
     "output_type": "stream",
     "text": [
      "Shape of test_df after filtering: (338, 15)\n",
      "Shape of test_df after keeping 20%: (169, 15)\n",
      "Shape of df_train_valid: (605, 15)\n",
      "Shape of train_df: (423, 15)\n",
      "Shape of valid_df: (182, 15)\n",
      "\n",
      "Test set sample:\n",
      "\n",
      "Train set sample:\n",
      "\n",
      "Validation set sample:\n",
      "\n",
      "Final shapes:\n",
      "Original df shape: (774, 15)\n",
      "Test df shape: (169, 15)\n",
      "Train df shape: (423, 15)\n",
      "Valid df shape: (182, 15)\n",
      "\n",
      "Proportions:\n",
      "Test set: 21.83%\n",
      "Train set: 54.65%\n",
      "Validation set: 23.51%\n"
     ]
    }
   ],
   "source": [
    "# Convert id_EXIST to same type in both dataframes\n",
    "df['id_EXIST'] = df['id_EXIST'].astype(int)\n",
    "disagreement_df['id_EXIST'] = disagreement_df['id_EXIST'].astype(int)\n",
    "\n",
    "# Filter test_df to only include rows where id_EXIST is in disagreement_df\n",
    "test_df = df[df['id_EXIST'].isin(disagreement_df['id_EXIST'])]\n",
    "print(\"Shape of test_df after filtering:\", test_df.shape)\n",
    "\n",
    "# Keep only 20% of test_df and add remaining 80% to df_train_valid\n",
    "test_df, remaining_test = train_test_split(test_df, test_size=0.5, random_state=1)\n",
    "print(\"Shape of test_df after keeping 20%:\", test_df.shape)\n",
    "\n",
    "# Keep the rest as df_train_valid and add the remaining test samples\n",
    "df_train_valid = df[~df['id_EXIST'].isin(disagreement_df['id_EXIST'])]\n",
    "df_train_valid = pd.concat([df_train_valid, remaining_test])\n",
    "print(\"Shape of df_train_valid:\", df_train_valid.shape)\n",
    "\n",
    "# Split df_train_valid into train and validation sets\n",
    "from sklearn.model_selection import train_test_split\n",
    "train_df, valid_df = train_test_split(df_train_valid, test_size=0.3, random_state=1)\n",
    "print(\"Shape of train_df:\", train_df.shape)\n",
    "print(\"Shape of valid_df:\", valid_df.shape)\n",
    "\n",
    "# Display first few rows of each split\n",
    "print(\"\\nTest set sample:\")\n",
    "test_df.head()\n",
    "print(\"\\nTrain set sample:\")\n",
    "train_df.head()\n",
    "print(\"\\nValidation set sample:\")\n",
    "valid_df.head()\n",
    "\n",
    "# Print final shapes\n",
    "print(\"\\nFinal shapes:\")\n",
    "print(f\"Original df shape: {df.shape}\")\n",
    "print(f\"Test df shape: {test_df.shape}\")\n",
    "print(f\"Train df shape: {train_df.shape}\")\n",
    "print(f\"Valid df shape: {valid_df.shape}\")\n",
    "\n",
    "# Calculate and print proportions\n",
    "total_samples = len(df)\n",
    "print(\"\\nProportions:\")\n",
    "print(f\"Test set: {len(test_df)/total_samples:.2%}\")\n",
    "print(f\"Train set: {len(train_df)/total_samples:.2%}\")\n",
    "print(f\"Validation set: {len(valid_df)/total_samples:.2%}\")\n",
    "\n",
    "\n",
    "\n",
    "\n"
   ]
  },
  {
   "cell_type": "markdown",
   "id": "194863c5",
   "metadata": {},
   "source": [
    "### Keep disagreement for train, valid and test"
   ]
  },
  {
   "cell_type": "code",
   "execution_count": 271,
   "id": "60ea141a",
   "metadata": {},
   "outputs": [],
   "source": [
    "# # Split test_df into train, validation and test sets\n",
    "# train_df, temp_df = train_test_split(test_df, test_size=0.3, random_state=42)\n",
    "# valid_df, test_df = train_test_split(temp_df, test_size=0.5, random_state=42)\n",
    "\n",
    "# print(\"Shape of train_df:\", train_df.shape)\n",
    "# print(\"Shape of valid_df:\", valid_df.shape)\n",
    "# print(\"Shape of test_df:\", test_df.shape)\n",
    "\n",
    "# # Display first few rows of each split\n",
    "# print(\"\\nTrain set sample:\")\n",
    "# train_df.head()\n",
    "# print(\"\\nValidation set sample:\")\n",
    "# valid_df.head()\n",
    "# print(\"\\nTest set sample:\")\n",
    "# test_df.head()\n",
    "\n",
    "# # Print final shapes\n",
    "# print(\"\\nFinal shapes:\")\n",
    "# print(f\"Original test_df shape: {test_df.shape}\")\n",
    "# print(f\"Train df shape: {train_df.shape}\")\n",
    "# print(f\"Valid df shape: {valid_df.shape}\")\n",
    "# print(f\"Test df shape: {test_df.shape}\")\n",
    "\n",
    "# # Calculate and print proportions\n",
    "# total_test_samples = len(test_df)\n",
    "# print(\"\\nProportions:\")\n",
    "# print(f\"Train set: {len(train_df)/total_test_samples:.2%}\")\n",
    "# print(f\"Validation set: {len(valid_df)/total_test_samples:.2%}\")\n",
    "# print(f\"Test set: {len(test_df)/total_test_samples:.2%}\")\n",
    "\n"
   ]
  },
  {
   "cell_type": "code",
   "execution_count": 272,
   "id": "86fa2867",
   "metadata": {},
   "outputs": [
    {
     "data": {
      "text/html": [
       "<div>\n",
       "<style scoped>\n",
       "    .dataframe tbody tr th:only-of-type {\n",
       "        vertical-align: middle;\n",
       "    }\n",
       "\n",
       "    .dataframe tbody tr th {\n",
       "        vertical-align: top;\n",
       "    }\n",
       "\n",
       "    .dataframe thead th {\n",
       "        text-align: right;\n",
       "    }\n",
       "</style>\n",
       "<table border=\"1\" class=\"dataframe\">\n",
       "  <thead>\n",
       "    <tr style=\"text-align: right;\">\n",
       "      <th></th>\n",
       "      <th>id_EXIST</th>\n",
       "      <th>video</th>\n",
       "      <th>text</th>\n",
       "      <th>target</th>\n",
       "    </tr>\n",
       "  </thead>\n",
       "  <tbody>\n",
       "    <tr>\n",
       "      <th>726</th>\n",
       "      <td>220941</td>\n",
       "      <td>7127603784678657285.mp4</td>\n",
       "      <td>The video criticizes sexism by highlighting an...</td>\n",
       "      <td>1</td>\n",
       "    </tr>\n",
       "    <tr>\n",
       "      <th>750</th>\n",
       "      <td>220969</td>\n",
       "      <td>7136115124112493830.mp4</td>\n",
       "      <td>The video promotes hiding bra straps as the 'c...</td>\n",
       "      <td>0</td>\n",
       "    </tr>\n",
       "    <tr>\n",
       "      <th>734</th>\n",
       "      <td>220951</td>\n",
       "      <td>7132986111026105646.mp4</td>\n",
       "      <td>The video criticizes sexism by highlighting ho...</td>\n",
       "      <td>1</td>\n",
       "    </tr>\n",
       "    <tr>\n",
       "      <th>727</th>\n",
       "      <td>220943</td>\n",
       "      <td>7128059958972943622.mp4</td>\n",
       "      <td>The video embodies sexism as the man attribute...</td>\n",
       "      <td>0</td>\n",
       "    </tr>\n",
       "    <tr>\n",
       "      <th>372</th>\n",
       "      <td>220483</td>\n",
       "      <td>6978573242046958853.mp4</td>\n",
       "      <td>The video's captions, \"When your man has skill...</td>\n",
       "      <td>0</td>\n",
       "    </tr>\n",
       "    <tr>\n",
       "      <th>...</th>\n",
       "      <td>...</td>\n",
       "      <td>...</td>\n",
       "      <td>...</td>\n",
       "      <td>...</td>\n",
       "    </tr>\n",
       "    <tr>\n",
       "      <th>457</th>\n",
       "      <td>220598</td>\n",
       "      <td>7014565389002607877.mp4</td>\n",
       "      <td>The video criticizes sexism by showcasing prot...</td>\n",
       "      <td>1</td>\n",
       "    </tr>\n",
       "    <tr>\n",
       "      <th>574</th>\n",
       "      <td>220745</td>\n",
       "      <td>7067659840079957294.mp4</td>\n",
       "      <td>The video explicitly criticizes sexism by show...</td>\n",
       "      <td>1</td>\n",
       "    </tr>\n",
       "    <tr>\n",
       "      <th>169</th>\n",
       "      <td>220212</td>\n",
       "      <td>6911699116003249409.mp4</td>\n",
       "      <td>The video embodies a scenario rooted in sexism...</td>\n",
       "      <td>1</td>\n",
       "    </tr>\n",
       "    <tr>\n",
       "      <th>529</th>\n",
       "      <td>220685</td>\n",
       "      <td>7047184533287963950.mp4</td>\n",
       "      <td>The video criticizes sexist societal prejudice...</td>\n",
       "      <td>0</td>\n",
       "    </tr>\n",
       "    <tr>\n",
       "      <th>98</th>\n",
       "      <td>220129</td>\n",
       "      <td>6876237829119249666.mp4</td>\n",
       "      <td>The video criticizes a common sexist argument ...</td>\n",
       "      <td>1</td>\n",
       "    </tr>\n",
       "  </tbody>\n",
       "</table>\n",
       "<p>169 rows × 4 columns</p>\n",
       "</div>"
      ],
      "text/plain": [
       "     id_EXIST                    video  \\\n",
       "726    220941  7127603784678657285.mp4   \n",
       "750    220969  7136115124112493830.mp4   \n",
       "734    220951  7132986111026105646.mp4   \n",
       "727    220943  7128059958972943622.mp4   \n",
       "372    220483  6978573242046958853.mp4   \n",
       "..        ...                      ...   \n",
       "457    220598  7014565389002607877.mp4   \n",
       "574    220745  7067659840079957294.mp4   \n",
       "169    220212  6911699116003249409.mp4   \n",
       "529    220685  7047184533287963950.mp4   \n",
       "98     220129  6876237829119249666.mp4   \n",
       "\n",
       "                                                  text  target  \n",
       "726  The video criticizes sexism by highlighting an...       1  \n",
       "750  The video promotes hiding bra straps as the 'c...       0  \n",
       "734  The video criticizes sexism by highlighting ho...       1  \n",
       "727  The video embodies sexism as the man attribute...       0  \n",
       "372  The video's captions, \"When your man has skill...       0  \n",
       "..                                                 ...     ...  \n",
       "457  The video criticizes sexism by showcasing prot...       1  \n",
       "574  The video explicitly criticizes sexism by show...       1  \n",
       "169  The video embodies a scenario rooted in sexism...       1  \n",
       "529  The video criticizes sexist societal prejudice...       0  \n",
       "98   The video criticizes a common sexist argument ...       1  \n",
       "\n",
       "[169 rows x 4 columns]"
      ]
     },
     "execution_count": 272,
     "metadata": {},
     "output_type": "execute_result"
    }
   ],
   "source": [
    "# test_path = \"/Volumes/T7/OMSCS/CLEF2025/EXIST2025/exist-2025/notebooks/train_test_split/test_df.csv\"\n",
    "# val_path = \"/Volumes/T7/OMSCS/CLEF2025/EXIST2025/exist-2025/notebooks/train_test_split/valid_df.csv\"\n",
    "# train_path = \"/Volumes/T7/OMSCS/CLEF2025/EXIST2025/exist-2025/notebooks/train_test_split/train_df.csv\"\n",
    "\n",
    "import pandas as pd\n",
    "import numpy as np\n",
    "\n",
    "train_data = train_df[['id_EXIST','video','text', 'target']]\n",
    "val_data = valid_df[['id_EXIST','video','text', 'target']]\n",
    "test_data = test_df[['id_EXIST','video','text', 'target']]\n",
    "test_data"
   ]
  },
  {
   "cell_type": "code",
   "execution_count": 273,
   "id": "b6c691fc",
   "metadata": {},
   "outputs": [],
   "source": [
    "\n",
    "train_texts = train_data['text'].tolist()\n",
    "train_labels =  train_data['target'].tolist()\n",
    "train_video_ids =  train_data['video'].tolist()\n",
    "train_exist_ids =  train_data['id_EXIST'].tolist()\n",
    "\n",
    "test_texts = test_data['text'].tolist()\n",
    "test_labels =  test_data['target'].tolist()\n",
    "test_video_ids =  test_data['video'].tolist()\n",
    "test_exist_ids =  test_data['id_EXIST'].tolist()\n",
    "\n",
    "val_texts = val_data['text'].tolist()\n",
    "val_labels =  val_data['target'].tolist()\n",
    "val_video_ids =  val_data['video'].tolist()\n",
    "val_exist_ids =  val_data['id_EXIST'].tolist()\n",
    "\n"
   ]
  },
  {
   "cell_type": "code",
   "execution_count": 274,
   "id": "d69f242b",
   "metadata": {},
   "outputs": [],
   "source": [
    "tokenizer = RobertaTokenizer.from_pretrained('roberta-large')\n",
    "\n",
    "def tokenize(texts):\n",
    "    return tokenizer(\n",
    "        texts,\n",
    "        padding=True,\n",
    "        truncation=True,\n",
    "        return_tensors='pt',\n",
    "        max_length=512\n",
    "    )\n",
    "\n",
    "train_encodings = tokenize(train_texts)\n",
    "test_encodings = tokenize(test_texts)\n",
    "val_encodings = tokenize(val_texts)\n"
   ]
  },
  {
   "cell_type": "code",
   "execution_count": 275,
   "id": "7cb1fb8e",
   "metadata": {},
   "outputs": [],
   "source": [
    "class TextDataset(Dataset):\n",
    "    def __init__(self, encodings, labels, video_ids, exist_ids):\n",
    "        self.encodings = encodings\n",
    "        self.labels = labels\n",
    "        self.video_ids = video_ids\n",
    "        self.exist_ids = exist_ids\n",
    "\n",
    "    def __len__(self):\n",
    "        return len(self.labels)\n",
    "\n",
    "    def __getitem__(self, idx):\n",
    "        item = {key: val[idx] for key, val in self.encodings.items()}\n",
    "        item['labels'] = torch.tensor(self.labels[idx])\n",
    "        item['video_ids'] = self.video_ids[idx]\n",
    "        item['exist_ids'] = self.exist_ids[idx]\n",
    "        return item\n",
    "\n",
    "train_dataset = TextDataset(train_encodings, train_labels, train_video_ids, train_exist_ids)\n",
    "test_dataset = TextDataset(test_encodings, test_labels, test_video_ids, test_exist_ids)\n",
    "val_dataset = TextDataset(val_encodings, val_labels, val_video_ids, val_exist_ids)"
   ]
  },
  {
   "cell_type": "code",
   "execution_count": 276,
   "id": "3afb7cfb",
   "metadata": {},
   "outputs": [],
   "source": [
    "train_loader = DataLoader(train_dataset, batch_size=16, shuffle=True)\n",
    "test_loader = DataLoader(test_dataset, batch_size=16, shuffle=False)\n",
    "val_loader = DataLoader(val_dataset, batch_size=16, shuffle=False)"
   ]
  },
  {
   "cell_type": "code",
   "execution_count": 277,
   "id": "72838b95",
   "metadata": {},
   "outputs": [
    {
     "name": "stderr",
     "output_type": "stream",
     "text": [
      "Some weights of RobertaForSequenceClassification were not initialized from the model checkpoint at roberta-large and are newly initialized: ['classifier.dense.bias', 'classifier.dense.weight', 'classifier.out_proj.bias', 'classifier.out_proj.weight']\n",
      "You should probably TRAIN this model on a down-stream task to be able to use it for predictions and inference.\n"
     ]
    }
   ],
   "source": [
    "model = RobertaForSequenceClassification.from_pretrained(\"roberta-large\", num_labels=2)\n",
    "\n",
    "# Freeze embeddings and encoder layers 0–20 (i.e., first 21 layers)\n",
    "for name, param in model.named_parameters():\n",
    "    if name.startswith(\"roberta.embeddings\"):\n",
    "        param.requires_grad = False\n",
    "    elif \"roberta.encoder.layer\" in name:\n",
    "        layer_num = int(name.split(\"layer.\")[1].split(\".\")[0])\n",
    "        if layer_num < 21:\n",
    "            param.requires_grad = False\n",
    "\n",
    "        \n",
    "model.to(device)\n",
    "\n",
    "optimizer = torch.optim.AdamW(model.parameters(), \n",
    "                                  lr=2e-05, \n",
    "                                  weight_decay=0.0)"
   ]
  },
  {
   "cell_type": "code",
   "execution_count": 264,
   "id": "a332fef5",
   "metadata": {},
   "outputs": [
    {
     "name": "stderr",
     "output_type": "stream",
     "text": [
      "Epoch 1 - Training: 100%|██████████| 27/27 [01:06<00:00,  2.46s/it, loss=0.697]\n",
      "Epoch 1 - Validation: 100%|██████████| 12/12 [00:19<00:00,  1.65s/it]\n"
     ]
    },
    {
     "name": "stdout",
     "output_type": "stream",
     "text": [
      "[Epoch 1] Train Loss: 0.6967, Train Acc: 0.5887 | Val Loss: 0.6596, Val Acc: 0.6209\n"
     ]
    },
    {
     "name": "stderr",
     "output_type": "stream",
     "text": [
      "Epoch 2 - Training: 100%|██████████| 27/27 [01:04<00:00,  2.40s/it, loss=0.635]\n",
      "Epoch 2 - Validation: 100%|██████████| 12/12 [00:19<00:00,  1.66s/it]\n"
     ]
    },
    {
     "name": "stdout",
     "output_type": "stream",
     "text": [
      "[Epoch 2] Train Loss: 0.6701, Train Acc: 0.5934 | Val Loss: 0.6529, Val Acc: 0.6209\n"
     ]
    },
    {
     "name": "stderr",
     "output_type": "stream",
     "text": [
      "Epoch 3 - Training: 100%|██████████| 27/27 [01:05<00:00,  2.42s/it, loss=0.693]\n",
      "Epoch 3 - Validation: 100%|██████████| 12/12 [00:19<00:00,  1.62s/it]\n"
     ]
    },
    {
     "name": "stdout",
     "output_type": "stream",
     "text": [
      "[Epoch 3] Train Loss: 0.6575, Train Acc: 0.6383 | Val Loss: 0.6124, Val Acc: 0.6374\n"
     ]
    },
    {
     "name": "stderr",
     "output_type": "stream",
     "text": [
      "Epoch 4 - Training: 100%|██████████| 27/27 [01:06<00:00,  2.47s/it, loss=0.404]\n",
      "Epoch 4 - Validation: 100%|██████████| 12/12 [00:20<00:00,  1.68s/it]\n"
     ]
    },
    {
     "name": "stdout",
     "output_type": "stream",
     "text": [
      "[Epoch 4] Train Loss: 0.5589, Train Acc: 0.7045 | Val Loss: 0.4204, Val Acc: 0.7967\n"
     ]
    },
    {
     "name": "stderr",
     "output_type": "stream",
     "text": [
      "Epoch 5 - Training:  52%|█████▏    | 14/27 [00:35<00:31,  2.44s/it, loss=0.446]"
     ]
    }
   ],
   "source": [
    "epochs = 6\n",
    "\n",
    "train_losses = []\n",
    "train_accuracies = []\n",
    "val_losses = []\n",
    "val_accuracies = []\n",
    "\n",
    "for epoch in range(epochs):\n",
    "    # --- Training ---\n",
    "    model.train()\n",
    "    total_loss = 0\n",
    "    correct = 0\n",
    "    total = 0\n",
    "\n",
    "    loop = tqdm(train_loader, desc=f\"Epoch {epoch+1} - Training\")\n",
    "    for batch in loop:\n",
    "        batch = {k: (v.to(device) if isinstance(v, torch.Tensor) else v) for k, v in batch.items()}\n",
    "        \n",
    "        #inputs = {k: v for k, v in batch.items() if k != \"video_ids\"}\n",
    "        inputs = {k: v for k, v in batch.items() if k not in [\"video_ids\", \"exist_ids\"]}\n",
    "\n",
    "        outputs = model(**inputs)\n",
    "        loss = outputs.loss\n",
    "        logits = outputs.logits\n",
    "\n",
    "        optimizer.zero_grad()\n",
    "        loss.backward()\n",
    "        optimizer.step()\n",
    "\n",
    "        total_loss += loss.item()\n",
    "        preds = torch.argmax(logits, dim=1)\n",
    "        correct += (preds == batch['labels']).sum().item()\n",
    "        total += batch['labels'].size(0)\n",
    "\n",
    "        loop.set_postfix(loss=loss.item())\n",
    "\n",
    "    train_loss = total_loss / len(train_loader)\n",
    "    train_acc = correct / total\n",
    "    train_losses.append(train_loss)\n",
    "    train_accuracies.append(train_acc)\n",
    "\n",
    "    # --- Validation ---\n",
    "    model.eval()\n",
    "    val_loss = 0\n",
    "    correct = 0\n",
    "    total = 0\n",
    "\n",
    "    with torch.no_grad():\n",
    "        for batch in tqdm(val_loader, desc=f\"Epoch {epoch+1} - Validation\"):\n",
    "            batch = {k: (v.to(device) if isinstance(v, torch.Tensor) else v) for k, v in batch.items()}\n",
    "            #inputs = {k: v for k, v in batch.items() if k != \"video_ids\"}\n",
    "            inputs = {k: v for k, v in batch.items() if k not in [\"video_ids\", \"exist_ids\"]}\n",
    "            outputs = model(**inputs)\n",
    "            loss = outputs.loss\n",
    "            logits = outputs.logits\n",
    "\n",
    "            val_loss += loss.item()\n",
    "            preds = torch.argmax(logits, dim=1)\n",
    "            correct += (preds == batch['labels']).sum().item()\n",
    "            total += batch['labels'].size(0)\n",
    "\n",
    "    val_loss /= len(val_loader)\n",
    "    val_acc = correct / total\n",
    "    val_losses.append(val_loss)\n",
    "    val_accuracies.append(val_acc)\n",
    "\n",
    "    print(f\"[Epoch {epoch+1}] Train Loss: {train_loss:.4f}, Train Acc: {train_acc:.4f} | Val Loss: {val_loss:.4f}, Val Acc: {val_acc:.4f}\")\n",
    "\n",
    "# --- Final Test Evaluation ---\n",
    "model.eval()\n",
    "test_preds, test_targets = [], []\n",
    "test_loss = 0\n",
    "with torch.no_grad():\n",
    "    for batch in tqdm(test_loader, desc=\"Final Test Evaluation\"):\n",
    "        batch = {k: (v.to(device) if isinstance(v, torch.Tensor) else v) for k, v in batch.items()}\n",
    "        #inputs = {k: v for k, v in batch.items() if k != \"video_ids\"}\n",
    "        inputs = {k: v for k, v in batch.items() if k not in [\"video_ids\", \"exist_ids\"]}\n",
    "        outputs = model(**inputs)\n",
    "        logits = outputs.logits\n",
    "        loss = outputs.loss\n",
    "        test_loss += loss.item()\n",
    "        preds = torch.argmax(logits, dim=1)\n",
    "        test_preds.extend(preds.cpu().numpy())\n",
    "        test_targets.extend(batch['labels'].cpu().numpy())\n",
    "test_loss /= len(test_loader)\n",
    "test_accuracy = accuracy_score(test_targets, test_preds)\n",
    "print(f\"Final Test Accuracy: {test_accuracy:.4f}\")\n",
    "print(f\"Final Test Loss: {test_loss:.4f}\")"
   ]
  },
  {
   "cell_type": "code",
   "execution_count": 18,
   "id": "0abe77b0",
   "metadata": {},
   "outputs": [
    {
     "name": "stderr",
     "output_type": "stream",
     "text": [
      "Final Test Evaluation: 100%|██████████| 13/13 [00:22<00:00,  1.70s/it]"
     ]
    },
    {
     "name": "stdout",
     "output_type": "stream",
     "text": [
      "Final Test Accuracy: 0.7487\n",
      "Final Test Loss: 0.5620\n"
     ]
    },
    {
     "name": "stderr",
     "output_type": "stream",
     "text": [
      "\n"
     ]
    }
   ],
   "source": [
    "# --- Final Test Evaluation ---\n",
    "model.eval()\n",
    "test_preds, test_targets = [], []\n",
    "test_loss = 0\n",
    "with torch.no_grad():\n",
    "    for batch in tqdm(test_loader, desc=\"Final Test Evaluation\"):\n",
    "        batch = {k: (v.to(device) if isinstance(v, torch.Tensor) else v) for k, v in batch.items()}\n",
    "        #inputs = {k: v for k, v in batch.items() if k != \"video_ids\"}\n",
    "        inputs = {k: v for k, v in batch.items() if k not in [\"video_ids\", \"exist_ids\"]}\n",
    "        outputs = model(**inputs)\n",
    "        logits = outputs.logits\n",
    "        loss = outputs.loss\n",
    "        test_loss += loss.item()\n",
    "        preds = torch.argmax(logits, dim=1)\n",
    "        test_preds.extend(preds.cpu().numpy())\n",
    "        test_targets.extend(batch['labels'].cpu().numpy())\n",
    "test_loss /= len(test_loader)\n",
    "test_accuracy = accuracy_score(test_targets, test_preds)\n",
    "print(f\"Final Test Accuracy: {test_accuracy:.4f}\")\n",
    "print(f\"Final Test Loss: {test_loss:.4f}\")"
   ]
  },
  {
   "cell_type": "code",
   "execution_count": 239,
   "id": "c4375448",
   "metadata": {},
   "outputs": [
    {
     "data": {
      "image/png": "[encoded data removed]",
      "text/plain": [
       "<Figure size 1200x500 with 2 Axes>"
      ]
     },
     "metadata": {},
     "output_type": "display_data"
    }
   ],
   "source": [
    "plt.figure(figsize=(12, 5))\n",
    "\n",
    "# Loss\n",
    "plt.subplot(1, 2, 1)\n",
    "plt.plot(train_losses, label='Train Loss', marker='o')\n",
    "plt.plot(val_losses, label='Validation Loss', marker='o')\n",
    "plt.title(\"Loss per Epoch\")\n",
    "plt.xlabel(\"Epoch\")\n",
    "plt.ylabel(\"Loss\")\n",
    "plt.legend()\n",
    "\n",
    "# Accuracy\n",
    "plt.subplot(1, 2, 2)\n",
    "plt.plot(train_accuracies, label='Train Accuracy', marker='o')\n",
    "plt.plot(val_accuracies, label='Validation Accuracy', marker='o')\n",
    "plt.title(\"Accuracy per Epoch\")\n",
    "plt.xlabel(\"Epoch\")\n",
    "plt.ylabel(\"Accuracy\")\n",
    "plt.legend()\n",
    "\n",
    "plt.tight_layout()\n",
    "plt.show()\n"
   ]
  },
  {
   "cell_type": "code",
   "execution_count": 20,
   "id": "01019e58",
   "metadata": {},
   "outputs": [],
   "source": [
    "# import torch\n",
    "# import torch.nn.functional as F\n",
    "\n",
    "# def generate_predictions(model, dataloader):\n",
    "#     model.eval()\n",
    "#     all_video_ids = []\n",
    "#     all_exist_ids = []\n",
    "#     all_probs = []\n",
    "#     all_preds = []\n",
    "#     all_labels = []\n",
    "#     all_constant_column = []  # This will store the constant value \"EXIST2025\"\n",
    "    \n",
    "#     with torch.no_grad():\n",
    "#         for batch in tqdm(dataloader, desc=\"Generating Predictions\"):\n",
    "#             batch = {k: (v.to(device) if isinstance(v, torch.Tensor) else v) for k, v in batch.items()}\n",
    "#             #inputs = {k: v for k, v in batch.items() if k != \"video_ids\"}\n",
    "#             inputs = {k: v for k, v in batch.items() if k not in [\"video_ids\", \"exist_ids\"]}\n",
    "#             outputs = model(**inputs)\n",
    "#             logits = outputs.logits\n",
    "#             probs = F.softmax(logits, dim=1)  # Get probabilities from logits\n",
    "#             preds = torch.argmax(probs, dim=1)  # Get predicted class\n",
    "#             # Map the predictions to \"YES\" (1) or \"NO\" (0)\n",
    "#             preds_mapped = [\"YES\" if pred >=0.5 else \"NO\" for pred in preds.cpu().numpy()]\n",
    "            \n",
    "#             constant_value = \"EXIST2025\"\n",
    "#             constant_column = [constant_value] * len(preds_mapped)\n",
    "            \n",
    "#             all_exist_ids.extend(batch['exist_ids'])\n",
    "#             all_video_ids.extend(batch['video_ids'])\n",
    "#             all_probs.extend(probs.cpu().numpy())\n",
    "#             all_preds.extend(preds_mapped)\n",
    "#             all_labels.extend(batch['labels'].cpu().numpy())\n",
    "#             all_constant_column.extend(constant_column)\n",
    "\n",
    "#     return np.array(all_exist_ids), np.array(all_video_ids), np.array(all_probs), np.array(all_preds), np.array(all_labels), np.array(all_constant_column)\n"
   ]
  },
  {
   "cell_type": "code",
   "execution_count": 194,
   "id": "976387f2",
   "metadata": {},
   "outputs": [],
   "source": [
    "# for mps\n",
    "import torch\n",
    "import torch.nn.functional as F\n",
    "import numpy as np\n",
    "from tqdm import tqdm\n",
    "\n",
    "def generate_predictions(model, dataloader, device):\n",
    "    model.eval()\n",
    "    all_video_ids = []\n",
    "    all_exist_ids = []\n",
    "    all_probs = []\n",
    "    all_preds = []\n",
    "    all_labels = []\n",
    "    all_constant_column = []  # This will store the constant value \"EXIST2025\"\n",
    "    \n",
    "    with torch.no_grad():\n",
    "        for batch in tqdm(dataloader, desc=\"Generating Predictions\"):\n",
    "            # Move tensor inputs to device (e.g., mps, cuda, cpu)\n",
    "            batch = {k: (v.to(device) if isinstance(v, torch.Tensor) else v) for k, v in batch.items()}\n",
    "            \n",
    "            # Remove non-model inputs from batch\n",
    "            inputs = {k: v for k, v in batch.items() if k not in [\"video_ids\", \"exist_ids\"]}\n",
    "            \n",
    "            # Forward pass\n",
    "            outputs = model(**inputs)\n",
    "            logits = outputs.logits\n",
    "            \n",
    "            # Calculate probabilities and move to CPU before numpy conversion\n",
    "            probs = F.softmax(logits, dim=1).cpu()\n",
    "            \n",
    "            # Get predicted class indices and move to CPU\n",
    "            preds = torch.argmax(probs, dim=1).cpu()\n",
    "            \n",
    "            # Map predictions to \"YES\" or \"NO\" based on predicted class (assuming class 1 = YES)\n",
    "            preds_mapped = [\"YES\" if pred.item() == 1 else \"NO\" for pred in preds]\n",
    "            \n",
    "            # Prepare constant column\n",
    "            constant_value = \"EXIST2025\"\n",
    "            constant_column = [constant_value] * len(preds_mapped)\n",
    "            \n",
    "            # Append results - ensure all tensors are moved to CPU before numpy conversion\n",
    "            # all_exist_ids.extend(batch['exist_ids'])\n",
    "            # all_video_ids.extend(batch['video_ids'])\n",
    "\n",
    "            all_exist_ids.extend(\n",
    "                [x.item() if isinstance(x, torch.Tensor) else x for x in batch['exist_ids']]\n",
    "            )\n",
    "            all_video_ids.extend(\n",
    "                [x.item() if isinstance(x, torch.Tensor) else x for x in batch['video_ids']]\n",
    "            )\n",
    "            all_probs.extend(probs.numpy())  # Already on CPU\n",
    "            all_preds.extend(preds_mapped)\n",
    "            all_labels.extend(batch['labels'].cpu().numpy())\n",
    "            all_constant_column.extend(constant_column)\n",
    "\n",
    "    # Convert lists to numpy arrays, ensuring all tensors are on CPU first\n",
    "    return (\n",
    "        np.array(all_exist_ids),\n",
    "        np.array(all_video_ids),\n",
    "        np.array(all_probs),\n",
    "        np.array(all_preds),\n",
    "        np.array(all_labels),\n",
    "        np.array(all_constant_column)\n",
    "    )\n"
   ]
  },
  {
   "cell_type": "code",
   "execution_count": 49,
   "id": "aefd8827",
   "metadata": {},
   "outputs": [
    {
     "name": "stderr",
     "output_type": "stream",
     "text": [
      "Generating Predictions: 100%|██████████| 37/37 [01:04<00:00,  1.75s/it]"
     ]
    },
    {
     "name": "stdout",
     "output_type": "stream",
     "text": [
      "Train Accuracy: 0.0000\n",
      "Train Macro F1 Score: 0.8805\n",
      "Saved predictions to text_train_predictions.csv\n"
     ]
    },
    {
     "name": "stderr",
     "output_type": "stream",
     "text": [
      "\n"
     ]
    }
   ],
   "source": [
    "exist_ids, video_ids, probs, preds, labels, titles = generate_predictions(model, train_loader, device=device)\n",
    "\n",
    "test_acc = accuracy_score(labels, preds)\n",
    "\n",
    "preds_binary = [1 if p == \"YES\" else 0 for p in preds]\n",
    "test_f1 = f1_score(labels, preds_binary, average=\"macro\")\n",
    "\n",
    "print(f\"Train Accuracy: {test_acc:.4f}\")\n",
    "print(f\"Train Macro F1 Score: {test_f1:.4f}\")\n",
    "\n",
    "df = pd.DataFrame({\n",
    "    \"test_case\": titles,\n",
    "    \"id\": exist_ids,\n",
    "    \"value\": preds\n",
    "})\n",
    "\n",
    "df.to_csv(\"text_train_predictions.csv\", index=False)\n",
    "print(\"Saved predictions to text_train_predictions.csv\")\n",
    "\n"
   ]
  },
  {
   "cell_type": "code",
   "execution_count": 195,
   "id": "a9c18533",
   "metadata": {},
   "outputs": [
    {
     "name": "stderr",
     "output_type": "stream",
     "text": [
      "Generating Predictions: 100%|██████████| 13/13 [00:23<00:00,  1.82s/it]"
     ]
    },
    {
     "name": "stdout",
     "output_type": "stream",
     "text": [
      "Test Accuracy: 0.6881\n",
      "Test Macro F1 Score: 0.6859\n",
      "Saved predictions to text_test_predictions.csv\n"
     ]
    },
    {
     "name": "stderr",
     "output_type": "stream",
     "text": [
      "\n"
     ]
    }
   ],
   "source": [
    "exist_ids, video_ids, probs, preds, labels, titles = generate_predictions(model, test_loader, device=device)\n",
    "\n",
    "preds_binary = [1 if p == \"YES\" else 0 for p in preds]\n",
    "test_acc = accuracy_score(labels, preds_binary)\n",
    "preds_binary = [1 if p == \"YES\" else 0 for p in preds]\n",
    "test_f1 = f1_score(labels, preds_binary, average=\"macro\")\n",
    "\n",
    "print(f\"Test Accuracy: {test_acc:.4f}\")\n",
    "print(f\"Test Macro F1 Score: {test_f1:.4f}\")\n",
    "\n",
    "df = pd.DataFrame({\n",
    "    \"test_case\": titles,\n",
    "    \"id\": exist_ids,\n",
    "    \"value\": preds\n",
    "})\n",
    "\n",
    "df.to_csv(\"text_test_predictions.csv\", index=False)\n",
    "print(\"Saved predictions to text_test_predictions.csv\")"
   ]
  },
  {
   "cell_type": "code",
   "execution_count": 52,
   "id": "5e71e051",
   "metadata": {},
   "outputs": [
    {
     "name": "stderr",
     "output_type": "stream",
     "text": [
      "Generating Predictions: 100%|██████████| 13/13 [00:21<00:00,  1.64s/it]"
     ]
    },
    {
     "name": "stdout",
     "output_type": "stream",
     "text": [
      "Val Accuracy: 0.0000\n",
      "Val Macro F1 Score: 0.6814\n",
      "Saved predictions to text_val_predictions.csv\n"
     ]
    },
    {
     "name": "stderr",
     "output_type": "stream",
     "text": [
      "\n"
     ]
    }
   ],
   "source": [
    "exist_ids, video_ids, probs, preds, labels, titles = generate_predictions(model, val_loader,device=device)\n",
    "\n",
    "test_acc = accuracy_score(labels, preds)\n",
    "preds_binary = [1 if p == \"YES\" else 0 for p in preds]\n",
    "test_f1 = f1_score(labels, preds_binary, average=\"macro\")\n",
    "\n",
    "print(f\"Val Accuracy: {test_acc:.4f}\")\n",
    "print(f\"Val Macro F1 Score: {test_f1:.4f}\")\n",
    "\n",
    "df = pd.DataFrame({\n",
    "    \"test_case\": titles,\n",
    "    \"id\": exist_ids,\n",
    "    \"value\": preds\n",
    "})\n",
    "\n",
    "df.to_csv(\"text_val_predictions.csv\", index=False)\n",
    "print(\"Saved predictions to text_val_predictions.csv\")"
   ]
  },
  {
   "cell_type": "code",
   "execution_count": null,
   "id": "affc29c3",
   "metadata": {},
   "outputs": [],
   "source": []
  },
  {
   "cell_type": "code",
   "execution_count": 17,
   "id": "bdcabc2c",
   "metadata": {},
   "outputs": [],
   "source": [
    "# Save just the model's state dict (weights)\n",
    "torch.save(model.state_dict(), \"model_weights.pt\")\n"
   ]
  },
  {
   "cell_type": "code",
   "execution_count": 8,
   "id": "f2c77b34",
   "metadata": {},
   "outputs": [
    {
     "name": "stderr",
     "output_type": "stream",
     "text": [
      "Some weights of RobertaForSequenceClassification were not initialized from the model checkpoint at roberta-large and are newly initialized: ['classifier.dense.bias', 'classifier.dense.weight', 'classifier.out_proj.bias', 'classifier.out_proj.weight']\n",
      "You should probably TRAIN this model on a down-stream task to be able to use it for predictions and inference.\n",
      "/tmp/ipykernel_3761075/2181143520.py:7: FutureWarning: You are using `torch.load` with `weights_only=False` (the current default value), which uses the default pickle module implicitly. It is possible to construct malicious pickle data which will execute arbitrary code during unpickling (See https://github.com/pytorch/pytorch/blob/main/SECURITY.md#untrusted-models for more details). In a future release, the default value for `weights_only` will be flipped to `True`. This limits the functions that could be executed during unpickling. Arbitrary objects will no longer be allowed to be loaded via this mode unless they are explicitly allowlisted by the user via `torch.serialization.add_safe_globals`. We recommend you start setting `weights_only=True` for any use case where you don't have full control of the loaded file. Please open an issue on GitHub for any issues related to this experimental feature.\n",
      "  model.load_state_dict(torch.load(\"model_weights.pt\", map_location=device))\n"
     ]
    },
    {
     "data": {
      "text/plain": [
       "RobertaForSequenceClassification(\n",
       "  (roberta): RobertaModel(\n",
       "    (embeddings): RobertaEmbeddings(\n",
       "      (word_embeddings): Embedding(50265, 1024, padding_idx=1)\n",
       "      (position_embeddings): Embedding(514, 1024, padding_idx=1)\n",
       "      (token_type_embeddings): Embedding(1, 1024)\n",
       "      (LayerNorm): LayerNorm((1024,), eps=1e-05, elementwise_affine=True)\n",
       "      (dropout): Dropout(p=0.1, inplace=False)\n",
       "    )\n",
       "    (encoder): RobertaEncoder(\n",
       "      (layer): ModuleList(\n",
       "        (0-23): 24 x RobertaLayer(\n",
       "          (attention): RobertaAttention(\n",
       "            (self): RobertaSdpaSelfAttention(\n",
       "              (query): Linear(in_features=1024, out_features=1024, bias=True)\n",
       "              (key): Linear(in_features=1024, out_features=1024, bias=True)\n",
       "              (value): Linear(in_features=1024, out_features=1024, bias=True)\n",
       "              (dropout): Dropout(p=0.1, inplace=False)\n",
       "            )\n",
       "            (output): RobertaSelfOutput(\n",
       "              (dense): Linear(in_features=1024, out_features=1024, bias=True)\n",
       "              (LayerNorm): LayerNorm((1024,), eps=1e-05, elementwise_affine=True)\n",
       "              (dropout): Dropout(p=0.1, inplace=False)\n",
       "            )\n",
       "          )\n",
       "          (intermediate): RobertaIntermediate(\n",
       "            (dense): Linear(in_features=1024, out_features=4096, bias=True)\n",
       "            (intermediate_act_fn): GELUActivation()\n",
       "          )\n",
       "          (output): RobertaOutput(\n",
       "            (dense): Linear(in_features=4096, out_features=1024, bias=True)\n",
       "            (LayerNorm): LayerNorm((1024,), eps=1e-05, elementwise_affine=True)\n",
       "            (dropout): Dropout(p=0.1, inplace=False)\n",
       "          )\n",
       "        )\n",
       "      )\n",
       "    )\n",
       "  )\n",
       "  (classifier): RobertaClassificationHead(\n",
       "    (dense): Linear(in_features=1024, out_features=1024, bias=True)\n",
       "    (dropout): Dropout(p=0.1, inplace=False)\n",
       "    (out_proj): Linear(in_features=1024, out_features=2, bias=True)\n",
       "  )\n",
       ")"
      ]
     },
     "execution_count": 8,
     "metadata": {},
     "output_type": "execute_result"
    }
   ],
   "source": [
    "# Recreate the model architecture first\n",
    "from transformers import RobertaForSequenceClassification\n",
    "\n",
    "model = RobertaForSequenceClassification.from_pretrained(\"roberta-large\", num_labels=2)\n",
    "\n",
    "# Load the saved weights\n",
    "model.load_state_dict(torch.load(\"model_weights.pt\", map_location=device))\n",
    "\n",
    "# Move to device\n",
    "model.to(device)\n"
   ]
  },
  {
   "cell_type": "code",
   "execution_count": null,
   "id": "5c44cb65",
   "metadata": {},
   "outputs": [
    {
     "name": "stdout",
     "output_type": "stream",
     "text": [
      "\n",
      "Training with parameters: {'learning_rate': 1e-05, 'batch_size': 8, 'weight_decay': 0.0, 'num_frozen_layers': 0}\n"
     ]
    },
    {
     "name": "stderr",
     "output_type": "stream",
     "text": [
      "Some weights of RobertaForSequenceClassification were not initialized from the model checkpoint at roberta-large and are newly initialized: ['classifier.dense.bias', 'classifier.dense.weight', 'classifier.out_proj.bias', 'classifier.out_proj.weight']\n",
      "You should probably TRAIN this model on a down-stream task to be able to use it for predictions and inference.\n"
     ]
    },
    {
     "name": "stdout",
     "output_type": "stream",
     "text": [
      "Validation Accuracy: 0.6923\n",
      "\n",
      "Training with parameters: {'learning_rate': 1e-05, 'batch_size': 8, 'weight_decay': 0.0, 'num_frozen_layers': 6}\n"
     ]
    },
    {
     "name": "stderr",
     "output_type": "stream",
     "text": [
      "Some weights of RobertaForSequenceClassification were not initialized from the model checkpoint at roberta-large and are newly initialized: ['classifier.dense.bias', 'classifier.dense.weight', 'classifier.out_proj.bias', 'classifier.out_proj.weight']\n",
      "You should probably TRAIN this model on a down-stream task to be able to use it for predictions and inference.\n"
     ]
    },
    {
     "name": "stdout",
     "output_type": "stream",
     "text": [
      "✅ Froze first 6 layers.\n",
      "Validation Accuracy: 0.6308\n",
      "\n",
      "Training with parameters: {'learning_rate': 1e-05, 'batch_size': 8, 'weight_decay': 0.0, 'num_frozen_layers': 12}\n"
     ]
    },
    {
     "name": "stderr",
     "output_type": "stream",
     "text": [
      "Some weights of RobertaForSequenceClassification were not initialized from the model checkpoint at roberta-large and are newly initialized: ['classifier.dense.bias', 'classifier.dense.weight', 'classifier.out_proj.bias', 'classifier.out_proj.weight']\n",
      "You should probably TRAIN this model on a down-stream task to be able to use it for predictions and inference.\n"
     ]
    },
    {
     "name": "stdout",
     "output_type": "stream",
     "text": [
      "✅ Froze first 12 layers.\n",
      "Validation Accuracy: 0.6718\n",
      "\n",
      "Training with parameters: {'learning_rate': 1e-05, 'batch_size': 8, 'weight_decay': 0.0, 'num_frozen_layers': 18}\n"
     ]
    },
    {
     "name": "stderr",
     "output_type": "stream",
     "text": [
      "Some weights of RobertaForSequenceClassification were not initialized from the model checkpoint at roberta-large and are newly initialized: ['classifier.dense.bias', 'classifier.dense.weight', 'classifier.out_proj.bias', 'classifier.out_proj.weight']\n",
      "You should probably TRAIN this model on a down-stream task to be able to use it for predictions and inference.\n"
     ]
    },
    {
     "name": "stdout",
     "output_type": "stream",
     "text": [
      "✅ Froze first 18 layers.\n",
      "Validation Accuracy: 0.6410\n",
      "\n",
      "Training with parameters: {'learning_rate': 1e-05, 'batch_size': 8, 'weight_decay': 0.0, 'num_frozen_layers': 20}\n"
     ]
    },
    {
     "name": "stderr",
     "output_type": "stream",
     "text": [
      "Some weights of RobertaForSequenceClassification were not initialized from the model checkpoint at roberta-large and are newly initialized: ['classifier.dense.bias', 'classifier.dense.weight', 'classifier.out_proj.bias', 'classifier.out_proj.weight']\n",
      "You should probably TRAIN this model on a down-stream task to be able to use it for predictions and inference.\n"
     ]
    },
    {
     "name": "stdout",
     "output_type": "stream",
     "text": [
      "✅ Froze first 20 layers.\n",
      "Validation Accuracy: 0.6769\n",
      "\n",
      "Training with parameters: {'learning_rate': 1e-05, 'batch_size': 8, 'weight_decay': 0.01, 'num_frozen_layers': 0}\n"
     ]
    },
    {
     "name": "stderr",
     "output_type": "stream",
     "text": [
      "Some weights of RobertaForSequenceClassification were not initialized from the model checkpoint at roberta-large and are newly initialized: ['classifier.dense.bias', 'classifier.dense.weight', 'classifier.out_proj.bias', 'classifier.out_proj.weight']\n",
      "You should probably TRAIN this model on a down-stream task to be able to use it for predictions and inference.\n"
     ]
    },
    {
     "name": "stdout",
     "output_type": "stream",
     "text": [
      "Validation Accuracy: 0.6718\n",
      "\n",
      "Training with parameters: {'learning_rate': 1e-05, 'batch_size': 8, 'weight_decay': 0.01, 'num_frozen_layers': 6}\n"
     ]
    },
    {
     "name": "stderr",
     "output_type": "stream",
     "text": [
      "Some weights of RobertaForSequenceClassification were not initialized from the model checkpoint at roberta-large and are newly initialized: ['classifier.dense.bias', 'classifier.dense.weight', 'classifier.out_proj.bias', 'classifier.out_proj.weight']\n",
      "You should probably TRAIN this model on a down-stream task to be able to use it for predictions and inference.\n"
     ]
    },
    {
     "name": "stdout",
     "output_type": "stream",
     "text": [
      "✅ Froze first 6 layers.\n",
      "Validation Accuracy: 0.7128\n",
      "\n",
      "Training with parameters: {'learning_rate': 1e-05, 'batch_size': 8, 'weight_decay': 0.01, 'num_frozen_layers': 12}\n"
     ]
    },
    {
     "name": "stderr",
     "output_type": "stream",
     "text": [
      "Some weights of RobertaForSequenceClassification were not initialized from the model checkpoint at roberta-large and are newly initialized: ['classifier.dense.bias', 'classifier.dense.weight', 'classifier.out_proj.bias', 'classifier.out_proj.weight']\n",
      "You should probably TRAIN this model on a down-stream task to be able to use it for predictions and inference.\n"
     ]
    },
    {
     "name": "stdout",
     "output_type": "stream",
     "text": [
      "✅ Froze first 12 layers.\n",
      "Validation Accuracy: 0.7179\n",
      "\n",
      "Training with parameters: {'learning_rate': 1e-05, 'batch_size': 8, 'weight_decay': 0.01, 'num_frozen_layers': 18}\n"
     ]
    },
    {
     "name": "stderr",
     "output_type": "stream",
     "text": [
      "Some weights of RobertaForSequenceClassification were not initialized from the model checkpoint at roberta-large and are newly initialized: ['classifier.dense.bias', 'classifier.dense.weight', 'classifier.out_proj.bias', 'classifier.out_proj.weight']\n",
      "You should probably TRAIN this model on a down-stream task to be able to use it for predictions and inference.\n"
     ]
    },
    {
     "name": "stdout",
     "output_type": "stream",
     "text": [
      "✅ Froze first 18 layers.\n",
      "Validation Accuracy: 0.7026\n",
      "\n",
      "Training with parameters: {'learning_rate': 1e-05, 'batch_size': 8, 'weight_decay': 0.01, 'num_frozen_layers': 20}\n"
     ]
    },
    {
     "name": "stderr",
     "output_type": "stream",
     "text": [
      "Some weights of RobertaForSequenceClassification were not initialized from the model checkpoint at roberta-large and are newly initialized: ['classifier.dense.bias', 'classifier.dense.weight', 'classifier.out_proj.bias', 'classifier.out_proj.weight']\n",
      "You should probably TRAIN this model on a down-stream task to be able to use it for predictions and inference.\n"
     ]
    },
    {
     "name": "stdout",
     "output_type": "stream",
     "text": [
      "✅ Froze first 20 layers.\n",
      "Validation Accuracy: 0.6872\n",
      "\n",
      "Training with parameters: {'learning_rate': 1e-05, 'batch_size': 16, 'weight_decay': 0.0, 'num_frozen_layers': 0}\n"
     ]
    },
    {
     "name": "stderr",
     "output_type": "stream",
     "text": [
      "Some weights of RobertaForSequenceClassification were not initialized from the model checkpoint at roberta-large and are newly initialized: ['classifier.dense.bias', 'classifier.dense.weight', 'classifier.out_proj.bias', 'classifier.out_proj.weight']\n",
      "You should probably TRAIN this model on a down-stream task to be able to use it for predictions and inference.\n"
     ]
    },
    {
     "name": "stdout",
     "output_type": "stream",
     "text": [
      "Validation Accuracy: 0.6256\n",
      "\n",
      "Training with parameters: {'learning_rate': 1e-05, 'batch_size': 16, 'weight_decay': 0.0, 'num_frozen_layers': 6}\n"
     ]
    },
    {
     "name": "stderr",
     "output_type": "stream",
     "text": [
      "Some weights of RobertaForSequenceClassification were not initialized from the model checkpoint at roberta-large and are newly initialized: ['classifier.dense.bias', 'classifier.dense.weight', 'classifier.out_proj.bias', 'classifier.out_proj.weight']\n",
      "You should probably TRAIN this model on a down-stream task to be able to use it for predictions and inference.\n"
     ]
    },
    {
     "name": "stdout",
     "output_type": "stream",
     "text": [
      "✅ Froze first 6 layers.\n",
      "Validation Accuracy: 0.7128\n",
      "\n",
      "Training with parameters: {'learning_rate': 1e-05, 'batch_size': 16, 'weight_decay': 0.0, 'num_frozen_layers': 12}\n"
     ]
    },
    {
     "name": "stderr",
     "output_type": "stream",
     "text": [
      "Some weights of RobertaForSequenceClassification were not initialized from the model checkpoint at roberta-large and are newly initialized: ['classifier.dense.bias', 'classifier.dense.weight', 'classifier.out_proj.bias', 'classifier.out_proj.weight']\n",
      "You should probably TRAIN this model on a down-stream task to be able to use it for predictions and inference.\n"
     ]
    },
    {
     "name": "stdout",
     "output_type": "stream",
     "text": [
      "✅ Froze first 12 layers.\n",
      "Validation Accuracy: 0.6513\n",
      "\n",
      "Training with parameters: {'learning_rate': 1e-05, 'batch_size': 16, 'weight_decay': 0.0, 'num_frozen_layers': 18}\n"
     ]
    },
    {
     "name": "stderr",
     "output_type": "stream",
     "text": [
      "Some weights of RobertaForSequenceClassification were not initialized from the model checkpoint at roberta-large and are newly initialized: ['classifier.dense.bias', 'classifier.dense.weight', 'classifier.out_proj.bias', 'classifier.out_proj.weight']\n",
      "You should probably TRAIN this model on a down-stream task to be able to use it for predictions and inference.\n"
     ]
    },
    {
     "name": "stdout",
     "output_type": "stream",
     "text": [
      "✅ Froze first 18 layers.\n",
      "Validation Accuracy: 0.6051\n",
      "\n",
      "Training with parameters: {'learning_rate': 1e-05, 'batch_size': 16, 'weight_decay': 0.0, 'num_frozen_layers': 20}\n"
     ]
    },
    {
     "name": "stderr",
     "output_type": "stream",
     "text": [
      "Some weights of RobertaForSequenceClassification were not initialized from the model checkpoint at roberta-large and are newly initialized: ['classifier.dense.bias', 'classifier.dense.weight', 'classifier.out_proj.bias', 'classifier.out_proj.weight']\n",
      "You should probably TRAIN this model on a down-stream task to be able to use it for predictions and inference.\n"
     ]
    },
    {
     "name": "stdout",
     "output_type": "stream",
     "text": [
      "✅ Froze first 20 layers.\n",
      "Validation Accuracy: 0.6103\n",
      "\n",
      "Training with parameters: {'learning_rate': 1e-05, 'batch_size': 16, 'weight_decay': 0.01, 'num_frozen_layers': 0}\n"
     ]
    },
    {
     "name": "stderr",
     "output_type": "stream",
     "text": [
      "Some weights of RobertaForSequenceClassification were not initialized from the model checkpoint at roberta-large and are newly initialized: ['classifier.dense.bias', 'classifier.dense.weight', 'classifier.out_proj.bias', 'classifier.out_proj.weight']\n",
      "You should probably TRAIN this model on a down-stream task to be able to use it for predictions and inference.\n"
     ]
    },
    {
     "name": "stdout",
     "output_type": "stream",
     "text": [
      "Validation Accuracy: 0.5128\n",
      "\n",
      "Training with parameters: {'learning_rate': 1e-05, 'batch_size': 16, 'weight_decay': 0.01, 'num_frozen_layers': 6}\n"
     ]
    },
    {
     "name": "stderr",
     "output_type": "stream",
     "text": [
      "Some weights of RobertaForSequenceClassification were not initialized from the model checkpoint at roberta-large and are newly initialized: ['classifier.dense.bias', 'classifier.dense.weight', 'classifier.out_proj.bias', 'classifier.out_proj.weight']\n",
      "You should probably TRAIN this model on a down-stream task to be able to use it for predictions and inference.\n"
     ]
    },
    {
     "name": "stdout",
     "output_type": "stream",
     "text": [
      "✅ Froze first 6 layers.\n",
      "Validation Accuracy: 0.6308\n",
      "\n",
      "Training with parameters: {'learning_rate': 1e-05, 'batch_size': 16, 'weight_decay': 0.01, 'num_frozen_layers': 12}\n"
     ]
    },
    {
     "name": "stderr",
     "output_type": "stream",
     "text": [
      "Some weights of RobertaForSequenceClassification were not initialized from the model checkpoint at roberta-large and are newly initialized: ['classifier.dense.bias', 'classifier.dense.weight', 'classifier.out_proj.bias', 'classifier.out_proj.weight']\n",
      "You should probably TRAIN this model on a down-stream task to be able to use it for predictions and inference.\n"
     ]
    },
    {
     "name": "stdout",
     "output_type": "stream",
     "text": [
      "✅ Froze first 12 layers.\n",
      "Validation Accuracy: 0.5795\n",
      "\n",
      "Training with parameters: {'learning_rate': 1e-05, 'batch_size': 16, 'weight_decay': 0.01, 'num_frozen_layers': 18}\n"
     ]
    },
    {
     "name": "stderr",
     "output_type": "stream",
     "text": [
      "Some weights of RobertaForSequenceClassification were not initialized from the model checkpoint at roberta-large and are newly initialized: ['classifier.dense.bias', 'classifier.dense.weight', 'classifier.out_proj.bias', 'classifier.out_proj.weight']\n",
      "You should probably TRAIN this model on a down-stream task to be able to use it for predictions and inference.\n"
     ]
    },
    {
     "name": "stdout",
     "output_type": "stream",
     "text": [
      "✅ Froze first 18 layers.\n",
      "Validation Accuracy: 0.6923\n",
      "\n",
      "Training with parameters: {'learning_rate': 1e-05, 'batch_size': 16, 'weight_decay': 0.01, 'num_frozen_layers': 20}\n"
     ]
    },
    {
     "name": "stderr",
     "output_type": "stream",
     "text": [
      "Some weights of RobertaForSequenceClassification were not initialized from the model checkpoint at roberta-large and are newly initialized: ['classifier.dense.bias', 'classifier.dense.weight', 'classifier.out_proj.bias', 'classifier.out_proj.weight']\n",
      "You should probably TRAIN this model on a down-stream task to be able to use it for predictions and inference.\n"
     ]
    },
    {
     "name": "stdout",
     "output_type": "stream",
     "text": [
      "✅ Froze first 20 layers.\n",
      "Validation Accuracy: 0.6308\n",
      "\n",
      "Training with parameters: {'learning_rate': 2e-05, 'batch_size': 8, 'weight_decay': 0.0, 'num_frozen_layers': 0}\n"
     ]
    },
    {
     "name": "stderr",
     "output_type": "stream",
     "text": [
      "Some weights of RobertaForSequenceClassification were not initialized from the model checkpoint at roberta-large and are newly initialized: ['classifier.dense.bias', 'classifier.dense.weight', 'classifier.out_proj.bias', 'classifier.out_proj.weight']\n",
      "You should probably TRAIN this model on a down-stream task to be able to use it for predictions and inference.\n"
     ]
    },
    {
     "name": "stdout",
     "output_type": "stream",
     "text": [
      "Validation Accuracy: 0.5744\n",
      "\n",
      "Training with parameters: {'learning_rate': 2e-05, 'batch_size': 8, 'weight_decay': 0.0, 'num_frozen_layers': 6}\n"
     ]
    },
    {
     "name": "stderr",
     "output_type": "stream",
     "text": [
      "Some weights of RobertaForSequenceClassification were not initialized from the model checkpoint at roberta-large and are newly initialized: ['classifier.dense.bias', 'classifier.dense.weight', 'classifier.out_proj.bias', 'classifier.out_proj.weight']\n",
      "You should probably TRAIN this model on a down-stream task to be able to use it for predictions and inference.\n"
     ]
    },
    {
     "name": "stdout",
     "output_type": "stream",
     "text": [
      "✅ Froze first 6 layers.\n",
      "Validation Accuracy: 0.7231\n",
      "\n",
      "Training with parameters: {'learning_rate': 2e-05, 'batch_size': 8, 'weight_decay': 0.0, 'num_frozen_layers': 12}\n"
     ]
    },
    {
     "name": "stderr",
     "output_type": "stream",
     "text": [
      "Some weights of RobertaForSequenceClassification were not initialized from the model checkpoint at roberta-large and are newly initialized: ['classifier.dense.bias', 'classifier.dense.weight', 'classifier.out_proj.bias', 'classifier.out_proj.weight']\n",
      "You should probably TRAIN this model on a down-stream task to be able to use it for predictions and inference.\n"
     ]
    },
    {
     "name": "stdout",
     "output_type": "stream",
     "text": [
      "✅ Froze first 12 layers.\n",
      "Validation Accuracy: 0.5692\n",
      "\n",
      "Training with parameters: {'learning_rate': 2e-05, 'batch_size': 8, 'weight_decay': 0.0, 'num_frozen_layers': 18}\n"
     ]
    },
    {
     "name": "stderr",
     "output_type": "stream",
     "text": [
      "Some weights of RobertaForSequenceClassification were not initialized from the model checkpoint at roberta-large and are newly initialized: ['classifier.dense.bias', 'classifier.dense.weight', 'classifier.out_proj.bias', 'classifier.out_proj.weight']\n",
      "You should probably TRAIN this model on a down-stream task to be able to use it for predictions and inference.\n"
     ]
    },
    {
     "name": "stdout",
     "output_type": "stream",
     "text": [
      "✅ Froze first 18 layers.\n",
      "Validation Accuracy: 0.6974\n",
      "\n",
      "Training with parameters: {'learning_rate': 2e-05, 'batch_size': 8, 'weight_decay': 0.0, 'num_frozen_layers': 20}\n"
     ]
    },
    {
     "name": "stderr",
     "output_type": "stream",
     "text": [
      "Some weights of RobertaForSequenceClassification were not initialized from the model checkpoint at roberta-large and are newly initialized: ['classifier.dense.bias', 'classifier.dense.weight', 'classifier.out_proj.bias', 'classifier.out_proj.weight']\n",
      "You should probably TRAIN this model on a down-stream task to be able to use it for predictions and inference.\n"
     ]
    },
    {
     "name": "stdout",
     "output_type": "stream",
     "text": [
      "✅ Froze first 20 layers.\n",
      "Validation Accuracy: 0.6718\n",
      "\n",
      "Training with parameters: {'learning_rate': 2e-05, 'batch_size': 8, 'weight_decay': 0.01, 'num_frozen_layers': 0}\n"
     ]
    },
    {
     "name": "stderr",
     "output_type": "stream",
     "text": [
      "Some weights of RobertaForSequenceClassification were not initialized from the model checkpoint at roberta-large and are newly initialized: ['classifier.dense.bias', 'classifier.dense.weight', 'classifier.out_proj.bias', 'classifier.out_proj.weight']\n",
      "You should probably TRAIN this model on a down-stream task to be able to use it for predictions and inference.\n"
     ]
    },
    {
     "name": "stdout",
     "output_type": "stream",
     "text": [
      "Validation Accuracy: 0.6923\n",
      "\n",
      "Training with parameters: {'learning_rate': 2e-05, 'batch_size': 8, 'weight_decay': 0.01, 'num_frozen_layers': 6}\n"
     ]
    },
    {
     "name": "stderr",
     "output_type": "stream",
     "text": [
      "Some weights of RobertaForSequenceClassification were not initialized from the model checkpoint at roberta-large and are newly initialized: ['classifier.dense.bias', 'classifier.dense.weight', 'classifier.out_proj.bias', 'classifier.out_proj.weight']\n",
      "You should probably TRAIN this model on a down-stream task to be able to use it for predictions and inference.\n"
     ]
    },
    {
     "name": "stdout",
     "output_type": "stream",
     "text": [
      "✅ Froze first 6 layers.\n",
      "Validation Accuracy: 0.6923\n",
      "\n",
      "Training with parameters: {'learning_rate': 2e-05, 'batch_size': 8, 'weight_decay': 0.01, 'num_frozen_layers': 12}\n"
     ]
    },
    {
     "name": "stderr",
     "output_type": "stream",
     "text": [
      "Some weights of RobertaForSequenceClassification were not initialized from the model checkpoint at roberta-large and are newly initialized: ['classifier.dense.bias', 'classifier.dense.weight', 'classifier.out_proj.bias', 'classifier.out_proj.weight']\n",
      "You should probably TRAIN this model on a down-stream task to be able to use it for predictions and inference.\n"
     ]
    },
    {
     "name": "stdout",
     "output_type": "stream",
     "text": [
      "✅ Froze first 12 layers.\n",
      "Validation Accuracy: 0.7436\n",
      "\n",
      "Training with parameters: {'learning_rate': 2e-05, 'batch_size': 8, 'weight_decay': 0.01, 'num_frozen_layers': 18}\n"
     ]
    },
    {
     "name": "stderr",
     "output_type": "stream",
     "text": [
      "Some weights of RobertaForSequenceClassification were not initialized from the model checkpoint at roberta-large and are newly initialized: ['classifier.dense.bias', 'classifier.dense.weight', 'classifier.out_proj.bias', 'classifier.out_proj.weight']\n",
      "You should probably TRAIN this model on a down-stream task to be able to use it for predictions and inference.\n"
     ]
    },
    {
     "name": "stdout",
     "output_type": "stream",
     "text": [
      "✅ Froze first 18 layers.\n",
      "Validation Accuracy: 0.6821\n",
      "\n",
      "Training with parameters: {'learning_rate': 2e-05, 'batch_size': 8, 'weight_decay': 0.01, 'num_frozen_layers': 20}\n"
     ]
    },
    {
     "name": "stderr",
     "output_type": "stream",
     "text": [
      "Some weights of RobertaForSequenceClassification were not initialized from the model checkpoint at roberta-large and are newly initialized: ['classifier.dense.bias', 'classifier.dense.weight', 'classifier.out_proj.bias', 'classifier.out_proj.weight']\n",
      "You should probably TRAIN this model on a down-stream task to be able to use it for predictions and inference.\n"
     ]
    },
    {
     "name": "stdout",
     "output_type": "stream",
     "text": [
      "✅ Froze first 20 layers.\n",
      "Validation Accuracy: 0.6667\n",
      "\n",
      "Training with parameters: {'learning_rate': 2e-05, 'batch_size': 16, 'weight_decay': 0.0, 'num_frozen_layers': 0}\n"
     ]
    },
    {
     "name": "stderr",
     "output_type": "stream",
     "text": [
      "Some weights of RobertaForSequenceClassification were not initialized from the model checkpoint at roberta-large and are newly initialized: ['classifier.dense.bias', 'classifier.dense.weight', 'classifier.out_proj.bias', 'classifier.out_proj.weight']\n",
      "You should probably TRAIN this model on a down-stream task to be able to use it for predictions and inference.\n"
     ]
    },
    {
     "name": "stdout",
     "output_type": "stream",
     "text": [
      "Validation Accuracy: 0.6974\n",
      "\n",
      "Training with parameters: {'learning_rate': 2e-05, 'batch_size': 16, 'weight_decay': 0.0, 'num_frozen_layers': 6}\n"
     ]
    },
    {
     "name": "stderr",
     "output_type": "stream",
     "text": [
      "Some weights of RobertaForSequenceClassification were not initialized from the model checkpoint at roberta-large and are newly initialized: ['classifier.dense.bias', 'classifier.dense.weight', 'classifier.out_proj.bias', 'classifier.out_proj.weight']\n",
      "You should probably TRAIN this model on a down-stream task to be able to use it for predictions and inference.\n"
     ]
    },
    {
     "name": "stdout",
     "output_type": "stream",
     "text": [
      "✅ Froze first 6 layers.\n",
      "Validation Accuracy: 0.7077\n",
      "\n",
      "Training with parameters: {'learning_rate': 2e-05, 'batch_size': 16, 'weight_decay': 0.0, 'num_frozen_layers': 12}\n"
     ]
    },
    {
     "name": "stderr",
     "output_type": "stream",
     "text": [
      "Some weights of RobertaForSequenceClassification were not initialized from the model checkpoint at roberta-large and are newly initialized: ['classifier.dense.bias', 'classifier.dense.weight', 'classifier.out_proj.bias', 'classifier.out_proj.weight']\n",
      "You should probably TRAIN this model on a down-stream task to be able to use it for predictions and inference.\n"
     ]
    },
    {
     "name": "stdout",
     "output_type": "stream",
     "text": [
      "✅ Froze first 12 layers.\n",
      "Validation Accuracy: 0.7179\n",
      "\n",
      "Training with parameters: {'learning_rate': 2e-05, 'batch_size': 16, 'weight_decay': 0.0, 'num_frozen_layers': 18}\n"
     ]
    },
    {
     "name": "stderr",
     "output_type": "stream",
     "text": [
      "Some weights of RobertaForSequenceClassification were not initialized from the model checkpoint at roberta-large and are newly initialized: ['classifier.dense.bias', 'classifier.dense.weight', 'classifier.out_proj.bias', 'classifier.out_proj.weight']\n",
      "You should probably TRAIN this model on a down-stream task to be able to use it for predictions and inference.\n"
     ]
    },
    {
     "name": "stdout",
     "output_type": "stream",
     "text": [
      "✅ Froze first 18 layers.\n",
      "Validation Accuracy: 0.5744\n",
      "\n",
      "Training with parameters: {'learning_rate': 2e-05, 'batch_size': 16, 'weight_decay': 0.0, 'num_frozen_layers': 20}\n"
     ]
    },
    {
     "name": "stderr",
     "output_type": "stream",
     "text": [
      "Some weights of RobertaForSequenceClassification were not initialized from the model checkpoint at roberta-large and are newly initialized: ['classifier.dense.bias', 'classifier.dense.weight', 'classifier.out_proj.bias', 'classifier.out_proj.weight']\n",
      "You should probably TRAIN this model on a down-stream task to be able to use it for predictions and inference.\n"
     ]
    },
    {
     "name": "stdout",
     "output_type": "stream",
     "text": [
      "✅ Froze first 20 layers.\n",
      "Validation Accuracy: 0.6615\n",
      "\n",
      "Training with parameters: {'learning_rate': 2e-05, 'batch_size': 16, 'weight_decay': 0.01, 'num_frozen_layers': 0}\n"
     ]
    },
    {
     "name": "stderr",
     "output_type": "stream",
     "text": [
      "Some weights of RobertaForSequenceClassification were not initialized from the model checkpoint at roberta-large and are newly initialized: ['classifier.dense.bias', 'classifier.dense.weight', 'classifier.out_proj.bias', 'classifier.out_proj.weight']\n",
      "You should probably TRAIN this model on a down-stream task to be able to use it for predictions and inference.\n"
     ]
    },
    {
     "name": "stdout",
     "output_type": "stream",
     "text": [
      "Validation Accuracy: 0.6667\n",
      "\n",
      "Training with parameters: {'learning_rate': 2e-05, 'batch_size': 16, 'weight_decay': 0.01, 'num_frozen_layers': 6}\n"
     ]
    },
    {
     "name": "stderr",
     "output_type": "stream",
     "text": [
      "Some weights of RobertaForSequenceClassification were not initialized from the model checkpoint at roberta-large and are newly initialized: ['classifier.dense.bias', 'classifier.dense.weight', 'classifier.out_proj.bias', 'classifier.out_proj.weight']\n",
      "You should probably TRAIN this model on a down-stream task to be able to use it for predictions and inference.\n"
     ]
    },
    {
     "name": "stdout",
     "output_type": "stream",
     "text": [
      "✅ Froze first 6 layers.\n",
      "Validation Accuracy: 0.6821\n",
      "\n",
      "Training with parameters: {'learning_rate': 2e-05, 'batch_size': 16, 'weight_decay': 0.01, 'num_frozen_layers': 12}\n"
     ]
    },
    {
     "name": "stderr",
     "output_type": "stream",
     "text": [
      "Some weights of RobertaForSequenceClassification were not initialized from the model checkpoint at roberta-large and are newly initialized: ['classifier.dense.bias', 'classifier.dense.weight', 'classifier.out_proj.bias', 'classifier.out_proj.weight']\n",
      "You should probably TRAIN this model on a down-stream task to be able to use it for predictions and inference.\n"
     ]
    },
    {
     "name": "stdout",
     "output_type": "stream",
     "text": [
      "✅ Froze first 12 layers.\n",
      "Validation Accuracy: 0.7026\n",
      "\n",
      "Training with parameters: {'learning_rate': 2e-05, 'batch_size': 16, 'weight_decay': 0.01, 'num_frozen_layers': 18}\n"
     ]
    },
    {
     "name": "stderr",
     "output_type": "stream",
     "text": [
      "Some weights of RobertaForSequenceClassification were not initialized from the model checkpoint at roberta-large and are newly initialized: ['classifier.dense.bias', 'classifier.dense.weight', 'classifier.out_proj.bias', 'classifier.out_proj.weight']\n",
      "You should probably TRAIN this model on a down-stream task to be able to use it for predictions and inference.\n"
     ]
    },
    {
     "name": "stdout",
     "output_type": "stream",
     "text": [
      "✅ Froze first 18 layers.\n",
      "Validation Accuracy: 0.6000\n",
      "\n",
      "Training with parameters: {'learning_rate': 2e-05, 'batch_size': 16, 'weight_decay': 0.01, 'num_frozen_layers': 20}\n"
     ]
    },
    {
     "name": "stderr",
     "output_type": "stream",
     "text": [
      "Some weights of RobertaForSequenceClassification were not initialized from the model checkpoint at roberta-large and are newly initialized: ['classifier.dense.bias', 'classifier.dense.weight', 'classifier.out_proj.bias', 'classifier.out_proj.weight']\n",
      "You should probably TRAIN this model on a down-stream task to be able to use it for predictions and inference.\n"
     ]
    },
    {
     "name": "stdout",
     "output_type": "stream",
     "text": [
      "✅ Froze first 20 layers.\n",
      "Validation Accuracy: 0.5487\n",
      "\n",
      "Training with parameters: {'learning_rate': 3e-05, 'batch_size': 8, 'weight_decay': 0.0, 'num_frozen_layers': 0}\n"
     ]
    },
    {
     "name": "stderr",
     "output_type": "stream",
     "text": [
      "Some weights of RobertaForSequenceClassification were not initialized from the model checkpoint at roberta-large and are newly initialized: ['classifier.dense.bias', 'classifier.dense.weight', 'classifier.out_proj.bias', 'classifier.out_proj.weight']\n",
      "You should probably TRAIN this model on a down-stream task to be able to use it for predictions and inference.\n"
     ]
    },
    {
     "name": "stdout",
     "output_type": "stream",
     "text": [
      "Validation Accuracy: 0.6923\n",
      "\n",
      "Training with parameters: {'learning_rate': 3e-05, 'batch_size': 8, 'weight_decay': 0.0, 'num_frozen_layers': 6}\n"
     ]
    },
    {
     "name": "stderr",
     "output_type": "stream",
     "text": [
      "Some weights of RobertaForSequenceClassification were not initialized from the model checkpoint at roberta-large and are newly initialized: ['classifier.dense.bias', 'classifier.dense.weight', 'classifier.out_proj.bias', 'classifier.out_proj.weight']\n",
      "You should probably TRAIN this model on a down-stream task to be able to use it for predictions and inference.\n"
     ]
    },
    {
     "name": "stdout",
     "output_type": "stream",
     "text": [
      "✅ Froze first 6 layers.\n",
      "Validation Accuracy: 0.5692\n",
      "\n",
      "Training with parameters: {'learning_rate': 3e-05, 'batch_size': 8, 'weight_decay': 0.0, 'num_frozen_layers': 12}\n"
     ]
    },
    {
     "name": "stderr",
     "output_type": "stream",
     "text": [
      "Some weights of RobertaForSequenceClassification were not initialized from the model checkpoint at roberta-large and are newly initialized: ['classifier.dense.bias', 'classifier.dense.weight', 'classifier.out_proj.bias', 'classifier.out_proj.weight']\n",
      "You should probably TRAIN this model on a down-stream task to be able to use it for predictions and inference.\n"
     ]
    },
    {
     "name": "stdout",
     "output_type": "stream",
     "text": [
      "✅ Froze first 12 layers.\n",
      "Validation Accuracy: 0.5692\n",
      "\n",
      "Training with parameters: {'learning_rate': 3e-05, 'batch_size': 8, 'weight_decay': 0.0, 'num_frozen_layers': 18}\n"
     ]
    },
    {
     "name": "stderr",
     "output_type": "stream",
     "text": [
      "Some weights of RobertaForSequenceClassification were not initialized from the model checkpoint at roberta-large and are newly initialized: ['classifier.dense.bias', 'classifier.dense.weight', 'classifier.out_proj.bias', 'classifier.out_proj.weight']\n",
      "You should probably TRAIN this model on a down-stream task to be able to use it for predictions and inference.\n"
     ]
    },
    {
     "name": "stdout",
     "output_type": "stream",
     "text": [
      "✅ Froze first 18 layers.\n",
      "Validation Accuracy: 0.4513\n",
      "\n",
      "Training with parameters: {'learning_rate': 3e-05, 'batch_size': 8, 'weight_decay': 0.0, 'num_frozen_layers': 20}\n"
     ]
    },
    {
     "name": "stderr",
     "output_type": "stream",
     "text": [
      "Some weights of RobertaForSequenceClassification were not initialized from the model checkpoint at roberta-large and are newly initialized: ['classifier.dense.bias', 'classifier.dense.weight', 'classifier.out_proj.bias', 'classifier.out_proj.weight']\n",
      "You should probably TRAIN this model on a down-stream task to be able to use it for predictions and inference.\n"
     ]
    },
    {
     "name": "stdout",
     "output_type": "stream",
     "text": [
      "✅ Froze first 20 layers.\n",
      "Validation Accuracy: 0.7282\n",
      "\n",
      "Training with parameters: {'learning_rate': 3e-05, 'batch_size': 8, 'weight_decay': 0.01, 'num_frozen_layers': 0}\n"
     ]
    },
    {
     "name": "stderr",
     "output_type": "stream",
     "text": [
      "Some weights of RobertaForSequenceClassification were not initialized from the model checkpoint at roberta-large and are newly initialized: ['classifier.dense.bias', 'classifier.dense.weight', 'classifier.out_proj.bias', 'classifier.out_proj.weight']\n",
      "You should probably TRAIN this model on a down-stream task to be able to use it for predictions and inference.\n"
     ]
    },
    {
     "name": "stdout",
     "output_type": "stream",
     "text": [
      "Validation Accuracy: 0.5692\n",
      "\n",
      "Training with parameters: {'learning_rate': 3e-05, 'batch_size': 8, 'weight_decay': 0.01, 'num_frozen_layers': 6}\n"
     ]
    },
    {
     "name": "stderr",
     "output_type": "stream",
     "text": [
      "Some weights of RobertaForSequenceClassification were not initialized from the model checkpoint at roberta-large and are newly initialized: ['classifier.dense.bias', 'classifier.dense.weight', 'classifier.out_proj.bias', 'classifier.out_proj.weight']\n",
      "You should probably TRAIN this model on a down-stream task to be able to use it for predictions and inference.\n"
     ]
    },
    {
     "name": "stdout",
     "output_type": "stream",
     "text": [
      "✅ Froze first 6 layers.\n",
      "Validation Accuracy: 0.7282\n",
      "\n",
      "Training with parameters: {'learning_rate': 3e-05, 'batch_size': 8, 'weight_decay': 0.01, 'num_frozen_layers': 12}\n"
     ]
    },
    {
     "name": "stderr",
     "output_type": "stream",
     "text": [
      "Some weights of RobertaForSequenceClassification were not initialized from the model checkpoint at roberta-large and are newly initialized: ['classifier.dense.bias', 'classifier.dense.weight', 'classifier.out_proj.bias', 'classifier.out_proj.weight']\n",
      "You should probably TRAIN this model on a down-stream task to be able to use it for predictions and inference.\n"
     ]
    },
    {
     "name": "stdout",
     "output_type": "stream",
     "text": [
      "✅ Froze first 12 layers.\n",
      "Validation Accuracy: 0.7077\n",
      "\n",
      "Training with parameters: {'learning_rate': 3e-05, 'batch_size': 8, 'weight_decay': 0.01, 'num_frozen_layers': 18}\n"
     ]
    },
    {
     "name": "stderr",
     "output_type": "stream",
     "text": [
      "Some weights of RobertaForSequenceClassification were not initialized from the model checkpoint at roberta-large and are newly initialized: ['classifier.dense.bias', 'classifier.dense.weight', 'classifier.out_proj.bias', 'classifier.out_proj.weight']\n",
      "You should probably TRAIN this model on a down-stream task to be able to use it for predictions and inference.\n"
     ]
    },
    {
     "name": "stdout",
     "output_type": "stream",
     "text": [
      "✅ Froze first 18 layers.\n",
      "Validation Accuracy: 0.7231\n",
      "\n",
      "Training with parameters: {'learning_rate': 3e-05, 'batch_size': 8, 'weight_decay': 0.01, 'num_frozen_layers': 20}\n"
     ]
    },
    {
     "name": "stderr",
     "output_type": "stream",
     "text": [
      "Some weights of RobertaForSequenceClassification were not initialized from the model checkpoint at roberta-large and are newly initialized: ['classifier.dense.bias', 'classifier.dense.weight', 'classifier.out_proj.bias', 'classifier.out_proj.weight']\n",
      "You should probably TRAIN this model on a down-stream task to be able to use it for predictions and inference.\n"
     ]
    },
    {
     "name": "stdout",
     "output_type": "stream",
     "text": [
      "✅ Froze first 20 layers.\n",
      "Validation Accuracy: 0.6462\n",
      "\n",
      "Training with parameters: {'learning_rate': 3e-05, 'batch_size': 16, 'weight_decay': 0.0, 'num_frozen_layers': 0}\n"
     ]
    },
    {
     "name": "stderr",
     "output_type": "stream",
     "text": [
      "Some weights of RobertaForSequenceClassification were not initialized from the model checkpoint at roberta-large and are newly initialized: ['classifier.dense.bias', 'classifier.dense.weight', 'classifier.out_proj.bias', 'classifier.out_proj.weight']\n",
      "You should probably TRAIN this model on a down-stream task to be able to use it for predictions and inference.\n"
     ]
    },
    {
     "name": "stdout",
     "output_type": "stream",
     "text": [
      "Validation Accuracy: 0.6564\n",
      "\n",
      "Training with parameters: {'learning_rate': 3e-05, 'batch_size': 16, 'weight_decay': 0.0, 'num_frozen_layers': 6}\n"
     ]
    },
    {
     "name": "stderr",
     "output_type": "stream",
     "text": [
      "Some weights of RobertaForSequenceClassification were not initialized from the model checkpoint at roberta-large and are newly initialized: ['classifier.dense.bias', 'classifier.dense.weight', 'classifier.out_proj.bias', 'classifier.out_proj.weight']\n",
      "You should probably TRAIN this model on a down-stream task to be able to use it for predictions and inference.\n"
     ]
    },
    {
     "name": "stdout",
     "output_type": "stream",
     "text": [
      "✅ Froze first 6 layers.\n",
      "Validation Accuracy: 0.5692\n",
      "\n",
      "Training with parameters: {'learning_rate': 3e-05, 'batch_size': 16, 'weight_decay': 0.0, 'num_frozen_layers': 12}\n"
     ]
    },
    {
     "name": "stderr",
     "output_type": "stream",
     "text": [
      "Some weights of RobertaForSequenceClassification were not initialized from the model checkpoint at roberta-large and are newly initialized: ['classifier.dense.bias', 'classifier.dense.weight', 'classifier.out_proj.bias', 'classifier.out_proj.weight']\n",
      "You should probably TRAIN this model on a down-stream task to be able to use it for predictions and inference.\n"
     ]
    },
    {
     "name": "stdout",
     "output_type": "stream",
     "text": [
      "✅ Froze first 12 layers.\n",
      "Validation Accuracy: 0.6308\n",
      "\n",
      "Training with parameters: {'learning_rate': 3e-05, 'batch_size': 16, 'weight_decay': 0.0, 'num_frozen_layers': 18}\n"
     ]
    },
    {
     "name": "stderr",
     "output_type": "stream",
     "text": [
      "Some weights of RobertaForSequenceClassification were not initialized from the model checkpoint at roberta-large and are newly initialized: ['classifier.dense.bias', 'classifier.dense.weight', 'classifier.out_proj.bias', 'classifier.out_proj.weight']\n",
      "You should probably TRAIN this model on a down-stream task to be able to use it for predictions and inference.\n"
     ]
    },
    {
     "name": "stdout",
     "output_type": "stream",
     "text": [
      "✅ Froze first 18 layers.\n",
      "Validation Accuracy: 0.7231\n",
      "\n",
      "Training with parameters: {'learning_rate': 3e-05, 'batch_size': 16, 'weight_decay': 0.0, 'num_frozen_layers': 20}\n"
     ]
    },
    {
     "name": "stderr",
     "output_type": "stream",
     "text": [
      "Some weights of RobertaForSequenceClassification were not initialized from the model checkpoint at roberta-large and are newly initialized: ['classifier.dense.bias', 'classifier.dense.weight', 'classifier.out_proj.bias', 'classifier.out_proj.weight']\n",
      "You should probably TRAIN this model on a down-stream task to be able to use it for predictions and inference.\n"
     ]
    },
    {
     "name": "stdout",
     "output_type": "stream",
     "text": [
      "✅ Froze first 20 layers.\n",
      "Validation Accuracy: 0.6718\n",
      "\n",
      "Training with parameters: {'learning_rate': 3e-05, 'batch_size': 16, 'weight_decay': 0.01, 'num_frozen_layers': 0}\n"
     ]
    },
    {
     "name": "stderr",
     "output_type": "stream",
     "text": [
      "Some weights of RobertaForSequenceClassification were not initialized from the model checkpoint at roberta-large and are newly initialized: ['classifier.dense.bias', 'classifier.dense.weight', 'classifier.out_proj.bias', 'classifier.out_proj.weight']\n",
      "You should probably TRAIN this model on a down-stream task to be able to use it for predictions and inference.\n"
     ]
    },
    {
     "name": "stdout",
     "output_type": "stream",
     "text": [
      "Validation Accuracy: 0.5538\n",
      "\n",
      "Training with parameters: {'learning_rate': 3e-05, 'batch_size': 16, 'weight_decay': 0.01, 'num_frozen_layers': 6}\n"
     ]
    },
    {
     "name": "stderr",
     "output_type": "stream",
     "text": [
      "Some weights of RobertaForSequenceClassification were not initialized from the model checkpoint at roberta-large and are newly initialized: ['classifier.dense.bias', 'classifier.dense.weight', 'classifier.out_proj.bias', 'classifier.out_proj.weight']\n",
      "You should probably TRAIN this model on a down-stream task to be able to use it for predictions and inference.\n"
     ]
    },
    {
     "name": "stdout",
     "output_type": "stream",
     "text": [
      "✅ Froze first 6 layers.\n",
      "Validation Accuracy: 0.7333\n",
      "\n",
      "Training with parameters: {'learning_rate': 3e-05, 'batch_size': 16, 'weight_decay': 0.01, 'num_frozen_layers': 12}\n"
     ]
    },
    {
     "name": "stderr",
     "output_type": "stream",
     "text": [
      "Some weights of RobertaForSequenceClassification were not initialized from the model checkpoint at roberta-large and are newly initialized: ['classifier.dense.bias', 'classifier.dense.weight', 'classifier.out_proj.bias', 'classifier.out_proj.weight']\n",
      "You should probably TRAIN this model on a down-stream task to be able to use it for predictions and inference.\n"
     ]
    },
    {
     "name": "stdout",
     "output_type": "stream",
     "text": [
      "✅ Froze first 12 layers.\n",
      "Validation Accuracy: 0.5692\n",
      "\n",
      "Training with parameters: {'learning_rate': 3e-05, 'batch_size': 16, 'weight_decay': 0.01, 'num_frozen_layers': 18}\n"
     ]
    },
    {
     "name": "stderr",
     "output_type": "stream",
     "text": [
      "Some weights of RobertaForSequenceClassification were not initialized from the model checkpoint at roberta-large and are newly initialized: ['classifier.dense.bias', 'classifier.dense.weight', 'classifier.out_proj.bias', 'classifier.out_proj.weight']\n",
      "You should probably TRAIN this model on a down-stream task to be able to use it for predictions and inference.\n"
     ]
    },
    {
     "name": "stdout",
     "output_type": "stream",
     "text": [
      "✅ Froze first 18 layers.\n"
     ]
    }
   ],
   "source": [
    "#The code below is for search grid which was used to decide the hyperparameters values\n",
    "import itertools\n",
    "\n",
    "# Define your hyperparameter search space\n",
    "param_grid = {\n",
    "    \"learning_rate\": [1e-5, 2e-5, 3e-5, 2e-6],\n",
    "    \"batch_size\": [8, 16],\n",
    "    \"weight_decay\": [0.0, 0.01],\n",
    "    \"num_frozen_layers\": [0, 6, 12, 18, 20]  # NEW!\n",
    "}\n",
    "\n",
    "# Create all combinations\n",
    "param_combinations = list(itertools.product(*param_grid.values()))\n",
    "param_names = list(param_grid.keys())\n",
    "\n",
    "best_val_acc = 0\n",
    "best_params = None\n",
    "\n",
    "for param_values in param_combinations:\n",
    "    params = dict(zip(param_names, param_values))\n",
    "    print(f\"\\nTraining with parameters: {params}\")\n",
    "\n",
    "    # Rebuild model and optimizer each time\n",
    "    model = RobertaForSequenceClassification.from_pretrained(\"roberta-large\", num_labels=2)\n",
    "    model.to(device)\n",
    "\n",
    "    # --- Freeze Layers ---\n",
    "    if params[\"num_frozen_layers\"] > 0:\n",
    "        for idx, layer in enumerate(model.roberta.encoder.layer):\n",
    "            if idx < params[\"num_frozen_layers\"]:\n",
    "                for param in layer.parameters():\n",
    "                    param.requires_grad = False\n",
    "        print(f\"✅ Froze first {params['num_frozen_layers']} layers.\")\n",
    "\n",
    "    optimizer = torch.optim.AdamW(model.parameters(), \n",
    "                                  lr=params[\"learning_rate\"], \n",
    "                                  weight_decay=params[\"weight_decay\"])\n",
    "\n",
    "    # Rebuild loaders if batch_size changes\n",
    "    train_loader = DataLoader(train_dataset, batch_size=params[\"batch_size\"], shuffle=True)\n",
    "    val_loader = DataLoader(val_dataset, batch_size=params[\"batch_size\"], shuffle=False)\n",
    "\n",
    "    # --- Training ---\n",
    "    for epoch in range(2):  # Short training for search\n",
    "        model.train()\n",
    "        for batch in train_loader:\n",
    "            batch = {k: (v.to(device) if isinstance(v, torch.Tensor) else v) for k, v in batch.items()}\n",
    "            inputs = {k: v for k, v in batch.items() if k != \"video_ids\"}\n",
    "\n",
    "            outputs = model(**inputs)\n",
    "            loss = outputs.loss\n",
    "\n",
    "            optimizer.zero_grad()\n",
    "            loss.backward()\n",
    "            optimizer.step()\n",
    "\n",
    "    # --- Validation ---\n",
    "    model.eval()\n",
    "    val_preds = []\n",
    "    val_labels = []\n",
    "    with torch.no_grad():\n",
    "        for batch in val_loader:\n",
    "            batch = {k: (v.to(device) if isinstance(v, torch.Tensor) else v) for k, v in batch.items()}\n",
    "            inputs = {k: v for k, v in batch.items() if k != \"video_ids\"}\n",
    "\n",
    "            outputs = model(**inputs)\n",
    "            logits = outputs.logits\n",
    "\n",
    "            preds = torch.argmax(logits, dim=1)\n",
    "            val_preds.extend(preds.cpu().numpy())\n",
    "            val_labels.extend(batch['labels'].cpu().numpy())\n",
    "\n",
    "    val_acc = accuracy_score(val_labels, val_preds)\n",
    "    print(f\"Validation Accuracy: {val_acc:.4f}\")\n",
    "\n",
    "    if val_acc > best_val_acc:\n",
    "        best_val_acc = val_acc\n",
    "        best_params = params\n",
    "\n",
    "print(f\"\\n Best Validation Accuracy: {best_val_acc:.4f}\")\n",
    "print(f\" Best Parameters: {best_params}\")\n"
   ]
  }
 ],
 "metadata": {
  "kernelspec": {
   "display_name": "exist2025",
   "language": "python",
   "name": "python3"
  },
  "language_info": {
   "codemirror_mode": {
    "name": "ipython",
    "version": 3
   },
   "file_extension": ".py",
   "mimetype": "text/x-python",
   "name": "python",
   "nbconvert_exporter": "python",
   "pygments_lexer": "ipython3",
   "version": "3.12.7"
  }
 },
 "nbformat": 4,
 "nbformat_minor": 5
}
