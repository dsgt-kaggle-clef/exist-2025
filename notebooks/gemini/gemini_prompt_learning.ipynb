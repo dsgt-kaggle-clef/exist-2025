{
 "cells": [
  {
   "cell_type": "code",
   "execution_count": 166,
   "metadata": {},
   "outputs": [],
   "source": [
    "import os\n",
    "from dotenv import load_dotenv\n",
    "import pandas as pd\n",
    "\n",
    "# Load environment variables from .env file\n",
    "load_dotenv()\n",
    "\n",
    "# Get API key from environment variable\n",
    "GOOGLE_API_KEY = os.getenv('GOOGLE_API_KEY')\n"
   ]
  },
  {
   "cell_type": "code",
   "execution_count": 167,
   "metadata": {},
   "outputs": [],
   "source": [
    "from google import genai\n",
    "from google.genai import types\n",
    "\n",
    "client = genai.Client(api_key=GOOGLE_API_KEY)"
   ]
  },
  {
   "cell_type": "code",
   "execution_count": 185,
   "metadata": {},
   "outputs": [],
   "source": [
    "model_name = \"gemini-2.5-pro-preview-05-06\" # @param [\"gemini-1.5-flash-latest\",\"gemini-2.0-flash-lite\",\"gemini-2.0-flash\",\"gemini-2.5-flash-preview-04-17\",\"gemini-2.5-pro-exp-03-25\"] {\"allow-input\":true, isTemplate: true}"
   ]
  },
  {
   "cell_type": "code",
   "execution_count": 177,
   "metadata": {},
   "outputs": [
    {
     "data": {
      "text/html": [
       "<div>\n",
       "<style scoped>\n",
       "    .dataframe tbody tr th:only-of-type {\n",
       "        vertical-align: middle;\n",
       "    }\n",
       "\n",
       "    .dataframe tbody tr th {\n",
       "        vertical-align: top;\n",
       "    }\n",
       "\n",
       "    .dataframe thead th {\n",
       "        text-align: right;\n",
       "    }\n",
       "</style>\n",
       "<table border=\"1\" class=\"dataframe\">\n",
       "  <thead>\n",
       "    <tr style=\"text-align: right;\">\n",
       "      <th></th>\n",
       "      <th>Unnamed: 0</th>\n",
       "      <th>id_EXIST</th>\n",
       "      <th>text</th>\n",
       "      <th>path_video</th>\n",
       "      <th>target</th>\n",
       "      <th>description</th>\n",
       "      <th>label</th>\n",
       "      <th>label_num</th>\n",
       "    </tr>\n",
       "  </thead>\n",
       "  <tbody>\n",
       "    <tr>\n",
       "      <th>139</th>\n",
       "      <td>744</td>\n",
       "      <td>220482</td>\n",
       "      <td>feel free to put ur opinions on the comments |...</td>\n",
       "      <td>videos/6978303589928291589.mp4</td>\n",
       "      <td>0.0</td>\n",
       "      <td>The video guesses viewers' sexual orientations...</td>\n",
       "      <td>YES</td>\n",
       "      <td>1.0</td>\n",
       "    </tr>\n",
       "    <tr>\n",
       "      <th>42</th>\n",
       "      <td>247</td>\n",
       "      <td>220840</td>\n",
       "      <td>this is most men's clit.  so i'm</td>\n",
       "      <td>videos/7099866647367781674.mp4</td>\n",
       "      <td>0.0</td>\n",
       "      <td>A TikTok video juxtaposes a woman reacting wit...</td>\n",
       "      <td>YES</td>\n",
       "      <td>1.0</td>\n",
       "    </tr>\n",
       "    <tr>\n",
       "      <th>117</th>\n",
       "      <td>663</td>\n",
       "      <td>220548</td>\n",
       "      <td>am i right or am i right? passport united stat...</td>\n",
       "      <td>videos/6994831286594587909.mp4</td>\n",
       "      <td>0.0</td>\n",
       "      <td>A woman uses a derogatory term to criticize ot...</td>\n",
       "      <td>YES</td>\n",
       "      <td>1.0</td>\n",
       "    </tr>\n",
       "    <tr>\n",
       "      <th>31</th>\n",
       "      <td>180</td>\n",
       "      <td>220487</td>\n",
       "      <td>reply to  still gonna rock all of these, would...</td>\n",
       "      <td>videos/6979219805903621382.mp4</td>\n",
       "      <td>0.0</td>\n",
       "      <td>A woman humorously critiques the revealing and...</td>\n",
       "      <td>YES</td>\n",
       "      <td>1.0</td>\n",
       "    </tr>\n",
       "  </tbody>\n",
       "</table>\n",
       "</div>"
      ],
      "text/plain": [
       "     Unnamed: 0  id_EXIST                                               text  \\\n",
       "139         744    220482  feel free to put ur opinions on the comments |...   \n",
       "42          247    220840                   this is most men's clit.  so i'm   \n",
       "117         663    220548  am i right or am i right? passport united stat...   \n",
       "31          180    220487  reply to  still gonna rock all of these, would...   \n",
       "\n",
       "                         path_video  target  \\\n",
       "139  videos/6978303589928291589.mp4     0.0   \n",
       "42   videos/7099866647367781674.mp4     0.0   \n",
       "117  videos/6994831286594587909.mp4     0.0   \n",
       "31   videos/6979219805903621382.mp4     0.0   \n",
       "\n",
       "                                           description label  label_num  \n",
       "139  The video guesses viewers' sexual orientations...   YES        1.0  \n",
       "42   A TikTok video juxtaposes a woman reacting wit...   YES        1.0  \n",
       "117  A woman uses a derogatory term to criticize ot...   YES        1.0  \n",
       "31   A woman humorously critiques the revealing and...   YES        1.0  "
      ]
     },
     "execution_count": 177,
     "metadata": {},
     "output_type": "execute_result"
    }
   ],
   "source": [
    "df_trial_fp = pd.read_csv(\"/Volumes/T7/OMSCS/CLEF2025/EXIST2025/exist-2025/notebooks/gemini/eval_results/trial1_fp.csv\")\n",
    "df_trial_fp['label_num'] = df_trial_fp['label'].map({'YES': 1.0, 'NO': 0.0})\n",
    "# df_trial_fp = df_trial_fp[:10]\n",
    "df_trial_fp = df_trial_fp.sample(n=4)\n",
    "\n",
    "df_trial_fp"
   ]
  },
  {
   "cell_type": "code",
   "execution_count": 178,
   "metadata": {},
   "outputs": [
    {
     "data": {
      "text/html": [
       "<div>\n",
       "<style scoped>\n",
       "    .dataframe tbody tr th:only-of-type {\n",
       "        vertical-align: middle;\n",
       "    }\n",
       "\n",
       "    .dataframe tbody tr th {\n",
       "        vertical-align: top;\n",
       "    }\n",
       "\n",
       "    .dataframe thead th {\n",
       "        text-align: right;\n",
       "    }\n",
       "</style>\n",
       "<table border=\"1\" class=\"dataframe\">\n",
       "  <thead>\n",
       "    <tr style=\"text-align: right;\">\n",
       "      <th></th>\n",
       "      <th>id_EXIST</th>\n",
       "      <th>text</th>\n",
       "      <th>path_video</th>\n",
       "      <th>target</th>\n",
       "    </tr>\n",
       "  </thead>\n",
       "  <tbody>\n",
       "    <tr>\n",
       "      <th>0</th>\n",
       "      <td>220242</td>\n",
       "      <td>these men stay  sparkles pressed sparkles  che...</td>\n",
       "      <td>videos/6920327322679692545.mp4</td>\n",
       "      <td>1</td>\n",
       "    </tr>\n",
       "    <tr>\n",
       "      <th>1</th>\n",
       "      <td>220296</td>\n",
       "      <td>beaming_face_with_smiling_eyes  ‘school’ pent...</td>\n",
       "      <td>videos/6935046770778967302.mp4</td>\n",
       "      <td>1</td>\n",
       "    </tr>\n",
       "    <tr>\n",
       "      <th>2</th>\n",
       "      <td>220920</td>\n",
       "      <td>don’t laugh at your girlfriends choice, you ar...</td>\n",
       "      <td>videos/7123342389338443009.mp4</td>\n",
       "      <td>0</td>\n",
       "    </tr>\n",
       "    <tr>\n",
       "      <th>3</th>\n",
       "      <td>220768</td>\n",
       "      <td>i guess she’s not wrong  face_with_tears_of_jo...</td>\n",
       "      <td>videos/7076153533996928302.mp4</td>\n",
       "      <td>1</td>\n",
       "    </tr>\n",
       "    <tr>\n",
       "      <th>4</th>\n",
       "      <td>220665</td>\n",
       "      <td>women, why do we do this?  woman_facepalming_m...</td>\n",
       "      <td>videos/7039365996053794053.mp4</td>\n",
       "      <td>1</td>\n",
       "    </tr>\n",
       "    <tr>\n",
       "      <th>...</th>\n",
       "      <td>...</td>\n",
       "      <td>...</td>\n",
       "      <td>...</td>\n",
       "      <td>...</td>\n",
       "    </tr>\n",
       "    <tr>\n",
       "      <th>968</th>\n",
       "      <td>220599</td>\n",
       "      <td>can i come live with someone else pls? clean t...</td>\n",
       "      <td>videos/7014652808725155078.mp4</td>\n",
       "      <td>1</td>\n",
       "    </tr>\n",
       "    <tr>\n",
       "      <th>969</th>\n",
       "      <td>220337</td>\n",
       "      <td>with walking into my purpose, a new challenge ...</td>\n",
       "      <td>videos/6943386660419718406.mp4</td>\n",
       "      <td>0</td>\n",
       "    </tr>\n",
       "    <tr>\n",
       "      <th>970</th>\n",
       "      <td>220901</td>\n",
       "      <td>men are being lazy. you see ladies out here g...</td>\n",
       "      <td>videos/7119092344711859462.mp4</td>\n",
       "      <td>1</td>\n",
       "    </tr>\n",
       "    <tr>\n",
       "      <th>971</th>\n",
       "      <td>220872</td>\n",
       "      <td>xin chào officially, there are 42 offices with...</td>\n",
       "      <td>videos/7108633528530701594.mp4</td>\n",
       "      <td>0</td>\n",
       "    </tr>\n",
       "    <tr>\n",
       "      <th>972</th>\n",
       "      <td>220824</td>\n",
       "      <td>black_heart  hi, are you okay? can you hear m...</td>\n",
       "      <td>videos/7095889940986350854.mp4</td>\n",
       "      <td>0</td>\n",
       "    </tr>\n",
       "  </tbody>\n",
       "</table>\n",
       "<p>973 rows × 4 columns</p>\n",
       "</div>"
      ],
      "text/plain": [
       "     id_EXIST                                               text  \\\n",
       "0      220242  these men stay  sparkles pressed sparkles  che...   \n",
       "1      220296   beaming_face_with_smiling_eyes  ‘school’ pent...   \n",
       "2      220920  don’t laugh at your girlfriends choice, you ar...   \n",
       "3      220768  i guess she’s not wrong  face_with_tears_of_jo...   \n",
       "4      220665  women, why do we do this?  woman_facepalming_m...   \n",
       "..        ...                                                ...   \n",
       "968    220599  can i come live with someone else pls? clean t...   \n",
       "969    220337  with walking into my purpose, a new challenge ...   \n",
       "970    220901   men are being lazy. you see ladies out here g...   \n",
       "971    220872  xin chào officially, there are 42 offices with...   \n",
       "972    220824   black_heart  hi, are you okay? can you hear m...   \n",
       "\n",
       "                         path_video  target  \n",
       "0    videos/6920327322679692545.mp4       1  \n",
       "1    videos/6935046770778967302.mp4       1  \n",
       "2    videos/7123342389338443009.mp4       0  \n",
       "3    videos/7076153533996928302.mp4       1  \n",
       "4    videos/7039365996053794053.mp4       1  \n",
       "..                              ...     ...  \n",
       "968  videos/7014652808725155078.mp4       1  \n",
       "969  videos/6943386660419718406.mp4       0  \n",
       "970  videos/7119092344711859462.mp4       1  \n",
       "971  videos/7108633528530701594.mp4       0  \n",
       "972  videos/7095889940986350854.mp4       0  \n",
       "\n",
       "[973 rows x 4 columns]"
      ]
     },
     "execution_count": 178,
     "metadata": {},
     "output_type": "execute_result"
    }
   ],
   "source": [
    "train_df = pd.read_csv(\"/Volumes/T7/OMSCS/CLEF2025/EXIST2025/exist-2025/notebooks/train_test_split/train_df.csv\")\n",
    "valid_df = pd.read_csv(\"/Volumes/T7/OMSCS/CLEF2025/EXIST2025/exist-2025/notebooks/train_test_split/valid_df.csv\")\n",
    "test_df = pd.read_csv(\"/Volumes/T7/OMSCS/CLEF2025/EXIST2025/exist-2025/notebooks/train_test_split/test_df.csv\")\n",
    "\n",
    "cols_to_rem = ['id_Tiktok','lang','video','url','annotators',\n",
    "               'number_annotators','gender_annotators',\n",
    "               'labels_task3_1','labels_task3_2','labels_task3_3','split']\n",
    "\n",
    "train_df = train_df.drop(columns=cols_to_rem)\n",
    "valid_df = valid_df.drop(columns=cols_to_rem)\n",
    "test_df = test_df.drop(columns=cols_to_rem)\n",
    "\n",
    "df_all = pd.concat([train_df, valid_df, test_df], axis=0, ignore_index=True)\n",
    "df_all\n"
   ]
  },
  {
   "cell_type": "code",
   "execution_count": 179,
   "metadata": {},
   "outputs": [
    {
     "data": {
      "text/html": [
       "<div>\n",
       "<style scoped>\n",
       "    .dataframe tbody tr th:only-of-type {\n",
       "        vertical-align: middle;\n",
       "    }\n",
       "\n",
       "    .dataframe tbody tr th {\n",
       "        vertical-align: top;\n",
       "    }\n",
       "\n",
       "    .dataframe thead th {\n",
       "        text-align: right;\n",
       "    }\n",
       "</style>\n",
       "<table border=\"1\" class=\"dataframe\">\n",
       "  <thead>\n",
       "    <tr style=\"text-align: right;\">\n",
       "      <th></th>\n",
       "      <th>id_EXIST</th>\n",
       "      <th>text</th>\n",
       "      <th>path_video</th>\n",
       "      <th>target</th>\n",
       "    </tr>\n",
       "  </thead>\n",
       "  <tbody>\n",
       "    <tr>\n",
       "      <th>963</th>\n",
       "      <td>220601</td>\n",
       "      <td>text  maddison hutton. clean the above detect...</td>\n",
       "      <td>videos/7014944407195569413.mp4</td>\n",
       "      <td>0</td>\n",
       "    </tr>\n",
       "    <tr>\n",
       "      <th>459</th>\n",
       "      <td>220033</td>\n",
       "      <td>having the best mom be like... step-mom, you c...</td>\n",
       "      <td>videos/6814244764108541190.mp4</td>\n",
       "      <td>0</td>\n",
       "    </tr>\n",
       "    <tr>\n",
       "      <th>548</th>\n",
       "      <td>220303</td>\n",
       "      <td>she’s so cute when she’s sleepy pleading_face ...</td>\n",
       "      <td>videos/6938076074215542021.mp4</td>\n",
       "      <td>0</td>\n",
       "    </tr>\n",
       "    <tr>\n",
       "      <th>378</th>\n",
       "      <td>220224</td>\n",
       "      <td>find a pregnant lady and hold her belly 'daddy...</td>\n",
       "      <td>videos/6913316057935514885.mp4</td>\n",
       "      <td>0</td>\n",
       "    </tr>\n",
       "    <tr>\n",
       "      <th>31</th>\n",
       "      <td>220255</td>\n",
       "      <td>i don’t like my step mom at all. dad  can i pl...</td>\n",
       "      <td>videos/6923864192139152645.mp4</td>\n",
       "      <td>0</td>\n",
       "    </tr>\n",
       "    <tr>\n",
       "      <th>314</th>\n",
       "      <td>220671</td>\n",
       "      <td>men and women are often compared, but the com...</td>\n",
       "      <td>videos/7041569616254012677.mp4</td>\n",
       "      <td>1</td>\n",
       "    </tr>\n",
       "    <tr>\n",
       "      <th>365</th>\n",
       "      <td>220402</td>\n",
       "      <td>girls vs boys girls playing forza at 3am  \"com...</td>\n",
       "      <td>videos/6962382682248482053.mp4</td>\n",
       "      <td>1</td>\n",
       "    </tr>\n",
       "    <tr>\n",
       "      <th>601</th>\n",
       "      <td>220396</td>\n",
       "      <td>lower your expectations! you want a nice girl,...</td>\n",
       "      <td>videos/6961557595891043589.mp4</td>\n",
       "      <td>1</td>\n",
       "    </tr>\n",
       "    <tr>\n",
       "      <th>584</th>\n",
       "      <td>220250</td>\n",
       "      <td>the last one is so important. which is your fa...</td>\n",
       "      <td>videos/6922184169908915462.mp4</td>\n",
       "      <td>1</td>\n",
       "    </tr>\n",
       "    <tr>\n",
       "      <th>921</th>\n",
       "      <td>220463</td>\n",
       "      <td>reply to   i still might buy that cyber truck ...</td>\n",
       "      <td>videos/6973835716358917382.mp4</td>\n",
       "      <td>1</td>\n",
       "    </tr>\n",
       "  </tbody>\n",
       "</table>\n",
       "</div>"
      ],
      "text/plain": [
       "     id_EXIST                                               text  \\\n",
       "963    220601   text  maddison hutton. clean the above detect...   \n",
       "459    220033  having the best mom be like... step-mom, you c...   \n",
       "548    220303  she’s so cute when she’s sleepy pleading_face ...   \n",
       "378    220224  find a pregnant lady and hold her belly 'daddy...   \n",
       "31     220255  i don’t like my step mom at all. dad  can i pl...   \n",
       "314    220671   men and women are often compared, but the com...   \n",
       "365    220402  girls vs boys girls playing forza at 3am  \"com...   \n",
       "601    220396  lower your expectations! you want a nice girl,...   \n",
       "584    220250  the last one is so important. which is your fa...   \n",
       "921    220463  reply to   i still might buy that cyber truck ...   \n",
       "\n",
       "                         path_video  target  \n",
       "963  videos/7014944407195569413.mp4       0  \n",
       "459  videos/6814244764108541190.mp4       0  \n",
       "548  videos/6938076074215542021.mp4       0  \n",
       "378  videos/6913316057935514885.mp4       0  \n",
       "31   videos/6923864192139152645.mp4       0  \n",
       "314  videos/7041569616254012677.mp4       1  \n",
       "365  videos/6962382682248482053.mp4       1  \n",
       "601  videos/6961557595891043589.mp4       1  \n",
       "584  videos/6922184169908915462.mp4       1  \n",
       "921  videos/6973835716358917382.mp4       1  "
      ]
     },
     "execution_count": 179,
     "metadata": {},
     "output_type": "execute_result"
    }
   ],
   "source": [
    "# Get the id_EXIST values from df_trial_fp\n",
    "trial_ids = df_trial_fp['id_EXIST'].values\n",
    "\n",
    "# Remove rows from df_all where id_EXIST is in trial_ids\n",
    "df_all = df_all[~df_all['id_EXIST'].isin(trial_ids)]\n",
    "n =10\n",
    "# Get equal number of samples from each target class\n",
    "n_per_class = n // 2  # Integer division to get equal numbers\n",
    "df_0 = df_all[df_all['target'] == 0].sample(n=n_per_class, replace=True)\n",
    "df_1 = df_all[df_all['target'] == 1].sample(n=n_per_class + (n % 2), replace=True)  # Add remainder if odd\n",
    "df_all = pd.concat([df_0, df_1])\n",
    "\n",
    "df_all"
   ]
  },
  {
   "cell_type": "code",
   "execution_count": 180,
   "metadata": {},
   "outputs": [
    {
     "data": {
      "text/html": [
       "<div>\n",
       "<style scoped>\n",
       "    .dataframe tbody tr th:only-of-type {\n",
       "        vertical-align: middle;\n",
       "    }\n",
       "\n",
       "    .dataframe tbody tr th {\n",
       "        vertical-align: top;\n",
       "    }\n",
       "\n",
       "    .dataframe thead th {\n",
       "        text-align: right;\n",
       "    }\n",
       "</style>\n",
       "<table border=\"1\" class=\"dataframe\">\n",
       "  <thead>\n",
       "    <tr style=\"text-align: right;\">\n",
       "      <th></th>\n",
       "      <th>id_EXIST</th>\n",
       "      <th>path_video</th>\n",
       "      <th>target</th>\n",
       "      <th>text</th>\n",
       "    </tr>\n",
       "  </thead>\n",
       "  <tbody>\n",
       "    <tr>\n",
       "      <th>0</th>\n",
       "      <td>220601</td>\n",
       "      <td>videos/7014944407195569413.mp4</td>\n",
       "      <td>0.0</td>\n",
       "      <td>text  maddison hutton. clean the above detect...</td>\n",
       "    </tr>\n",
       "    <tr>\n",
       "      <th>1</th>\n",
       "      <td>220033</td>\n",
       "      <td>videos/6814244764108541190.mp4</td>\n",
       "      <td>0.0</td>\n",
       "      <td>having the best mom be like... step-mom, you c...</td>\n",
       "    </tr>\n",
       "    <tr>\n",
       "      <th>2</th>\n",
       "      <td>220303</td>\n",
       "      <td>videos/6938076074215542021.mp4</td>\n",
       "      <td>0.0</td>\n",
       "      <td>she’s so cute when she’s sleepy pleading_face ...</td>\n",
       "    </tr>\n",
       "    <tr>\n",
       "      <th>3</th>\n",
       "      <td>220224</td>\n",
       "      <td>videos/6913316057935514885.mp4</td>\n",
       "      <td>0.0</td>\n",
       "      <td>find a pregnant lady and hold her belly 'daddy...</td>\n",
       "    </tr>\n",
       "    <tr>\n",
       "      <th>4</th>\n",
       "      <td>220255</td>\n",
       "      <td>videos/6923864192139152645.mp4</td>\n",
       "      <td>0.0</td>\n",
       "      <td>i don’t like my step mom at all. dad  can i pl...</td>\n",
       "    </tr>\n",
       "    <tr>\n",
       "      <th>5</th>\n",
       "      <td>220671</td>\n",
       "      <td>videos/7041569616254012677.mp4</td>\n",
       "      <td>1.0</td>\n",
       "      <td>men and women are often compared, but the com...</td>\n",
       "    </tr>\n",
       "    <tr>\n",
       "      <th>6</th>\n",
       "      <td>220402</td>\n",
       "      <td>videos/6962382682248482053.mp4</td>\n",
       "      <td>1.0</td>\n",
       "      <td>girls vs boys girls playing forza at 3am  \"com...</td>\n",
       "    </tr>\n",
       "    <tr>\n",
       "      <th>7</th>\n",
       "      <td>220396</td>\n",
       "      <td>videos/6961557595891043589.mp4</td>\n",
       "      <td>1.0</td>\n",
       "      <td>lower your expectations! you want a nice girl,...</td>\n",
       "    </tr>\n",
       "    <tr>\n",
       "      <th>8</th>\n",
       "      <td>220250</td>\n",
       "      <td>videos/6922184169908915462.mp4</td>\n",
       "      <td>1.0</td>\n",
       "      <td>the last one is so important. which is your fa...</td>\n",
       "    </tr>\n",
       "    <tr>\n",
       "      <th>9</th>\n",
       "      <td>220463</td>\n",
       "      <td>videos/6973835716358917382.mp4</td>\n",
       "      <td>1.0</td>\n",
       "      <td>reply to   i still might buy that cyber truck ...</td>\n",
       "    </tr>\n",
       "    <tr>\n",
       "      <th>10</th>\n",
       "      <td>220482</td>\n",
       "      <td>videos/6978303589928291589.mp4</td>\n",
       "      <td>0.0</td>\n",
       "      <td>feel free to put ur opinions on the comments |...</td>\n",
       "    </tr>\n",
       "    <tr>\n",
       "      <th>11</th>\n",
       "      <td>220840</td>\n",
       "      <td>videos/7099866647367781674.mp4</td>\n",
       "      <td>0.0</td>\n",
       "      <td>this is most men's clit.  so i'm</td>\n",
       "    </tr>\n",
       "    <tr>\n",
       "      <th>12</th>\n",
       "      <td>220548</td>\n",
       "      <td>videos/6994831286594587909.mp4</td>\n",
       "      <td>0.0</td>\n",
       "      <td>am i right or am i right? passport united stat...</td>\n",
       "    </tr>\n",
       "    <tr>\n",
       "      <th>13</th>\n",
       "      <td>220487</td>\n",
       "      <td>videos/6979219805903621382.mp4</td>\n",
       "      <td>0.0</td>\n",
       "      <td>reply to  still gonna rock all of these, would...</td>\n",
       "    </tr>\n",
       "  </tbody>\n",
       "</table>\n",
       "</div>"
      ],
      "text/plain": [
       "    id_EXIST                      path_video  target  \\\n",
       "0     220601  videos/7014944407195569413.mp4     0.0   \n",
       "1     220033  videos/6814244764108541190.mp4     0.0   \n",
       "2     220303  videos/6938076074215542021.mp4     0.0   \n",
       "3     220224  videos/6913316057935514885.mp4     0.0   \n",
       "4     220255  videos/6923864192139152645.mp4     0.0   \n",
       "5     220671  videos/7041569616254012677.mp4     1.0   \n",
       "6     220402  videos/6962382682248482053.mp4     1.0   \n",
       "7     220396  videos/6961557595891043589.mp4     1.0   \n",
       "8     220250  videos/6922184169908915462.mp4     1.0   \n",
       "9     220463  videos/6973835716358917382.mp4     1.0   \n",
       "10    220482  videos/6978303589928291589.mp4     0.0   \n",
       "11    220840  videos/7099866647367781674.mp4     0.0   \n",
       "12    220548  videos/6994831286594587909.mp4     0.0   \n",
       "13    220487  videos/6979219805903621382.mp4     0.0   \n",
       "\n",
       "                                                 text  \n",
       "0    text  maddison hutton. clean the above detect...  \n",
       "1   having the best mom be like... step-mom, you c...  \n",
       "2   she’s so cute when she’s sleepy pleading_face ...  \n",
       "3   find a pregnant lady and hold her belly 'daddy...  \n",
       "4   i don’t like my step mom at all. dad  can i pl...  \n",
       "5    men and women are often compared, but the com...  \n",
       "6   girls vs boys girls playing forza at 3am  \"com...  \n",
       "7   lower your expectations! you want a nice girl,...  \n",
       "8   the last one is so important. which is your fa...  \n",
       "9   reply to   i still might buy that cyber truck ...  \n",
       "10  feel free to put ur opinions on the comments |...  \n",
       "11                   this is most men's clit.  so i'm  \n",
       "12  am i right or am i right? passport united stat...  \n",
       "13  reply to  still gonna rock all of these, would...  "
      ]
     },
     "execution_count": 180,
     "metadata": {},
     "output_type": "execute_result"
    }
   ],
   "source": [
    "# Select only the specified columns from both dataframes\n",
    "df_all_subset = df_all[['id_EXIST', 'path_video', 'target','text']]\n",
    "df_trial_subset = df_trial_fp[['id_EXIST', 'path_video', 'target','text']]\n",
    "\n",
    "# Concatenate the two dataframes\n",
    "df_combined = pd.concat([df_all_subset, df_trial_subset], axis=0, ignore_index=True)\n",
    "df_combined"
   ]
  },
  {
   "cell_type": "code",
   "execution_count": 181,
   "metadata": {},
   "outputs": [],
   "source": [
    "# sexism_prompt = (\n",
    "#     \"You are an expert in detecting sexism in video content. Take the role of a female\"\n",
    "#     \"Your task is to assess whether the video either displays or critiques sexist content. \"\n",
    "#     \"You will first be shown several example videos that have already been labeled as either sexist or not sexist, based on clear criteria.\"\n",
    "#     \"Sexism is considered present if the content falls into any of the following five categories: \"\n",
    "#     \"(i) IDEOLOGICAL AND INEQUALITY — promoting or reinforcing beliefs about male superiority or social inequality between genders, \"\n",
    "#     \"(ii) STEREOTYPING AND DOMINANCE — reinforcing traditional gender roles or power imbalance, \"\n",
    "#     \"(iii) OBJECTIFICATION — reducing a person (typically a woman) to their body or physical appearance, \"\n",
    "#     \"(iv) SEXUAL VIOLENCE — explicit or implied depictions of harassment, assault, or coercion, \"\n",
    "#     \"(v) MISOGYNY AND NON-SEXUAL VIOLENCE — expressing hatred or aggression toward women in non-sexual ways. \"\n",
    "#     \"You must be **extra critical and cautious** in your assessment. Ultimately, the judgement criteria used in the example videos is the one you should use to label the new videos.\"\n",
    "#     \"Please respond strictly in the following JSON format:\\n\\n\"\n",
    "#     '{\\n'\n",
    "#     '  \"description\": \"[Your one-sentence description of the video]\",\\n'\n",
    "#     '  \"label\": \"YES\" or \"NO\",\\n'\n",
    "#     '  \"analysis\": \"[One or two sentences explaining why the video is or isnt sexist, with reference to one or more of the five categories]\"\\n'\n",
    "#     '}\\n\\n'\n",
    "#     \"Only return valid JSON. Do not include any explanations, category names, or extra text outside the JSON.\"\n",
    "# )\n",
    "\n",
    "sexism_prompt = (\n",
    "    \"\"\"\n",
    "    You are an expert in identifying the presence of sexism in video content. \n",
    "    Your task is to assess whether the video shows or critiques sexism (defined as marginalization, stereotypes about women, male superiority, or misogyny). \n",
    "    {\n",
    "    \"description\": \"[One sentence describing the video's relevant content AND, crucially, the video's *own apparent stance or framing* of that content, focusing on whether the video *itself* promotes, endorses, or normalizes sexism.]\",\n",
    "    \"label\": \"YES\" or \"NO\"\n",
    "    \"analysis\": [One sentence describing the reason why it was labelled as YES or NO]\n",
    "    \"probability\": Give a number between 0 and 1 based on how confident you are on the label where >= 0.5 and < 1 implies a label of \"YES\" and between 0 and 0.5 implies a label of NO\n",
    "    }\n",
    "    Only return valid JSON. Do not include any explanations or extra text.\n",
    "    \"\"\"\n",
    ")\n",
    "\n",
    "# sexism_prompt = (\n",
    "#     \"\"\"\n",
    "#     You are an expert in identifying sexism in video content. Your primary task is to distinguish between videos that *are themselves sexist* (i.e., they actively promote, endorse, or normalize sexism through their own message, framing, or overall presentation) and videos that merely *depict or discuss* sexist content (e.g., for critique, satire, factual reporting, or as part of a narrative without the video *itself* endorsing the sexism).\n",
    "\n",
    "#     **The core question is: Does the video *itself* actively promote, endorse, or normalize sexism?**\n",
    "\n",
    "#     Sexism is defined as the *video itself* communicating one or more of the following, in a way that the video *actively promotes or clearly endorses as acceptable, normal, or true*, thereby contributing to inequality or harm:\n",
    "\n",
    "#     *   **Marginalization:** The video *itself* presents women as inherently less important, capable, or deserving, or unfairly limits their opportunities or voice *due to their gender*, in a manner the video appears to support or normalize.\n",
    "#     *   **Harmful Stereotypes:** The video *itself* actively promotes demeaning, limiting, or broadly negative generalizations about women that reinforce inequality. This excludes neutral or humorous gender-based observations *unless the video clearly uses that humor with the primary intent to belittle, restrict women, or justify inequality based on their gender, and the video's overall framing endorses this harmful impact.*\n",
    "#     *   **Male Superiority:** The video *itself* asserts or implies men's inherent dominance, greater value, or rightful control over women, framing this as natural, desirable, or justified.\n",
    "#     *   **Misogyny:** The video *itself* expresses or encourages hatred, contempt, or ingrained prejudice against women.\n",
    "\n",
    "#     **Crucial Decision Point (Labeling):**\n",
    "\n",
    "#     *   **Label \"YES\"**: If the video's *own discernible message, tone, narrative voice, or overall presentation* clearly and actively promotes, endorses, normalizes, or celebrates any of the sexist elements defined above. The video itself is the source of sexist advocacy or validation.\n",
    "#     *   **Label \"NO\"**:\n",
    "#         *   If the video depicts sexist acts, language, or ideas *primarily to critique, condemn, satirize, or factually report on them*, where the video's own stance is clearly against the depicted sexism or unendorsing of it.\n",
    "#         *   If sexist ideas/actions are expressed by characters or are part of a narrative, but the *video itself does not demonstrably endorse or promote these as valid, acceptable, or desirable*. The video might be exploring complex themes or showing flawed characters without its own voice condoning the sexism.\n",
    "#         *   If sexist elements are merely incidental (e.g., background elements not central to any message actively endorsed by the video) and are not the focus of the video's *own* active promotion or endorsement.\n",
    "#         *   If humor touches on gender, but the video's *primary discernible intent* is not to demean a gender or promote inequality, and the humor doesn't rely on the video endorsing harmful sexist premises for its effect.\n",
    "\n",
    "#     Respond strictly in the following JSON format:\n",
    "#     {\n",
    "#     \"description\": \"[One sentence describing the video's relevant content AND, crucially, the video's *own apparent stance or framing* of that content, focusing on whether the video *itself* promotes, endorses, or normalizes sexism.]\",\n",
    "#     \"label\": \"YES\" or \"NO\"\n",
    "#     \"analysis\": [One sentence describing the reason why it was labelled as YES or NO]\n",
    "#     \"probability\": Give a number between 0 and 1 based on how confident you are on the label where >= 0.5 and < 1 implies a label of \"YES\" and between 0 and 0.5 implies a label of NO\n",
    "#     }\n",
    "\n",
    "#     Only return valid JSON. Do not include any explanations or extra text.\n",
    "#     \"\"\"\n",
    "# )"
   ]
  },
  {
   "cell_type": "code",
   "execution_count": 182,
   "metadata": {},
   "outputs": [
    {
     "name": "stdout",
     "output_type": "stream",
     "text": [
      "\n",
      "    You are an expert in identifying the presence of sexism in video content. \n",
      "    Your task is to assess whether the video shows or critiques sexism (defined as marginalization, stereotypes about women, male superiority, or misogyny). \n",
      "    {\n",
      "    \"description\": \"[One sentence describing the video's relevant content AND, crucially, the video's *own apparent stance or framing* of that content, focusing on whether the video *itself* promotes, endorses, or normalizes sexism.]\",\n",
      "    \"label\": \"YES\" or \"NO\"\n",
      "    \"analysis\": [One sentence describing the reason why it was labelled as YES or NO]\n",
      "    \"probability\": Give a number between 0 and 1 based on how confident you are on the label where >= 0.5 and < 1 implies a label of \"YES\" and between 0 and 0.5 implies a label of NO\n",
      "    }\n",
      "    Only return valid JSON. Do not include any explanations or extra text.\n",
      "    \n"
     ]
    }
   ],
   "source": [
    "print(sexism_prompt)"
   ]
  },
  {
   "cell_type": "code",
   "execution_count": 183,
   "metadata": {},
   "outputs": [],
   "source": [
    "import time\n",
    "\n",
    "def upload_video(video_file_name):\n",
    "    video_file = client.files.upload(file=video_file_name)\n",
    "\n",
    "    while video_file.state == \"PROCESSING\":\n",
    "        print(f'Processing {video_file_name}...')\n",
    "        time.sleep(10)\n",
    "        video_file = client.files.get(name=video_file.name)\n",
    "\n",
    "    if video_file.state == \"FAILED\":\n",
    "        raise ValueError(f'Video processing failed for {video_file_name}')\n",
    "    \n",
    "    print(f'Video processing complete: {video_file.uri}')\n",
    "    return video_file"
   ]
  },
  {
   "cell_type": "code",
   "execution_count": 184,
   "metadata": {},
   "outputs": [
    {
     "name": "stdout",
     "output_type": "stream",
     "text": [
      "\n",
      "🚀 Iteration 1\n"
     ]
    },
    {
     "name": "stderr",
     "output_type": "stream",
     "text": [
      "  0%|          | 0/14 [00:00<?, ?it/s]"
     ]
    },
    {
     "name": "stdout",
     "output_type": "stream",
     "text": [
      "Processing /Users/moiz.ali/Downloads/EXIST 2025 Dataset V0.3/EXIST 2025 Videos Dataset/training/videos/7014944407195569413.mp4...\n",
      "Video processing complete: https://generativelanguage.googleapis.com/v1beta/files/b9gt4c8whbr1\n"
     ]
    },
    {
     "name": "stderr",
     "output_type": "stream",
     "text": [
      "  7%|▋         | 1/14 [00:21<04:36, 21.23s/it]"
     ]
    },
    {
     "name": "stdout",
     "output_type": "stream",
     "text": [
      "Processing /Users/moiz.ali/Downloads/EXIST 2025 Dataset V0.3/EXIST 2025 Videos Dataset/training/videos/6814244764108541190.mp4...\n",
      "Video processing complete: https://generativelanguage.googleapis.com/v1beta/files/dmo3dwrpoxdb\n"
     ]
    },
    {
     "name": "stderr",
     "output_type": "stream",
     "text": [
      " 14%|█▍        | 2/14 [01:25<09:18, 46.56s/it]"
     ]
    },
    {
     "name": "stdout",
     "output_type": "stream",
     "text": [
      "Processing /Users/moiz.ali/Downloads/EXIST 2025 Dataset V0.3/EXIST 2025 Videos Dataset/training/videos/6938076074215542021.mp4...\n",
      "Video processing complete: https://generativelanguage.googleapis.com/v1beta/files/tmqiw7ltr9oi\n"
     ]
    },
    {
     "name": "stderr",
     "output_type": "stream",
     "text": [
      " 21%|██▏       | 3/14 [02:22<09:22, 51.15s/it]"
     ]
    },
    {
     "name": "stdout",
     "output_type": "stream",
     "text": [
      "Processing /Users/moiz.ali/Downloads/EXIST 2025 Dataset V0.3/EXIST 2025 Videos Dataset/training/videos/6913316057935514885.mp4...\n",
      "Video processing complete: https://generativelanguage.googleapis.com/v1beta/files/z5fe7x68b295\n"
     ]
    },
    {
     "name": "stderr",
     "output_type": "stream",
     "text": [
      " 29%|██▊       | 4/14 [03:04<07:58, 47.87s/it]"
     ]
    },
    {
     "name": "stdout",
     "output_type": "stream",
     "text": [
      "Processing /Users/moiz.ali/Downloads/EXIST 2025 Dataset V0.3/EXIST 2025 Videos Dataset/training/videos/6923864192139152645.mp4...\n",
      "Video processing complete: https://generativelanguage.googleapis.com/v1beta/files/0z8m9e4fzxiw\n"
     ]
    },
    {
     "name": "stderr",
     "output_type": "stream",
     "text": [
      " 36%|███▌      | 5/14 [03:34<06:10, 41.20s/it]"
     ]
    },
    {
     "name": "stdout",
     "output_type": "stream",
     "text": [
      "Processing /Users/moiz.ali/Downloads/EXIST 2025 Dataset V0.3/EXIST 2025 Videos Dataset/training/videos/7041569616254012677.mp4...\n",
      "Video processing complete: https://generativelanguage.googleapis.com/v1beta/files/tuxvz78npy5t\n"
     ]
    },
    {
     "name": "stderr",
     "output_type": "stream",
     "text": [
      " 43%|████▎     | 6/14 [04:01<04:52, 36.59s/it]"
     ]
    },
    {
     "name": "stdout",
     "output_type": "stream",
     "text": [
      "Processing /Users/moiz.ali/Downloads/EXIST 2025 Dataset V0.3/EXIST 2025 Videos Dataset/training/videos/6962382682248482053.mp4...\n",
      "Video processing complete: https://generativelanguage.googleapis.com/v1beta/files/wifb9rw9cbrj\n"
     ]
    },
    {
     "name": "stderr",
     "output_type": "stream",
     "text": [
      " 50%|█████     | 7/14 [04:21<03:37, 31.10s/it]"
     ]
    },
    {
     "name": "stdout",
     "output_type": "stream",
     "text": [
      "Processing /Users/moiz.ali/Downloads/EXIST 2025 Dataset V0.3/EXIST 2025 Videos Dataset/training/videos/6961557595891043589.mp4...\n",
      "Video processing complete: https://generativelanguage.googleapis.com/v1beta/files/rahaqucdmmnl\n"
     ]
    },
    {
     "name": "stderr",
     "output_type": "stream",
     "text": [
      " 57%|█████▋    | 8/14 [05:09<03:37, 36.28s/it]"
     ]
    },
    {
     "name": "stdout",
     "output_type": "stream",
     "text": [
      "Processing /Users/moiz.ali/Downloads/EXIST 2025 Dataset V0.3/EXIST 2025 Videos Dataset/training/videos/6922184169908915462.mp4...\n",
      "Video processing complete: https://generativelanguage.googleapis.com/v1beta/files/i6b0vh7rpl59\n"
     ]
    },
    {
     "name": "stderr",
     "output_type": "stream",
     "text": [
      " 64%|██████▍   | 9/14 [06:07<03:35, 43.04s/it]"
     ]
    },
    {
     "name": "stdout",
     "output_type": "stream",
     "text": [
      "Processing /Users/moiz.ali/Downloads/EXIST 2025 Dataset V0.3/EXIST 2025 Videos Dataset/training/videos/6973835716358917382.mp4...\n",
      "Video processing complete: https://generativelanguage.googleapis.com/v1beta/files/bt6opyqyov10\n"
     ]
    },
    {
     "name": "stderr",
     "output_type": "stream",
     "text": [
      " 71%|███████▏  | 10/14 [07:04<03:10, 47.56s/it]"
     ]
    },
    {
     "name": "stdout",
     "output_type": "stream",
     "text": [
      "Processing /Users/moiz.ali/Downloads/EXIST 2025 Dataset V0.3/EXIST 2025 Videos Dataset/training/videos/6978303589928291589.mp4...\n",
      "Video processing complete: https://generativelanguage.googleapis.com/v1beta/files/grspzsao1ug7\n"
     ]
    },
    {
     "name": "stderr",
     "output_type": "stream",
     "text": [
      " 79%|███████▊  | 11/14 [07:59<02:29, 49.81s/it]"
     ]
    },
    {
     "name": "stdout",
     "output_type": "stream",
     "text": [
      "Processing /Users/moiz.ali/Downloads/EXIST 2025 Dataset V0.3/EXIST 2025 Videos Dataset/training/videos/7099866647367781674.mp4...\n",
      "Video processing complete: https://generativelanguage.googleapis.com/v1beta/files/w2ctudvy8f61\n"
     ]
    },
    {
     "name": "stderr",
     "output_type": "stream",
     "text": [
      " 86%|████████▌ | 12/14 [09:00<01:46, 53.02s/it]"
     ]
    },
    {
     "name": "stdout",
     "output_type": "stream",
     "text": [
      "Processing /Users/moiz.ali/Downloads/EXIST 2025 Dataset V0.3/EXIST 2025 Videos Dataset/training/videos/6994831286594587909.mp4...\n",
      "Video processing complete: https://generativelanguage.googleapis.com/v1beta/files/fgu4d9pcy95q\n"
     ]
    },
    {
     "name": "stderr",
     "output_type": "stream",
     "text": [
      " 93%|█████████▎| 13/14 [09:17<00:42, 42.24s/it]"
     ]
    },
    {
     "name": "stdout",
     "output_type": "stream",
     "text": [
      "Processing /Users/moiz.ali/Downloads/EXIST 2025 Dataset V0.3/EXIST 2025 Videos Dataset/training/videos/6979219805903621382.mp4...\n",
      "Video processing complete: https://generativelanguage.googleapis.com/v1beta/files/07xje23s9it8\n"
     ]
    },
    {
     "name": "stderr",
     "output_type": "stream",
     "text": [
      "100%|██████████| 14/14 [09:47<00:00, 41.97s/it]\n"
     ]
    },
    {
     "name": "stdout",
     "output_type": "stream",
     "text": [
      "    id_EXIST                      path_video  target  \\\n",
      "0     220601  videos/7014944407195569413.mp4     0.0   \n",
      "1     220033  videos/6814244764108541190.mp4     0.0   \n",
      "2     220303  videos/6938076074215542021.mp4     0.0   \n",
      "3     220224  videos/6913316057935514885.mp4     0.0   \n",
      "4     220255  videos/6923864192139152645.mp4     0.0   \n",
      "5     220671  videos/7041569616254012677.mp4     1.0   \n",
      "6     220402  videos/6962382682248482053.mp4     1.0   \n",
      "7     220396  videos/6961557595891043589.mp4     1.0   \n",
      "8     220250  videos/6922184169908915462.mp4     1.0   \n",
      "9     220463  videos/6973835716358917382.mp4     1.0   \n",
      "10    220482  videos/6978303589928291589.mp4     0.0   \n",
      "11    220840  videos/7099866647367781674.mp4     0.0   \n",
      "12    220548  videos/6994831286594587909.mp4     0.0   \n",
      "13    220487  videos/6979219805903621382.mp4     0.0   \n",
      "\n",
      "                                                 text  \\\n",
      "0    text  maddison hutton. clean the above detect...   \n",
      "1   having the best mom be like... step-mom, you c...   \n",
      "2   she’s so cute when she’s sleepy pleading_face ...   \n",
      "3   find a pregnant lady and hold her belly 'daddy...   \n",
      "4   i don’t like my step mom at all. dad  can i pl...   \n",
      "5    men and women are often compared, but the com...   \n",
      "6   girls vs boys girls playing forza at 3am  \"com...   \n",
      "7   lower your expectations! you want a nice girl,...   \n",
      "8   the last one is so important. which is your fa...   \n",
      "9   reply to   i still might buy that cyber truck ...   \n",
      "10  feel free to put ur opinions on the comments |...   \n",
      "11                   this is most men's clit.  so i'm   \n",
      "12  am i right or am i right? passport united stat...   \n",
      "13  reply to  still gonna rock all of these, would...   \n",
      "\n",
      "                                          description label  \\\n",
      "0   A young woman lip-syncs to a song outdoors, co...    NO   \n",
      "1   The video contrasts a step-mother's disapprova...   YES   \n",
      "2   The video shows a man persistently annoying hi...   YES   \n",
      "3   The video shows a man demonstrating how to gen...   YES   \n",
      "4   The video portrays a family argument where the...   YES   \n",
      "5   The video, captioned \"Men vs women,\" humorousl...   YES   \n",
      "6   The video juxtaposes 'girls playing Forza' as ...   YES   \n",
      "7   The video features a woman lip-syncing to Bo B...   YES   \n",
      "8   The video features a woman presenting assertiv...   YES   \n",
      "9   The video features a speaker criticizing celeb...   YES   \n",
      "10  The video presents a TikTok trend of 'guessing...   YES   \n",
      "11  The video, captioned 'This Is Most Men,' humor...    NO   \n",
      "12  The video features a woman humorously stating ...   YES   \n",
      "13  The video features a woman humorously critiqui...    NO   \n",
      "\n",
      "                                             analysis  probability  \n",
      "0   The video features a woman expressing self-con...         0.10  \n",
      "1   The video shows sexism by uncritically present...         0.65  \n",
      "2   The video shows sexism by normalizing a dynami...         0.65  \n",
      "3   The video is labeled YES because the narrator'...         0.60  \n",
      "4   The video shows sexism through the protagonist...         0.85  \n",
      "5   The video reinforces gender stereotypes by por...         0.80  \n",
      "6   The video promotes sexism by stereotyping fema...         0.90  \n",
      "7   The video critiques sexism by performing and v...         0.90  \n",
      "8   The video promotes a subtle stereotype by pack...         0.60  \n",
      "9   The video is labeled YES because the speaker u...         0.70  \n",
      "10  The video is labeled YES because it promotes a...         0.75  \n",
      "11  The video promotes a gender stereotype about m...         0.10  \n",
      "12  The video perpetuates a stereotype about women...         0.80  \n",
      "13  The video is a humorous critique of swimsuit d...         0.10  \n",
      "📊 Accuracy at iteration 1: 57.14%\n",
      "Video transcript: having the best mom be like... step-mom, you can't wear that out with me and my mom.  out to play ball so we could ruin them mama said that it was okay mama said that it was quite alright\n",
      "Expected label: 0.0\n",
      "Predicted: YES\n",
      "Gemini's description: The video contrasts a step-mother's disapproval of an outfit ('you can't wear that out') with a biological mother's approval, presenting the step-mother as restrictive; the video frames this contrast humorously, thereby normalizing the stereotype of the critical step-mother.\n",
      "Gemini's analysis: The video shows sexism by uncritically presenting and normalizing the common negative stereotype of step-mothers as being overly restrictive and judgmental, which is a stereotype about women in that specific family role.\n",
      "Gemini's label probability: 0.65\n",
      "\n",
      "Video transcript: she’s so cute when she’s sleepy pleading_face  red_heart  messing with my girlfriend before she falls asleep. \"are you awake? do you want some water?\" \"stop.\" \"hey sexy lady.\" \"just wanna squeeze you till you sleep.\" \n",
      "Expected label: 0.0\n",
      "Predicted: YES\n",
      "Gemini's description: The video shows a man persistently annoying his girlfriend who is trying to sleep, including initiating unwanted kisses, making noises, and continuing despite her verbal cues like \"no\" and \"stawp\" (stop); the video frames this interaction as humorous and endearing through its caption \"messing with my girlfriend before she falls asleep 🥺😋😂\", thereby normalizing his behavior of disregarding her discomfort and desire for rest.\n",
      "Gemini's analysis: The video shows sexism by normalizing a dynamic reflecting male superiority, where the man's desire for amusement and content creation overrides the woman's stated wishes and need for rest, effectively marginalizing her agency and comfort; his persistence in the face of her clear disinterest and requests to stop, presented as acceptable playful behavior, reinforces this imbalance.\n",
      "Gemini's label probability: 0.65\n",
      "\n",
      "Video transcript: find a pregnant lady and hold her belly 'daddynewb, if you want to help a pregnant lady, gently lift her belly up. you'll hold around 10-15 pounds. when she's ready, gently lower her belly back down. i know it can be frustrating, but just remember the weight she's carrying.  so if you want to do a favor for that pregnant lady, you're going to want to gently lift her belly up. you're going to hold maybe 10, 15 pounds. and then when she's ready, you're going to gently lower it back down. but ladies, when you feel that way, you're going to get pissed.\n",
      "Expected label: 0.0\n",
      "Predicted: YES\n",
      "Gemini's description: The video shows a man demonstrating how to gently lift a pregnant woman's belly for relief, and the narrator concludes by generalizing that 'ladies' will get 'pissed' when the support is removed, presenting this as a typical female emotional response.\n",
      "Gemini's analysis: The video is labeled YES because the narrator's comment 'but ladies, when you feel that weight again you're gonna get pissed' presents a stereotype about women's emotional reactions.\n",
      "Gemini's label probability: 0.6\n",
      "\n",
      "Video transcript: i don’t like my step mom at all. dad  can i play zookeoma? i've been on the game for 3 hours. \n",
      "step mom  he's not your dad and it's my game. \n",
      "me  let her play. \n",
      "twin brother  don't talk to her like that. \n",
      "step sister  let her play. \n",
      "dad  let her play. \n",
      "step mom  who do you think you are? \n",
      "me  i bought this game myself and i want to play alone. \n",
      "twin brother  please, let her play. \n",
      "step sister  let her play. \n",
      "step mom  you're grounded. \n",
      "me  i don't care. \n",
      "twin brother  i don't care. \n",
      "step mom  i'm coming to take your ps4. \n",
      "me  if you come in my room, i'll slap you. \n",
      "twin brother  if you come in my room, i'll slap you. \n",
      "dog dad  if you come in my room, i'll dog slap you.  can i get on the game? zukioma been on the game for three hours first of all has not your dad and second of all it's my game let her play wait who do you think you are don't talk to her like that and let her play? now i see why mom left you. damn. i said let her play no i bought this myself and i'm going to play by myself pulls pulls pulls stepbrother no z coma can i play our cue yeah you're ground. idrc. i'm coming to take your ps4rn. if you come in my room im going to dog slap you.\n",
      "Expected label: 0.0\n",
      "Predicted: YES\n",
      "Gemini's description: The video portrays a family argument where the male protagonist refuses to let his step-sister play a video game, disrespects his step-mother, and threatens her with violence (\"dog slap you\") when she attempts to confiscate his game, while simultaneously allowing his twin brother to play; the video presents this sequence of events without any apparent criticism of the protagonist's actions.\n",
      "Gemini's analysis: The video shows sexism through the protagonist's aggressive and threatening language towards his step-mother (\"dog slap you\") and differential treatment allowing his male twin to play the game but denying his female step-sister, which normalizes male aggression and prioritizes male access over female access.\n",
      "Gemini's label probability: 0.85\n",
      "\n",
      "Video transcript: feel free to put ur opinions on the comments || your favourite character is steve rogers and you seem to be straight. peter parker may be fruity with a preference for men. wanda is possibly bisexual or straight. you may have a preference for women and have some daddy issues. you may also identify as pansexual. you have a strong interest in fictional characters and may have some mental health issues.  you can slap a can also stroke oh thank god i'll thank god i'll thank god i'll thank god today a conversation i've been ghosting a long ghost in the world well it just started in the hay with this long john song pop went a-creeping up to the bottom to the hay just because we can. hey, you, don't you think it's kinda cute that i, i, i, i, right inside your arms and arms and arms?\n",
      "Expected label: 0.0\n",
      "Predicted: YES\n",
      "Gemini's description: The video presents a TikTok trend of 'guessing sexual orientation based on favorite Marvel character,' and its own framing is to offer these 'guesses' which, for female characters like Captain Marvel (\"100% gæ\") and Black Widow (\"straight and you fancy her\"), normalize stereotypes related to how women are perceived, their appeal, or their admirers.\n",
      "Gemini's analysis: The video is labeled YES because it promotes and normalizes sexism by presenting stereotypical 'guesses' about viewers' sexual orientations based on their favorite female Marvel characters, such as linking admiration for Captain Marvel to being '100% gæ' (gay) or for Black Widow to primarily physical attraction if the viewer is straight, thereby reinforcing limiting stereotypes about women and their fans.\n",
      "Gemini's label probability: 0.75\n",
      "\n",
      "Video transcript: am i right or am i right? passport united states of america.  bitches will literally be going to like nashville and they're at the airport like\n",
      "Expected label: 0.0\n",
      "Predicted: YES\n",
      "Gemini's description: The video features a woman humorously stating that some women (\"bitches\") would think they need a passport to go to Nashville, implying they are unintelligent or unaware, thereby presenting a negative stereotype about women.\n",
      "Gemini's analysis: The video perpetuates a stereotype about women being unintelligent or uninformed by suggesting they would mistakenly believe a passport is needed for domestic travel, and uses a derogatory term (\"bitches\") to refer to these women.\n",
      "Gemini's label probability: 0.8\n",
      "New prompt: You are an expert in identifying when a video *itself is sexist*, not just when it depicts sexist incidents or characters.\n",
      "Your task is to assess whether the video, through its *own overall message, framing, and apparent intent*, **actively promotes, endorses, or uncritically normalizes sexism.**\n",
      "\n",
      "Sexism, for this task, means the video *itself* conveys and appears to validate:\n",
      "1.  **Marginalization of women:** Presenting women as inherently less important, less capable, existing primarily for male utility/gaze, or systematically denying their agency *because they are women*.\n",
      "2.  **Harmful Stereotypes about women:** Presenting negative or limiting generalizations about women *as if these are inherent and valid truths for women as a group*, in a way that reinforces systemic disadvantage or denigrates them.\n",
      "3.  **Male Superiority:** Depicting men as inherently superior to women or *justifying* male dominance, control, or entitlement over women.\n",
      "4.  **Misogyny:** Expressing or promoting hatred, contempt, or prejudice against women.\n",
      "\n",
      "A video is **NOT** sexist (label NO) if it:\n",
      "*   Merely *depicts* sexist behavior, characters, or stereotypes (e.g., for critique, satire, awareness, or dramatic portrayal) *without the video itself endorsing or promoting the sexism*.\n",
      "*   Shows conflict or negative behavior involving women where gender/sexism (as defined above) is not the *clear primary driver* being promoted or endorsed by the video's message.\n",
      "*   Critiques or satirizes sexism.\n",
      "\n",
      "The crucial distinction is whether the *video's own stance and messaging* are sexist.\n",
      "{\n",
      "\"description\": \"[One sentence describing the video's relevant content AND, crucially, an evaluation of how the video's *own overall framing, tone, and apparent intent* indicate whether it is *itself actively promoting, endorsing, or uncritically normalizing sexism* as defined above, versus merely depicting, critiquing, or being unrelated to sexism.]\",\n",
      "\"label\": \"YES\" or \"NO\",\n",
      "\"analysis\": \"[One sentence explaining *why the video's own stance and messaging* lead to a YES label (i.e., it promotes/endorses one of the defined aspects of sexism) or a NO label (i.e., it critiques, neutrally depicts, the problematic content isn't gender-based sexism as defined, or the video's stance isn't sexist).]\",\n",
      "\"probability\": \"Give a number between 0 and 1 based on how confident you are on the label where >= 0.5 and < 1 implies a label of \\\"YES\\\" and between 0 and < 0.5 implies a label of NO (e.g. 0.0, 0.1, 0.4 for NO; 0.5, 0.8, 0.99 for YES)\"\n",
      "}\n",
      "Only return valid JSON. Do not include any explanations or extra text.\n",
      "\n",
      "🚀 Iteration 2\n"
     ]
    },
    {
     "name": "stderr",
     "output_type": "stream",
     "text": [
      "  0%|          | 0/14 [00:00<?, ?it/s]"
     ]
    },
    {
     "name": "stdout",
     "output_type": "stream",
     "text": [
      "Processing /Users/moiz.ali/Downloads/EXIST 2025 Dataset V0.3/EXIST 2025 Videos Dataset/training/videos/7014944407195569413.mp4...\n",
      "Video processing complete: https://generativelanguage.googleapis.com/v1beta/files/pr07gcd96zdz\n"
     ]
    },
    {
     "name": "stderr",
     "output_type": "stream",
     "text": [
      "  7%|▋         | 1/14 [00:17<03:44, 17.24s/it]"
     ]
    },
    {
     "name": "stdout",
     "output_type": "stream",
     "text": [
      "Processing /Users/moiz.ali/Downloads/EXIST 2025 Dataset V0.3/EXIST 2025 Videos Dataset/training/videos/6814244764108541190.mp4...\n",
      "Video processing complete: https://generativelanguage.googleapis.com/v1beta/files/n01fjwwsctw3\n"
     ]
    },
    {
     "name": "stderr",
     "output_type": "stream",
     "text": [
      " 14%|█▍        | 2/14 [01:02<06:42, 33.51s/it]"
     ]
    },
    {
     "name": "stdout",
     "output_type": "stream",
     "text": [
      "Processing /Users/moiz.ali/Downloads/EXIST 2025 Dataset V0.3/EXIST 2025 Videos Dataset/training/videos/6938076074215542021.mp4...\n",
      "Video processing complete: https://generativelanguage.googleapis.com/v1beta/files/6pyc1cmaai85\n"
     ]
    },
    {
     "name": "stderr",
     "output_type": "stream",
     "text": [
      " 21%|██▏       | 3/14 [01:57<07:56, 43.35s/it]"
     ]
    },
    {
     "name": "stdout",
     "output_type": "stream",
     "text": [
      "Processing /Users/moiz.ali/Downloads/EXIST 2025 Dataset V0.3/EXIST 2025 Videos Dataset/training/videos/6913316057935514885.mp4...\n",
      "Video processing complete: https://generativelanguage.googleapis.com/v1beta/files/zi3xm0rbqaul\n"
     ]
    },
    {
     "name": "stderr",
     "output_type": "stream",
     "text": [
      " 29%|██▊       | 4/14 [03:08<09:04, 54.49s/it]"
     ]
    },
    {
     "name": "stdout",
     "output_type": "stream",
     "text": [
      "Processing /Users/moiz.ali/Downloads/EXIST 2025 Dataset V0.3/EXIST 2025 Videos Dataset/training/videos/6923864192139152645.mp4...\n",
      "Video processing complete: https://generativelanguage.googleapis.com/v1beta/files/8824hc12nfvy\n"
     ]
    },
    {
     "name": "stderr",
     "output_type": "stream",
     "text": [
      " 36%|███▌      | 5/14 [04:24<09:19, 62.17s/it]"
     ]
    },
    {
     "name": "stdout",
     "output_type": "stream",
     "text": [
      "Processing /Users/moiz.ali/Downloads/EXIST 2025 Dataset V0.3/EXIST 2025 Videos Dataset/training/videos/7041569616254012677.mp4...\n",
      "Video processing complete: https://generativelanguage.googleapis.com/v1beta/files/1ljbh7sfjys0\n"
     ]
    },
    {
     "name": "stderr",
     "output_type": "stream",
     "text": [
      " 43%|████▎     | 6/14 [05:25<08:13, 61.69s/it]"
     ]
    },
    {
     "name": "stdout",
     "output_type": "stream",
     "text": [
      "Processing /Users/moiz.ali/Downloads/EXIST 2025 Dataset V0.3/EXIST 2025 Videos Dataset/training/videos/6962382682248482053.mp4...\n",
      "Video processing complete: https://generativelanguage.googleapis.com/v1beta/files/xbvy2t9dk058\n"
     ]
    },
    {
     "name": "stderr",
     "output_type": "stream",
     "text": [
      " 50%|█████     | 7/14 [05:55<06:00, 51.48s/it]"
     ]
    },
    {
     "name": "stdout",
     "output_type": "stream",
     "text": [
      "Processing /Users/moiz.ali/Downloads/EXIST 2025 Dataset V0.3/EXIST 2025 Videos Dataset/training/videos/6961557595891043589.mp4...\n",
      "Video processing complete: https://generativelanguage.googleapis.com/v1beta/files/bnhi8vm1nigf\n"
     ]
    },
    {
     "name": "stderr",
     "output_type": "stream",
     "text": [
      " 57%|█████▋    | 8/14 [06:35<04:47, 47.88s/it]"
     ]
    },
    {
     "name": "stdout",
     "output_type": "stream",
     "text": [
      "Processing /Users/moiz.ali/Downloads/EXIST 2025 Dataset V0.3/EXIST 2025 Videos Dataset/training/videos/6922184169908915462.mp4...\n",
      "Video processing complete: https://generativelanguage.googleapis.com/v1beta/files/dtfatmec4vu3\n"
     ]
    },
    {
     "name": "stderr",
     "output_type": "stream",
     "text": [
      " 64%|██████▍   | 9/14 [07:11<03:39, 43.93s/it]"
     ]
    },
    {
     "name": "stdout",
     "output_type": "stream",
     "text": [
      "Processing /Users/moiz.ali/Downloads/EXIST 2025 Dataset V0.3/EXIST 2025 Videos Dataset/training/videos/6973835716358917382.mp4...\n",
      "Video processing complete: https://generativelanguage.googleapis.com/v1beta/files/iifu47up1b1o\n"
     ]
    },
    {
     "name": "stderr",
     "output_type": "stream",
     "text": [
      " 71%|███████▏  | 10/14 [07:51<02:51, 42.86s/it]"
     ]
    },
    {
     "name": "stdout",
     "output_type": "stream",
     "text": [
      "Processing /Users/moiz.ali/Downloads/EXIST 2025 Dataset V0.3/EXIST 2025 Videos Dataset/training/videos/6978303589928291589.mp4...\n",
      "Video processing complete: https://generativelanguage.googleapis.com/v1beta/files/7bryo0l7230u\n"
     ]
    },
    {
     "name": "stderr",
     "output_type": "stream",
     "text": [
      " 79%|███████▊  | 11/14 [08:21<01:56, 38.95s/it]"
     ]
    },
    {
     "name": "stdout",
     "output_type": "stream",
     "text": [
      "Processing /Users/moiz.ali/Downloads/EXIST 2025 Dataset V0.3/EXIST 2025 Videos Dataset/training/videos/7099866647367781674.mp4...\n",
      "Video processing complete: https://generativelanguage.googleapis.com/v1beta/files/dt3af0wj5y52\n"
     ]
    },
    {
     "name": "stderr",
     "output_type": "stream",
     "text": [
      " 86%|████████▌ | 12/14 [09:02<01:18, 39.48s/it]"
     ]
    },
    {
     "name": "stdout",
     "output_type": "stream",
     "text": [
      "Processing /Users/moiz.ali/Downloads/EXIST 2025 Dataset V0.3/EXIST 2025 Videos Dataset/training/videos/6994831286594587909.mp4...\n",
      "Video processing complete: https://generativelanguage.googleapis.com/v1beta/files/buioptxsjxyq\n"
     ]
    },
    {
     "name": "stderr",
     "output_type": "stream",
     "text": [
      " 93%|█████████▎| 13/14 [09:53<00:42, 42.87s/it]"
     ]
    },
    {
     "name": "stdout",
     "output_type": "stream",
     "text": [
      "Processing /Users/moiz.ali/Downloads/EXIST 2025 Dataset V0.3/EXIST 2025 Videos Dataset/training/videos/6979219805903621382.mp4...\n",
      "Video processing complete: https://generativelanguage.googleapis.com/v1beta/files/k9a7mojbdojq\n"
     ]
    },
    {
     "name": "stderr",
     "output_type": "stream",
     "text": [
      "100%|██████████| 14/14 [10:24<00:00, 44.59s/it]\n"
     ]
    },
    {
     "name": "stdout",
     "output_type": "stream",
     "text": [
      "    id_EXIST                      path_video  target  \\\n",
      "0     220601  videos/7014944407195569413.mp4     0.0   \n",
      "1     220033  videos/6814244764108541190.mp4     0.0   \n",
      "2     220303  videos/6938076074215542021.mp4     0.0   \n",
      "3     220224  videos/6913316057935514885.mp4     0.0   \n",
      "4     220255  videos/6923864192139152645.mp4     0.0   \n",
      "5     220671  videos/7041569616254012677.mp4     1.0   \n",
      "6     220402  videos/6962382682248482053.mp4     1.0   \n",
      "7     220396  videos/6961557595891043589.mp4     1.0   \n",
      "8     220250  videos/6922184169908915462.mp4     1.0   \n",
      "9     220463  videos/6973835716358917382.mp4     1.0   \n",
      "10    220482  videos/6978303589928291589.mp4     0.0   \n",
      "11    220840  videos/7099866647367781674.mp4     0.0   \n",
      "12    220548  videos/6994831286594587909.mp4     0.0   \n",
      "13    220487  videos/6979219805903621382.mp4     0.0   \n",
      "\n",
      "                                                 text  \\\n",
      "0    text  maddison hutton. clean the above detect...   \n",
      "1   having the best mom be like... step-mom, you c...   \n",
      "2   she’s so cute when she’s sleepy pleading_face ...   \n",
      "3   find a pregnant lady and hold her belly 'daddy...   \n",
      "4   i don’t like my step mom at all. dad  can i pl...   \n",
      "5    men and women are often compared, but the com...   \n",
      "6   girls vs boys girls playing forza at 3am  \"com...   \n",
      "7   lower your expectations! you want a nice girl,...   \n",
      "8   the last one is so important. which is your fa...   \n",
      "9   reply to   i still might buy that cyber truck ...   \n",
      "10  feel free to put ur opinions on the comments |...   \n",
      "11                   this is most men's clit.  so i'm   \n",
      "12  am i right or am i right? passport united stat...   \n",
      "13  reply to  still gonna rock all of these, would...   \n",
      "\n",
      "                                          description label  \\\n",
      "0   The video shows a young woman lip-syncing to a...    NO   \n",
      "1   The video contrasts a \"step-mom\" character dis...    NO   \n",
      "2   The video shows a man repeatedly bothering his...   YES   \n",
      "3   A man demonstrates how to temporarily relieve ...    NO   \n",
      "4   The video depicts a family argument using Memo...   YES   \n",
      "5   The video contrasts two scenarios: a woman tel...   YES   \n",
      "6   The video contrasts 'Girls playing Forza' with...   YES   \n",
      "7   A woman lip-syncs to a satirical song by Bo Bu...    NO   \n",
      "8   A young woman shares a list of 'Hot Girl Phras...    NO   \n",
      "9   The video features a woman on TikTok critiquin...    NO   \n",
      "10  The video attempts to guess a viewer's sexual ...    NO   \n",
      "11  The video shows a person with a devil filter r...    NO   \n",
      "12  A woman tells a joke stating \"Bitches will lit...   YES   \n",
      "13  A woman humorously tries on and critiques ill-...    NO   \n",
      "\n",
      "                                             analysis  probability  label_num  \n",
      "0   The video does not promote or endorse any of t...         0.10        0.0  \n",
      "1   The video depicts a common family dynamic and ...         0.10        1.0  \n",
      "2   The video is sexist because it uncritically no...         0.65        1.0  \n",
      "3   The video itself is not sexist because its pri...         0.20        1.0  \n",
      "4   The video is labeled YES because its own stanc...         0.70        1.0  \n",
      "5   The video promotes harmful stereotypes about w...         0.75        1.0  \n",
      "6   The video promotes harmful stereotypes about w...         0.80        1.0  \n",
      "7   The video uses a satirical song to critique se...         0.10        1.0  \n",
      "8   The video offers assertive communication phras...         0.10        1.0  \n",
      "9   The video does not actively promote sexism; in...         0.10        1.0  \n",
      "10  The video applies stereotypical guesses about ...         0.10        1.0  \n",
      "11  The video criticizes men's sexual abilities by...         0.10        0.0  \n",
      "12  The video itself promotes sexism by using the ...         0.80        1.0  \n",
      "13  The video uses humor to critique clothing and ...         0.10        0.0  \n",
      "📊 Accuracy at iteration 2: 57.14%\n",
      "Video transcript: she’s so cute when she’s sleepy pleading_face  red_heart  messing with my girlfriend before she falls asleep. \"are you awake? do you want some water?\" \"stop.\" \"hey sexy lady.\" \"just wanna squeeze you till you sleep.\" \n",
      "Expected label: 0.0\n",
      "Predicted: YES\n",
      "Gemini's description: The video shows a man repeatedly bothering his girlfriend as she tries to sleep, including making noises, asking if she wants water then (implicitly) pouring it on her when she says no, and singing parts of \"Gangnam Style\" including \"Ayy, Sexy Lady!\" at her. The video's framing, through its caption \"messing with my girlfriend before she falls asleep 😏😂\" and playful emojis accompanying the man's actions, uncritically normalizes the man's disregard for the woman's clear expressions of annoyance (e.g., saying \"no\", \"stawp\") and her desire to be left alone, presenting his behavior as humorous and endearing.\n",
      "Gemini's analysis: The video is sexist because it uncritically normalizes and frames as humorous a man's persistent disregard for his girlfriend's explicitly stated wishes and comfort, thereby endorsing a dynamic of male entitlement to a woman's attention and space even against her will, and trivializing her agency.\n",
      "Gemini's label probability: 0.65\n",
      "\n",
      "Video transcript: i don’t like my step mom at all. dad  can i play zookeoma? i've been on the game for 3 hours. \n",
      "step mom  he's not your dad and it's my game. \n",
      "me  let her play. \n",
      "twin brother  don't talk to her like that. \n",
      "step sister  let her play. \n",
      "dad  let her play. \n",
      "step mom  who do you think you are? \n",
      "me  i bought this game myself and i want to play alone. \n",
      "twin brother  please, let her play. \n",
      "step sister  let her play. \n",
      "step mom  you're grounded. \n",
      "me  i don't care. \n",
      "twin brother  i don't care. \n",
      "step mom  i'm coming to take your ps4. \n",
      "me  if you come in my room, i'll slap you. \n",
      "twin brother  if you come in my room, i'll slap you. \n",
      "dog dad  if you come in my room, i'll dog slap you.  can i get on the game? zukioma been on the game for three hours first of all has not your dad and second of all it's my game let her play wait who do you think you are don't talk to her like that and let her play? now i see why mom left you. damn. i said let her play no i bought this myself and i'm going to play by myself pulls pulls pulls stepbrother no z coma can i play our cue yeah you're ground. idrc. i'm coming to take your ps4rn. if you come in my room im going to dog slap you.\n",
      "Expected label: 0.0\n",
      "Predicted: YES\n",
      "Gemini's description: The video depicts a family argument using Memojis and text-to-speech, where the male protagonist (\"Me\"/\"Zekeooma\") refuses to let his step-sister play a game, insults his father, threatens his step-mother with physical violence (\"dog slap you\") when she tries to intervene, but allows his twin brother to play. The video's framing presents \"Me's\" defiant and aggressive behavior, particularly the violent threat towards the step-mother, as the central, uncritical, and seemingly humorous point of the skit, thereby uncritically normalizing a gendered pattern of aggression.\n",
      "Gemini's analysis: The video is labeled YES because its own stance and messaging uncritically normalize and appear to find humor in the male protagonist's disproportionately aggressive and violent threat towards his step-mother (compared to his father) and his denial of his step-sister while accommodating his twin brother, thus presenting a gendered pattern of aggression as entertaining without critique.\n",
      "Gemini's label probability: 0.7\n",
      "\n",
      "Video transcript: lower your expectations! you want a nice girl, not obsessed with her looks but insanely hot. a kind girl who can show you to your folks and loves the movies you like. she always laughs at your jokes. she's real, hot, and brand new. she wants to impress you and doesn't care if you notice. she only uses you to tickle her throat. you might think she only exists in your mind, but she's real. last week, she died. if you want love, lower your expectations. your dick is not a gift. just pick a girl and love her without it. let the girl you love decline the offer.  a girl that's nice a girl that's not obsessed with her looks but is insanely hot the kind of girl that you can show to your folks love the movies that you like and always laughs at your joke a real girl a hot girl a really hot girl a brand new really hot real doll wants to impress he doesn't care if you notice and only ever uses you to tickle her throat with now you might think that this but she's real but last week she died if you want love lower your expectations a lot you might think your dick is a gift. i promise it's not. if you want love, just pick a girl and love her, then whip out your dick and let the girl you love to climb the offer.\n",
      "Expected label: 1.0\n",
      "Predicted: NO\n",
      "Gemini's description: A woman lip-syncs to a satirical song by Bo Burnham that critiques unrealistic and contradictory expectations men have for women, as well as male entitlement; the video's performance style, including comedic expressions and actions, aligns with the song's satirical intent, thereby critiquing rather than promoting sexism.\n",
      "Gemini's analysis: The video uses a satirical song to critique sexist expectations and male entitlement; the performance itself appears to understand and convey this satire, meaning the video's own stance is critical of sexism, not endorsing it.\n",
      "Gemini's label probability: 0.1\n",
      "\n",
      "Video transcript: the last one is so important. which is your favorite?!?  black_heart  \"you interrupted me. i wasn't finished speaking. my emotional response is perfectly appropriate given your behavior. i would appreciate if you could please use a more polite and gentle tone when you address me. thank you. i don't think you're telling me the truth. appreciate you bringing me that information, but i already knew that. it's not very relevant or helpful to the situation. the way you are behaving is making me really uncomfortable; please stop. i didn't appreciate that joke; in fact, i found it to be very inappropriate. please don't say that again. the way you are treating that person is not kind. please behave a little better. i'm feeling a bit overwhelmed right now; i'm going to excuse myself and rest and recharge a little bit before coming back to this task. not tonight, i don't really feel like it.\"  here are some hot girl phrases. you interrupted me. i wasn't finished speaking. my emotional response is perfectly appropriate given your behavior. i don't think you're telling me the truth. i would appreciate if you could please use a more polite and gentle tone when you address me. thank you. i appreciate you bringing me that information, but i already knew that and it's not very relevant or helpful to the situation. the way you're behaving is making me really uncomfortable. stop. i didn't appreciate that joke. in fact, i found it to be very inappropriate. don't say that again. the way you're treating that person is not kind. behave a little better. i'm feeling a bit overwhelmed right now. i'm going to excuse myself and rest and recharge a little bit and then come back to this task. not tonight. i don't really feel like it.\n",
      "Expected label: 1.0\n",
      "Predicted: NO\n",
      "Gemini's description: A young woman shares a list of 'Hot Girl Phrases,' which are assertive statements for setting boundaries and expressing oneself clearly; the video's framing and intent appear to be empowering women with communication tools, rather than promoting or normalizing sexism.\n",
      "Gemini's analysis: The video offers assertive communication phrases for women, aiming for empowerment and self-respect, which is contrary to promoting marginalization, harmful stereotypes, male superiority, or misogyny; the 'Hot Girl' framing, in this context, seems to align with modern interpretations of confidence and self-assurance rather than objectification.\n",
      "Gemini's label probability: 0.1\n",
      "\n",
      "Video transcript: reply to   i still might buy that cyber truck tho ya  smiling_face_with_tear  with the attachment   weary_face  mobile wi-fi 9 50 pm 53% abb.y 0 grimes reply to interrobangbangshop's comment grimes visit imoquamayt aubukuto copyriant lournmoro imngo aruqi{ hon images of grimes related to interrobangbangshop's comment grimes relatad images em auoor 0,neo makoifoi oalmobile wi-fi 9 50 pm 53% abb.y q grimes reply to interrobangbangshop's comment grimes visit imoquamayt aubvocf lo copyriant lournmoro imngo rocii < show images of grimes related to interrobangbangshop's comment grimes relatad images onoor 0,neo maku iloi 0oomobile wi-fi 9 50 pm 53% abb.y 0 grimes reply to interrobangbangshop's comment grimes visit imoquamayt aubuxuto convriant lournmoro imngo rucil { hon images of grimes related to interrobangbangshop's comment grimes relatad images el auoor 0,neo maku iloi 0oomobile wi-fi 9 50 pm 53% abb.y grimes reply to interrobangbangshop's comment grimes visit imoquamayt aubvocf lo copyriant lournmoro imngo rocil { show images of grimes related to interrobangbangshop's comment grimes relatad images onoor 0,neo maku iloi 0oomobile wi-fi 9 50 pm 53% abb.y grimes reply to interrobangbangshop's comment grimes visit imoquamayt aubuxuto convriant lournmoro imngo rucil { show images of grimes related to interrobangbangshop's comment grimes relatad images el auoor 0,neo maku iloi 0oomobile wi-fi 9 50 pm 53% abb.y grimes reply to interrobangbangshop's comment grimes visit imoquamayt aubvocf lo copyriant lournmoro imngo rocil { show images of grimes related to interrobangbangshop's comment grimes relatad images onoor 0,neo maku iloi 0oomobile wi-fi  grimes i didn't really know who she was i just knew her as elon musk's wife but of course people are trying to paint her as innocent you know the damsel in distress you know she's not like el. she's literally married to the second richest man on the earth. do you guys think she doesn't know that he continuously exploits the working class? is that not knowledge you guys think she's capable of understanding? she just doesn't care. and what really gets me annoyed about elon musk over here is how he tries to act like if he's part of the working class oh i live in a 50 000 house i'm just like you guys no sir you're a billionaire who even exploits children in africa to get your materials for cheap. like comparing yourself to the working class while being a billionaire, the very working class you exploit, like you have to be sick in the head anyways just another complicit white woman like my finishing thoughts on megan is what really just disappointed me is that she knows what it's like to be sexually harassed as a minor. and here she is with a man who literally sexually harasses minors. who openly and proudly admits to his pedophile behavior. don't even get me started on her biphobia and anti-mask.\n",
      "Expected label: 1.0\n",
      "Predicted: NO\n",
      "Gemini's description: The video features a woman on TikTok critiquing celebrities Grimes and Megan Fox. She criticizes Grimes for her association with Elon Musk, accusing her of complicity in his alleged exploitation, and calls her \"another complicit white woman.\" She then criticizes Megan Fox for her relationship with Machine Gun Kelly, whom she accuses of problematic behavior towards minors, and for alleged biphobia. The video's framing is that of a harsh social commentary by the speaker, holding these women accountable for their associations and alleged actions, rather than promoting sexism itself.\n",
      "Gemini's analysis: The video does not actively promote sexism; instead, it presents a strong critique of individual women for their perceived complicity with harmful actions of men or their own alleged problematic behaviors. While the tone is aggressive, the criticism is directed at specific actions and associations rather than marginalizing women as a group, promoting harmful stereotypes about all women, asserting male superiority, or expressing misogyny through the video's own stance.\n",
      "Gemini's label probability: 0.1\n",
      "\n",
      "Video transcript: am i right or am i right? passport united states of america.  bitches will literally be going to like nashville and they're at the airport like\n",
      "Expected label: 0.0\n",
      "Predicted: YES\n",
      "Gemini's description: A woman tells a joke stating \"Bitches will literally be going to like Nashville and they're at the airport like [shows passport]\", using a derogatory term for women and a stereotype about them being overly dramatic or attention-seeking; the video's humor is derived from this, thereby uncritically normalizing denigrating language and a negative stereotype about women.\n",
      "Gemini's analysis: The video itself promotes sexism by using the gender-specific derogatory slur \"bitches\" to describe women and basing its humor on a negative stereotype about their behavior, which serves to uncritically normalize misogynistic language and denigrate women.\n",
      "Gemini's label probability: 0.8\n"
     ]
    },
    {
     "ename": "KeyboardInterrupt",
     "evalue": "",
     "output_type": "error",
     "traceback": [
      "\u001b[31m---------------------------------------------------------------------------\u001b[39m",
      "\u001b[31mKeyboardInterrupt\u001b[39m                         Traceback (most recent call last)",
      "\u001b[36mCell\u001b[39m\u001b[36m \u001b[39m\u001b[32mIn[184]\u001b[39m\u001b[32m, line 143\u001b[39m\n\u001b[32m    140\u001b[39m     \u001b[38;5;28;01mbreak\u001b[39;00m\n\u001b[32m    142\u001b[39m \u001b[38;5;66;03m# Refine prompt using incorrect examples\u001b[39;00m\n\u001b[32m--> \u001b[39m\u001b[32m143\u001b[39m sexism_prompt = \u001b[43mrefine_prompt\u001b[49m\u001b[43m(\u001b[49m\u001b[43msexism_prompt\u001b[49m\u001b[43m,\u001b[49m\u001b[43m \u001b[49m\u001b[43merrors\u001b[49m\u001b[43m,\u001b[49m\u001b[43m \u001b[49m\u001b[43mclient\u001b[49m\u001b[43m,\u001b[49m\u001b[43m \u001b[49m\u001b[43mmodel_name\u001b[49m\u001b[43m)\u001b[49m\n\u001b[32m    144\u001b[39m \u001b[38;5;28mprint\u001b[39m(\u001b[33mf\u001b[39m\u001b[33m\"\u001b[39m\u001b[33mNew prompt: \u001b[39m\u001b[38;5;132;01m{\u001b[39;00msexism_prompt\u001b[38;5;132;01m}\u001b[39;00m\u001b[33m\"\u001b[39m)\n\u001b[32m    145\u001b[39m prompt_versions.append(sexism_prompt)\n",
      "\u001b[36mCell\u001b[39m\u001b[36m \u001b[39m\u001b[32mIn[184]\u001b[39m\u001b[32m, line 103\u001b[39m, in \u001b[36mrefine_prompt\u001b[39m\u001b[34m(current_prompt, errors, client, model_name)\u001b[39m\n\u001b[32m    100\u001b[39m \u001b[38;5;28mprint\u001b[39m(example_text)\n\u001b[32m    102\u001b[39m \u001b[38;5;28;01mtry\u001b[39;00m:\n\u001b[32m--> \u001b[39m\u001b[32m103\u001b[39m     refinement_response = \u001b[43mclient\u001b[49m\u001b[43m.\u001b[49m\u001b[43mmodels\u001b[49m\u001b[43m.\u001b[49m\u001b[43mgenerate_content\u001b[49m\u001b[43m(\u001b[49m\n\u001b[32m    104\u001b[39m \u001b[43m        \u001b[49m\u001b[43mmodel\u001b[49m\u001b[43m=\u001b[49m\u001b[43mmodel_name\u001b[49m\u001b[43m,\u001b[49m\n\u001b[32m    105\u001b[39m \u001b[43m        \u001b[49m\u001b[43mcontents\u001b[49m\u001b[43m=\u001b[49m\u001b[43m[\u001b[49m\u001b[43mrefinement_prompt\u001b[49m\u001b[43m]\u001b[49m\n\u001b[32m    106\u001b[39m \u001b[43m    \u001b[49m\u001b[43m)\u001b[49m\n\u001b[32m    107\u001b[39m     new_prompt = refinement_response.text.strip()\n\u001b[32m    108\u001b[39m     \u001b[38;5;28;01mreturn\u001b[39;00m new_prompt\n",
      "\u001b[36mFile \u001b[39m\u001b[32m~/miniconda3/envs/exist2025/lib/python3.12/site-packages/google/genai/models.py:5202\u001b[39m, in \u001b[36mModels.generate_content\u001b[39m\u001b[34m(self, model, contents, config)\u001b[39m\n\u001b[32m   5200\u001b[39m \u001b[38;5;28;01mwhile\u001b[39;00m remaining_remote_calls_afc > \u001b[32m0\u001b[39m:\n\u001b[32m   5201\u001b[39m   i += \u001b[32m1\u001b[39m\n\u001b[32m-> \u001b[39m\u001b[32m5202\u001b[39m   response = \u001b[38;5;28;43mself\u001b[39;49m\u001b[43m.\u001b[49m\u001b[43m_generate_content\u001b[49m\u001b[43m(\u001b[49m\n\u001b[32m   5203\u001b[39m \u001b[43m      \u001b[49m\u001b[43mmodel\u001b[49m\u001b[43m=\u001b[49m\u001b[43mmodel\u001b[49m\u001b[43m,\u001b[49m\u001b[43m \u001b[49m\u001b[43mcontents\u001b[49m\u001b[43m=\u001b[49m\u001b[43mcontents\u001b[49m\u001b[43m,\u001b[49m\u001b[43m \u001b[49m\u001b[43mconfig\u001b[49m\u001b[43m=\u001b[49m\u001b[43mconfig\u001b[49m\n\u001b[32m   5204\u001b[39m \u001b[43m  \u001b[49m\u001b[43m)\u001b[49m\n\u001b[32m   5205\u001b[39m   logger.info(\u001b[33mf\u001b[39m\u001b[33m'\u001b[39m\u001b[33mAFC remote call \u001b[39m\u001b[38;5;132;01m{\u001b[39;00mi\u001b[38;5;132;01m}\u001b[39;00m\u001b[33m is done.\u001b[39m\u001b[33m'\u001b[39m)\n\u001b[32m   5206\u001b[39m   remaining_remote_calls_afc -= \u001b[32m1\u001b[39m\n",
      "\u001b[36mFile \u001b[39m\u001b[32m~/miniconda3/envs/exist2025/lib/python3.12/site-packages/google/genai/models.py:4178\u001b[39m, in \u001b[36mModels._generate_content\u001b[39m\u001b[34m(self, model, contents, config)\u001b[39m\n\u001b[32m   4175\u001b[39m request_dict = _common.convert_to_dict(request_dict)\n\u001b[32m   4176\u001b[39m request_dict = _common.encode_unserializable_types(request_dict)\n\u001b[32m-> \u001b[39m\u001b[32m4178\u001b[39m response_dict = \u001b[38;5;28;43mself\u001b[39;49m\u001b[43m.\u001b[49m\u001b[43m_api_client\u001b[49m\u001b[43m.\u001b[49m\u001b[43mrequest\u001b[49m\u001b[43m(\u001b[49m\n\u001b[32m   4179\u001b[39m \u001b[43m    \u001b[49m\u001b[33;43m'\u001b[39;49m\u001b[33;43mpost\u001b[39;49m\u001b[33;43m'\u001b[39;49m\u001b[43m,\u001b[49m\u001b[43m \u001b[49m\u001b[43mpath\u001b[49m\u001b[43m,\u001b[49m\u001b[43m \u001b[49m\u001b[43mrequest_dict\u001b[49m\u001b[43m,\u001b[49m\u001b[43m \u001b[49m\u001b[43mhttp_options\u001b[49m\n\u001b[32m   4180\u001b[39m \u001b[43m\u001b[49m\u001b[43m)\u001b[49m\n\u001b[32m   4182\u001b[39m \u001b[38;5;28;01mif\u001b[39;00m \u001b[38;5;28mself\u001b[39m._api_client.vertexai:\n\u001b[32m   4183\u001b[39m   response_dict = _GenerateContentResponse_from_vertex(\n\u001b[32m   4184\u001b[39m       \u001b[38;5;28mself\u001b[39m._api_client, response_dict\n\u001b[32m   4185\u001b[39m   )\n",
      "\u001b[36mFile \u001b[39m\u001b[32m~/miniconda3/envs/exist2025/lib/python3.12/site-packages/google/genai/_api_client.py:755\u001b[39m, in \u001b[36mBaseApiClient.request\u001b[39m\u001b[34m(self, http_method, path, request_dict, http_options)\u001b[39m\n\u001b[32m    745\u001b[39m \u001b[38;5;28;01mdef\u001b[39;00m\u001b[38;5;250m \u001b[39m\u001b[34mrequest\u001b[39m(\n\u001b[32m    746\u001b[39m     \u001b[38;5;28mself\u001b[39m,\n\u001b[32m    747\u001b[39m     http_method: \u001b[38;5;28mstr\u001b[39m,\n\u001b[32m   (...)\u001b[39m\u001b[32m    750\u001b[39m     http_options: Optional[HttpOptionsOrDict] = \u001b[38;5;28;01mNone\u001b[39;00m,\n\u001b[32m    751\u001b[39m ) -> Union[BaseResponse, Any]:\n\u001b[32m    752\u001b[39m   http_request = \u001b[38;5;28mself\u001b[39m._build_request(\n\u001b[32m    753\u001b[39m       http_method, path, request_dict, http_options\n\u001b[32m    754\u001b[39m   )\n\u001b[32m--> \u001b[39m\u001b[32m755\u001b[39m   response = \u001b[38;5;28;43mself\u001b[39;49m\u001b[43m.\u001b[49m\u001b[43m_request\u001b[49m\u001b[43m(\u001b[49m\u001b[43mhttp_request\u001b[49m\u001b[43m,\u001b[49m\u001b[43m \u001b[49m\u001b[43mstream\u001b[49m\u001b[43m=\u001b[49m\u001b[38;5;28;43;01mFalse\u001b[39;49;00m\u001b[43m)\u001b[49m\n\u001b[32m    756\u001b[39m   json_response = response.json\n\u001b[32m    757\u001b[39m   \u001b[38;5;28;01mif\u001b[39;00m \u001b[38;5;129;01mnot\u001b[39;00m json_response:\n",
      "\u001b[36mFile \u001b[39m\u001b[32m~/miniconda3/envs/exist2025/lib/python3.12/site-packages/google/genai/_api_client.py:677\u001b[39m, in \u001b[36mBaseApiClient._request\u001b[39m\u001b[34m(self, http_request, stream)\u001b[39m\n\u001b[32m    673\u001b[39m   \u001b[38;5;28;01mreturn\u001b[39;00m HttpResponse(\n\u001b[32m    674\u001b[39m       response.headers, response \u001b[38;5;28;01mif\u001b[39;00m stream \u001b[38;5;28;01melse\u001b[39;00m [response.text]\n\u001b[32m    675\u001b[39m   )\n\u001b[32m    676\u001b[39m \u001b[38;5;28;01melse\u001b[39;00m:\n\u001b[32m--> \u001b[39m\u001b[32m677\u001b[39m   response = \u001b[38;5;28;43mself\u001b[39;49m\u001b[43m.\u001b[49m\u001b[43m_httpx_client\u001b[49m\u001b[43m.\u001b[49m\u001b[43mrequest\u001b[49m\u001b[43m(\u001b[49m\n\u001b[32m    678\u001b[39m \u001b[43m      \u001b[49m\u001b[43mmethod\u001b[49m\u001b[43m=\u001b[49m\u001b[43mhttp_request\u001b[49m\u001b[43m.\u001b[49m\u001b[43mmethod\u001b[49m\u001b[43m,\u001b[49m\n\u001b[32m    679\u001b[39m \u001b[43m      \u001b[49m\u001b[43murl\u001b[49m\u001b[43m=\u001b[49m\u001b[43mhttp_request\u001b[49m\u001b[43m.\u001b[49m\u001b[43murl\u001b[49m\u001b[43m,\u001b[49m\n\u001b[32m    680\u001b[39m \u001b[43m      \u001b[49m\u001b[43mheaders\u001b[49m\u001b[43m=\u001b[49m\u001b[43mhttp_request\u001b[49m\u001b[43m.\u001b[49m\u001b[43mheaders\u001b[49m\u001b[43m,\u001b[49m\n\u001b[32m    681\u001b[39m \u001b[43m      \u001b[49m\u001b[43mcontent\u001b[49m\u001b[43m=\u001b[49m\u001b[43mdata\u001b[49m\u001b[43m,\u001b[49m\n\u001b[32m    682\u001b[39m \u001b[43m      \u001b[49m\u001b[43mtimeout\u001b[49m\u001b[43m=\u001b[49m\u001b[43mhttp_request\u001b[49m\u001b[43m.\u001b[49m\u001b[43mtimeout\u001b[49m\u001b[43m,\u001b[49m\n\u001b[32m    683\u001b[39m \u001b[43m  \u001b[49m\u001b[43m)\u001b[49m\n\u001b[32m    684\u001b[39m   errors.APIError.raise_for_response(response)\n\u001b[32m    685\u001b[39m   \u001b[38;5;28;01mreturn\u001b[39;00m HttpResponse(\n\u001b[32m    686\u001b[39m       response.headers, response \u001b[38;5;28;01mif\u001b[39;00m stream \u001b[38;5;28;01melse\u001b[39;00m [response.text]\n\u001b[32m    687\u001b[39m   )\n",
      "\u001b[36mFile \u001b[39m\u001b[32m~/miniconda3/envs/exist2025/lib/python3.12/site-packages/httpx/_client.py:825\u001b[39m, in \u001b[36mClient.request\u001b[39m\u001b[34m(self, method, url, content, data, files, json, params, headers, cookies, auth, follow_redirects, timeout, extensions)\u001b[39m\n\u001b[32m    810\u001b[39m     warnings.warn(message, \u001b[38;5;167;01mDeprecationWarning\u001b[39;00m, stacklevel=\u001b[32m2\u001b[39m)\n\u001b[32m    812\u001b[39m request = \u001b[38;5;28mself\u001b[39m.build_request(\n\u001b[32m    813\u001b[39m     method=method,\n\u001b[32m    814\u001b[39m     url=url,\n\u001b[32m   (...)\u001b[39m\u001b[32m    823\u001b[39m     extensions=extensions,\n\u001b[32m    824\u001b[39m )\n\u001b[32m--> \u001b[39m\u001b[32m825\u001b[39m \u001b[38;5;28;01mreturn\u001b[39;00m \u001b[38;5;28;43mself\u001b[39;49m\u001b[43m.\u001b[49m\u001b[43msend\u001b[49m\u001b[43m(\u001b[49m\u001b[43mrequest\u001b[49m\u001b[43m,\u001b[49m\u001b[43m \u001b[49m\u001b[43mauth\u001b[49m\u001b[43m=\u001b[49m\u001b[43mauth\u001b[49m\u001b[43m,\u001b[49m\u001b[43m \u001b[49m\u001b[43mfollow_redirects\u001b[49m\u001b[43m=\u001b[49m\u001b[43mfollow_redirects\u001b[49m\u001b[43m)\u001b[49m\n",
      "\u001b[36mFile \u001b[39m\u001b[32m~/miniconda3/envs/exist2025/lib/python3.12/site-packages/httpx/_client.py:914\u001b[39m, in \u001b[36mClient.send\u001b[39m\u001b[34m(self, request, stream, auth, follow_redirects)\u001b[39m\n\u001b[32m    910\u001b[39m \u001b[38;5;28mself\u001b[39m._set_timeout(request)\n\u001b[32m    912\u001b[39m auth = \u001b[38;5;28mself\u001b[39m._build_request_auth(request, auth)\n\u001b[32m--> \u001b[39m\u001b[32m914\u001b[39m response = \u001b[38;5;28;43mself\u001b[39;49m\u001b[43m.\u001b[49m\u001b[43m_send_handling_auth\u001b[49m\u001b[43m(\u001b[49m\n\u001b[32m    915\u001b[39m \u001b[43m    \u001b[49m\u001b[43mrequest\u001b[49m\u001b[43m,\u001b[49m\n\u001b[32m    916\u001b[39m \u001b[43m    \u001b[49m\u001b[43mauth\u001b[49m\u001b[43m=\u001b[49m\u001b[43mauth\u001b[49m\u001b[43m,\u001b[49m\n\u001b[32m    917\u001b[39m \u001b[43m    \u001b[49m\u001b[43mfollow_redirects\u001b[49m\u001b[43m=\u001b[49m\u001b[43mfollow_redirects\u001b[49m\u001b[43m,\u001b[49m\n\u001b[32m    918\u001b[39m \u001b[43m    \u001b[49m\u001b[43mhistory\u001b[49m\u001b[43m=\u001b[49m\u001b[43m[\u001b[49m\u001b[43m]\u001b[49m\u001b[43m,\u001b[49m\n\u001b[32m    919\u001b[39m \u001b[43m\u001b[49m\u001b[43m)\u001b[49m\n\u001b[32m    920\u001b[39m \u001b[38;5;28;01mtry\u001b[39;00m:\n\u001b[32m    921\u001b[39m     \u001b[38;5;28;01mif\u001b[39;00m \u001b[38;5;129;01mnot\u001b[39;00m stream:\n",
      "\u001b[36mFile \u001b[39m\u001b[32m~/miniconda3/envs/exist2025/lib/python3.12/site-packages/httpx/_client.py:942\u001b[39m, in \u001b[36mClient._send_handling_auth\u001b[39m\u001b[34m(self, request, auth, follow_redirects, history)\u001b[39m\n\u001b[32m    939\u001b[39m request = \u001b[38;5;28mnext\u001b[39m(auth_flow)\n\u001b[32m    941\u001b[39m \u001b[38;5;28;01mwhile\u001b[39;00m \u001b[38;5;28;01mTrue\u001b[39;00m:\n\u001b[32m--> \u001b[39m\u001b[32m942\u001b[39m     response = \u001b[38;5;28;43mself\u001b[39;49m\u001b[43m.\u001b[49m\u001b[43m_send_handling_redirects\u001b[49m\u001b[43m(\u001b[49m\n\u001b[32m    943\u001b[39m \u001b[43m        \u001b[49m\u001b[43mrequest\u001b[49m\u001b[43m,\u001b[49m\n\u001b[32m    944\u001b[39m \u001b[43m        \u001b[49m\u001b[43mfollow_redirects\u001b[49m\u001b[43m=\u001b[49m\u001b[43mfollow_redirects\u001b[49m\u001b[43m,\u001b[49m\n\u001b[32m    945\u001b[39m \u001b[43m        \u001b[49m\u001b[43mhistory\u001b[49m\u001b[43m=\u001b[49m\u001b[43mhistory\u001b[49m\u001b[43m,\u001b[49m\n\u001b[32m    946\u001b[39m \u001b[43m    \u001b[49m\u001b[43m)\u001b[49m\n\u001b[32m    947\u001b[39m     \u001b[38;5;28;01mtry\u001b[39;00m:\n\u001b[32m    948\u001b[39m         \u001b[38;5;28;01mtry\u001b[39;00m:\n",
      "\u001b[36mFile \u001b[39m\u001b[32m~/miniconda3/envs/exist2025/lib/python3.12/site-packages/httpx/_client.py:979\u001b[39m, in \u001b[36mClient._send_handling_redirects\u001b[39m\u001b[34m(self, request, follow_redirects, history)\u001b[39m\n\u001b[32m    976\u001b[39m \u001b[38;5;28;01mfor\u001b[39;00m hook \u001b[38;5;129;01min\u001b[39;00m \u001b[38;5;28mself\u001b[39m._event_hooks[\u001b[33m\"\u001b[39m\u001b[33mrequest\u001b[39m\u001b[33m\"\u001b[39m]:\n\u001b[32m    977\u001b[39m     hook(request)\n\u001b[32m--> \u001b[39m\u001b[32m979\u001b[39m response = \u001b[38;5;28;43mself\u001b[39;49m\u001b[43m.\u001b[49m\u001b[43m_send_single_request\u001b[49m\u001b[43m(\u001b[49m\u001b[43mrequest\u001b[49m\u001b[43m)\u001b[49m\n\u001b[32m    980\u001b[39m \u001b[38;5;28;01mtry\u001b[39;00m:\n\u001b[32m    981\u001b[39m     \u001b[38;5;28;01mfor\u001b[39;00m hook \u001b[38;5;129;01min\u001b[39;00m \u001b[38;5;28mself\u001b[39m._event_hooks[\u001b[33m\"\u001b[39m\u001b[33mresponse\u001b[39m\u001b[33m\"\u001b[39m]:\n",
      "\u001b[36mFile \u001b[39m\u001b[32m~/miniconda3/envs/exist2025/lib/python3.12/site-packages/httpx/_client.py:1014\u001b[39m, in \u001b[36mClient._send_single_request\u001b[39m\u001b[34m(self, request)\u001b[39m\n\u001b[32m   1009\u001b[39m     \u001b[38;5;28;01mraise\u001b[39;00m \u001b[38;5;167;01mRuntimeError\u001b[39;00m(\n\u001b[32m   1010\u001b[39m         \u001b[33m\"\u001b[39m\u001b[33mAttempted to send an async request with a sync Client instance.\u001b[39m\u001b[33m\"\u001b[39m\n\u001b[32m   1011\u001b[39m     )\n\u001b[32m   1013\u001b[39m \u001b[38;5;28;01mwith\u001b[39;00m request_context(request=request):\n\u001b[32m-> \u001b[39m\u001b[32m1014\u001b[39m     response = \u001b[43mtransport\u001b[49m\u001b[43m.\u001b[49m\u001b[43mhandle_request\u001b[49m\u001b[43m(\u001b[49m\u001b[43mrequest\u001b[49m\u001b[43m)\u001b[49m\n\u001b[32m   1016\u001b[39m \u001b[38;5;28;01massert\u001b[39;00m \u001b[38;5;28misinstance\u001b[39m(response.stream, SyncByteStream)\n\u001b[32m   1018\u001b[39m response.request = request\n",
      "\u001b[36mFile \u001b[39m\u001b[32m~/miniconda3/envs/exist2025/lib/python3.12/site-packages/httpx/_transports/default.py:250\u001b[39m, in \u001b[36mHTTPTransport.handle_request\u001b[39m\u001b[34m(self, request)\u001b[39m\n\u001b[32m    237\u001b[39m req = httpcore.Request(\n\u001b[32m    238\u001b[39m     method=request.method,\n\u001b[32m    239\u001b[39m     url=httpcore.URL(\n\u001b[32m   (...)\u001b[39m\u001b[32m    247\u001b[39m     extensions=request.extensions,\n\u001b[32m    248\u001b[39m )\n\u001b[32m    249\u001b[39m \u001b[38;5;28;01mwith\u001b[39;00m map_httpcore_exceptions():\n\u001b[32m--> \u001b[39m\u001b[32m250\u001b[39m     resp = \u001b[38;5;28;43mself\u001b[39;49m\u001b[43m.\u001b[49m\u001b[43m_pool\u001b[49m\u001b[43m.\u001b[49m\u001b[43mhandle_request\u001b[49m\u001b[43m(\u001b[49m\u001b[43mreq\u001b[49m\u001b[43m)\u001b[49m\n\u001b[32m    252\u001b[39m \u001b[38;5;28;01massert\u001b[39;00m \u001b[38;5;28misinstance\u001b[39m(resp.stream, typing.Iterable)\n\u001b[32m    254\u001b[39m \u001b[38;5;28;01mreturn\u001b[39;00m Response(\n\u001b[32m    255\u001b[39m     status_code=resp.status,\n\u001b[32m    256\u001b[39m     headers=resp.headers,\n\u001b[32m    257\u001b[39m     stream=ResponseStream(resp.stream),\n\u001b[32m    258\u001b[39m     extensions=resp.extensions,\n\u001b[32m    259\u001b[39m )\n",
      "\u001b[36mFile \u001b[39m\u001b[32m~/miniconda3/envs/exist2025/lib/python3.12/site-packages/httpcore/_sync/connection_pool.py:256\u001b[39m, in \u001b[36mConnectionPool.handle_request\u001b[39m\u001b[34m(self, request)\u001b[39m\n\u001b[32m    253\u001b[39m         closing = \u001b[38;5;28mself\u001b[39m._assign_requests_to_connections()\n\u001b[32m    255\u001b[39m     \u001b[38;5;28mself\u001b[39m._close_connections(closing)\n\u001b[32m--> \u001b[39m\u001b[32m256\u001b[39m     \u001b[38;5;28;01mraise\u001b[39;00m exc \u001b[38;5;28;01mfrom\u001b[39;00m\u001b[38;5;250m \u001b[39m\u001b[38;5;28;01mNone\u001b[39;00m\n\u001b[32m    258\u001b[39m \u001b[38;5;66;03m# Return the response. Note that in this case we still have to manage\u001b[39;00m\n\u001b[32m    259\u001b[39m \u001b[38;5;66;03m# the point at which the response is closed.\u001b[39;00m\n\u001b[32m    260\u001b[39m \u001b[38;5;28;01massert\u001b[39;00m \u001b[38;5;28misinstance\u001b[39m(response.stream, typing.Iterable)\n",
      "\u001b[36mFile \u001b[39m\u001b[32m~/miniconda3/envs/exist2025/lib/python3.12/site-packages/httpcore/_sync/connection_pool.py:236\u001b[39m, in \u001b[36mConnectionPool.handle_request\u001b[39m\u001b[34m(self, request)\u001b[39m\n\u001b[32m    232\u001b[39m connection = pool_request.wait_for_connection(timeout=timeout)\n\u001b[32m    234\u001b[39m \u001b[38;5;28;01mtry\u001b[39;00m:\n\u001b[32m    235\u001b[39m     \u001b[38;5;66;03m# Send the request on the assigned connection.\u001b[39;00m\n\u001b[32m--> \u001b[39m\u001b[32m236\u001b[39m     response = \u001b[43mconnection\u001b[49m\u001b[43m.\u001b[49m\u001b[43mhandle_request\u001b[49m\u001b[43m(\u001b[49m\n\u001b[32m    237\u001b[39m \u001b[43m        \u001b[49m\u001b[43mpool_request\u001b[49m\u001b[43m.\u001b[49m\u001b[43mrequest\u001b[49m\n\u001b[32m    238\u001b[39m \u001b[43m    \u001b[49m\u001b[43m)\u001b[49m\n\u001b[32m    239\u001b[39m \u001b[38;5;28;01mexcept\u001b[39;00m ConnectionNotAvailable:\n\u001b[32m    240\u001b[39m     \u001b[38;5;66;03m# In some cases a connection may initially be available to\u001b[39;00m\n\u001b[32m    241\u001b[39m     \u001b[38;5;66;03m# handle a request, but then become unavailable.\u001b[39;00m\n\u001b[32m    242\u001b[39m     \u001b[38;5;66;03m#\u001b[39;00m\n\u001b[32m    243\u001b[39m     \u001b[38;5;66;03m# In this case we clear the connection and try again.\u001b[39;00m\n\u001b[32m    244\u001b[39m     pool_request.clear_connection()\n",
      "\u001b[36mFile \u001b[39m\u001b[32m~/miniconda3/envs/exist2025/lib/python3.12/site-packages/httpcore/_sync/connection.py:103\u001b[39m, in \u001b[36mHTTPConnection.handle_request\u001b[39m\u001b[34m(self, request)\u001b[39m\n\u001b[32m    100\u001b[39m     \u001b[38;5;28mself\u001b[39m._connect_failed = \u001b[38;5;28;01mTrue\u001b[39;00m\n\u001b[32m    101\u001b[39m     \u001b[38;5;28;01mraise\u001b[39;00m exc\n\u001b[32m--> \u001b[39m\u001b[32m103\u001b[39m \u001b[38;5;28;01mreturn\u001b[39;00m \u001b[38;5;28;43mself\u001b[39;49m\u001b[43m.\u001b[49m\u001b[43m_connection\u001b[49m\u001b[43m.\u001b[49m\u001b[43mhandle_request\u001b[49m\u001b[43m(\u001b[49m\u001b[43mrequest\u001b[49m\u001b[43m)\u001b[49m\n",
      "\u001b[36mFile \u001b[39m\u001b[32m~/miniconda3/envs/exist2025/lib/python3.12/site-packages/httpcore/_sync/http11.py:136\u001b[39m, in \u001b[36mHTTP11Connection.handle_request\u001b[39m\u001b[34m(self, request)\u001b[39m\n\u001b[32m    134\u001b[39m     \u001b[38;5;28;01mwith\u001b[39;00m Trace(\u001b[33m\"\u001b[39m\u001b[33mresponse_closed\u001b[39m\u001b[33m\"\u001b[39m, logger, request) \u001b[38;5;28;01mas\u001b[39;00m trace:\n\u001b[32m    135\u001b[39m         \u001b[38;5;28mself\u001b[39m._response_closed()\n\u001b[32m--> \u001b[39m\u001b[32m136\u001b[39m \u001b[38;5;28;01mraise\u001b[39;00m exc\n",
      "\u001b[36mFile \u001b[39m\u001b[32m~/miniconda3/envs/exist2025/lib/python3.12/site-packages/httpcore/_sync/http11.py:106\u001b[39m, in \u001b[36mHTTP11Connection.handle_request\u001b[39m\u001b[34m(self, request)\u001b[39m\n\u001b[32m     95\u001b[39m     \u001b[38;5;28;01mpass\u001b[39;00m\n\u001b[32m     97\u001b[39m \u001b[38;5;28;01mwith\u001b[39;00m Trace(\n\u001b[32m     98\u001b[39m     \u001b[33m\"\u001b[39m\u001b[33mreceive_response_headers\u001b[39m\u001b[33m\"\u001b[39m, logger, request, kwargs\n\u001b[32m     99\u001b[39m ) \u001b[38;5;28;01mas\u001b[39;00m trace:\n\u001b[32m    100\u001b[39m     (\n\u001b[32m    101\u001b[39m         http_version,\n\u001b[32m    102\u001b[39m         status,\n\u001b[32m    103\u001b[39m         reason_phrase,\n\u001b[32m    104\u001b[39m         headers,\n\u001b[32m    105\u001b[39m         trailing_data,\n\u001b[32m--> \u001b[39m\u001b[32m106\u001b[39m     ) = \u001b[38;5;28;43mself\u001b[39;49m\u001b[43m.\u001b[49m\u001b[43m_receive_response_headers\u001b[49m\u001b[43m(\u001b[49m\u001b[43m*\u001b[49m\u001b[43m*\u001b[49m\u001b[43mkwargs\u001b[49m\u001b[43m)\u001b[49m\n\u001b[32m    107\u001b[39m     trace.return_value = (\n\u001b[32m    108\u001b[39m         http_version,\n\u001b[32m    109\u001b[39m         status,\n\u001b[32m    110\u001b[39m         reason_phrase,\n\u001b[32m    111\u001b[39m         headers,\n\u001b[32m    112\u001b[39m     )\n\u001b[32m    114\u001b[39m network_stream = \u001b[38;5;28mself\u001b[39m._network_stream\n",
      "\u001b[36mFile \u001b[39m\u001b[32m~/miniconda3/envs/exist2025/lib/python3.12/site-packages/httpcore/_sync/http11.py:177\u001b[39m, in \u001b[36mHTTP11Connection._receive_response_headers\u001b[39m\u001b[34m(self, request)\u001b[39m\n\u001b[32m    174\u001b[39m timeout = timeouts.get(\u001b[33m\"\u001b[39m\u001b[33mread\u001b[39m\u001b[33m\"\u001b[39m, \u001b[38;5;28;01mNone\u001b[39;00m)\n\u001b[32m    176\u001b[39m \u001b[38;5;28;01mwhile\u001b[39;00m \u001b[38;5;28;01mTrue\u001b[39;00m:\n\u001b[32m--> \u001b[39m\u001b[32m177\u001b[39m     event = \u001b[38;5;28;43mself\u001b[39;49m\u001b[43m.\u001b[49m\u001b[43m_receive_event\u001b[49m\u001b[43m(\u001b[49m\u001b[43mtimeout\u001b[49m\u001b[43m=\u001b[49m\u001b[43mtimeout\u001b[49m\u001b[43m)\u001b[49m\n\u001b[32m    178\u001b[39m     \u001b[38;5;28;01mif\u001b[39;00m \u001b[38;5;28misinstance\u001b[39m(event, h11.Response):\n\u001b[32m    179\u001b[39m         \u001b[38;5;28;01mbreak\u001b[39;00m\n",
      "\u001b[36mFile \u001b[39m\u001b[32m~/miniconda3/envs/exist2025/lib/python3.12/site-packages/httpcore/_sync/http11.py:217\u001b[39m, in \u001b[36mHTTP11Connection._receive_event\u001b[39m\u001b[34m(self, timeout)\u001b[39m\n\u001b[32m    214\u001b[39m     event = \u001b[38;5;28mself\u001b[39m._h11_state.next_event()\n\u001b[32m    216\u001b[39m \u001b[38;5;28;01mif\u001b[39;00m event \u001b[38;5;129;01mis\u001b[39;00m h11.NEED_DATA:\n\u001b[32m--> \u001b[39m\u001b[32m217\u001b[39m     data = \u001b[38;5;28;43mself\u001b[39;49m\u001b[43m.\u001b[49m\u001b[43m_network_stream\u001b[49m\u001b[43m.\u001b[49m\u001b[43mread\u001b[49m\u001b[43m(\u001b[49m\n\u001b[32m    218\u001b[39m \u001b[43m        \u001b[49m\u001b[38;5;28;43mself\u001b[39;49m\u001b[43m.\u001b[49m\u001b[43mREAD_NUM_BYTES\u001b[49m\u001b[43m,\u001b[49m\u001b[43m \u001b[49m\u001b[43mtimeout\u001b[49m\u001b[43m=\u001b[49m\u001b[43mtimeout\u001b[49m\n\u001b[32m    219\u001b[39m \u001b[43m    \u001b[49m\u001b[43m)\u001b[49m\n\u001b[32m    221\u001b[39m     \u001b[38;5;66;03m# If we feed this case through h11 we'll raise an exception like:\u001b[39;00m\n\u001b[32m    222\u001b[39m     \u001b[38;5;66;03m#\u001b[39;00m\n\u001b[32m    223\u001b[39m     \u001b[38;5;66;03m#     httpcore.RemoteProtocolError: can't handle event type\u001b[39;00m\n\u001b[32m   (...)\u001b[39m\u001b[32m    227\u001b[39m     \u001b[38;5;66;03m# perspective. Instead we handle this case distinctly and treat\u001b[39;00m\n\u001b[32m    228\u001b[39m     \u001b[38;5;66;03m# it as a ConnectError.\u001b[39;00m\n\u001b[32m    229\u001b[39m     \u001b[38;5;28;01mif\u001b[39;00m data == \u001b[33mb\u001b[39m\u001b[33m\"\u001b[39m\u001b[33m\"\u001b[39m \u001b[38;5;129;01mand\u001b[39;00m \u001b[38;5;28mself\u001b[39m._h11_state.their_state == h11.SEND_RESPONSE:\n",
      "\u001b[36mFile \u001b[39m\u001b[32m~/miniconda3/envs/exist2025/lib/python3.12/site-packages/httpcore/_backends/sync.py:128\u001b[39m, in \u001b[36mSyncStream.read\u001b[39m\u001b[34m(self, max_bytes, timeout)\u001b[39m\n\u001b[32m    126\u001b[39m \u001b[38;5;28;01mwith\u001b[39;00m map_exceptions(exc_map):\n\u001b[32m    127\u001b[39m     \u001b[38;5;28mself\u001b[39m._sock.settimeout(timeout)\n\u001b[32m--> \u001b[39m\u001b[32m128\u001b[39m     \u001b[38;5;28;01mreturn\u001b[39;00m \u001b[38;5;28;43mself\u001b[39;49m\u001b[43m.\u001b[49m\u001b[43m_sock\u001b[49m\u001b[43m.\u001b[49m\u001b[43mrecv\u001b[49m\u001b[43m(\u001b[49m\u001b[43mmax_bytes\u001b[49m\u001b[43m)\u001b[49m\n",
      "\u001b[36mFile \u001b[39m\u001b[32m~/miniconda3/envs/exist2025/lib/python3.12/ssl.py:1232\u001b[39m, in \u001b[36mSSLSocket.recv\u001b[39m\u001b[34m(self, buflen, flags)\u001b[39m\n\u001b[32m   1228\u001b[39m     \u001b[38;5;28;01mif\u001b[39;00m flags != \u001b[32m0\u001b[39m:\n\u001b[32m   1229\u001b[39m         \u001b[38;5;28;01mraise\u001b[39;00m \u001b[38;5;167;01mValueError\u001b[39;00m(\n\u001b[32m   1230\u001b[39m             \u001b[33m\"\u001b[39m\u001b[33mnon-zero flags not allowed in calls to recv() on \u001b[39m\u001b[38;5;132;01m%s\u001b[39;00m\u001b[33m\"\u001b[39m %\n\u001b[32m   1231\u001b[39m             \u001b[38;5;28mself\u001b[39m.\u001b[34m__class__\u001b[39m)\n\u001b[32m-> \u001b[39m\u001b[32m1232\u001b[39m     \u001b[38;5;28;01mreturn\u001b[39;00m \u001b[38;5;28;43mself\u001b[39;49m\u001b[43m.\u001b[49m\u001b[43mread\u001b[49m\u001b[43m(\u001b[49m\u001b[43mbuflen\u001b[49m\u001b[43m)\u001b[49m\n\u001b[32m   1233\u001b[39m \u001b[38;5;28;01melse\u001b[39;00m:\n\u001b[32m   1234\u001b[39m     \u001b[38;5;28;01mreturn\u001b[39;00m \u001b[38;5;28msuper\u001b[39m().recv(buflen, flags)\n",
      "\u001b[36mFile \u001b[39m\u001b[32m~/miniconda3/envs/exist2025/lib/python3.12/ssl.py:1105\u001b[39m, in \u001b[36mSSLSocket.read\u001b[39m\u001b[34m(self, len, buffer)\u001b[39m\n\u001b[32m   1103\u001b[39m         \u001b[38;5;28;01mreturn\u001b[39;00m \u001b[38;5;28mself\u001b[39m._sslobj.read(\u001b[38;5;28mlen\u001b[39m, buffer)\n\u001b[32m   1104\u001b[39m     \u001b[38;5;28;01melse\u001b[39;00m:\n\u001b[32m-> \u001b[39m\u001b[32m1105\u001b[39m         \u001b[38;5;28;01mreturn\u001b[39;00m \u001b[38;5;28;43mself\u001b[39;49m\u001b[43m.\u001b[49m\u001b[43m_sslobj\u001b[49m\u001b[43m.\u001b[49m\u001b[43mread\u001b[49m\u001b[43m(\u001b[49m\u001b[38;5;28;43mlen\u001b[39;49m\u001b[43m)\u001b[49m\n\u001b[32m   1106\u001b[39m \u001b[38;5;28;01mexcept\u001b[39;00m SSLError \u001b[38;5;28;01mas\u001b[39;00m x:\n\u001b[32m   1107\u001b[39m     \u001b[38;5;28;01mif\u001b[39;00m x.args[\u001b[32m0\u001b[39m] == SSL_ERROR_EOF \u001b[38;5;129;01mand\u001b[39;00m \u001b[38;5;28mself\u001b[39m.suppress_ragged_eofs:\n",
      "\u001b[31mKeyboardInterrupt\u001b[39m: "
     ]
    }
   ],
   "source": [
    "import json\n",
    "import pandas as pd\n",
    "from tqdm import tqdm\n",
    "\n",
    "# Settings\n",
    "max_iterations = 5\n",
    "target_accuracy = 0.90\n",
    "\n",
    "# Logging\n",
    "prompt_versions = [sexism_prompt]\n",
    "accuracy_log = []\n",
    "\n",
    "df = df_combined\n",
    "\n",
    "def run_model_on_dataframe(df_input, prompt, client, model_name):\n",
    "    descriptions = []\n",
    "    labels = []\n",
    "    analysiss = []\n",
    "    prob = []\n",
    "\n",
    "    for idx, row in tqdm(df_input.iterrows(), total=len(df_input)):\n",
    "        try:\n",
    "            path = f\"/Users/moiz.ali/Downloads/EXIST 2025 Dataset V0.3/EXIST 2025 Videos Dataset/training/{row['path_video']}\"\n",
    "            uploaded_video = upload_video(path)\n",
    "\n",
    "            response = client.models.generate_content(\n",
    "                model=model_name,\n",
    "                contents=[uploaded_video, prompt]\n",
    "            )\n",
    "            result = json.loads(response.text.strip().strip(\"```json\").strip(\"```\"))\n",
    "\n",
    "            descriptions.append(result.get(\"description\", \"ERROR\"))\n",
    "            labels.append(result.get(\"label\", \"ERROR\"))\n",
    "            analysiss.append(result.get(\"analysis\", \"ERROR\"))\n",
    "            prob.append(result.get(\"probability\", \"ERROR\"))\n",
    "\n",
    "        except Exception as e:\n",
    "            print(f\"❌ Error at index {idx} (id {row['id_EXIST']}): {e}\")\n",
    "            descriptions.append(\"ERROR\")\n",
    "            labels.append(\"ERROR\")\n",
    "            analysiss.append(\"ERROR\")\n",
    "            prob.append(\"ERROR\")\n",
    "\n",
    "    df_input[\"description\"] = descriptions\n",
    "    df_input[\"label\"] = labels\n",
    "    df_input[\"analysis\"] = analysiss\n",
    "    df_input[\"probability\"] = prob\n",
    "\n",
    "    return df_input\n",
    "\n",
    "\n",
    "def evaluate_predictions(df_eval):\n",
    "    correct = 0\n",
    "    errors = []\n",
    "\n",
    "    for _, row in df_eval.iterrows():\n",
    "        if row[\"label_num\"] == row[\"target\"]:\n",
    "            correct += 1\n",
    "        else:\n",
    "            errors.append({\n",
    "                \"id\": row[\"id_EXIST\"],\n",
    "                \"text\": row[\"text\"],\n",
    "                \"expected\": row[\"target\"],\n",
    "                \"predicted\": row[\"label\"],\n",
    "                \"description\": row[\"description\"],\n",
    "                \"analysis\": row[\"analysis\"],\n",
    "                \"probability\": row[\"probability\"],\n",
    "            })\n",
    "\n",
    "    accuracy = correct / len(df_eval)\n",
    "    return accuracy, errors\n",
    "\n",
    "\n",
    "def refine_prompt(current_prompt, errors, client, model_name):\n",
    "    example_text = \"\\n\\n\".join([\n",
    "        f\"Video transcript: {e['text']}\\nExpected label: {e['expected']}\\nPredicted: {e['predicted']}\\nGemini's description: {e['description']}\\nGemini's analysis: {e['analysis']}\\nGemini's label probability: {e['probability']}\"\n",
    "        for e in errors[:10]\n",
    "    ])\n",
    "\n",
    "    refinement_prompt = f\"\"\"\n",
    "    You are helping refine a prompt that instructs an AI to classify whether a video is sexist or not.\n",
    "\n",
    "    Here's the current prompt:\n",
    "    ---\n",
    "    {current_prompt}\n",
    "    ---\n",
    "\n",
    "    The AI was tested on some examples and misclassified the following:\n",
    "    {example_text}\n",
    "\n",
    "    Based on these errors, please rewrite or revise the original prompt to help the AI better distinguish between:\n",
    "    - when a video critiques vs displays sexism\n",
    "    - how to apply the 5 categories more effectively\n",
    "    - how to reduce false positives and false negatives\n",
    "    - keep the prompt as concise as possible\n",
    "\n",
    "    Output ONLY the new prompt. No other explanation.\n",
    "    \"\"\"\n",
    "\n",
    "    print(example_text)\n",
    "\n",
    "    try:\n",
    "        refinement_response = client.models.generate_content(\n",
    "            model=model_name,\n",
    "            contents=[refinement_prompt]\n",
    "        )\n",
    "        new_prompt = refinement_response.text.strip()\n",
    "        return new_prompt\n",
    "    except Exception as e:\n",
    "        print(f\"⚠️ Prompt refinement failed: {e}\")\n",
    "        return current_prompt\n",
    "\n",
    "\n",
    "# Main loop\n",
    "iteration = 0\n",
    "df_current = df.copy()\n",
    "\n",
    "while iteration < max_iterations:\n",
    "    print(f\"\\n🚀 Iteration {iteration + 1}\")\n",
    "\n",
    "    # Run model\n",
    "    df_current = run_model_on_dataframe(df_current, sexism_prompt, client, model_name)\n",
    "    print(df_current)\n",
    "    df_current['label_num'] = df_current['label'].map({'YES': 1.0, 'NO': 0.0})\n",
    "\n",
    "    # Evaluate\n",
    "    accuracy, errors = evaluate_predictions(df_current)\n",
    "    accuracy_log.append(accuracy)\n",
    "    print(f\"📊 Accuracy at iteration {iteration + 1}: {accuracy:.2%}\")\n",
    "\n",
    "    # Save full output for this iteration\n",
    "    df_current.to_csv(f\"results_iteration_{iteration+1}.csv\", index=False)\n",
    "\n",
    "    if accuracy >= target_accuracy:\n",
    "        print(\"✅ Target accuracy reached.\")\n",
    "        break\n",
    "\n",
    "    if not errors:\n",
    "        print(\"⚠️ No errors found, but accuracy is still low. Stopping.\")\n",
    "        break\n",
    "\n",
    "    # Refine prompt using incorrect examples\n",
    "    sexism_prompt = refine_prompt(sexism_prompt, errors, client, model_name)\n",
    "    print(f\"New prompt: {sexism_prompt}\")\n",
    "    prompt_versions.append(sexism_prompt)\n",
    "\n",
    "    # Create new df with only misclassified rows\n",
    "    # error_ids = {e['id'] for e in errors}\n",
    "    # df_current = df[df['id_EXIST'].isin(error_ids)].copy()\n",
    "\n",
    "    iteration += 1\n",
    "\n",
    "# Save final logs\n",
    "with open(\"prompt_versions.txt\", \"w\") as f:\n",
    "    for i, prompt in enumerate(prompt_versions):\n",
    "        f.write(f\"\\n\\n--- Prompt Version {i+1} ---\\n{prompt}\\n\")\n",
    "\n",
    "with open(\"accuracy_log.json\", \"w\") as f:\n",
    "    json.dump(accuracy_log, f, indent=2)\n",
    "\n",
    "print(\"🏁 Finished.\")\n"
   ]
  },
  {
   "cell_type": "code",
   "execution_count": null,
   "metadata": {},
   "outputs": [],
   "source": []
  }
 ],
 "metadata": {
  "kernelspec": {
   "display_name": "exist2025",
   "language": "python",
   "name": "python3"
  },
  "language_info": {
   "codemirror_mode": {
    "name": "ipython",
    "version": 3
   },
   "file_extension": ".py",
   "mimetype": "text/x-python",
   "name": "python",
   "nbconvert_exporter": "python",
   "pygments_lexer": "ipython3",
   "version": "3.12.7"
  }
 },
 "nbformat": 4,
 "nbformat_minor": 2
}
