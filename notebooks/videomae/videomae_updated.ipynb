{
 "cells": [
  {
   "cell_type": "code",
   "execution_count": 6,
   "metadata": {},
   "outputs": [],
   "source": [
    "\n",
    "import os\n",
    "import torch\n",
    "import pandas as pd\n",
    "import pickle\n",
    "from tqdm import tqdm\n",
    "from torch.utils.data import Dataset, DataLoader\n",
    "from sklearn.metrics import accuracy_score, f1_score\n",
    "\n",
    "\n"
   ]
  },
  {
   "cell_type": "code",
   "execution_count": 7,
   "metadata": {},
   "outputs": [
    {
     "name": "stderr",
     "output_type": "stream",
     "text": [
      "/storage/home/hcoda1/3/ryendapalli3/.conda/envs/exist2025/lib/python3.12/site-packages/tqdm/auto.py:21: TqdmWarning: IProgress not found. Please update jupyter and ipywidgets. See https://ipywidgets.readthedocs.io/en/stable/user_install.html\n",
      "  from .autonotebook import tqdm as notebook_tqdm\n"
     ]
    }
   ],
   "source": [
    "\n",
    "from transformers import VideoMAEFeatureExtractor, VideoMAEForVideoClassification\n",
    "from decord import VideoReader, cpu"
   ]
  },
  {
   "cell_type": "code",
   "execution_count": 8,
   "metadata": {},
   "outputs": [],
   "source": [
    "from torch.optim import AdamW\n",
    "\n",
    "\n",
    "\n",
    "\n",
    "\n"
   ]
  },
  {
   "cell_type": "code",
   "execution_count": 9,
   "metadata": {},
   "outputs": [],
   "source": [
    "class TikTokVideoDataset(Dataset):\n",
    "    def __init__(self, df, video_dir, feature_extractor, num_frames=16):\n",
    "        self.video_dir = video_dir\n",
    "        self.feature_extractor = feature_extractor\n",
    "        self.num_frames = num_frames\n",
    "        self.valid_rows = []\n",
    "\n",
    "        for idx, row in tqdm(df.iterrows(), total=len(df), desc=\"Checking videos\"):\n",
    "            video_path = os.path.join(video_dir, row['video'])\n",
    "            try:\n",
    "                vr = VideoReader(video_path, ctx=cpu(0))\n",
    "                if len(vr) >= num_frames:\n",
    "                    self.valid_rows.append(row)\n",
    "            except:\n",
    "                continue\n",
    "\n",
    "        self.df = pd.DataFrame(self.valid_rows).reset_index(drop=True)\n",
    "\n",
    "    def __len__(self):\n",
    "        return len(self.df)\n",
    "\n",
    "    def __getitem__(self, idx):\n",
    "        row = self.df.iloc[idx]\n",
    "        video_path = os.path.join(self.video_dir, row['video'])\n",
    "        try:\n",
    "            vr = VideoReader(video_path, ctx=cpu(0))\n",
    "            total_frames = len(vr)\n",
    "            indices = torch.linspace(0, total_frames - 1, self.num_frames).long().tolist()\n",
    "            video = vr.get_batch(indices).asnumpy()\n",
    "            inputs = self.feature_extractor([frame for frame in video], return_tensors=\"pt\")\n",
    "            pixel_values = inputs[\"pixel_values\"].squeeze(0)\n",
    "            label = int(row['target'])\n",
    "            return {\"pixel_values\": pixel_values, \"labels\": torch.tensor(label)}\n",
    "        except:\n",
    "            return None\n",
    "\n",
    "def skip_none_collate(batch):\n",
    "    batch = [x for x in batch if x is not None]\n",
    "    if len(batch) == 0:\n",
    "        return None\n",
    "    return torch.utils.data.default_collate(batch)"
   ]
  },
  {
   "cell_type": "code",
   "execution_count": 10,
   "metadata": {},
   "outputs": [
    {
     "name": "stderr",
     "output_type": "stream",
     "text": [
      "/storage/home/hcoda1/3/ryendapalli3/.conda/envs/exist2025/lib/python3.12/site-packages/transformers/models/videomae/feature_extraction_videomae.py:28: FutureWarning: The class VideoMAEFeatureExtractor is deprecated and will be removed in version 5 of Transformers. Please use VideoMAEImageProcessor instead.\n",
      "  warnings.warn(\n"
     ]
    }
   ],
   "source": [
    "test_path = \"/storage/coda1/p-dsgt_clef2025/0/shared/exist/latest/EXIST_2025_Videos_Dataset/train_test/test_df.csv\"\n",
    "val_path = \"/storage/coda1/p-dsgt_clef2025/0/shared/exist/latest/EXIST_2025_Videos_Dataset/train_test/valid_df.csv\"\n",
    "train_path = \"/storage/coda1/p-dsgt_clef2025/0/shared/exist/latest/EXIST_2025_Videos_Dataset/train_test/train_df.csv\"\n",
    "video_dir = \"/storage/coda1/p-dsgt_clef2025/0/shared/exist/latest/EXIST_2025_Videos_Dataset/training/videos\"\n",
    "\n",
    "train_df = pd.read_csv(train_path)\n",
    "val_df = pd.read_csv(val_path)\n",
    "test_df = pd.read_csv(test_path)\n",
    "\n",
    "feature_extractor = VideoMAEFeatureExtractor.from_pretrained(\"MCG-NJU/videomae-base\")"
   ]
  },
  {
   "cell_type": "code",
   "execution_count": 11,
   "metadata": {},
   "outputs": [
    {
     "name": "stdout",
     "output_type": "stream",
     "text": [
      "Loading cached dataset: cached_train_dataset.pkl\n",
      "Loading cached dataset: cached_val_dataset.pkl\n",
      "Loading cached dataset: cached_test_dataset.pkl\n"
     ]
    }
   ],
   "source": [
    "def get_or_create_dataset(cache_file, df, video_dir, feature_extractor, num_frames=16):\n",
    "    if os.path.exists(cache_file):\n",
    "        print(f\"Loading cached dataset: {cache_file}\")\n",
    "        with open(cache_file, \"rb\") as f:\n",
    "            return pickle.load(f)\n",
    "    else:\n",
    "        print(f\"Building and caching dataset: {cache_file}\")\n",
    "        dataset = TikTokVideoDataset(df, video_dir, feature_extractor, num_frames)\n",
    "        with open(cache_file, \"wb\") as f:\n",
    "            pickle.dump(dataset, f)\n",
    "        return dataset\n",
    "\n",
    "train_dataset = get_or_create_dataset(\"cached_train_dataset.pkl\", train_df, video_dir, feature_extractor)\n",
    "val_dataset = get_or_create_dataset(\"cached_val_dataset.pkl\", val_df, video_dir, feature_extractor)\n",
    "test_dataset = get_or_create_dataset(\"cached_test_dataset.pkl\", test_df, video_dir, feature_extractor)\n",
    "\n",
    "train_loader = DataLoader(train_dataset, batch_size=4, shuffle=True, num_workers=8,\n",
    "                          pin_memory=True, prefetch_factor=2, collate_fn=skip_none_collate, persistent_workers=True)\n",
    "\n",
    "val_loader = DataLoader(val_dataset, batch_size=4, shuffle=True, num_workers=8,\n",
    "                          pin_memory=True, prefetch_factor=2, collate_fn=skip_none_collate, persistent_workers=True)\n",
    "\n",
    "test_loader = DataLoader(test_dataset, batch_size=4, shuffle=False, num_workers=8,\n",
    "                         pin_memory=True, prefetch_factor=2, collate_fn=skip_none_collate, persistent_workers=True)\n"
   ]
  },
  {
   "cell_type": "code",
   "execution_count": 12,
   "metadata": {},
   "outputs": [],
   "source": [
    "def evaluate_model(model, data_loader):\n",
    "    model.eval()\n",
    "    all_preds, all_labels = [], []\n",
    "    total_loss = 0\n",
    "\n",
    "    with torch.no_grad():\n",
    "        for batch in data_loader:\n",
    "            if batch is None:\n",
    "                continue\n",
    "            inputs = batch[\"pixel_values\"].to(model.device)\n",
    "            labels = batch[\"labels\"].to(model.device)\n",
    "\n",
    "            outputs = model(pixel_values=inputs)\n",
    "            loss = torch.nn.CrossEntropyLoss()(outputs.logits, labels)\n",
    "            total_loss += loss.item()\n",
    "\n",
    "            preds = torch.argmax(outputs.logits, dim=1)\n",
    "            all_preds.extend(preds.cpu().numpy())\n",
    "            all_labels.extend(labels.cpu().numpy())\n",
    "\n",
    "    acc = accuracy_score(all_labels, all_preds)\n",
    "    f1 = f1_score(all_labels, all_preds, average=\"macro\")\n",
    "    avg_loss = total_loss / len(data_loader)\n",
    "    return avg_loss, acc, f1\n"
   ]
  },
  {
   "cell_type": "code",
   "execution_count": 13,
   "metadata": {},
   "outputs": [],
   "source": [
    "import copy\n",
    "import csv\n",
    "\n",
    "def run_experiment(freeze_type, lr, dropout, trial_name):\n",
    "    print(f\"\\nRunning {trial_name} | freeze={freeze_type}, lr={lr}, dropout={dropout}\")\n",
    "\n",
    "    device = torch.device(\"cuda\" if torch.cuda.is_available() else \"cpu\")\n",
    "\n",
    "    model = VideoMAEForVideoClassification.from_pretrained(\"MCG-NJU/videomae-base\", num_labels=2)\n",
    "\n",
    "    if freeze_type == \"all\":\n",
    "        for param in model.videomae.parameters():\n",
    "            param.requires_grad = False\n",
    "    elif freeze_type == \"last3\":\n",
    "        for param in model.videomae.parameters():\n",
    "            param.requires_grad = False\n",
    "        for block in model.videomae.encoder.layer[-3:]:\n",
    "            for param in block.parameters():\n",
    "                param.requires_grad = True\n",
    "    elif freeze_type == \"none\":\n",
    "        for param in model.videomae.parameters():\n",
    "            param.requires_grad = True\n",
    "\n",
    "\n",
    "    import torch.nn as nn\n",
    "    model.dropout = nn.Dropout(dropout)\n",
    "    original_forward = model.forward\n",
    "    def patched_forward(*args, **kwargs):\n",
    "        out = original_forward(*args, **kwargs)\n",
    "        out.logits = model.dropout(out.logits)\n",
    "        return out\n",
    "    model.forward = patched_forward\n",
    "\n",
    "    model.to(device)\n",
    "\n",
    "    optimizer = AdamW(model.parameters(), lr=lr, weight_decay=0.01)\n",
    "    criterion = torch.nn.CrossEntropyLoss()\n",
    "\n",
    "    best_f1 = 0\n",
    "    patience = 3\n",
    "    wait = 0\n",
    "\n",
    "    for epoch in range(10):\n",
    "        model.train()\n",
    "        train_preds, train_labels = [], []\n",
    "        total_train_loss = 0\n",
    "\n",
    "        for batch in train_loader:\n",
    "            if batch is None:\n",
    "                continue\n",
    "            inputs = batch[\"pixel_values\"].to(device)\n",
    "            labels = batch[\"labels\"].to(device)\n",
    "            outputs = model(pixel_values=inputs)\n",
    "            loss = criterion(outputs.logits, labels)\n",
    "\n",
    "            loss.backward()\n",
    "            optimizer.step()\n",
    "            optimizer.zero_grad()\n",
    "            total_train_loss += loss.item()\n",
    "\n",
    "            preds = torch.argmax(outputs.logits, dim=1)\n",
    "            train_preds.extend(preds.cpu().numpy())\n",
    "            train_labels.extend(labels.cpu().numpy())\n",
    "\n",
    "        train_acc = accuracy_score(train_labels, train_preds)\n",
    "        train_f1 = f1_score(train_labels, train_preds, average=\"macro\")\n",
    "        train_loss_avg = total_train_loss / len(train_loader)\n",
    "\n",
    "        test_loss, test_acc, test_f1 = evaluate_model(model, test_loader)\n",
    "\n",
    "        print(\n",
    "            f\"Epoch {epoch+1}: \"\n",
    "            f\"Train Loss = {train_loss_avg:.4f}, Train Acc = {train_acc:.4f}, \"\n",
    "            f\"Test Loss = {test_loss:.4f}, Test Acc = {test_acc:.4f}, F1 Macro = {test_f1:.4f}\"\n",
    "        )\n",
    "\n",
    "        if test_f1 > best_f1:\n",
    "            best_f1 = test_f1\n",
    "            wait = 0\n",
    "        else:\n",
    "            wait += 1\n",
    "            if wait >= patience:\n",
    "                print(\"Early stopping.\")\n",
    "                break\n",
    "\n",
    "    return {\n",
    "        \"trial\": trial_name,\n",
    "        \"freeze\": freeze_type,\n",
    "        \"lr\": lr,\n",
    "        \"dropout\": dropout,\n",
    "        \"train_acc\": train_acc,\n",
    "        \"test_acc\": test_acc,\n",
    "        \"f1_macro\": test_f1,\n",
    "        \"epochs_run\": epoch + 1\n",
    "    }\n"
   ]
  },
  {
   "cell_type": "code",
   "execution_count": 14,
   "metadata": {},
   "outputs": [
    {
     "name": "stdout",
     "output_type": "stream",
     "text": [
      "\n",
      "Running baseline | freeze=all, lr=2e-05, dropout=0.3\n"
     ]
    },
    {
     "name": "stderr",
     "output_type": "stream",
     "text": [
      "Some weights of VideoMAEForVideoClassification were not initialized from the model checkpoint at MCG-NJU/videomae-base and are newly initialized: ['classifier.bias', 'classifier.weight']\n",
      "You should probably TRAIN this model on a down-stream task to be able to use it for predictions and inference.\n"
     ]
    },
    {
     "name": "stdout",
     "output_type": "stream",
     "text": [
      "Epoch 1: Train Loss = 0.7910, Train Acc = 0.4494, Test Loss = 0.7252, Test Acc = 0.5231, F1 Macro = 0.3787\n",
      "Epoch 2: Train Loss = 0.7380, Train Acc = 0.4460, Test Loss = 0.7091, Test Acc = 0.4769, F1 Macro = 0.4281\n",
      "Epoch 3: Train Loss = 0.7141, Train Acc = 0.5026, Test Loss = 0.7064, Test Acc = 0.4513, F1 Macro = 0.4397\n",
      "Epoch 4: Train Loss = 0.7095, Train Acc = 0.5026, Test Loss = 0.7068, Test Acc = 0.4615, F1 Macro = 0.4613\n",
      "Epoch 5: Train Loss = 0.7003, Train Acc = 0.5283, Test Loss = 0.7076, Test Acc = 0.4769, F1 Macro = 0.4719\n",
      "Epoch 6: Train Loss = 0.6968, Train Acc = 0.5232, Test Loss = 0.7098, Test Acc = 0.5026, F1 Macro = 0.4829\n",
      "Epoch 7: Train Loss = 0.6946, Train Acc = 0.5489, Test Loss = 0.7083, Test Acc = 0.5077, F1 Macro = 0.4893\n",
      "Epoch 8: Train Loss = 0.6943, Train Acc = 0.5334, Test Loss = 0.7083, Test Acc = 0.5077, F1 Macro = 0.4893\n",
      "Epoch 9: Train Loss = 0.6990, Train Acc = 0.5266, Test Loss = 0.7061, Test Acc = 0.4974, F1 Macro = 0.4807\n",
      "Epoch 10: Train Loss = 0.6889, Train Acc = 0.5420, Test Loss = 0.7070, Test Acc = 0.4923, F1 Macro = 0.4723\n",
      "Early stopping.\n",
      "\n",
      "Running tune_last3 | freeze=last3, lr=1e-05, dropout=0.3\n"
     ]
    },
    {
     "name": "stderr",
     "output_type": "stream",
     "text": [
      "Some weights of VideoMAEForVideoClassification were not initialized from the model checkpoint at MCG-NJU/videomae-base and are newly initialized: ['classifier.bias', 'classifier.weight']\n",
      "You should probably TRAIN this model on a down-stream task to be able to use it for predictions and inference.\n"
     ]
    },
    {
     "name": "stdout",
     "output_type": "stream",
     "text": [
      "Epoch 1: Train Loss = 0.7064, Train Acc = 0.5489, Test Loss = 0.7117, Test Acc = 0.4821, F1 Macro = 0.4807\n",
      "Epoch 2: Train Loss = 0.6646, Train Acc = 0.5901, Test Loss = 0.7015, Test Acc = 0.5026, F1 Macro = 0.5025\n",
      "Epoch 3: Train Loss = 0.6454, Train Acc = 0.6123, Test Loss = 0.6989, Test Acc = 0.5026, F1 Macro = 0.4962\n",
      "Epoch 4: Train Loss = 0.5892, Train Acc = 0.6930, Test Loss = 0.6909, Test Acc = 0.4872, F1 Macro = 0.4833\n",
      "Epoch 5: Train Loss = 0.5481, Train Acc = 0.7513, Test Loss = 0.6834, Test Acc = 0.5026, F1 Macro = 0.5017\n",
      "Early stopping.\n",
      "\n",
      "Running fast_head | freeze=last3, lr=0.0001, dropout=0.3\n"
     ]
    },
    {
     "name": "stderr",
     "output_type": "stream",
     "text": [
      "Some weights of VideoMAEForVideoClassification were not initialized from the model checkpoint at MCG-NJU/videomae-base and are newly initialized: ['classifier.bias', 'classifier.weight']\n",
      "You should probably TRAIN this model on a down-stream task to be able to use it for predictions and inference.\n"
     ]
    },
    {
     "name": "stdout",
     "output_type": "stream",
     "text": [
      "Epoch 1: Train Loss = 0.7217, Train Acc = 0.5249, Test Loss = 0.6931, Test Acc = 0.5128, F1 Macro = 0.4580\n",
      "Epoch 2: Train Loss = 0.5529, Train Acc = 0.7256, Test Loss = 0.7255, Test Acc = 0.5385, F1 Macro = 0.5171\n",
      "Epoch 3: Train Loss = 0.3540, Train Acc = 0.8439, Test Loss = 0.8487, Test Acc = 0.5436, F1 Macro = 0.4885\n",
      "Epoch 4: Train Loss = 0.1738, Train Acc = 0.9125, Test Loss = 0.8919, Test Acc = 0.5897, F1 Macro = 0.5889\n",
      "Epoch 5: Train Loss = 0.1039, Train Acc = 0.9365, Test Loss = 1.1758, Test Acc = 0.5949, F1 Macro = 0.5914\n",
      "Epoch 6: Train Loss = 0.1000, Train Acc = 0.9365, Test Loss = 1.2999, Test Acc = 0.6359, F1 Macro = 0.6293\n",
      "Epoch 7: Train Loss = 0.1668, Train Acc = 0.9142, Test Loss = 1.1456, Test Acc = 0.5897, F1 Macro = 0.5889\n",
      "Epoch 8: Train Loss = 0.0729, Train Acc = 0.9605, Test Loss = 1.4644, Test Acc = 0.5538, F1 Macro = 0.5538\n",
      "Epoch 9: Train Loss = 0.0710, Train Acc = 0.9554, Test Loss = 1.6491, Test Acc = 0.6154, F1 Macro = 0.5967\n",
      "Early stopping.\n",
      "\n",
      "Running high_dropout | freeze=last3, lr=1e-05, dropout=0.5\n"
     ]
    },
    {
     "name": "stderr",
     "output_type": "stream",
     "text": [
      "Some weights of VideoMAEForVideoClassification were not initialized from the model checkpoint at MCG-NJU/videomae-base and are newly initialized: ['classifier.bias', 'classifier.weight']\n",
      "You should probably TRAIN this model on a down-stream task to be able to use it for predictions and inference.\n"
     ]
    },
    {
     "name": "stdout",
     "output_type": "stream",
     "text": [
      "Epoch 1: Train Loss = 0.7152, Train Acc = 0.5437, Test Loss = 0.7020, Test Acc = 0.4821, F1 Macro = 0.4807\n",
      "Epoch 2: Train Loss = 0.6781, Train Acc = 0.5746, Test Loss = 0.6956, Test Acc = 0.5282, F1 Macro = 0.5254\n",
      "Epoch 3: Train Loss = 0.6523, Train Acc = 0.6106, Test Loss = 0.6890, Test Acc = 0.5333, F1 Macro = 0.5235\n",
      "Epoch 4: Train Loss = 0.6296, Train Acc = 0.6621, Test Loss = 0.6832, Test Acc = 0.5590, F1 Macro = 0.5406\n",
      "Epoch 5: Train Loss = 0.5929, Train Acc = 0.7136, Test Loss = 0.6780, Test Acc = 0.5795, F1 Macro = 0.5700\n",
      "Epoch 6: Train Loss = 0.5490, Train Acc = 0.7393, Test Loss = 0.6588, Test Acc = 0.6205, F1 Macro = 0.6169\n",
      "Epoch 7: Train Loss = 0.5030, Train Acc = 0.7907, Test Loss = 0.6543, Test Acc = 0.6205, F1 Macro = 0.6204\n",
      "Epoch 8: Train Loss = 0.4314, Train Acc = 0.8130, Test Loss = 0.6552, Test Acc = 0.6308, F1 Macro = 0.6296\n",
      "Epoch 9: Train Loss = 0.3560, Train Acc = 0.8559, Test Loss = 0.7502, Test Acc = 0.5590, F1 Macro = 0.5238\n",
      "Epoch 10: Train Loss = 0.2855, Train Acc = 0.8799, Test Loss = 0.7902, Test Acc = 0.5385, F1 Macro = 0.5074\n",
      "\n",
      "Running deeper_unfreeze | freeze=last6, lr=1e-05, dropout=0.3\n"
     ]
    },
    {
     "name": "stderr",
     "output_type": "stream",
     "text": [
      "Some weights of VideoMAEForVideoClassification were not initialized from the model checkpoint at MCG-NJU/videomae-base and are newly initialized: ['classifier.bias', 'classifier.weight']\n",
      "You should probably TRAIN this model on a down-stream task to be able to use it for predictions and inference.\n"
     ]
    },
    {
     "name": "stdout",
     "output_type": "stream",
     "text": [
      "Epoch 1: Train Loss = 0.7032, Train Acc = 0.5266, Test Loss = 0.7027, Test Acc = 0.5385, F1 Macro = 0.4953\n",
      "Epoch 2: Train Loss = 0.5983, Train Acc = 0.6878, Test Loss = 0.7031, Test Acc = 0.5282, F1 Macro = 0.4991\n",
      "Epoch 3: Train Loss = 0.4441, Train Acc = 0.8285, Test Loss = 0.7018, Test Acc = 0.5641, F1 Macro = 0.5450\n",
      "Epoch 4: Train Loss = 0.2500, Train Acc = 0.9211, Test Loss = 0.8038, Test Acc = 0.5590, F1 Macro = 0.5538\n",
      "Epoch 5: Train Loss = 0.1799, Train Acc = 0.9314, Test Loss = 0.9689, Test Acc = 0.5538, F1 Macro = 0.5299\n",
      "Epoch 6: Train Loss = 0.1133, Train Acc = 0.9537, Test Loss = 0.9707, Test Acc = 0.5744, F1 Macro = 0.5740\n",
      "Epoch 7: Train Loss = 0.1589, Train Acc = 0.9331, Test Loss = 0.9646, Test Acc = 0.5846, F1 Macro = 0.5825\n",
      "Epoch 8: Train Loss = 0.1327, Train Acc = 0.9485, Test Loss = 1.1614, Test Acc = 0.5487, F1 Macro = 0.5473\n",
      "Epoch 9: Train Loss = 0.1562, Train Acc = 0.9211, Test Loss = 1.1746, Test Acc = 0.5538, F1 Macro = 0.5299\n",
      "Epoch 10: Train Loss = 0.0943, Train Acc = 0.9537, Test Loss = 1.2189, Test Acc = 0.5846, F1 Macro = 0.5846\n",
      "\n",
      "Running full_finetune | freeze=none, lr=5e-06, dropout=0.3\n"
     ]
    },
    {
     "name": "stderr",
     "output_type": "stream",
     "text": [
      "Some weights of VideoMAEForVideoClassification were not initialized from the model checkpoint at MCG-NJU/videomae-base and are newly initialized: ['classifier.bias', 'classifier.weight']\n",
      "You should probably TRAIN this model on a down-stream task to be able to use it for predictions and inference.\n"
     ]
    },
    {
     "name": "stdout",
     "output_type": "stream",
     "text": [
      "Epoch 1: Train Loss = 0.7106, Train Acc = 0.5060, Test Loss = 0.6903, Test Acc = 0.5179, F1 Macro = 0.5158\n",
      "Epoch 2: Train Loss = 0.6273, Train Acc = 0.6518, Test Loss = 0.6849, Test Acc = 0.5538, F1 Macro = 0.5430\n",
      "Epoch 3: Train Loss = 0.5613, Train Acc = 0.7461, Test Loss = 0.6646, Test Acc = 0.6051, F1 Macro = 0.6000\n",
      "Epoch 4: Train Loss = 0.4548, Train Acc = 0.8302, Test Loss = 0.6572, Test Acc = 0.6051, F1 Macro = 0.6025\n",
      "Epoch 5: Train Loss = 0.2991, Train Acc = 0.9160, Test Loss = 0.6669, Test Acc = 0.6154, F1 Macro = 0.6134\n",
      "Epoch 6: Train Loss = 0.1795, Train Acc = 0.9537, Test Loss = 0.7273, Test Acc = 0.6103, F1 Macro = 0.6073\n",
      "Epoch 7: Train Loss = 0.1113, Train Acc = 0.9640, Test Loss = 0.7973, Test Acc = 0.6256, F1 Macro = 0.6256\n",
      "Epoch 8: Train Loss = 0.0880, Train Acc = 0.9726, Test Loss = 0.9165, Test Acc = 0.5744, F1 Macro = 0.5743\n",
      "Epoch 9: Train Loss = 0.1021, Train Acc = 0.9588, Test Loss = 0.8829, Test Acc = 0.5795, F1 Macro = 0.5776\n",
      "Epoch 10: Train Loss = 0.1108, Train Acc = 0.9571, Test Loss = 0.9292, Test Acc = 0.5692, F1 Macro = 0.5620\n",
      "Early stopping.\n",
      "\n",
      " Saved all results to sweep_results.csv\n"
     ]
    }
   ],
   "source": [
    "experiments = [\n",
    "    (\"all\",    2e-5, 0.3, \"baseline\"),\n",
    "    (\"last3\",  1e-5, 0.3, \"tune_last3\"),\n",
    "    (\"last3\",  1e-4, 0.3, \"fast_head\"),\n",
    "    (\"last3\",  1e-5, 0.5, \"high_dropout\"),\n",
    "    (\"last6\",  1e-5, 0.3, \"deeper_unfreeze\"),  # optional if you unroll it\n",
    "    (\"none\",   5e-6, 0.3, \"full_finetune\")\n",
    "]\n",
    "\n",
    "results = []\n",
    "\n",
    "for freeze, lr, drop, name in experiments:\n",
    "    result = run_experiment(freeze, lr, drop, name)\n",
    "    results.append(result)\n",
    "\n",
    "# Save to CSV\n",
    "keys = results[0].keys()\n",
    "with open(\"sweep_results.csv\", \"w\", newline=\"\") as f:\n",
    "    writer = csv.DictWriter(f, fieldnames=keys)\n",
    "    writer.writeheader()\n",
    "    writer.writerows(results)\n",
    "\n",
    "print(\"\\n Saved all results to sweep_results.csv\")\n"
   ]
  },
  {
   "cell_type": "code",
   "execution_count": 15,
   "metadata": {},
   "outputs": [
    {
     "name": "stderr",
     "output_type": "stream",
     "text": [
      "Some weights of VideoMAEForVideoClassification were not initialized from the model checkpoint at MCG-NJU/videomae-base and are newly initialized: ['classifier.bias', 'classifier.weight']\n",
      "You should probably TRAIN this model on a down-stream task to be able to use it for predictions and inference.\n"
     ]
    },
    {
     "data": {
      "text/plain": [
       "VideoMAEForVideoClassification(\n",
       "  (videomae): VideoMAEModel(\n",
       "    (embeddings): VideoMAEEmbeddings(\n",
       "      (patch_embeddings): VideoMAEPatchEmbeddings(\n",
       "        (projection): Conv3d(3, 768, kernel_size=(2, 16, 16), stride=(2, 16, 16))\n",
       "      )\n",
       "    )\n",
       "    (encoder): VideoMAEEncoder(\n",
       "      (layer): ModuleList(\n",
       "        (0-11): 12 x VideoMAELayer(\n",
       "          (attention): VideoMAEAttention(\n",
       "            (attention): VideoMAESelfAttention(\n",
       "              (query): Linear(in_features=768, out_features=768, bias=False)\n",
       "              (key): Linear(in_features=768, out_features=768, bias=False)\n",
       "              (value): Linear(in_features=768, out_features=768, bias=False)\n",
       "            )\n",
       "            (output): VideoMAESelfOutput(\n",
       "              (dense): Linear(in_features=768, out_features=768, bias=True)\n",
       "              (dropout): Dropout(p=0.0, inplace=False)\n",
       "            )\n",
       "          )\n",
       "          (intermediate): VideoMAEIntermediate(\n",
       "            (dense): Linear(in_features=768, out_features=3072, bias=True)\n",
       "            (intermediate_act_fn): GELUActivation()\n",
       "          )\n",
       "          (output): VideoMAEOutput(\n",
       "            (dense): Linear(in_features=3072, out_features=768, bias=True)\n",
       "            (dropout): Dropout(p=0.0, inplace=False)\n",
       "          )\n",
       "          (layernorm_before): LayerNorm((768,), eps=1e-12, elementwise_affine=True)\n",
       "          (layernorm_after): LayerNorm((768,), eps=1e-12, elementwise_affine=True)\n",
       "        )\n",
       "      )\n",
       "    )\n",
       "    (layernorm): LayerNorm((768,), eps=1e-12, elementwise_affine=True)\n",
       "  )\n",
       "  (classifier): Linear(in_features=768, out_features=2, bias=True)\n",
       "  (dropout): Dropout(p=0.5, inplace=False)\n",
       ")"
      ]
     },
     "execution_count": 15,
     "metadata": {},
     "output_type": "execute_result"
    }
   ],
   "source": [
    "import torch.nn as nn\n",
    "\n",
    "device = torch.device(\"cuda\" if torch.cuda.is_available() else \"cpu\")\n",
    "model = VideoMAEForVideoClassification.from_pretrained(\"MCG-NJU/videomae-base\", num_labels=2)\n",
    "\n",
    "for param in model.videomae.parameters():\n",
    "    param.requires_grad = False\n",
    "\n",
    "for block in model.videomae.encoder.layer[-3:]:\n",
    "    for param in block.parameters():\n",
    "        param.requires_grad = True\n",
    "\n",
    "#TODO: Dropout\n",
    "\n",
    "model.dropout = nn.Dropout(p=0.5)\n",
    "original_forward = model.forward\n",
    "\n",
    "def patched_forward(*args, **kwargs):\n",
    "    out = original_forward(*args, **kwargs)\n",
    "    out.logits = model.dropout(out.logits)\n",
    "    return out\n",
    "\n",
    "model.forward = patched_forward\n",
    "model.to(device)"
   ]
  },
  {
   "cell_type": "code",
   "execution_count": 16,
   "metadata": {},
   "outputs": [],
   "source": [
    "from torch.optim import AdamW\n",
    "# from torch.optim.lr_scheduler import CosineAnnealingLR\n",
    "\n",
    "optimizer = AdamW(model.parameters(), lr=1e-5, weight_decay=0.01)\n",
    "# scheduler = CosineAnnealingLR(optimizer, T_max=20, eta_min=1e-6)\n",
    "criterion = torch.nn.CrossEntropyLoss()\n",
    "\n",
    "def evaluate_model(model, data_loader):\n",
    "    model.eval()\n",
    "    all_preds, all_labels = [], []\n",
    "    total_loss = 0\n",
    "    with torch.no_grad():\n",
    "        for batch in data_loader:\n",
    "            if batch is None:\n",
    "                continue\n",
    "            inputs = batch[\"pixel_values\"].to(device)\n",
    "            labels = batch[\"labels\"].to(device)\n",
    "            outputs = model(pixel_values=inputs)\n",
    "            loss = criterion(outputs.logits, labels)\n",
    "            total_loss += loss.item()\n",
    "            preds = torch.argmax(outputs.logits, dim=1)\n",
    "            all_preds.extend(preds.cpu().numpy())\n",
    "            all_labels.extend(labels.cpu().numpy())\n",
    "    acc = accuracy_score(all_labels, all_preds)\n",
    "    f1 = f1_score(all_labels, all_preds, average=\"macro\")\n",
    "    avg_loss = total_loss / len(data_loader)\n",
    "    return avg_loss, acc, f1"
   ]
  },
  {
   "cell_type": "code",
   "execution_count": 18,
   "metadata": {},
   "outputs": [
    {
     "name": "stdout",
     "output_type": "stream",
     "text": [
      "\n",
      " Epoch 1\n"
     ]
    },
    {
     "name": "stderr",
     "output_type": "stream",
     "text": [
      "Epoch 1 Batches: 100%|██████████| 146/146 [01:53<00:00,  1.29it/s]\n"
     ]
    },
    {
     "name": "stdout",
     "output_type": "stream",
     "text": [
      "Epoch 1: Train Loss = 0.6831, Train Acc = 0.5763, Val Loss = 0.7002, Val Acc = 0.5179, F1 Macro = 0.4999\n",
      "\n",
      " Epoch 2\n"
     ]
    },
    {
     "name": "stderr",
     "output_type": "stream",
     "text": [
      "Epoch 2 Batches: 100%|██████████| 146/146 [01:51<00:00,  1.31it/s]\n"
     ]
    },
    {
     "name": "stdout",
     "output_type": "stream",
     "text": [
      "Epoch 2: Train Loss = 0.6474, Train Acc = 0.6141, Val Loss = 0.6961, Val Acc = 0.5333, F1 Macro = 0.4976\n",
      "\n",
      " Epoch 3\n"
     ]
    },
    {
     "name": "stderr",
     "output_type": "stream",
     "text": [
      "Epoch 3 Batches: 100%|██████████| 146/146 [01:51<00:00,  1.31it/s]\n"
     ]
    },
    {
     "name": "stdout",
     "output_type": "stream",
     "text": [
      "Epoch 3: Train Loss = 0.6094, Train Acc = 0.6552, Val Loss = 0.6993, Val Acc = 0.5282, F1 Macro = 0.4964\n",
      "\n",
      " Epoch 4\n"
     ]
    },
    {
     "name": "stderr",
     "output_type": "stream",
     "text": [
      "Epoch 4 Batches: 100%|██████████| 146/146 [01:52<00:00,  1.30it/s]\n"
     ]
    },
    {
     "name": "stdout",
     "output_type": "stream",
     "text": [
      "Epoch 4: Train Loss = 0.5893, Train Acc = 0.6861, Val Loss = 0.7012, Val Acc = 0.5590, F1 Macro = 0.5266\n",
      "\n",
      " Epoch 5\n"
     ]
    },
    {
     "name": "stderr",
     "output_type": "stream",
     "text": [
      "Epoch 5 Batches: 100%|██████████| 146/146 [01:51<00:00,  1.31it/s]\n"
     ]
    },
    {
     "name": "stdout",
     "output_type": "stream",
     "text": [
      "Epoch 5: Train Loss = 0.5124, Train Acc = 0.7839, Val Loss = 0.7152, Val Acc = 0.5538, F1 Macro = 0.5430\n",
      "\n",
      " Epoch 6\n"
     ]
    },
    {
     "name": "stderr",
     "output_type": "stream",
     "text": [
      "Epoch 6 Batches: 100%|██████████| 146/146 [01:51<00:00,  1.31it/s]\n"
     ]
    },
    {
     "name": "stdout",
     "output_type": "stream",
     "text": [
      "Epoch 6: Train Loss = 0.4732, Train Acc = 0.7581, Val Loss = 0.7412, Val Acc = 0.5538, F1 Macro = 0.5381\n",
      "\n",
      " Epoch 7\n"
     ]
    },
    {
     "name": "stderr",
     "output_type": "stream",
     "text": [
      "Epoch 7 Batches: 100%|██████████| 146/146 [01:51<00:00,  1.31it/s]\n"
     ]
    },
    {
     "name": "stdout",
     "output_type": "stream",
     "text": [
      "Epoch 7: Train Loss = 0.3623, Train Acc = 0.8662, Val Loss = 0.8245, Val Acc = 0.4923, F1 Macro = 0.4915\n",
      "\n",
      " Epoch 8\n"
     ]
    },
    {
     "name": "stderr",
     "output_type": "stream",
     "text": [
      "Epoch 8 Batches: 100%|██████████| 146/146 [01:51<00:00,  1.31it/s]\n"
     ]
    },
    {
     "name": "stdout",
     "output_type": "stream",
     "text": [
      "Epoch 8: Train Loss = 0.3168, Train Acc = 0.8576, Val Loss = 0.8237, Val Acc = 0.5641, F1 Macro = 0.5562\n",
      "\n",
      " Epoch 9\n"
     ]
    },
    {
     "name": "stderr",
     "output_type": "stream",
     "text": [
      "Epoch 9 Batches: 100%|██████████| 146/146 [01:51<00:00,  1.31it/s]\n"
     ]
    },
    {
     "name": "stdout",
     "output_type": "stream",
     "text": [
      "Epoch 9: Train Loss = 0.2690, Train Acc = 0.8628, Val Loss = 0.9001, Val Acc = 0.5949, F1 Macro = 0.5493\n",
      "\n",
      " Epoch 10\n"
     ]
    },
    {
     "name": "stderr",
     "output_type": "stream",
     "text": [
      "Epoch 10 Batches: 100%|██████████| 146/146 [01:52<00:00,  1.30it/s]\n"
     ]
    },
    {
     "name": "stdout",
     "output_type": "stream",
     "text": [
      "Epoch 10: Train Loss = 0.2300, Train Acc = 0.8799, Val Loss = 0.9472, Val Acc = 0.6000, F1 Macro = 0.5534\n",
      "\n",
      " Epoch 11\n"
     ]
    },
    {
     "name": "stderr",
     "output_type": "stream",
     "text": [
      "Epoch 11 Batches: 100%|██████████| 146/146 [01:51<00:00,  1.31it/s]\n"
     ]
    },
    {
     "name": "stdout",
     "output_type": "stream",
     "text": [
      "Epoch 11: Train Loss = 0.2324, Train Acc = 0.8714, Val Loss = 0.9795, Val Acc = 0.5282, F1 Macro = 0.5190\n",
      "\n",
      " Epoch 12\n"
     ]
    },
    {
     "name": "stderr",
     "output_type": "stream",
     "text": [
      "Epoch 12 Batches: 100%|██████████| 146/146 [01:51<00:00,  1.32it/s]\n"
     ]
    },
    {
     "name": "stdout",
     "output_type": "stream",
     "text": [
      "Epoch 12: Train Loss = 0.1853, Train Acc = 0.8834, Val Loss = 1.0665, Val Acc = 0.5846, F1 Macro = 0.5473\n",
      "\n",
      " Epoch 13\n"
     ]
    },
    {
     "name": "stderr",
     "output_type": "stream",
     "text": [
      "Epoch 13 Batches: 100%|██████████| 146/146 [01:50<00:00,  1.32it/s]\n"
     ]
    },
    {
     "name": "stdout",
     "output_type": "stream",
     "text": [
      "Epoch 13: Train Loss = 0.1753, Train Acc = 0.8919, Val Loss = 1.0871, Val Acc = 0.5846, F1 Macro = 0.5528\n",
      "\n",
      " Epoch 14\n"
     ]
    },
    {
     "name": "stderr",
     "output_type": "stream",
     "text": [
      "Epoch 14 Batches: 100%|██████████| 146/146 [01:52<00:00,  1.30it/s]\n"
     ]
    },
    {
     "name": "stdout",
     "output_type": "stream",
     "text": [
      "Epoch 14: Train Loss = 0.1830, Train Acc = 0.9005, Val Loss = 1.1441, Val Acc = 0.5436, F1 Macro = 0.5256\n",
      "\n",
      " Epoch 15\n"
     ]
    },
    {
     "name": "stderr",
     "output_type": "stream",
     "text": [
      "Epoch 15 Batches: 100%|██████████| 146/146 [01:50<00:00,  1.32it/s]\n"
     ]
    },
    {
     "name": "stdout",
     "output_type": "stream",
     "text": [
      "Epoch 15: Train Loss = 0.1853, Train Acc = 0.8954, Val Loss = 1.1902, Val Acc = 0.5436, F1 Macro = 0.5235\n",
      "Early stopping triggered.\n"
     ]
    }
   ],
   "source": [
    "best_f1 = 0\n",
    "patience = 7\n",
    "wait = 0\n",
    "\n",
    "train_losses, train_accuracies = [], []\n",
    "val_losses, val_accuracies, f1_macros = [], [], []\n",
    "\n",
    "for epoch in range(20):\n",
    "    print(f\"\\n Epoch {epoch + 1}\")\n",
    "    model.train()\n",
    "    total_train_loss = 0\n",
    "    train_preds, train_labels = [], []\n",
    "\n",
    "    for batch in tqdm(train_loader, desc=f\"Epoch {epoch + 1} Batches\"):\n",
    "        if batch is None:\n",
    "            continue\n",
    "        inputs = batch[\"pixel_values\"].to(device)\n",
    "        labels = batch[\"labels\"].to(device)\n",
    "\n",
    "        outputs = model(pixel_values=inputs)\n",
    "        loss = criterion(outputs.logits, labels)\n",
    "\n",
    "        loss.backward()\n",
    "        optimizer.step()\n",
    "        optimizer.zero_grad()\n",
    "        total_train_loss += loss.item()\n",
    "\n",
    "        preds = torch.argmax(outputs.logits, dim=1)\n",
    "        train_preds.extend(preds.cpu().numpy())\n",
    "        train_labels.extend(labels.cpu().numpy())\n",
    "\n",
    "    train_acc = accuracy_score(train_labels, train_preds)\n",
    "    train_f1 = f1_score(train_labels, train_preds, average=\"macro\")\n",
    "    train_loss_avg = total_train_loss / len(train_loader)\n",
    "\n",
    "    val_loss, val_acc, val_f1 = evaluate_model(model, val_loader)\n",
    "\n",
    "    print(\n",
    "        f\"Epoch {epoch + 1}: \"\n",
    "        f\"Train Loss = {train_loss_avg:.4f}, Train Acc = {train_acc:.4f}, \"\n",
    "        f\"Val Loss = {val_loss:.4f}, Val Acc = {val_acc:.4f}, F1 Macro = {val_f1:.4f}\"\n",
    "    )\n",
    "\n",
    "    train_losses.append(train_loss_avg)\n",
    "    train_accuracies.append(train_acc)\n",
    "    val_losses.append(val_loss)\n",
    "    val_accuracies.append(val_acc)\n",
    "    f1_macros.append(val_f1)\n",
    "\n",
    "    # scheduler.step()\n",
    "\n",
    "    if val_f1 > best_f1:\n",
    "        best_f1 = val_f1\n",
    "        wait = 0\n",
    "        torch.save(model.state_dict(), \"best_model.pt\")\n",
    "    else:\n",
    "        wait += 1\n",
    "        if wait >= patience:\n",
    "            print(\"Early stopping triggered.\")\n",
    "            break"
   ]
  },
  {
   "cell_type": "code",
   "execution_count": 19,
   "metadata": {},
   "outputs": [
    {
     "data": {
      "image/png": "[encoded data removed]",
      "text/plain": [
       "<Figure size 1500x400 with 2 Axes>"
      ]
     },
     "metadata": {},
     "output_type": "display_data"
    }
   ],
   "source": [
    "import matplotlib.pyplot as plt\n",
    "\n",
    "epochs = list(range(1, len(train_losses) + 1))\n",
    "\n",
    "plt.figure(figsize=(15, 4))\n",
    "\n",
    "plt.subplot(1, 2, 1)\n",
    "plt.plot(epochs, train_losses, label=\"Train Loss\", marker='o')\n",
    "plt.plot(epochs, val_losses, label=\"Val Loss\", marker='o')\n",
    "plt.title(\"Loss Over Epochs\")\n",
    "plt.xlabel(\"Epoch\")\n",
    "plt.ylabel(\"Loss\")\n",
    "plt.legend()\n",
    "\n",
    "plt.subplot(1, 2, 2)\n",
    "plt.plot(epochs, train_accuracies, label=\"Train Accuracy\", marker='o')\n",
    "plt.plot(epochs, val_accuracies, label=\"Val Accuracy\", marker='o')\n",
    "plt.title(\"Accuracy Over Epochs\")\n",
    "plt.xlabel(\"Epoch\")\n",
    "plt.ylabel(\"Accuracy\")\n",
    "plt.legend()\n",
    "\n",
    "plt.tight_layout()\n",
    "plt.show()\n"
   ]
  },
  {
   "cell_type": "code",
   "execution_count": 20,
   "metadata": {},
   "outputs": [
    {
     "data": {
      "text/plain": [
       "VideoMAEForVideoClassification(\n",
       "  (videomae): VideoMAEModel(\n",
       "    (embeddings): VideoMAEEmbeddings(\n",
       "      (patch_embeddings): VideoMAEPatchEmbeddings(\n",
       "        (projection): Conv3d(3, 768, kernel_size=(2, 16, 16), stride=(2, 16, 16))\n",
       "      )\n",
       "    )\n",
       "    (encoder): VideoMAEEncoder(\n",
       "      (layer): ModuleList(\n",
       "        (0-11): 12 x VideoMAELayer(\n",
       "          (attention): VideoMAEAttention(\n",
       "            (attention): VideoMAESelfAttention(\n",
       "              (query): Linear(in_features=768, out_features=768, bias=False)\n",
       "              (key): Linear(in_features=768, out_features=768, bias=False)\n",
       "              (value): Linear(in_features=768, out_features=768, bias=False)\n",
       "            )\n",
       "            (output): VideoMAESelfOutput(\n",
       "              (dense): Linear(in_features=768, out_features=768, bias=True)\n",
       "              (dropout): Dropout(p=0.0, inplace=False)\n",
       "            )\n",
       "          )\n",
       "          (intermediate): VideoMAEIntermediate(\n",
       "            (dense): Linear(in_features=768, out_features=3072, bias=True)\n",
       "            (intermediate_act_fn): GELUActivation()\n",
       "          )\n",
       "          (output): VideoMAEOutput(\n",
       "            (dense): Linear(in_features=3072, out_features=768, bias=True)\n",
       "            (dropout): Dropout(p=0.0, inplace=False)\n",
       "          )\n",
       "          (layernorm_before): LayerNorm((768,), eps=1e-12, elementwise_affine=True)\n",
       "          (layernorm_after): LayerNorm((768,), eps=1e-12, elementwise_affine=True)\n",
       "        )\n",
       "      )\n",
       "    )\n",
       "    (layernorm): LayerNorm((768,), eps=1e-12, elementwise_affine=True)\n",
       "  )\n",
       "  (classifier): Linear(in_features=768, out_features=2, bias=True)\n",
       "  (dropout): Dropout(p=0.5, inplace=False)\n",
       ")"
      ]
     },
     "execution_count": 20,
     "metadata": {},
     "output_type": "execute_result"
    }
   ],
   "source": [
    "model.load_state_dict(torch.load(\"best_model.pt\"))\n",
    "model.eval()\n"
   ]
  },
  {
   "cell_type": "code",
   "execution_count": 21,
   "metadata": {},
   "outputs": [],
   "source": [
    "import torch\n",
    "import pandas as pd\n",
    "import numpy as np\n",
    "from tqdm import tqdm\n",
    "\n",
    "def generate_predictions(model, dataloader):\n",
    "    model.eval()\n",
    "    all_probs = []\n",
    "    all_preds = []\n",
    "    all_labels = []\n",
    "\n",
    "    with torch.no_grad():\n",
    "        for batch in tqdm(dataloader, desc=\"Generating Predictions\"):\n",
    "            if batch is None:\n",
    "                continue\n",
    "\n",
    "            inputs = batch[\"pixel_values\"].to(device)\n",
    "            labels = batch[\"labels\"].to(device)\n",
    "\n",
    "            outputs = model(pixel_values=inputs)\n",
    "            probs = torch.softmax(outputs.logits, dim=1)\n",
    "\n",
    "            all_probs.extend(probs.cpu().numpy())\n",
    "            all_preds.extend(torch.argmax(probs, dim=1).cpu().numpy())\n",
    "            all_labels.extend(labels.cpu().numpy())\n",
    "\n",
    "    return np.array(all_probs), np.array(all_preds), np.array(all_labels)\n"
   ]
  },
  {
   "cell_type": "code",
   "execution_count": 22,
   "metadata": {},
   "outputs": [
    {
     "name": "stderr",
     "output_type": "stream",
     "text": [
      "Generating Predictions: 100%|██████████| 49/49 [00:34<00:00,  1.43it/s]"
     ]
    },
    {
     "name": "stdout",
     "output_type": "stream",
     "text": [
      "Test Accuracy: 0.5744\n",
      "Test Macro F1 Score: 0.5736\n",
      "Saved predictions to test_predictions.csv\n"
     ]
    },
    {
     "name": "stderr",
     "output_type": "stream",
     "text": [
      "\n"
     ]
    }
   ],
   "source": [
    "# Get predictions\n",
    "probs, preds, labels = generate_predictions(model, test_loader)\n",
    "\n",
    "test_acc = accuracy_score(labels, preds)\n",
    "test_f1 = f1_score(labels, preds, average=\"macro\")\n",
    "\n",
    "print(f\"Test Accuracy: {test_acc:.4f}\")\n",
    "print(f\"Test Macro F1 Score: {test_f1:.4f}\")\n",
    "\n",
    "# Build a DataFrame\n",
    "df = pd.DataFrame({\n",
    "    \"true_label\": labels,\n",
    "    \"pred_label\": preds,\n",
    "    \"prob_class_0\": probs[:, 0],\n",
    "    \"prob_class_1\": probs[:, 1]\n",
    "})\n",
    "\n",
    "# Optionally add video filenames\n",
    "if hasattr(test_dataset, \"df\") and \"video\" in test_dataset.df.columns:\n",
    "    df[\"video\"] = test_dataset.df[\"video\"]\n",
    "\n",
    "# Save to CSV\n",
    "df.to_csv(\"test_predictions.csv\", index=False)\n",
    "print(\"Saved predictions to test_predictions.csv\")\n"
   ]
  }
 ],
 "metadata": {
  "kernelspec": {
   "display_name": "exist2025",
   "language": "python",
   "name": "python3"
  },
  "language_info": {
   "codemirror_mode": {
    "name": "ipython",
    "version": 3
   },
   "file_extension": ".py",
   "mimetype": "text/x-python",
   "name": "python",
   "nbconvert_exporter": "python",
   "pygments_lexer": "ipython3",
   "version": "3.12.7"
  },
  "orig_nbformat": 4
 },
 "nbformat": 4,
 "nbformat_minor": 2
}
