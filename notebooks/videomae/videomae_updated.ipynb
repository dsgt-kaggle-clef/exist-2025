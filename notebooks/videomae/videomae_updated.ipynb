{
 "cells": [
  {
   "cell_type": "code",
   "execution_count": 1,
   "metadata": {},
   "outputs": [],
   "source": [
    "\n",
    "import os\n",
    "from torch.optim import AdamW"
   ]
  },
  {
   "cell_type": "code",
   "execution_count": 2,
   "metadata": {},
   "outputs": [
    {
     "name": "stderr",
     "output_type": "stream",
     "text": [
      "/storage/home/hcoda1/3/ryendapalli3/.conda/envs/exist2025/lib/python3.12/site-packages/tqdm/auto.py:21: TqdmWarning: IProgress not found. Please update jupyter and ipywidgets. See https://ipywidgets.readthedocs.io/en/stable/user_install.html\n",
      "  from .autonotebook import tqdm as notebook_tqdm\n"
     ]
    }
   ],
   "source": [
    "\n",
    "from transformers import VideoMAEFeatureExtractor, VideoMAEForVideoClassification\n",
    "from decord import VideoReader, cpu"
   ]
  },
  {
   "cell_type": "code",
   "execution_count": 3,
   "metadata": {},
   "outputs": [],
   "source": [
    "\n",
    "import torch\n",
    "import pandas as pd\n",
    "import pickle\n",
    "from tqdm import tqdm\n",
    "from torch.utils.data import Dataset, DataLoader\n",
    "from sklearn.metrics import accuracy_score, f1_score\n",
    "\n",
    "\n",
    "\n",
    "\n",
    "\n",
    "\n",
    "\n",
    "\n",
    "\n",
    "\n",
    "\n"
   ]
  },
  {
   "cell_type": "code",
   "execution_count": 4,
   "metadata": {},
   "outputs": [],
   "source": [
    "class TikTokVideoDataset(Dataset):\n",
    "    def __init__(self, df, video_dir, feature_extractor, num_frames=16):\n",
    "        self.video_dir = video_dir\n",
    "        self.feature_extractor = feature_extractor\n",
    "        self.num_frames = num_frames\n",
    "        self.valid_rows = []\n",
    "\n",
    "        for idx, row in tqdm(df.iterrows(), total=len(df), desc=\"Checking videos\"):\n",
    "            video_path = os.path.join(video_dir, row['video'])\n",
    "            try:\n",
    "                vr = VideoReader(video_path, ctx=cpu(0))\n",
    "                if len(vr) >= num_frames:\n",
    "                    self.valid_rows.append(row)\n",
    "            except:\n",
    "                continue\n",
    "\n",
    "        self.df = pd.DataFrame(self.valid_rows).reset_index(drop=True)\n",
    "\n",
    "    def __len__(self):\n",
    "        return len(self.df)\n",
    "\n",
    "    def __getitem__(self, idx):\n",
    "        row = self.df.iloc[idx]\n",
    "        video_path = os.path.join(self.video_dir, row['video'])\n",
    "        try:\n",
    "            vr = VideoReader(video_path, ctx=cpu(0))\n",
    "            total_frames = len(vr)\n",
    "            indices = torch.linspace(0, total_frames - 1, self.num_frames).long().tolist()\n",
    "            video = vr.get_batch(indices).asnumpy()\n",
    "            inputs = self.feature_extractor([frame for frame in video], return_tensors=\"pt\")\n",
    "            pixel_values = inputs[\"pixel_values\"].squeeze(0)\n",
    "            label = int(row['target'])\n",
    "            return {\"pixel_values\": pixel_values, \"labels\": torch.tensor(label)}\n",
    "        except:\n",
    "            return None\n",
    "\n",
    "def skip_none_collate(batch):\n",
    "    batch = [x for x in batch if x is not None]\n",
    "    if len(batch) == 0:\n",
    "        return None\n",
    "    return torch.utils.data.default_collate(batch)"
   ]
  },
  {
   "cell_type": "code",
   "execution_count": 5,
   "metadata": {},
   "outputs": [
    {
     "name": "stderr",
     "output_type": "stream",
     "text": [
      "/storage/home/hcoda1/3/ryendapalli3/.conda/envs/exist2025/lib/python3.12/site-packages/transformers/models/videomae/feature_extraction_videomae.py:28: FutureWarning: The class VideoMAEFeatureExtractor is deprecated and will be removed in version 5 of Transformers. Please use VideoMAEImageProcessor instead.\n",
      "  warnings.warn(\n"
     ]
    }
   ],
   "source": [
    "test_path = \"/storage/coda1/p-dsgt_clef2025/0/shared/exist/latest/EXIST_2025_Videos_Dataset/train_test/test_df.csv\"\n",
    "val_path = \"/storage/coda1/p-dsgt_clef2025/0/shared/exist/latest/EXIST_2025_Videos_Dataset/train_test/valid_df.csv\"\n",
    "train_path = \"/storage/coda1/p-dsgt_clef2025/0/shared/exist/latest/EXIST_2025_Videos_Dataset/train_test/train_df.csv\"\n",
    "video_dir = \"/storage/coda1/p-dsgt_clef2025/0/shared/exist/latest/EXIST_2025_Videos_Dataset/training/videos\"\n",
    "\n",
    "train_df = pd.read_csv(train_path)\n",
    "val_df = pd.read_csv(val_path)\n",
    "test_df = pd.read_csv(test_path)\n",
    "\n",
    "feature_extractor = VideoMAEFeatureExtractor.from_pretrained(\"MCG-NJU/videomae-base\")"
   ]
  },
  {
   "cell_type": "code",
   "execution_count": 6,
   "metadata": {},
   "outputs": [
    {
     "name": "stdout",
     "output_type": "stream",
     "text": [
      "Loading cached dataset: cached_train_dataset.pkl\n",
      "Loading cached dataset: cached_val_dataset.pkl\n",
      "Loading cached dataset: cached_test_dataset.pkl\n"
     ]
    }
   ],
   "source": [
    "def get_or_create_dataset(cache_file, df, video_dir, feature_extractor, num_frames=16):\n",
    "    if os.path.exists(cache_file):\n",
    "        print(f\"Loading cached dataset: {cache_file}\")\n",
    "        with open(cache_file, \"rb\") as f:\n",
    "            return pickle.load(f)\n",
    "    else:\n",
    "        print(f\"Building and caching dataset: {cache_file}\")\n",
    "        dataset = TikTokVideoDataset(df, video_dir, feature_extractor, num_frames)\n",
    "        with open(cache_file, \"wb\") as f:\n",
    "            pickle.dump(dataset, f)\n",
    "        return dataset\n",
    "\n",
    "train_dataset = get_or_create_dataset(\"cached_train_dataset.pkl\", train_df, video_dir, feature_extractor)\n",
    "val_dataset = get_or_create_dataset(\"cached_val_dataset.pkl\", val_df, video_dir, feature_extractor)\n",
    "test_dataset = get_or_create_dataset(\"cached_test_dataset.pkl\", test_df, video_dir, feature_extractor)\n",
    "\n",
    "train_loader = DataLoader(train_dataset, batch_size=4, shuffle=True, num_workers=8,\n",
    "                          pin_memory=True, prefetch_factor=2, collate_fn=skip_none_collate, persistent_workers=True)\n",
    "\n",
    "val_loader = DataLoader(val_dataset, batch_size=4, shuffle=True, num_workers=8,\n",
    "                          pin_memory=True, prefetch_factor=2, collate_fn=skip_none_collate, persistent_workers=True)\n",
    "\n",
    "test_loader = DataLoader(test_dataset, batch_size=4, shuffle=False, num_workers=8,\n",
    "                         pin_memory=True, prefetch_factor=2, collate_fn=skip_none_collate, persistent_workers=True)\n"
   ]
  },
  {
   "cell_type": "code",
   "execution_count": 7,
   "metadata": {},
   "outputs": [],
   "source": [
    "def evaluate_model(model, data_loader):\n",
    "    model.eval()\n",
    "    all_preds, all_labels = [], []\n",
    "    total_loss = 0\n",
    "\n",
    "    with torch.no_grad():\n",
    "        for batch in data_loader:\n",
    "            if batch is None:\n",
    "                continue\n",
    "            inputs = batch[\"pixel_values\"].to(model.device)\n",
    "            labels = batch[\"labels\"].to(model.device)\n",
    "\n",
    "            outputs = model(pixel_values=inputs)\n",
    "            loss = torch.nn.CrossEntropyLoss()(outputs.logits, labels)\n",
    "            total_loss += loss.item()\n",
    "\n",
    "            preds = torch.argmax(outputs.logits, dim=1)\n",
    "            all_preds.extend(preds.cpu().numpy())\n",
    "            all_labels.extend(labels.cpu().numpy())\n",
    "\n",
    "    acc = accuracy_score(all_labels, all_preds)\n",
    "    f1 = f1_score(all_labels, all_preds, average=\"macro\")\n",
    "    avg_loss = total_loss / len(data_loader)\n",
    "    return avg_loss, acc, f1\n"
   ]
  },
  {
   "cell_type": "code",
   "execution_count": 8,
   "metadata": {},
   "outputs": [],
   "source": [
    "import copy\n",
    "import csv\n",
    "\n",
    "def run_experiment(freeze_type, lr, dropout, trial_name, bestest_f1):\n",
    "    print(f\"\\nRunning {trial_name} | freeze={freeze_type}, lr={lr}, dropout={dropout}\")\n",
    "\n",
    "    device = torch.device(\"cuda\" if torch.cuda.is_available() else \"cpu\")\n",
    "\n",
    "    model = VideoMAEForVideoClassification.from_pretrained(\"MCG-NJU/videomae-base\", num_labels=2)\n",
    "\n",
    "    if freeze_type == \"all\":\n",
    "        for param in model.videomae.parameters():\n",
    "            param.requires_grad = False\n",
    "    elif freeze_type == \"last3\":\n",
    "        for param in model.videomae.parameters():\n",
    "            param.requires_grad = False\n",
    "        for block in model.videomae.encoder.layer[-3:]:\n",
    "            for param in block.parameters():\n",
    "                param.requires_grad = True\n",
    "    elif freeze_type == \"none\":\n",
    "        for param in model.videomae.parameters():\n",
    "            param.requires_grad = True\n",
    "\n",
    "\n",
    "    import torch.nn as nn\n",
    "    model.dropout = nn.Dropout(dropout)\n",
    "    original_forward = model.forward\n",
    "    def patched_forward(*args, **kwargs):\n",
    "        out = original_forward(*args, **kwargs)\n",
    "        out.logits = model.dropout(out.logits)\n",
    "        return out\n",
    "    model.forward = patched_forward\n",
    "\n",
    "    model.to(device)\n",
    "\n",
    "    optimizer = AdamW(model.parameters(), lr=lr, weight_decay=0.01)\n",
    "    criterion = torch.nn.CrossEntropyLoss()\n",
    "\n",
    "    best_f1 = 0\n",
    "    patience = 3\n",
    "    wait = 0\n",
    "\n",
    "    epoch_stats = {\n",
    "    \"epoch\": [],\n",
    "    \"train_loss\": [],\n",
    "    \"train_acc\": [],\n",
    "    \"val_loss\": [],\n",
    "    \"val_acc\": [],\n",
    "    \"val_f1\": [],\n",
    "    }\n",
    "\n",
    "    for epoch in range(10):\n",
    "        model.train()\n",
    "        train_preds, train_labels = [], []\n",
    "        total_train_loss = 0\n",
    "\n",
    "        for batch in train_loader:\n",
    "            if batch is None:\n",
    "                continue\n",
    "            inputs = batch[\"pixel_values\"].to(device)\n",
    "            labels = batch[\"labels\"].to(device)\n",
    "            outputs = model(pixel_values=inputs)\n",
    "            loss = criterion(outputs.logits, labels)\n",
    "\n",
    "            loss.backward()\n",
    "            optimizer.step()\n",
    "            optimizer.zero_grad()\n",
    "            total_train_loss += loss.item()\n",
    "\n",
    "            preds = torch.argmax(outputs.logits, dim=1)\n",
    "            train_preds.extend(preds.cpu().numpy())\n",
    "            train_labels.extend(labels.cpu().numpy())\n",
    "\n",
    "        train_acc = accuracy_score(train_labels, train_preds)\n",
    "        train_f1 = f1_score(train_labels, train_preds, average=\"macro\")\n",
    "        train_loss_avg = total_train_loss / len(train_loader)\n",
    "\n",
    "        test_loss, test_acc, test_f1 = evaluate_model(model, test_loader)\n",
    "\n",
    "        print(\n",
    "            f\"Epoch {epoch+1}: \"\n",
    "            f\"Train Loss = {train_loss_avg:.4f}, Train Acc = {train_acc:.4f}, \"\n",
    "            f\"Test Loss = {test_loss:.4f}, Test Acc = {test_acc:.4f}, F1 Macro = {test_f1:.4f}\"\n",
    "        )\n",
    "\n",
    "        epoch_stats[\"epoch\"].append(epoch + 1)\n",
    "        epoch_stats[\"train_loss\"].append(train_loss_avg)\n",
    "        epoch_stats[\"train_acc\"].append(train_acc)\n",
    "        epoch_stats[\"val_loss\"].append(test_loss)\n",
    "        epoch_stats[\"val_acc\"].append(test_acc)\n",
    "        epoch_stats[\"val_f1\"].append(test_f1)\n",
    "\n",
    "\n",
    "        if test_f1 > best_f1:\n",
    "            best_f1 = test_f1\n",
    "            wait = 0\n",
    "            if best_f1 > bestest_f1:\n",
    "                bestest_f1 = best_f1\n",
    "                torch.save(model.state_dict(), \"best_model_finetuned.pt\")\n",
    "                print(\"New bestest F1 found, saving model\")\n",
    "        else:\n",
    "            wait += 1\n",
    "            if wait >= patience:\n",
    "                print(\"Early stopping.\")\n",
    "                break\n",
    "  \n",
    "    import pandas as pd\n",
    "    df = pd.DataFrame(epoch_stats)\n",
    "    df.to_csv(f\"{trial_name}_epoch_metrics.csv\", index=False)\n",
    "    print(f\"Saved epoch-wise metrics to {trial_name}_epoch_metrics.csv\")\n",
    "\n",
    "    return {\n",
    "        \"trial\": trial_name,\n",
    "        \"freeze\": freeze_type,\n",
    "        \"lr\": lr,\n",
    "        \"dropout\": dropout,\n",
    "        \"train_acc\": train_acc,\n",
    "        \"test_acc\": test_acc,\n",
    "        \"f1_macro\": test_f1,\n",
    "        \"epochs_run\": epoch + 1,\n",
    "        \"bestest_f1\": bestest_f1\n",
    "    }\n"
   ]
  },
  {
   "cell_type": "code",
   "execution_count": 9,
   "metadata": {},
   "outputs": [
    {
     "name": "stdout",
     "output_type": "stream",
     "text": [
      "\n",
      "Running high_lr | freeze=last6, lr=5e-05, dropout=0.3\n"
     ]
    },
    {
     "name": "stderr",
     "output_type": "stream",
     "text": [
      "Some weights of VideoMAEForVideoClassification were not initialized from the model checkpoint at MCG-NJU/videomae-base and are newly initialized: ['classifier.bias', 'classifier.weight']\n",
      "You should probably TRAIN this model on a down-stream task to be able to use it for predictions and inference.\n"
     ]
    },
    {
     "name": "stdout",
     "output_type": "stream",
     "text": [
      "Epoch 1: Train Loss = 0.7239, Train Acc = 0.5626, Test Loss = 0.6944, Test Acc = 0.5333, F1 Macro = 0.3997\n",
      "New bestest F1 found, saving model\n",
      "Epoch 2: Train Loss = 0.6715, Train Acc = 0.5901, Test Loss = 0.7155, Test Acc = 0.4769, F1 Macro = 0.3742\n",
      "Epoch 3: Train Loss = 0.6084, Train Acc = 0.6621, Test Loss = 0.7151, Test Acc = 0.5436, F1 Macro = 0.5419\n",
      "New bestest F1 found, saving model\n",
      "Epoch 4: Train Loss = 0.5447, Train Acc = 0.7033, Test Loss = 0.8562, Test Acc = 0.5179, F1 Macro = 0.4882\n",
      "Epoch 5: Train Loss = 0.4887, Train Acc = 0.7290, Test Loss = 0.7999, Test Acc = 0.5641, F1 Macro = 0.5624\n",
      "New bestest F1 found, saving model\n",
      "Epoch 6: Train Loss = 0.4254, Train Acc = 0.7959, Test Loss = 0.9298, Test Acc = 0.5846, F1 Macro = 0.5802\n",
      "New bestest F1 found, saving model\n",
      "Epoch 7: Train Loss = 0.4124, Train Acc = 0.8010, Test Loss = 0.8639, Test Acc = 0.4615, F1 Macro = 0.4546\n",
      "Epoch 8: Train Loss = 0.3363, Train Acc = 0.8250, Test Loss = 1.1897, Test Acc = 0.5026, F1 Macro = 0.5017\n",
      "Epoch 9: Train Loss = 0.2858, Train Acc = 0.8662, Test Loss = 1.0319, Test Acc = 0.5538, F1 Macro = 0.5381\n",
      "Early stopping.\n",
      "Saved epoch-wise metrics to high_lr_epoch_metrics.csv\n",
      "\n",
      "Running high_dropout | freeze=last6, lr=1e-05, dropout=0.5\n"
     ]
    },
    {
     "name": "stderr",
     "output_type": "stream",
     "text": [
      "Some weights of VideoMAEForVideoClassification were not initialized from the model checkpoint at MCG-NJU/videomae-base and are newly initialized: ['classifier.bias', 'classifier.weight']\n",
      "You should probably TRAIN this model on a down-stream task to be able to use it for predictions and inference.\n"
     ]
    },
    {
     "name": "stdout",
     "output_type": "stream",
     "text": [
      "Epoch 1: Train Loss = 0.7210, Train Acc = 0.5266, Test Loss = 0.6899, Test Acc = 0.5436, F1 Macro = 0.5387\n",
      "Epoch 2: Train Loss = 0.6192, Train Acc = 0.6569, Test Loss = 0.6670, Test Acc = 0.5282, F1 Macro = 0.5261\n",
      "Epoch 3: Train Loss = 0.5339, Train Acc = 0.7290, Test Loss = 0.6821, Test Acc = 0.5692, F1 Macro = 0.5620\n",
      "Epoch 4: Train Loss = 0.4400, Train Acc = 0.7907, Test Loss = 0.7086, Test Acc = 0.5641, F1 Macro = 0.5360\n",
      "Epoch 5: Train Loss = 0.3411, Train Acc = 0.8302, Test Loss = 0.7167, Test Acc = 0.5692, F1 Macro = 0.5691\n",
      "Epoch 6: Train Loss = 0.2490, Train Acc = 0.8714, Test Loss = 0.8141, Test Acc = 0.5538, F1 Macro = 0.5491\n",
      "Epoch 7: Train Loss = 0.2489, Train Acc = 0.8714, Test Loss = 0.9444, Test Acc = 0.5385, F1 Macro = 0.4986\n",
      "Epoch 8: Train Loss = 0.2495, Train Acc = 0.8645, Test Loss = 0.8958, Test Acc = 0.5385, F1 Macro = 0.5231\n",
      "Early stopping.\n",
      "Saved epoch-wise metrics to high_dropout_epoch_metrics.csv\n",
      "\n",
      "Running high_lr_dropout | freeze=last6, lr=5e-05, dropout=0.5\n"
     ]
    },
    {
     "name": "stderr",
     "output_type": "stream",
     "text": [
      "Some weights of VideoMAEForVideoClassification were not initialized from the model checkpoint at MCG-NJU/videomae-base and are newly initialized: ['classifier.bias', 'classifier.weight']\n",
      "You should probably TRAIN this model on a down-stream task to be able to use it for predictions and inference.\n"
     ]
    },
    {
     "name": "stdout",
     "output_type": "stream",
     "text": [
      "Epoch 1: Train Loss = 0.7486, Train Acc = 0.4957, Test Loss = 0.7059, Test Acc = 0.4872, F1 Macro = 0.4739\n",
      "Epoch 2: Train Loss = 0.7003, Train Acc = 0.5489, Test Loss = 0.7100, Test Acc = 0.4974, F1 Macro = 0.3988\n"
     ]
    }
   ],
   "source": [
    "experiments = [\n",
    "    # (\"all\",    2e-5, 0.3, \"baseline\"),\n",
    "    # (\"last3\",  1e-5, 0.3, \"tune_last3\"),\n",
    "    # (\"last3\",  1e-4, 0.3, \"fast_head\"),\n",
    "    # (\"last3\",  1e-5, 0.5, \"high_dropout\"),\n",
    "    # (\"last6\",  1e-5, 0.3, \"deeper_unfreeze\"),  \n",
    "    # (\"none\",   5e-6, 0.3, \"full_finetune\")\n",
    "    (\"last6\",  5e-5, 0.3, \"high_lr\"),\n",
    "    (\"last6\",  1e-5, 0.5, \"high_dropout\"),\n",
    "    (\"last6\",  5e-5, 0.5, \"high_lr_dropout\"),\n",
    "]\n",
    "\n",
    "results = []\n",
    "bestest_f1 = 0\n",
    "for freeze, lr, drop, name in experiments:\n",
    "    result = run_experiment(freeze, lr, drop, name, bestest_f1)\n",
    "    bestest_f1 = result[\"bestest_f1\"]\n",
    "    results.append(result)\n",
    "\n",
    "# Save to CSV\n",
    "keys = results[0].keys()\n",
    "with open(\"sweep_results.csv\", \"w\", newline=\"\") as f:\n",
    "    writer = csv.DictWriter(f, fieldnames=keys)\n",
    "    writer.writeheader()\n",
    "    writer.writerows(results)\n",
    "\n",
    "print(\"\\n Saved all results to sweep_results.csv\")\n"
   ]
  },
  {
   "cell_type": "code",
   "execution_count": 13,
   "metadata": {},
   "outputs": [
    {
     "name": "stderr",
     "output_type": "stream",
     "text": [
      "Some weights of VideoMAEForVideoClassification were not initialized from the model checkpoint at MCG-NJU/videomae-base and are newly initialized: ['classifier.bias', 'classifier.weight']\n",
      "You should probably TRAIN this model on a down-stream task to be able to use it for predictions and inference.\n"
     ]
    },
    {
     "data": {
      "text/plain": [
       "VideoMAEForVideoClassification(\n",
       "  (videomae): VideoMAEModel(\n",
       "    (embeddings): VideoMAEEmbeddings(\n",
       "      (patch_embeddings): VideoMAEPatchEmbeddings(\n",
       "        (projection): Conv3d(3, 768, kernel_size=(2, 16, 16), stride=(2, 16, 16))\n",
       "      )\n",
       "    )\n",
       "    (encoder): VideoMAEEncoder(\n",
       "      (layer): ModuleList(\n",
       "        (0-11): 12 x VideoMAELayer(\n",
       "          (attention): VideoMAEAttention(\n",
       "            (attention): VideoMAESelfAttention(\n",
       "              (query): Linear(in_features=768, out_features=768, bias=False)\n",
       "              (key): Linear(in_features=768, out_features=768, bias=False)\n",
       "              (value): Linear(in_features=768, out_features=768, bias=False)\n",
       "            )\n",
       "            (output): VideoMAESelfOutput(\n",
       "              (dense): Linear(in_features=768, out_features=768, bias=True)\n",
       "              (dropout): Dropout(p=0.0, inplace=False)\n",
       "            )\n",
       "          )\n",
       "          (intermediate): VideoMAEIntermediate(\n",
       "            (dense): Linear(in_features=768, out_features=3072, bias=True)\n",
       "            (intermediate_act_fn): GELUActivation()\n",
       "          )\n",
       "          (output): VideoMAEOutput(\n",
       "            (dense): Linear(in_features=3072, out_features=768, bias=True)\n",
       "            (dropout): Dropout(p=0.0, inplace=False)\n",
       "          )\n",
       "          (layernorm_before): LayerNorm((768,), eps=1e-12, elementwise_affine=True)\n",
       "          (layernorm_after): LayerNorm((768,), eps=1e-12, elementwise_affine=True)\n",
       "        )\n",
       "      )\n",
       "    )\n",
       "    (layernorm): LayerNorm((768,), eps=1e-12, elementwise_affine=True)\n",
       "  )\n",
       "  (classifier): Linear(in_features=768, out_features=2, bias=True)\n",
       "  (dropout): Dropout(p=0.3, inplace=False)\n",
       ")"
      ]
     },
     "execution_count": 13,
     "metadata": {},
     "output_type": "execute_result"
    }
   ],
   "source": [
    "# import torch.nn as nn\n",
    "\n",
    "# device = torch.device(\"cuda\" if torch.cuda.is_available() else \"cpu\")\n",
    "# model = VideoMAEForVideoClassification.from_pretrained(\"MCG-NJU/videomae-base\", num_labels=2)\n",
    "\n",
    "# for param in model.videomae.parameters():\n",
    "#     param.requires_grad = False\n",
    "\n",
    "# for block in model.videomae.encoder.layer[-3:]:\n",
    "#     for param in block.parameters():\n",
    "#         param.requires_grad = True\n",
    "\n",
    "# #TODO: Dropout\n",
    "\n",
    "# model.dropout = nn.Dropout(p=0.3)\n",
    "# original_forward = model.forward\n",
    "\n",
    "# def patched_forward(*args, **kwargs):\n",
    "#     out = original_forward(*args, **kwargs)\n",
    "#     out.logits = model.dropout(out.logits)\n",
    "#     return out\n",
    "\n",
    "# model.forward = patched_forward\n",
    "# model.to(device)"
   ]
  },
  {
   "cell_type": "code",
   "execution_count": 14,
   "metadata": {},
   "outputs": [],
   "source": [
    "from torch.optim import AdamW\n",
    "# from torch.optim.lr_scheduler import CosineAnnealingLR\n",
    "\n",
    "optimizer = AdamW(model.parameters(), lr=0.0001, weight_decay=0.01)\n",
    "# scheduler = CosineAnnealingLR(optimizer, T_max=20, eta_min=1e-6)\n",
    "criterion = torch.nn.CrossEntropyLoss()\n",
    "\n",
    "def evaluate_model(model, data_loader):\n",
    "    model.eval()\n",
    "    all_preds, all_labels = [], []\n",
    "    total_loss = 0\n",
    "    with torch.no_grad():\n",
    "        for batch in data_loader:\n",
    "            if batch is None:\n",
    "                continue\n",
    "            inputs = batch[\"pixel_values\"].to(device)\n",
    "            labels = batch[\"labels\"].to(device)\n",
    "            outputs = model(pixel_values=inputs)\n",
    "            loss = criterion(outputs.logits, labels)\n",
    "            total_loss += loss.item()\n",
    "            preds = torch.argmax(outputs.logits, dim=1)\n",
    "            all_preds.extend(preds.cpu().numpy())\n",
    "            all_labels.extend(labels.cpu().numpy())\n",
    "    acc = accuracy_score(all_labels, all_preds)\n",
    "    f1 = f1_score(all_labels, all_preds, average=\"macro\")\n",
    "    avg_loss = total_loss / len(data_loader)\n",
    "    return avg_loss, acc, f1"
   ]
  },
  {
   "cell_type": "code",
   "execution_count": 15,
   "metadata": {},
   "outputs": [
    {
     "name": "stdout",
     "output_type": "stream",
     "text": [
      "\n",
      " Epoch 1\n"
     ]
    },
    {
     "name": "stderr",
     "output_type": "stream",
     "text": [
      "Epoch 1 Batches: 100%|██████████| 146/146 [02:13<00:00,  1.10it/s]\n"
     ]
    },
    {
     "name": "stdout",
     "output_type": "stream",
     "text": [
      "Epoch 1: Train Loss = 0.7273, Train Acc = 0.5352, Val Loss = 0.6887, Val Acc = 0.5641, F1 Macro = 0.5038\n",
      "\n",
      " Epoch 2\n"
     ]
    },
    {
     "name": "stderr",
     "output_type": "stream",
     "text": [
      "Epoch 2 Batches: 100%|██████████| 146/146 [01:54<00:00,  1.28it/s]\n"
     ]
    },
    {
     "name": "stdout",
     "output_type": "stream",
     "text": [
      "Epoch 2: Train Loss = 0.5864, Train Acc = 0.6758, Val Loss = 0.7300, Val Acc = 0.5692, F1 Macro = 0.5349\n",
      "\n",
      " Epoch 3\n"
     ]
    },
    {
     "name": "stderr",
     "output_type": "stream",
     "text": [
      "Epoch 3 Batches: 100%|██████████| 146/146 [01:54<00:00,  1.28it/s]\n"
     ]
    },
    {
     "name": "stdout",
     "output_type": "stream",
     "text": [
      "Epoch 3: Train Loss = 0.3350, Train Acc = 0.8473, Val Loss = 0.9247, Val Acc = 0.5333, F1 Macro = 0.5316\n",
      "\n",
      " Epoch 4\n"
     ]
    },
    {
     "name": "stderr",
     "output_type": "stream",
     "text": [
      "Epoch 4 Batches: 100%|██████████| 146/146 [01:54<00:00,  1.28it/s]\n"
     ]
    },
    {
     "name": "stdout",
     "output_type": "stream",
     "text": [
      "Epoch 4: Train Loss = 0.1539, Train Acc = 0.9211, Val Loss = 1.5772, Val Acc = 0.5231, F1 Macro = 0.5115\n",
      "\n",
      " Epoch 5\n"
     ]
    },
    {
     "name": "stderr",
     "output_type": "stream",
     "text": [
      "Epoch 5 Batches: 100%|██████████| 146/146 [01:54<00:00,  1.27it/s]\n"
     ]
    },
    {
     "name": "stdout",
     "output_type": "stream",
     "text": [
      "Epoch 5: Train Loss = 0.1014, Train Acc = 0.9520, Val Loss = 1.3928, Val Acc = 0.5487, F1 Macro = 0.5453\n",
      "\n",
      " Epoch 6\n"
     ]
    },
    {
     "name": "stderr",
     "output_type": "stream",
     "text": [
      "Epoch 6 Batches: 100%|██████████| 146/146 [01:56<00:00,  1.25it/s]\n"
     ]
    },
    {
     "name": "stdout",
     "output_type": "stream",
     "text": [
      "Epoch 6: Train Loss = 0.1038, Train Acc = 0.9468, Val Loss = 1.8057, Val Acc = 0.6000, F1 Macro = 0.5922\n",
      "\n",
      " Epoch 7\n"
     ]
    },
    {
     "name": "stderr",
     "output_type": "stream",
     "text": [
      "Epoch 7 Batches: 100%|██████████| 146/146 [01:54<00:00,  1.27it/s]\n"
     ]
    },
    {
     "name": "stdout",
     "output_type": "stream",
     "text": [
      "Epoch 7: Train Loss = 0.1014, Train Acc = 0.9485, Val Loss = 1.6509, Val Acc = 0.5744, F1 Macro = 0.5654\n",
      "\n",
      " Epoch 8\n"
     ]
    },
    {
     "name": "stderr",
     "output_type": "stream",
     "text": [
      "Epoch 8 Batches: 100%|██████████| 146/146 [01:53<00:00,  1.29it/s]\n"
     ]
    },
    {
     "name": "stdout",
     "output_type": "stream",
     "text": [
      "Epoch 8: Train Loss = 0.0692, Train Acc = 0.9657, Val Loss = 1.9294, Val Acc = 0.5795, F1 Macro = 0.5776\n",
      "\n",
      " Epoch 9\n"
     ]
    },
    {
     "name": "stderr",
     "output_type": "stream",
     "text": [
      "Epoch 9 Batches: 100%|██████████| 146/146 [01:54<00:00,  1.28it/s]\n"
     ]
    },
    {
     "name": "stdout",
     "output_type": "stream",
     "text": [
      "Epoch 9: Train Loss = 0.0474, Train Acc = 0.9760, Val Loss = 2.1618, Val Acc = 0.5949, F1 Macro = 0.5612\n",
      "\n",
      " Epoch 10\n"
     ]
    },
    {
     "name": "stderr",
     "output_type": "stream",
     "text": [
      "Epoch 10 Batches: 100%|██████████| 146/146 [01:53<00:00,  1.29it/s]\n"
     ]
    },
    {
     "name": "stdout",
     "output_type": "stream",
     "text": [
      "Epoch 10: Train Loss = 0.0617, Train Acc = 0.9537, Val Loss = 2.2803, Val Acc = 0.5744, F1 Macro = 0.5444\n",
      "\n",
      " Epoch 11\n"
     ]
    },
    {
     "name": "stderr",
     "output_type": "stream",
     "text": [
      "Epoch 11 Batches: 100%|██████████| 146/146 [01:54<00:00,  1.28it/s]\n"
     ]
    },
    {
     "name": "stdout",
     "output_type": "stream",
     "text": [
      "Epoch 11: Train Loss = 0.0721, Train Acc = 0.9520, Val Loss = 2.3834, Val Acc = 0.5795, F1 Macro = 0.5558\n",
      "\n",
      " Epoch 12\n"
     ]
    },
    {
     "name": "stderr",
     "output_type": "stream",
     "text": [
      "Epoch 12 Batches: 100%|██████████| 146/146 [01:55<00:00,  1.27it/s]\n"
     ]
    },
    {
     "name": "stdout",
     "output_type": "stream",
     "text": [
      "Epoch 12: Train Loss = 0.0647, Train Acc = 0.9588, Val Loss = 2.4869, Val Acc = 0.5795, F1 Macro = 0.5558\n",
      "\n",
      " Epoch 13\n"
     ]
    },
    {
     "name": "stderr",
     "output_type": "stream",
     "text": [
      "Epoch 13 Batches: 100%|██████████| 146/146 [01:54<00:00,  1.27it/s]\n"
     ]
    },
    {
     "name": "stdout",
     "output_type": "stream",
     "text": [
      "Epoch 13: Train Loss = 0.0706, Train Acc = 0.9485, Val Loss = 2.5698, Val Acc = 0.5846, F1 Macro = 0.5623\n",
      "Early stopping triggered.\n"
     ]
    }
   ],
   "source": [
    "# best_f1 = 0\n",
    "# patience = 7\n",
    "# wait = 0\n",
    "\n",
    "# train_losses, train_accuracies = [], []\n",
    "# val_losses, val_accuracies, f1_macros = [], [], []\n",
    "\n",
    "# for epoch in range(20):\n",
    "#     print(f\"\\n Epoch {epoch + 1}\")\n",
    "#     model.train()\n",
    "#     total_train_loss = 0\n",
    "#     train_preds, train_labels = [], []\n",
    "\n",
    "#     for batch in tqdm(train_loader, desc=f\"Epoch {epoch + 1} Batches\"):\n",
    "#         if batch is None:\n",
    "#             continue\n",
    "#         inputs = batch[\"pixel_values\"].to(device)\n",
    "#         labels = batch[\"labels\"].to(device)\n",
    "\n",
    "#         outputs = model(pixel_values=inputs)\n",
    "#         loss = criterion(outputs.logits, labels)\n",
    "\n",
    "#         loss.backward()\n",
    "#         optimizer.step()\n",
    "#         optimizer.zero_grad()\n",
    "#         total_train_loss += loss.item()\n",
    "\n",
    "#         preds = torch.argmax(outputs.logits, dim=1)\n",
    "#         train_preds.extend(preds.cpu().numpy())\n",
    "#         train_labels.extend(labels.cpu().numpy())\n",
    "\n",
    "#     train_acc = accuracy_score(train_labels, train_preds)\n",
    "#     train_f1 = f1_score(train_labels, train_preds, average=\"macro\")\n",
    "#     train_loss_avg = total_train_loss / len(train_loader)\n",
    "\n",
    "#     val_loss, val_acc, val_f1 = evaluate_model(model, val_loader)\n",
    "\n",
    "#     print(\n",
    "#         f\"Epoch {epoch + 1}: \"\n",
    "#         f\"Train Loss = {train_loss_avg:.4f}, Train Acc = {train_acc:.4f}, \"\n",
    "#         f\"Val Loss = {val_loss:.4f}, Val Acc = {val_acc:.4f}, F1 Macro = {val_f1:.4f}\"\n",
    "#     )\n",
    "\n",
    "#     train_losses.append(train_loss_avg)\n",
    "#     train_accuracies.append(train_acc)\n",
    "#     val_losses.append(val_loss)\n",
    "#     val_accuracies.append(val_acc)\n",
    "#     f1_macros.append(val_f1)\n",
    "\n",
    "#     # scheduler.step()\n",
    "\n",
    "#     if val_f1 > best_f1:\n",
    "#         best_f1 = val_f1\n",
    "#         wait = 0\n",
    "#         torch.save(model.state_dict(), \"best_model.pt\")\n",
    "#     else:\n",
    "#         wait += 1\n",
    "#         if wait >= patience:\n",
    "#             print(\"Early stopping triggered.\")\n",
    "#             break"
   ]
  },
  {
   "cell_type": "code",
   "execution_count": 16,
   "metadata": {},
   "outputs": [
    {
     "data": {
      "image/png": "[encoded data removed]",
      "text/plain": [
       "<Figure size 1500x400 with 2 Axes>"
      ]
     },
     "metadata": {},
     "output_type": "display_data"
    }
   ],
   "source": [
    "# import matplotlib.pyplot as plt\n",
    "\n",
    "# epochs = list(range(1, len(train_losses) + 1))\n",
    "\n",
    "# plt.figure(figsize=(15, 4))\n",
    "\n",
    "# plt.subplot(1, 2, 1)\n",
    "# plt.plot(epochs, train_losses, label=\"Train Loss\", marker='o')\n",
    "# plt.plot(epochs, val_losses, label=\"Val Loss\", marker='o')\n",
    "# plt.title(\"Loss Over Epochs\")\n",
    "# plt.xlabel(\"Epoch\")\n",
    "# plt.ylabel(\"Loss\")\n",
    "# plt.legend()\n",
    "\n",
    "# plt.subplot(1, 2, 2)\n",
    "# plt.plot(epochs, train_accuracies, label=\"Train Accuracy\", marker='o')\n",
    "# plt.plot(epochs, val_accuracies, label=\"Val Accuracy\", marker='o')\n",
    "# plt.title(\"Accuracy Over Epochs\")\n",
    "# plt.xlabel(\"Epoch\")\n",
    "# plt.ylabel(\"Accuracy\")\n",
    "# plt.legend()\n",
    "\n",
    "# plt.tight_layout()\n",
    "# plt.show()\n"
   ]
  },
  {
   "cell_type": "code",
   "execution_count": 15,
   "metadata": {},
   "outputs": [
    {
     "ename": "NameError",
     "evalue": "name 'model' is not defined",
     "output_type": "error",
     "traceback": [
      "\u001b[31m---------------------------------------------------------------------------\u001b[39m",
      "\u001b[31mNameError\u001b[39m                                 Traceback (most recent call last)",
      "\u001b[36mCell\u001b[39m\u001b[36m \u001b[39m\u001b[32mIn[15]\u001b[39m\u001b[32m, line 1\u001b[39m\n\u001b[32m----> \u001b[39m\u001b[32m1\u001b[39m \u001b[43mmodel\u001b[49m.load_state_dict(torch.load(\u001b[33m\"\u001b[39m\u001b[33mbest_model.pt\u001b[39m\u001b[33m\"\u001b[39m))\n\u001b[32m      2\u001b[39m model.eval()\n",
      "\u001b[31mNameError\u001b[39m: name 'model' is not defined"
     ]
    }
   ],
   "source": [
    "# model.load_state_dict(torch.load(\"best_model.pt\"))\n",
    "# model.eval()\n"
   ]
  },
  {
   "cell_type": "code",
   "execution_count": 18,
   "metadata": {},
   "outputs": [],
   "source": [
    "# import torch\n",
    "# import pandas as pd\n",
    "# import numpy as np\n",
    "# from tqdm import tqdm\n",
    "\n",
    "# def generate_predictions(model, dataloader):\n",
    "#     model.eval()\n",
    "#     all_probs = []\n",
    "#     all_preds = []\n",
    "#     all_labels = []\n",
    "\n",
    "#     with torch.no_grad():\n",
    "#         for batch in tqdm(dataloader, desc=\"Generating Predictions\"):\n",
    "#             if batch is None:\n",
    "#                 continue\n",
    "\n",
    "#             inputs = batch[\"pixel_values\"].to(device)\n",
    "#             labels = batch[\"labels\"].to(device)\n",
    "\n",
    "#             outputs = model(pixel_values=inputs)\n",
    "#             probs = torch.softmax(outputs.logits, dim=1)\n",
    "\n",
    "#             all_probs.extend(probs.cpu().numpy())\n",
    "#             all_preds.extend(torch.argmax(probs, dim=1).cpu().numpy())\n",
    "#             all_labels.extend(labels.cpu().numpy())\n",
    "\n",
    "#     return np.array(all_probs), np.array(all_preds), np.array(all_labels)\n"
   ]
  },
  {
   "cell_type": "code",
   "execution_count": 19,
   "metadata": {},
   "outputs": [
    {
     "name": "stderr",
     "output_type": "stream",
     "text": [
      "Generating Predictions: 100%|██████████| 49/49 [00:35<00:00,  1.39it/s]"
     ]
    },
    {
     "name": "stdout",
     "output_type": "stream",
     "text": [
      "Test Accuracy: 0.6051\n",
      "Test Macro F1 Score: 0.6050\n",
      "Saved predictions to test_predictions.csv\n"
     ]
    },
    {
     "name": "stderr",
     "output_type": "stream",
     "text": [
      "\n"
     ]
    }
   ],
   "source": [
    "# # Get predictions\n",
    "# probs, preds, labels = generate_predictions(model, test_loader)\n",
    "\n",
    "# test_acc = accuracy_score(labels, preds)\n",
    "# test_f1 = f1_score(labels, preds, average=\"macro\")\n",
    "\n",
    "# print(f\"Test Accuracy: {test_acc:.4f}\")\n",
    "# print(f\"Test Macro F1 Score: {test_f1:.4f}\")\n",
    "\n",
    "# # Build a DataFrame\n",
    "# df = pd.DataFrame({\n",
    "#     \"true_label\": labels,\n",
    "#     \"pred_label\": preds,\n",
    "#     \"prob_class_0\": probs[:, 0],\n",
    "#     \"prob_class_1\": probs[:, 1]\n",
    "# })\n",
    "\n",
    "# # Optionally add video filenames\n",
    "# if hasattr(test_dataset, \"df\") and \"video\" in test_dataset.df.columns:\n",
    "#     df[\"video\"] = test_dataset.df[\"video\"]\n",
    "\n",
    "# # Save to CSV\n",
    "# df.to_csv(\"test_predictions.csv\", index=False)\n",
    "# print(\"Saved predictions to test_predictions.csv\")\n"
   ]
  },
  {
   "cell_type": "code",
   "execution_count": 18,
   "metadata": {},
   "outputs": [
    {
     "name": "stderr",
     "output_type": "stream",
     "text": [
      "Some weights of VideoMAEForVideoClassification were not initialized from the model checkpoint at MCG-NJU/videomae-base and are newly initialized: ['classifier.bias', 'classifier.weight']\n",
      "You should probably TRAIN this model on a down-stream task to be able to use it for predictions and inference.\n"
     ]
    },
    {
     "data": {
      "text/plain": [
       "VideoMAEForVideoClassification(\n",
       "  (videomae): VideoMAEModel(\n",
       "    (embeddings): VideoMAEEmbeddings(\n",
       "      (patch_embeddings): VideoMAEPatchEmbeddings(\n",
       "        (projection): Conv3d(3, 768, kernel_size=(2, 16, 16), stride=(2, 16, 16))\n",
       "      )\n",
       "    )\n",
       "    (encoder): VideoMAEEncoder(\n",
       "      (layer): ModuleList(\n",
       "        (0-11): 12 x VideoMAELayer(\n",
       "          (attention): VideoMAEAttention(\n",
       "            (attention): VideoMAESelfAttention(\n",
       "              (query): Linear(in_features=768, out_features=768, bias=False)\n",
       "              (key): Linear(in_features=768, out_features=768, bias=False)\n",
       "              (value): Linear(in_features=768, out_features=768, bias=False)\n",
       "            )\n",
       "            (output): VideoMAESelfOutput(\n",
       "              (dense): Linear(in_features=768, out_features=768, bias=True)\n",
       "              (dropout): Dropout(p=0.0, inplace=False)\n",
       "            )\n",
       "          )\n",
       "          (intermediate): VideoMAEIntermediate(\n",
       "            (dense): Linear(in_features=768, out_features=3072, bias=True)\n",
       "            (intermediate_act_fn): GELUActivation()\n",
       "          )\n",
       "          (output): VideoMAEOutput(\n",
       "            (dense): Linear(in_features=3072, out_features=768, bias=True)\n",
       "            (dropout): Dropout(p=0.0, inplace=False)\n",
       "          )\n",
       "          (layernorm_before): LayerNorm((768,), eps=1e-12, elementwise_affine=True)\n",
       "          (layernorm_after): LayerNorm((768,), eps=1e-12, elementwise_affine=True)\n",
       "        )\n",
       "      )\n",
       "    )\n",
       "    (layernorm): LayerNorm((768,), eps=1e-12, elementwise_affine=True)\n",
       "  )\n",
       "  (classifier): Linear(in_features=768, out_features=2, bias=True)\n",
       ")"
      ]
     },
     "execution_count": 18,
     "metadata": {},
     "output_type": "execute_result"
    }
   ],
   "source": [
    "# Generating plots and final predictions to csv from a saved model\n",
    "#\n",
    "#\n",
    "#\n",
    "\n",
    "device = torch.device(\"cuda\" if torch.cuda.is_available() else \"cpu\")\n",
    "\n",
    "model = VideoMAEForVideoClassification.from_pretrained(\"MCG-NJU/videomae-base\", num_labels=2)\n",
    "model.load_state_dict(torch.load(\"best_model.pt\"))\n",
    "model.eval()\n",
    "model.to(device)"
   ]
  },
  {
   "cell_type": "code",
   "execution_count": 19,
   "metadata": {},
   "outputs": [],
   "source": [
    "from sklearn.metrics import accuracy_score, f1_score\n",
    "import numpy as np\n",
    "import pandas as pd\n",
    "from tqdm import tqdm\n",
    "\n",
    "def generate_predictions(model, dataloader, dataset_name=\"\"):\n",
    "    model.eval()\n",
    "    all_probs = []\n",
    "    all_preds = []\n",
    "    all_labels = []\n",
    "    video_ids = []\n",
    "\n",
    "    with torch.no_grad():\n",
    "        for batch in tqdm(dataloader, desc=f\"Generating {dataset_name} predictions\"):\n",
    "            if batch is None:\n",
    "                continue\n",
    "            inputs = batch[\"pixel_values\"].to(device)\n",
    "            labels = batch[\"labels\"].to(device)\n",
    "\n",
    "            outputs = model(pixel_values=inputs)\n",
    "            probs = torch.softmax(outputs.logits, dim=1)\n",
    "\n",
    "            all_probs.extend(probs.cpu().numpy())\n",
    "            all_preds.extend(torch.argmax(probs, dim=1).cpu().numpy())\n",
    "            all_labels.extend(labels.cpu().numpy())\n",
    "\n",
    "    return np.array(all_probs), np.array(all_preds), np.array(all_labels)\n"
   ]
  },
  {
   "cell_type": "code",
   "execution_count": 20,
   "metadata": {},
   "outputs": [
    {
     "name": "stderr",
     "output_type": "stream",
     "text": [
      "Generating train predictions: 100%|██████████| 146/146 [01:53<00:00,  1.28it/s]\n",
      "Generating val predictions: 100%|██████████| 49/49 [00:37<00:00,  1.30it/s]\n",
      "Generating test predictions: 100%|██████████| 49/49 [00:35<00:00,  1.40it/s]\n"
     ]
    }
   ],
   "source": [
    "probs_train, preds_train, labels_train = generate_predictions(model, train_loader, \"train\")\n",
    "probs_val, preds_val, labels_val = generate_predictions(model, val_loader, \"val\")\n",
    "probs_test, preds_test, labels_test = generate_predictions(model, test_loader, \"test\")\n"
   ]
  },
  {
   "cell_type": "code",
   "execution_count": 21,
   "metadata": {},
   "outputs": [
    {
     "name": "stdout",
     "output_type": "stream",
     "text": [
      "Train Accuracy: 0.9022, Macro F1: 0.9019\n",
      "Val Accuracy: 0.5538, Macro F1: 0.5500\n",
      "Test Accuracy: 0.6154, Macro F1: 0.6153\n"
     ]
    }
   ],
   "source": [
    "def print_metrics(name, preds, labels):\n",
    "    acc = accuracy_score(labels, preds)\n",
    "    f1 = f1_score(labels, preds, average=\"macro\")\n",
    "    print(f\"{name} Accuracy: {acc:.4f}, Macro F1: {f1:.4f}\")\n",
    "\n",
    "print_metrics(\"Train\", preds_train, labels_train)\n",
    "print_metrics(\"Val\", preds_val, labels_val)\n",
    "print_metrics(\"Test\", preds_test, labels_test)\n"
   ]
  },
  {
   "cell_type": "code",
   "execution_count": 22,
   "metadata": {},
   "outputs": [
    {
     "name": "stdout",
     "output_type": "stream",
     "text": [
      "Saved train_predictions.csv\n",
      "Saved val_predictions.csv\n",
      "Saved test_predictions.csv\n"
     ]
    }
   ],
   "source": [
    "import pandas as pd\n",
    "\n",
    "def export_predictions_csv(probs, preds, labels, dataset, name):\n",
    "    # Get filenames from the dataset\n",
    "    if hasattr(dataset, \"df\") and \"video\" in dataset.df.columns:\n",
    "        video_names = dataset.df[\"video\"].tolist()\n",
    "    else:\n",
    "        video_names = [f\"video_{i}.mp4\" for i in range(len(preds))]\n",
    "\n",
    "    df = pd.DataFrame({\n",
    "        \"video\": video_names,\n",
    "        \"true_label\": labels,\n",
    "        \"predicted_label\": preds,\n",
    "        \"prob_class_0\": probs[:, 0],\n",
    "        \"prob_class_1\": probs[:, 1]\n",
    "    })\n",
    "\n",
    "    df.to_csv(f\"{name}_predictions.csv\", index=False)\n",
    "    print(f\"Saved {name}_predictions.csv\")\n",
    "\n",
    "# Call for each dataset\n",
    "export_predictions_csv(probs_train, preds_train, labels_train, train_dataset, \"train\")\n",
    "export_predictions_csv(probs_val, preds_val, labels_val, val_dataset, \"val\")\n",
    "export_predictions_csv(probs_test, preds_test, labels_test, test_dataset, \"test\")\n"
   ]
  },
  {
   "cell_type": "code",
   "execution_count": 23,
   "metadata": {},
   "outputs": [],
   "source": [
    "train_losses = [0.7104, 0.5915, 0.4324, 0.2382, 0.1695]\n",
    "train_accuracies = [0.5077, 0.6981, 0.8422, 0.9245, 0.9331]\n",
    "val_losses = [0.7238, 0.6648, 0.7195, 0.7652, 0.8809]  # test used as val\n",
    "val_accuracies = [0.5077, 0.6154, 0.5538, 0.5487, 0.5641]\n",
    "f1_macros = [0.4372, 0.6153, 0.5105, 0.5337, 0.5641]\n"
   ]
  },
  {
   "cell_type": "code",
   "execution_count": 25,
   "metadata": {},
   "outputs": [
    {
     "data": {
      "image/png": "[encoded data removed]",
      "text/plain": [
       "<Figure size 1200x400 with 2 Axes>"
      ]
     },
     "metadata": {},
     "output_type": "display_data"
    }
   ],
   "source": [
    "import matplotlib.pyplot as plt\n",
    "\n",
    "from matplotlib.ticker import MaxNLocator  # for the alternative method\n",
    "\n",
    "epochs = range(1, len(train_losses) + 1)\n",
    "\n",
    "plt.figure(figsize=(12, 4))\n",
    "\n",
    "# Loss plot\n",
    "plt.subplot(1, 2, 1)\n",
    "plt.plot(epochs, train_losses, label=\"Train Loss\")\n",
    "plt.plot(epochs, val_losses, label=\"Val Loss\")\n",
    "plt.xlabel(\"Epoch\")\n",
    "plt.ylabel(\"Loss\")\n",
    "plt.title(\"Loss per Epoch\")\n",
    "plt.xticks(epochs)  # only whole numbers\n",
    "plt.legend()\n",
    "\n",
    "# Accuracy plot\n",
    "plt.subplot(1, 2, 2)\n",
    "plt.plot(epochs, train_accuracies, label=\"Train Accuracy\")\n",
    "plt.plot(epochs, val_accuracies, label=\"Val Accuracy\")\n",
    "plt.xlabel(\"Epoch\")\n",
    "plt.ylabel(\"Accuracy\")\n",
    "plt.title(\"Accuracy per Epoch\")\n",
    "plt.xticks(epochs)  # only whole numbers\n",
    "plt.legend()\n",
    "\n",
    "plt.tight_layout()\n",
    "plt.show()\n"
   ]
  }
 ],
 "metadata": {
  "kernelspec": {
   "display_name": "exist2025",
   "language": "python",
   "name": "python3"
  },
  "language_info": {
   "codemirror_mode": {
    "name": "ipython",
    "version": 3
   },
   "file_extension": ".py",
   "mimetype": "text/x-python",
   "name": "python",
   "nbconvert_exporter": "python",
   "pygments_lexer": "ipython3",
   "version": "3.12.7"
  },
  "orig_nbformat": 4
 },
 "nbformat": 4,
 "nbformat_minor": 2
}
